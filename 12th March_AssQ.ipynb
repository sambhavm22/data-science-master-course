{
 "cells": [
  {
   "cell_type": "markdown",
   "id": "cb103667-ef1f-4bf7-94ba-6897f9cfa3cc",
   "metadata": {},
   "source": [
    "Q1. Calculate the 95% confidence interval for a sample of data with a mean of 50 and a standard deviation of 5 using Python. Interpret the results.\n",
    "\n",
    "Q2. Conduct a chi-square goodness of fit test to determine if the distribution of colors of M&Ms in a bag matches the expected distribution of 20% blue, 20% orange, 20% green, 10% yellow, 10% red, and 20% brown. Use Python to perform the test with a significance level of 0.05.\n",
    "\n",
    "Q3. Use Python to calculate the chi-square statistic and p-value for a contingency table with the following data: Interpret the results of the test.\n",
    "\n",
    "Outcome 1 20 15\n",
    "\n",
    "Outcome 2 10 25\n",
    "\n",
    "Outcome 3 15 20\n",
    "\n",
    "Q4. A study of the prevalence of smoking in a population of 500 individuals found that 60 individuals smoked. Use Python to calculate the 95% confidence interval for the true proportion of individuals in the population who smoke.\n",
    "\n",
    "Q5. Calculate the 90% confidence interval for a sample of data with a mean of 75 and a standard deviation of 12 using Python. Interpret the results.\n",
    "\n",
    "Q6. Use Python to plot the chi-square distribution with 10 degrees of freedom. Label the axes and shade thearea corresponding to a chi-square statistic of 15.\n",
    "\n",
    "Q7. A random sample of 1000 people was asked if they preferred Coke or Pepsi. Of the sample, 520 preferred Coke. Calculate a 99% confidence interval for the true proportion of people in the population who prefer Coke.\n",
    "\n",
    "Q8. A researcher hypothesizes that a coin is biased towards tails. They flip the coin 100 times and observe 45 tails. Conduct a chi-square goodness of fit test to determine if the observed frequencies match the expected frequencies of a fair coin. Use a significance level of 0.05.\n",
    "\n",
    "Q9. A study was conducted to determine if there is an association between smoking status (smoker or non-smoker) and lung cancer diagnosis (yes or no). The results are shown in the contingency table below. Conduct a chi-square test for independence to determine if there is a significant association between\n",
    "smoking status and lung cancer diagnosis. Interpret the results of the test. Use a significance level of 0.05.\n",
    "\n",
    "Q10. A study was conducted to determine if the proportion of people who prefer milk chocolate, dark chocolate, or white chocolate is different in the U.S. versus the U.K. A random sample of 500 people from the U.S. and a random sample of 500 people from the U.K. were surveyed. The results are shown in the\n",
    "contingency table below. Conduct a chi-square test for independence to determine if there is a significant association between chocolate preference and country of origin.\n",
    "\n",
    "Use a significance level of 0.01.\n",
    "\n",
    "Q11. A random sample of 30 people was selected from a population with an unknown mean and standard deviation. The sample mean was found to be 72 and the sample standard deviation was found to be 10. Conduct a hypothesis test to determine if the population mean is significantly different from 70. Use a\n",
    "significance level of 0.05."
   ]
  },
  {
   "cell_type": "markdown",
   "id": "4f8fd017-a5f2-4f14-8c3e-e14da0b04c05",
   "metadata": {},
   "source": [
    "### Answer 1"
   ]
  },
  {
   "cell_type": "code",
   "execution_count": 16,
   "id": "017ff8c3-0ebe-498b-b777-42aff7978613",
   "metadata": {},
   "outputs": [
    {
     "name": "stdout",
     "output_type": "stream",
     "text": [
      "The 0.95 confidence interval for the true population mean is (49.01, 50.99)\n"
     ]
    }
   ],
   "source": [
    "from scipy.stats import t\n",
    "import math\n",
    "\n",
    "x_bar = 50 \n",
    "std = 5\n",
    "\n",
    "alpha = 0.05\n",
    "confidence_level = 1 - alpha\n",
    "n = 100\n",
    "\n",
    "std_error = std/(math.sqrt(n))\n",
    "t_critical = t.ppf(1-(alpha/2), n-1)\n",
    "\n",
    "lower = x_bar - (abs(t_critical)*std_error)\n",
    "upper = x_bar + (abs(t_critical)*std_error)\n",
    "\n",
    "print(f\"The {confidence_level:.2f} confidence interval for the true population mean is ({lower:.2f}, {upper:.2f})\")"
   ]
  },
  {
   "cell_type": "markdown",
   "id": "957e6a13-28a0-4812-9e95-cd24781bb61f",
   "metadata": {},
   "source": [
    "### Answer 2"
   ]
  },
  {
   "cell_type": "code",
   "execution_count": 20,
   "id": "b937c6d7-3d30-49ba-8291-c253bd5aaa00",
   "metadata": {},
   "outputs": [
    {
     "name": "stdout",
     "output_type": "stream",
     "text": [
      "reject the null hypothesis\n"
     ]
    }
   ],
   "source": [
    "import scipy.stats as stat\n",
    "\n",
    "expected_value = [20,20,20,10,10,20]\n",
    "observed_value = [15,25,10,10,20,20]\n",
    "significance = 0.05\n",
    "\n",
    "dof = len(observed_value)-1\n",
    "chisquare_test_stats , p_value = stat.chisquare(observed_value,expected_value)\n",
    "critical_value = stat.chi2.ppf(1-significance, dof)\n",
    "\n",
    "if chisquare_test_stats > critical_value:\n",
    "    print('reject the null hypothesis')\n",
    "    \n",
    "else:\n",
    "    print('fail to reject the null hypothesis')"
   ]
  },
  {
   "cell_type": "code",
   "execution_count": 22,
   "id": "7f1c8ed9-5e1d-43b7-9591-4ba051535e3c",
   "metadata": {},
   "outputs": [
    {
     "name": "stdout",
     "output_type": "stream",
     "text": [
      "reject the null hypothesis\n"
     ]
    }
   ],
   "source": [
    "import scipy.stats as stat\n",
    "\n",
    "expected_value = [20,20,20,10,10,20]\n",
    "observed_value = [15,25,10,10,20,20]\n",
    "alpha = 0.05\n",
    "\n",
    "dof = len(observed_value)-1\n",
    "chisquare_test_stats , p_value = stat.chisquare(observed_value,expected_value)\n",
    "critical_value = stat.chi2.ppf(1-significance, dof)\n",
    "\n",
    "if p_value < alpha:\n",
    "    print('reject the null hypothesis')\n",
    "    \n",
    "else:\n",
    "    print('fail to reject the null hypothesis')"
   ]
  },
  {
   "cell_type": "markdown",
   "id": "1f307061-9d1b-4b6a-a2cf-e041635de216",
   "metadata": {},
   "source": [
    "### Answer 3"
   ]
  },
  {
   "cell_type": "code",
   "execution_count": 7,
   "id": "4fdf72c4-8255-4d3b-b781-7fc550d2f630",
   "metadata": {},
   "outputs": [
    {
     "name": "stdout",
     "output_type": "stream",
     "text": [
      "Fail to reject null hypothesis. There is no significant association between Outcome and Group.\n",
      "Chi-square statistic: 5.833333333333334\n",
      "p-value: 0.05411376622282158\n"
     ]
    }
   ],
   "source": [
    "import numpy as np\n",
    "from scipy.stats import chi2_contingency\n",
    "\n",
    "# Contingency table\n",
    "obs = np.array([[20, 15], [10, 25], [15, 20]])\n",
    "\n",
    "# Perform chi-square test\n",
    "chi2, p, dof, expected = chi2_contingency(obs)\n",
    "\n",
    "# Print test results\n",
    "alpha = 0.05\n",
    "if p < alpha:\n",
    "    print(\"Reject null hypothesis. There is a significant association between Outcome and Group.\")\n",
    "else:\n",
    "    print(\"Fail to reject null hypothesis. There is no significant association between Outcome and Group.\")\n",
    "print(\"Chi-square statistic:\", chi2)\n",
    "print(\"p-value:\", p)\n"
   ]
  },
  {
   "cell_type": "markdown",
   "id": "7e6f4012-6e3b-4b67-b3e6-dcb6c908adb7",
   "metadata": {},
   "source": [
    "### Answer 4"
   ]
  },
  {
   "cell_type": "code",
   "execution_count": 6,
   "id": "44c5bec6-49a3-4720-aa24-5736c128e63d",
   "metadata": {},
   "outputs": [
    {
     "name": "stdout",
     "output_type": "stream",
     "text": [
      "95% Confidence Interval: (0.09151638887130706, 0.14848361112869293)\n"
     ]
    }
   ],
   "source": [
    "from statsmodels.stats.proportion import proportion_confint\n",
    "\n",
    "# Sample size and number of smokers\n",
    "n = 500\n",
    "p = 60 / n\n",
    "\n",
    "# Calculate 95% confidence interval\n",
    "conf_int = proportion_confint(count=60, nobs=n, alpha=0.05)\n",
    "\n",
    "# Print results\n",
    "print(\"95% Confidence Interval:\", conf_int)\n"
   ]
  },
  {
   "cell_type": "markdown",
   "id": "eb23e4da-da10-417e-bede-063d269306df",
   "metadata": {},
   "source": [
    "### Answer 5"
   ]
  },
  {
   "cell_type": "code",
   "execution_count": 5,
   "id": "d8f5ca1f-34f3-42c8-9bfa-f34f72c16d3f",
   "metadata": {},
   "outputs": [
    {
     "name": "stdout",
     "output_type": "stream",
     "text": [
      "90% Confidence Interval: (73.35514637304853, 76.64485362695147)\n"
     ]
    }
   ],
   "source": [
    "import scipy.stats as stats\n",
    "\n",
    "# sample data\n",
    "mean = 75\n",
    "std_dev = 12\n",
    "n = 100  # sample size\n",
    "\n",
    "# calculate the standard error\n",
    "std_error = std_dev / (n ** 0.5)\n",
    "\n",
    "# calculate the confidence interval\n",
    "conf_int = stats.norm.interval(0.90, loc=mean, scale=std_error)\n",
    "\n",
    "print(f\"90% Confidence Interval: {conf_int}\")\n"
   ]
  },
  {
   "cell_type": "markdown",
   "id": "0d355ccd-c78a-4511-9fb7-600449d1dca3",
   "metadata": {},
   "source": [
    "### Answer 6 "
   ]
  },
  {
   "cell_type": "code",
   "execution_count": null,
   "id": "2bf036be-4796-4964-b146-9b59d1f44574",
   "metadata": {},
   "outputs": [],
   "source": [
    "import numpy as np\n",
    "import matplotlib.pyplot as plt\n",
    "import scipy.stats as stats\n",
    "\n",
    "# degrees of freedom\n",
    "df = 10\n",
    "\n",
    "# create x-axis values\n",
    "x = np.linspace(0, 30, 500)\n",
    "\n",
    "# calculate y-axis values\n",
    "y = stats.chi2.pdf(x, df)\n",
    "\n",
    "# plot the chi-square distribution\n",
    "plt.plot(x, y, 'b-', label=f\"df={df}\")\n",
    "\n",
    "# shade the area corresponding to chi-square statistic of 15\n",
    "x_shade = np.linspace(15, 30, 500)\n",
    "y_shade = stats.chi2.pdf(x_shade, df)\n",
    "plt.fill_between(x_shade, y_shade, color='gray', alpha=0.5)\n",
    "\n",
    "# label the axes and title\n",
    "plt.xlabel('Chi-square statistic')\n",
    "plt.ylabel('Probability density')\n",
    "plt.title('Chi-square distribution')\n",
    "\n",
    "# show the plot\n",
    "plt.show()\n"
   ]
  },
  {
   "cell_type": "markdown",
   "id": "81ad3879-3665-4cfb-b1d5-eb49294bcef3",
   "metadata": {},
   "source": [
    "### Answer 7"
   ]
  },
  {
   "cell_type": "code",
   "execution_count": 2,
   "id": "8e033d74-0852-4012-9c00-4f9b836d0149",
   "metadata": {},
   "outputs": [
    {
     "name": "stdout",
     "output_type": "stream",
     "text": [
      "99% Confidence Interval: (0.4793051576779699, 0.5606948423220302)\n"
     ]
    }
   ],
   "source": [
    "import math\n",
    "import scipy.stats as stats\n",
    "\n",
    "# sample data\n",
    "n = 1000\n",
    "p = 520/n\n",
    "confidence_level = 0.99\n",
    "\n",
    "# calculate the standard error\n",
    "std_error = math.sqrt((p*(1-p))/n)\n",
    "\n",
    "# calculate the z-score for the desired confidence level\n",
    "z = stats.norm.ppf((1+confidence_level)/2)\n",
    "\n",
    "# calculate the confidence interval\n",
    "conf_int = (p - z*std_error, p + z*std_error)\n",
    "\n",
    "print(f\"99% Confidence Interval: {conf_int}\")\n"
   ]
  },
  {
   "cell_type": "markdown",
   "id": "eb36d28d-2671-4683-a380-71f61c8fd50e",
   "metadata": {},
   "source": [
    "### Answer 8"
   ]
  },
  {
   "cell_type": "code",
   "execution_count": 1,
   "id": "584300a2-2ffb-426b-bcb6-eb4e7195399b",
   "metadata": {},
   "outputs": [
    {
     "name": "stdout",
     "output_type": "stream",
     "text": [
      "Test statistic: 1.0\n",
      "P-value: 0.31731050786291115\n",
      "Fail to reject null hypothesis - the coin is not biased towards tails.\n"
     ]
    }
   ],
   "source": [
    "import scipy.stats as stats\n",
    "\n",
    "# observed frequencies\n",
    "observed = [45, 55]  # 45 tails, 55 heads\n",
    "\n",
    "# expected frequencies\n",
    "expected = [50, 50]  # 50 for tails, 50 for heads\n",
    "\n",
    "# calculate the test statistic and p-value\n",
    "test_stat, p_value = stats.chisquare(observed, expected)\n",
    "\n",
    "# print the results\n",
    "print(f\"Test statistic: {test_stat}\")\n",
    "print(f\"P-value: {p_value}\")\n",
    "\n",
    "if p_value < 0.05:\n",
    "    print(\"Reject null hypothesis - the coin is biased towards tails.\")\n",
    "else:\n",
    "    print(\"Fail to reject null hypothesis - the coin is not biased towards tails.\")\n"
   ]
  },
  {
   "cell_type": "markdown",
   "id": "7f22f528-7408-487e-80ff-9e38d34454e9",
   "metadata": {},
   "source": [
    "### Answer 9"
   ]
  },
  {
   "cell_type": "code",
   "execution_count": 8,
   "id": "272068fc-b018-4fa3-b1bf-8492fc4c923a",
   "metadata": {},
   "outputs": [
    {
     "name": "stdout",
     "output_type": "stream",
     "text": [
      "ChiSquare Stats: 12.057347670250897\n",
      "P_Value: 0.0005158863863703729\n",
      "Degree of freedom: 1\n",
      "Expected_value: [[155.  45.]\n",
      " [155.  45.]]\n"
     ]
    }
   ],
   "source": [
    "from scipy.stats import chi2_contingency\n",
    "\n",
    "observed = [[140, 60], [170, 30]]\n",
    "\n",
    "chi2, p, dof, expected = chi2_contingency(observed)\n",
    "\n",
    "print(\"ChiSquare Stats:\", chi2)\n",
    "print(\"P_Value:\", p)\n",
    "print(\"Degree of freedom:\", dof),\n",
    "print(\"Expected_value:\", expected)"
   ]
  },
  {
   "cell_type": "markdown",
   "id": "47a606e5-677d-4ec5-b0b9-77eaea1cc4bb",
   "metadata": {},
   "source": [
    "### Answer 10"
   ]
  },
  {
   "cell_type": "code",
   "execution_count": 5,
   "id": "1d714cbd-89e6-4248-8145-1dbfdafa5d0c",
   "metadata": {},
   "outputs": [
    {
     "name": "stdout",
     "output_type": "stream",
     "text": [
      "ChiSquare Stats: 13.393665158371041\n",
      "P_Value: [[212.5 162.5 125. ]\n",
      " [212.5 162.5 125. ]]\n",
      "Degree of freedom: 0.0012348168997745918\n",
      "Expected_value: 2\n"
     ]
    }
   ],
   "source": [
    "from scipy.stats import chi2_contingency\n",
    "import numpy as np\n",
    "\n",
    "observed = [[200, 150, 150], [225, 175, 100]]\n",
    "\n",
    "chi2, dof, expected, p = chi2_contingency(observed)\n",
    "\n",
    "print(\"ChiSquare Stats:\", chi2)\n",
    "print(\"P_Value:\", p)\n",
    "print(\"Degree of freedom:\", dof),\n",
    "print(\"Expected_value:\", expected)"
   ]
  },
  {
   "cell_type": "markdown",
   "id": "a590f6be-7842-4cc7-b661-ad219a3dadf1",
   "metadata": {},
   "source": [
    "### Answer 11\n"
   ]
  },
  {
   "cell_type": "code",
   "execution_count": 9,
   "id": "735fbff4-5db6-40ce-9a73-984052d1af55",
   "metadata": {},
   "outputs": [
    {
     "name": "stdout",
     "output_type": "stream",
     "text": [
      "Test statistic: 1.0954451150103321\n",
      "P-value: 0.28233623728606977\n",
      "Fail to reject null hypothesis - there is not enough evidence to suggest that the population mean is significantly different from 70.\n"
     ]
    }
   ],
   "source": [
    "import math\n",
    "import scipy.stats as stats\n",
    "\n",
    "# sample data\n",
    "sample_mean = 72\n",
    "sample_std = 10\n",
    "sample_size = 30\n",
    "pop_mean = 70\n",
    "significance_level = 0.05\n",
    "\n",
    "# calculate the test statistic and p-value\n",
    "t_stat = (sample_mean - pop_mean) / (sample_std / math.sqrt(sample_size))\n",
    "p_value = stats.t.sf(abs(t_stat), sample_size - 1) * 2\n",
    "\n",
    "# print the results\n",
    "print(f\"Test statistic: {t_stat}\")\n",
    "print(f\"P-value: {p_value}\")\n",
    "\n",
    "if p_value < significance_level:\n",
    "    print(\"Reject null hypothesis - the population mean is significantly different from 70.\")\n",
    "else:\n",
    "    print(\"Fail to reject null hypothesis - there is not enough evidence to suggest that the population mean is significantly different from 70.\")\n"
   ]
  },
  {
   "cell_type": "code",
   "execution_count": null,
   "id": "8a81f13d-2e49-45b3-8a31-0cfe875ab19e",
   "metadata": {},
   "outputs": [],
   "source": []
  }
 ],
 "metadata": {
  "kernelspec": {
   "display_name": "Python 3 (ipykernel)",
   "language": "python",
   "name": "python3"
  },
  "language_info": {
   "codemirror_mode": {
    "name": "ipython",
    "version": 3
   },
   "file_extension": ".py",
   "mimetype": "text/x-python",
   "name": "python",
   "nbconvert_exporter": "python",
   "pygments_lexer": "ipython3",
   "version": "3.10.8"
  }
 },
 "nbformat": 4,
 "nbformat_minor": 5
}
