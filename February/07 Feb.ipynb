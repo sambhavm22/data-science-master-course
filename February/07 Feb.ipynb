{
 "cells": [
  {
   "cell_type": "markdown",
   "id": "45a4911d",
   "metadata": {},
   "source": [
    "Q1. You are writing code for a company. The requirement of the company is that you create a python\n",
    "function that will check whether the password entered by the user is correct or not. The function should\n",
    "take the password as input and return the string “Valid Password” if the entered password follows the\n",
    "below-given password guidelines else it should return “Invalid Password”.\n",
    "Note:\n",
    "1. The Password should contain at least two uppercase letters and at least two lowercase letters.\n",
    "2. The Password should contain at least a number and three special\n",
    "3. The length of the password should be 10 characters long."
   ]
  },
  {
   "cell_type": "markdown",
   "id": "76a241e7",
   "metadata": {},
   "source": [
    "Q2. Solve the below-given questions using at least one of the following:\n",
    "1. Lambda function\n",
    "2. Filter function\n",
    "3. Map function\n",
    "4. List Comprehension\n",
    "\n",
    "Check if the string starts with a particular letter,\n",
    "Check if the string is numeric.\n",
    "Sort a list of tuples having fruit names and their quantity. [(\"mango\",99),(\"orange\",80), (\"grapes\", 1000)]\n",
    "Find the squares of numbers from 1 to 10,\n",
    "Find the cube root of numbers from 1 to 10,\n",
    "Check if a given number is even,\n",
    "Filter odd numbers from the given list [1,2,3,4,5,6,7,8,9,10], \n",
    "Sort a list of integers into positive and negative integers lists\n",
    "[1,2,3,4,5,6,-1,-2,-3,-4,-5,0]"
   ]
  },
  {
   "cell_type": "markdown",
   "id": "dbf45135",
   "metadata": {},
   "source": [
    "## Answer 1"
   ]
  },
  {
   "cell_type": "code",
   "execution_count": 1,
   "id": "68b01fc1",
   "metadata": {},
   "outputs": [],
   "source": [
    "import re\n",
    "\n",
    "def check_password(password):\n",
    "    # Using lambda function and regular expressions\n",
    "    is_valid = lambda x: bool(re.match(r'^(?=.*[a-z].*[a-z])(?=.*[A-Z].*[A-Z])(?=.*\\d)(?=.*[@$!%*?&])[A-Za-z\\d@$!%*?&]{10}$', x))\n",
    "    \n",
    "    if is_valid(password):\n",
    "        return \"Valid Password\"\n",
    "    else:\n",
    "        return \"Invalid Password\"\n",
    "\n",
    "    \n",
    "    "
   ]
  },
  {
   "cell_type": "code",
   "execution_count": 25,
   "id": "783df8bd",
   "metadata": {},
   "outputs": [
    {
     "name": "stdout",
     "output_type": "stream",
     "text": [
      "Invalid Password\n",
      "Invalid Password\n",
      "Invalid Password\n",
      "Invalid Password\n",
      "Invalid Password\n"
     ]
    }
   ],
   "source": [
    "print(check_password(\"@SambhavNath12#$\"))  # Valid Password\n",
    "print(check_password(\"Abc123!@#\"))   # Invalid Password (less than 10 characters)\n",
    "print(check_password(\"abc123!@#\"))   # Invalid Password (no uppercase letters)\n",
    "print(check_password(\"ABC123!@#\"))   # Invalid Password (no lowercase letters)\n",
    "print(check_password(\"AbcdEFGH123\")) # Invalid Password (no special characters)\n"
   ]
  },
  {
   "cell_type": "code",
   "execution_count": null,
   "id": "971ac967",
   "metadata": {},
   "outputs": [],
   "source": []
  },
  {
   "cell_type": "code",
   "execution_count": null,
   "id": "9b52ae95",
   "metadata": {},
   "outputs": [],
   "source": []
  },
  {
   "cell_type": "code",
   "execution_count": null,
   "id": "3191f08b",
   "metadata": {},
   "outputs": [],
   "source": []
  },
  {
   "cell_type": "code",
   "execution_count": null,
   "id": "6e159cdd",
   "metadata": {},
   "outputs": [],
   "source": []
  },
  {
   "cell_type": "code",
   "execution_count": null,
   "id": "2f554ee0",
   "metadata": {},
   "outputs": [],
   "source": []
  },
  {
   "cell_type": "code",
   "execution_count": 3,
   "id": "4034ec5d",
   "metadata": {},
   "outputs": [
    {
     "name": "stdout",
     "output_type": "stream",
     "text": [
      "enter any sentencehello\n",
      "The string starts with the letter h\n"
     ]
    }
   ],
   "source": [
    "my_string = str(input('enter any sentence'))\n",
    "letter = \"h\"\n",
    "\n",
    "starts_with_letter = lambda x: x.startswith(letter)\n",
    "\n",
    "if starts_with_letter(my_string):\n",
    "    print(\"The string starts with the letter\", letter)\n",
    "else:\n",
    "    print(\"The string does not start with the letter\", letter)\n"
   ]
  },
  {
   "cell_type": "code",
   "execution_count": 4,
   "id": "6c10f098",
   "metadata": {},
   "outputs": [
    {
     "name": "stdout",
     "output_type": "stream",
     "text": [
      "Enter a sentence: hello sam\n",
      "The sentence does not start with S\n"
     ]
    }
   ],
   "source": [
    "my_string = str(input(\"Enter a sentence: \"))\n",
    "letter = \"S\" or 's'\n",
    "\n",
    "start_with_letter = lambda x: x.startswith(letter)\n",
    "\n",
    "if start_with_letter(my_string):\n",
    "    print(\"The sentence starts with S\")\n",
    "    \n",
    "else:\n",
    "    print(\"The sentence does not start with S\")"
   ]
  },
  {
   "cell_type": "code",
   "execution_count": 5,
   "id": "be539ca9",
   "metadata": {},
   "outputs": [
    {
     "name": "stdout",
     "output_type": "stream",
     "text": [
      "Enter any input: 23143\n",
      "The string is numeric\n"
     ]
    }
   ],
   "source": [
    "my_num = str(input(\"Enter any input: \"))\n",
    "number = 1 or 2 or 3 or 4 or 5 or 6 or 7 or 8 or 9 or 0\n",
    "\n",
    "start_with_number = lambda x: x.isnumeric()\n",
    "\n",
    "if start_with_number(my_num):\n",
    "    print(\"The string is numeric\")\n",
    "    \n",
    "else:\n",
    "    print(\"The string is not  numeric\")    "
   ]
  },
  {
   "cell_type": "code",
   "execution_count": 6,
   "id": "05d2e6fc",
   "metadata": {},
   "outputs": [
    {
     "name": "stdout",
     "output_type": "stream",
     "text": [
      "Enter any input: fdsah\n",
      "The string is not numeric\n"
     ]
    }
   ],
   "source": [
    "my_string = input(\"Enter any input: \")\n",
    "num_1 = 1 or 2 or 3 or 4 or 5 or 6 or 7 or 8 or 9 or 0\n",
    "\n",
    "if my_string == num_1:\n",
    "    print('The string is numeric')\n",
    "    \n",
    "else:\n",
    "    print('The string is not numeric')"
   ]
  },
  {
   "cell_type": "code",
   "execution_count": 7,
   "id": "a7e6b9f5",
   "metadata": {},
   "outputs": [
    {
     "name": "stdout",
     "output_type": "stream",
     "text": [
      "Sorted list of tuples:\n",
      "orange 80\n",
      "mango 99\n",
      "grapes 1000\n"
     ]
    }
   ],
   "source": [
    "fruits = [(\"mango\", 99), (\"orange\", 80), (\"grapes\", 1000)]\n",
    "\n",
    "sorted_fruits = sorted(fruits, key=lambda x: x[1])\n",
    "\n",
    "\n",
    "print(\"Sorted list of tuples:\")\n",
    "for fruit in sorted_fruits:\n",
    "    print(fruit[0], fruit[1])"
   ]
  },
  {
   "cell_type": "markdown",
   "id": "739c5cf1",
   "metadata": {},
   "source": []
  },
  {
   "cell_type": "code",
   "execution_count": null,
   "id": "c2aa388c",
   "metadata": {},
   "outputs": [],
   "source": []
  },
  {
   "cell_type": "code",
   "execution_count": null,
   "id": "500b9924",
   "metadata": {},
   "outputs": [],
   "source": []
  },
  {
   "cell_type": "code",
   "execution_count": null,
   "id": "a04f1152",
   "metadata": {},
   "outputs": [],
   "source": []
  },
  {
   "cell_type": "markdown",
   "id": "d905529a",
   "metadata": {},
   "source": [
    "Find the squares of numbers from 1 to 10,\n",
    "Find the cube root of numbers from 1 to 10"
   ]
  },
  {
   "cell_type": "code",
   "execution_count": 8,
   "id": "85828fcb",
   "metadata": {},
   "outputs": [],
   "source": [
    "l=[1,2,3,4,5,6,7,8,9,10]"
   ]
  },
  {
   "cell_type": "code",
   "execution_count": 9,
   "id": "2bff57d2",
   "metadata": {},
   "outputs": [
    {
     "data": {
      "text/plain": [
       "[1, 4, 9, 16, 25, 36, 49, 64, 81, 100]"
      ]
     },
     "execution_count": 9,
     "metadata": {},
     "output_type": "execute_result"
    }
   ],
   "source": [
    "list(map(lambda x: x**2, l))"
   ]
  },
  {
   "cell_type": "code",
   "execution_count": 10,
   "id": "ed65f277",
   "metadata": {},
   "outputs": [
    {
     "data": {
      "text/plain": [
       "[1, 2, 3, 4, 5, 6, 7, 8, 9, 10]"
      ]
     },
     "execution_count": 10,
     "metadata": {},
     "output_type": "execute_result"
    }
   ],
   "source": [
    "lst=list(range(1,11))\n",
    "lst"
   ]
  },
  {
   "cell_type": "code",
   "execution_count": 11,
   "id": "38b7967a",
   "metadata": {},
   "outputs": [
    {
     "data": {
      "text/plain": [
       "[1, 8, 27, 64, 125, 216, 343, 512, 729, 1000]"
      ]
     },
     "execution_count": 11,
     "metadata": {},
     "output_type": "execute_result"
    }
   ],
   "source": [
    "list(map(lambda x: x**3, lst))"
   ]
  },
  {
   "cell_type": "markdown",
   "id": "715cc5eb",
   "metadata": {},
   "source": [
    "Check if a given number is even, Filter odd numbers from the given list [1,2,3,4,5,6,7,8,9,10]"
   ]
  },
  {
   "cell_type": "code",
   "execution_count": 12,
   "id": "bcfcf281",
   "metadata": {},
   "outputs": [
    {
     "data": {
      "text/plain": [
       "[1, 2, 3, 4, 5, 6, 7, 8, 9, 10]"
      ]
     },
     "execution_count": 12,
     "metadata": {},
     "output_type": "execute_result"
    }
   ],
   "source": [
    "lst"
   ]
  },
  {
   "cell_type": "code",
   "execution_count": 13,
   "id": "f1f66c7e",
   "metadata": {},
   "outputs": [
    {
     "data": {
      "text/plain": [
       "[2, 4, 6, 8, 10]"
      ]
     },
     "execution_count": 13,
     "metadata": {},
     "output_type": "execute_result"
    }
   ],
   "source": [
    "list(filter(lambda x: x%2==0, lst))"
   ]
  },
  {
   "cell_type": "code",
   "execution_count": 14,
   "id": "4c698df8",
   "metadata": {},
   "outputs": [
    {
     "data": {
      "text/plain": [
       "[1, 3, 5, 7, 9]"
      ]
     },
     "execution_count": 14,
     "metadata": {},
     "output_type": "execute_result"
    }
   ],
   "source": [
    "list(filter(lambda x: x%2!=0, lst))"
   ]
  },
  {
   "cell_type": "code",
   "execution_count": 15,
   "id": "80e3c318",
   "metadata": {},
   "outputs": [
    {
     "data": {
      "text/plain": [
       "[1, 2, 3, 4, 5, 6, 7, 8, 9, 10, 11, 12, 13, 14, 15, 16, 17, 18, 19, 20]"
      ]
     },
     "execution_count": 15,
     "metadata": {},
     "output_type": "execute_result"
    }
   ],
   "source": [
    "lst1=list(range(1,21))\n",
    "lst1"
   ]
  },
  {
   "cell_type": "code",
   "execution_count": 16,
   "id": "f7254e1b",
   "metadata": {},
   "outputs": [
    {
     "data": {
      "text/plain": [
       "[1, 3, 5, 7, 9, 11, 13, 15, 17, 19]"
      ]
     },
     "execution_count": 16,
     "metadata": {},
     "output_type": "execute_result"
    }
   ],
   "source": [
    "list(filter(lambda x: x%2!=0, lst1))"
   ]
  },
  {
   "cell_type": "markdown",
   "id": "8d84f77a",
   "metadata": {},
   "source": [
    "Sort a list of integers into positive and negative integers lists [1,2,3,4,5,6,-1,-2,-3,-4,-5,0]"
   ]
  },
  {
   "cell_type": "code",
   "execution_count": 17,
   "id": "af35515e",
   "metadata": {},
   "outputs": [
    {
     "name": "stdout",
     "output_type": "stream",
     "text": [
      "[True, True, True, True, True, True, False, False, False, False, False, False]\n"
     ]
    }
   ],
   "source": [
    "l1=[1,2,3,4,5,6,-1,-2,-3,-4,-5,0]\n",
    "positive_num=[num > 0 for num in l1]\n",
    "print(positive_num)\n",
    "\n"
   ]
  },
  {
   "cell_type": "code",
   "execution_count": 18,
   "id": "d3723a09",
   "metadata": {},
   "outputs": [
    {
     "name": "stdout",
     "output_type": "stream",
     "text": [
      "[False, False, False, False, False, False, True, True, True, True, True, False]\n"
     ]
    }
   ],
   "source": [
    "l1=[1,2,3,4,5,6,-1,-2,-3,-4,-5,0]\n",
    "positive_num=[num < 0 for num in l1]\n",
    "print(positive_num)\n",
    "\n",
    "\n"
   ]
  },
  {
   "cell_type": "code",
   "execution_count": 19,
   "id": "1b61ae4e",
   "metadata": {},
   "outputs": [
    {
     "data": {
      "text/plain": [
       "[1, 2, 3, 4, 5, 6, -1, -2, -3, -4, -5, 0]"
      ]
     },
     "execution_count": 19,
     "metadata": {},
     "output_type": "execute_result"
    }
   ],
   "source": [
    "l1"
   ]
  },
  {
   "cell_type": "code",
   "execution_count": 20,
   "id": "aed73c79",
   "metadata": {},
   "outputs": [
    {
     "data": {
      "text/plain": [
       "[1, 2, 3, 4, 5, 6]"
      ]
     },
     "execution_count": 20,
     "metadata": {},
     "output_type": "execute_result"
    }
   ],
   "source": [
    "list(filter(lambda x: x> 0,l1))"
   ]
  },
  {
   "cell_type": "code",
   "execution_count": 21,
   "id": "2b524729",
   "metadata": {},
   "outputs": [
    {
     "data": {
      "text/plain": [
       "[-1, -2, -3, -4, -5]"
      ]
     },
     "execution_count": 21,
     "metadata": {},
     "output_type": "execute_result"
    }
   ],
   "source": [
    "list(filter(lambda y: y< 0,l1))"
   ]
  },
  {
   "cell_type": "code",
   "execution_count": 24,
   "id": "a8bacb8e",
   "metadata": {},
   "outputs": [
    {
     "name": "stdout",
     "output_type": "stream",
     "text": [
      "Positive numbers: [1, 2, 3, 4, 5, 6]\n",
      "Negative numbers: [-1, -2, -3, -4, -5]\n"
     ]
    }
   ],
   "source": [
    "numbers = [1, 2, 3, 4, 5, 6, -1, -2, -3, -4, -5, 0]\n",
    "\n",
    "positive_numbers = [x for x in numbers if x > 0]\n",
    "negative_numbers = [x for x in numbers if x < 0]\n",
    "\n",
    "print(\"Positive numbers:\", positive_numbers)\n",
    "print(\"Negative numbers:\", negative_numbers)\n"
   ]
  },
  {
   "cell_type": "code",
   "execution_count": null,
   "id": "fc0d6e42",
   "metadata": {},
   "outputs": [],
   "source": []
  },
  {
   "cell_type": "code",
   "execution_count": null,
   "id": "3e6a6d45",
   "metadata": {},
   "outputs": [],
   "source": [
    "\n",
    "\n"
   ]
  },
  {
   "cell_type": "code",
   "execution_count": null,
   "id": "720d1b33",
   "metadata": {},
   "outputs": [],
   "source": []
  }
 ],
 "metadata": {
  "kernelspec": {
   "display_name": "Python 3 (ipykernel)",
   "language": "python",
   "name": "python3"
  },
  "language_info": {
   "codemirror_mode": {
    "name": "ipython",
    "version": 3
   },
   "file_extension": ".py",
   "mimetype": "text/x-python",
   "name": "python",
   "nbconvert_exporter": "python",
   "pygments_lexer": "ipython3",
   "version": "3.9.13"
  }
 },
 "nbformat": 4,
 "nbformat_minor": 5
}
