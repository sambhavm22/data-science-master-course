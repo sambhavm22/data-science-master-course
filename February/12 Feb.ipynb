{
 "cells": [
  {
   "cell_type": "markdown",
   "id": "5e74f10d",
   "metadata": {},
   "source": [
    "1. What is exception in python? What is the difference between Exceptions and Syntax errors?\n",
    "\n",
    "\n",
    "2. What happens when an exception is not handled? Explain with an example. \n",
    "\n",
    "\n",
    "3. Which python statements are used to catch and handle exceptions? Explain with an example. \n",
    "\n",
    "4. Explain with an example. \n",
    "\n",
    "    (a) try and else\n",
    "    (b) finally \n",
    "    (c) raise\n",
    "\n",
    "\n",
    "5. What are customs exceptions in python? Why do we need Customs Exceptions? Expalin with an example. \n",
    "\n",
    "\n",
    "6. Create a custom exception class. Use this class to handle an exception. "
   ]
  },
  {
   "cell_type": "markdown",
   "id": "0194726f",
   "metadata": {},
   "source": [
    "### Answer 1: - \n",
    "\n",
    "### an exception is an error that occurs during the execution of a program that disrupts the normal flow of the program. When an exception occurs, Python raises an instance of an exception class which contains information about the type of error that occurred and where it occurred in the code. The program can then catch and handle the exception to prevent the program from crashing or producing unexpected results.\n",
    "\n",
    "### The main difference between exceptions and syntax errors is that syntax errors occur during the compilation or parsing phase of the program, while exceptions occur during the execution phase. Syntax errors prevent the program from being executed at all, while exceptions can occur during the execution of a program even if the syntax is correct. \n"
   ]
  },
  {
   "cell_type": "markdown",
   "id": "4f0bced2",
   "metadata": {},
   "source": [
    "### Answer 2: -\n",
    "\n",
    "### When an exception is not handled, it will propagate up the call stack until it is either caught by a higher-level exception handler or it reaches the top level of the program.\n",
    "\n",
    "### If the exception is not caught by any exception handler, the program will terminate abruptly and an error message will be displayed to the user, indicating the type of exception that occurred and the location where it occurred.\n",
    "\n",
    "### Uncaught exceptions can cause data loss or corruption, terminate the program in an unpredictable state, or cause other unexpected behavior."
   ]
  },
  {
   "cell_type": "code",
   "execution_count": 32,
   "id": "03e6fd46",
   "metadata": {},
   "outputs": [
    {
     "name": "stdout",
     "output_type": "stream",
     "text": [
      "Enter a number: 5\n",
      "Enter another number: 0\n",
      "division by zero\n"
     ]
    }
   ],
   "source": [
    "def divide(a, b):\n",
    "    return a/b\n",
    "\n",
    "def main():\n",
    "    \n",
    "    try:\n",
    "        x = int(input(\"Enter a number: \"))\n",
    "        y = int(input(\"Enter another number: \"))\n",
    "        result = divide(x, y)\n",
    "        print(\"Result is: \", result)\n",
    "        \n",
    "    except Exception as e:\n",
    "        print(e)\n",
    "main()"
   ]
  },
  {
   "cell_type": "markdown",
   "id": "ebc49481",
   "metadata": {},
   "source": [
    "### Answer 3: - we use the try and except statements to catch and handle exceptions. \n"
   ]
  },
  {
   "cell_type": "code",
   "execution_count": 33,
   "id": "dadc1169",
   "metadata": {},
   "outputs": [
    {
     "name": "stdout",
     "output_type": "stream",
     "text": [
      "Cannot divide by zero!\n"
     ]
    }
   ],
   "source": [
    "def divide(a, b):\n",
    "    try:\n",
    "        result = a / b\n",
    "        print(\"Result is: \", result)\n",
    "    except ZeroDivisionError:\n",
    "        print(\"Cannot divide by zero!\")\n",
    "        \n",
    "divide(5, 0)\n"
   ]
  },
  {
   "cell_type": "markdown",
   "id": "d0c59b84",
   "metadata": {},
   "source": [
    "### Answer 4: -we can use the else block along with the try and except blocks to execute some code when no exception is raised. \n",
    "\n",
    "### The finally block is used to execute some code that should always be executed, regardless of whether an exception is raised or not. \n",
    "\n",
    "### The raise statement is used to raise an exception manually. "
   ]
  },
  {
   "cell_type": "code",
   "execution_count": 34,
   "id": "eb0f70b7",
   "metadata": {},
   "outputs": [
    {
     "name": "stdout",
     "output_type": "stream",
     "text": [
      "Result is:  2.5\n"
     ]
    }
   ],
   "source": [
    "def divide(a, b):\n",
    "    try:\n",
    "        result = a / b\n",
    "    except ZeroDivisionError:\n",
    "        print(\"Cannot divide by zero!\")\n",
    "    else:\n",
    "        print(\"Result is: \", result)\n",
    "        \n",
    "divide(5, 2)\n"
   ]
  },
  {
   "cell_type": "code",
   "execution_count": 39,
   "id": "8388c342",
   "metadata": {},
   "outputs": [
    {
     "name": "stdout",
     "output_type": "stream",
     "text": [
      "File not found!\n"
     ]
    }
   ],
   "source": [
    "try:\n",
    "    file = open('test_01.txt', 'r')\n",
    "    content = file.read()\n",
    "    print(content)\n",
    "except FileNotFoundError:\n",
    "    print(\"File not found!\")\n",
    "finally:\n",
    "    file.close()\n"
   ]
  },
  {
   "cell_type": "code",
   "execution_count": 43,
   "id": "6957504c",
   "metadata": {},
   "outputs": [
    {
     "ename": "ZeroDivisionError",
     "evalue": "Cannot divide by zero!",
     "output_type": "error",
     "traceback": [
      "\u001b[0;31m---------------------------------------------------------------------------\u001b[0m",
      "\u001b[0;31mZeroDivisionError\u001b[0m                         Traceback (most recent call last)",
      "\u001b[0;32m/var/folders/4m/vrm5g1l51xn5x3bdqm97xhsr0000gn/T/ipykernel_10682/3958174465.py\u001b[0m in \u001b[0;36m<module>\u001b[0;34m\u001b[0m\n\u001b[1;32m      9\u001b[0m         \u001b[0;32mreturn\u001b[0m \u001b[0mresult\u001b[0m\u001b[0;34m\u001b[0m\u001b[0;34m\u001b[0m\u001b[0m\n\u001b[1;32m     10\u001b[0m \u001b[0;34m\u001b[0m\u001b[0m\n\u001b[0;32m---> 11\u001b[0;31m \u001b[0mdivide\u001b[0m\u001b[0;34m(\u001b[0m\u001b[0;36m5\u001b[0m\u001b[0;34m,\u001b[0m \u001b[0;36m0\u001b[0m\u001b[0;34m)\u001b[0m\u001b[0;34m\u001b[0m\u001b[0;34m\u001b[0m\u001b[0m\n\u001b[0m",
      "\u001b[0;32m/var/folders/4m/vrm5g1l51xn5x3bdqm97xhsr0000gn/T/ipykernel_10682/3958174465.py\u001b[0m in \u001b[0;36mdivide\u001b[0;34m(a, b)\u001b[0m\n\u001b[1;32m      3\u001b[0m \u001b[0;34m\u001b[0m\u001b[0m\n\u001b[1;32m      4\u001b[0m     \u001b[0;32mif\u001b[0m \u001b[0mb\u001b[0m \u001b[0;34m==\u001b[0m \u001b[0;36m0\u001b[0m\u001b[0;34m:\u001b[0m\u001b[0;34m\u001b[0m\u001b[0;34m\u001b[0m\u001b[0m\n\u001b[0;32m----> 5\u001b[0;31m         \u001b[0;32mraise\u001b[0m \u001b[0mZeroDivisionError\u001b[0m\u001b[0;34m(\u001b[0m\u001b[0;34m\"Cannot divide by zero!\"\u001b[0m\u001b[0;34m)\u001b[0m\u001b[0;34m\u001b[0m\u001b[0;34m\u001b[0m\u001b[0m\n\u001b[0m\u001b[1;32m      6\u001b[0m \u001b[0;34m\u001b[0m\u001b[0m\n\u001b[1;32m      7\u001b[0m     \u001b[0;32melse\u001b[0m\u001b[0;34m:\u001b[0m\u001b[0;34m\u001b[0m\u001b[0;34m\u001b[0m\u001b[0m\n",
      "\u001b[0;31mZeroDivisionError\u001b[0m: Cannot divide by zero!"
     ]
    }
   ],
   "source": [
    "import logging\n",
    "def divide(a, b):\n",
    "    \n",
    "    if b == 0:\n",
    "        raise ZeroDivisionError(\"Cannot divide by zero!\")\n",
    "    \n",
    "    else:\n",
    "        result = a / b\n",
    "        return result\n",
    "        \n",
    "divide(5, 0)\n"
   ]
  },
  {
   "cell_type": "code",
   "execution_count": null,
   "id": "d6c0fd66",
   "metadata": {},
   "outputs": [],
   "source": []
  },
  {
   "cell_type": "markdown",
   "id": "efd7692b",
   "metadata": {},
   "source": [
    "### Answer 5: -customs exceptions are exception that are made from the user itself. custom exceptions are user-defined exceptions that are created by programmers to handle specific error conditions in their programs. These exceptions are created by subclassing the built-in Exception class and adding any additional behavior or attributes that are needed. Custom exceptions are useful when you want to create your own error messages that are more meaningful to the end-user. By raising a custom exception, you can also provide more detailed information about the error, such as where it occurred and what caused it. "
   ]
  },
  {
   "cell_type": "code",
   "execution_count": null,
   "id": "79b8ea07",
   "metadata": {},
   "outputs": [],
   "source": [
    "\n",
    "\n",
    "    \n",
    "        "
   ]
  },
  {
   "cell_type": "code",
   "execution_count": 27,
   "id": "0583a4f8",
   "metadata": {},
   "outputs": [],
   "source": [
    "import logging\n",
    "class validateage(Exception):\n",
    "    def __init__(self, msg):\n",
    "        self.msg = msg\n",
    "        \n",
    "    \n",
    "        \n",
    "    \n",
    "        "
   ]
  },
  {
   "cell_type": "code",
   "execution_count": 28,
   "id": "2bd27292",
   "metadata": {},
   "outputs": [],
   "source": [
    "def validate_age(age):\n",
    "    if age < 0:\n",
    "        raise validateage('age cannot be negative')\n",
    "     \n",
    "    elif age > 150:\n",
    "        raise validateage(\"age is too high\")\n",
    "        \n",
    "    else:\n",
    "        print(\"age is valid\")"
   ]
  },
  {
   "cell_type": "code",
   "execution_count": 29,
   "id": "10c0283e",
   "metadata": {},
   "outputs": [
    {
     "name": "stdout",
     "output_type": "stream",
     "text": [
      "enter your age: 151\n",
      "age is too high\n"
     ]
    }
   ],
   "source": [
    "try:\n",
    "    age = int(input(\"enter your age: \"))\n",
    "    validate_age(age)\n",
    "    \n",
    "except validateage as e:\n",
    "    print(e)"
   ]
  },
  {
   "cell_type": "code",
   "execution_count": 6,
   "id": "f351459d",
   "metadata": {},
   "outputs": [
    {
     "name": "stdout",
     "output_type": "stream",
     "text": [
      "Error: Cannot divide by zero\n"
     ]
    }
   ],
   "source": [
    "class InvalidInputError(Exception):\n",
    "    pass\n",
    "\n",
    "def divide_numbers(x, y):\n",
    "    if y == 0:\n",
    "        raise InvalidInputError(\"Cannot divide by zero\")\n",
    "    return x / y\n",
    "\n",
    "\n",
    "try:\n",
    "    result = divide_numbers(10, 0)\n",
    "    print(\"The result is:\", result)\n",
    "except InvalidInputError as e:\n",
    "    print(\"Error:\", e)\n"
   ]
  },
  {
   "cell_type": "code",
   "execution_count": null,
   "id": "ad5f2616",
   "metadata": {},
   "outputs": [],
   "source": []
  },
  {
   "cell_type": "code",
   "execution_count": null,
   "id": "fcbbcf4e",
   "metadata": {},
   "outputs": [],
   "source": []
  }
 ],
 "metadata": {
  "kernelspec": {
   "display_name": "Python 3 (ipykernel)",
   "language": "python",
   "name": "python3"
  },
  "language_info": {
   "codemirror_mode": {
    "name": "ipython",
    "version": 3
   },
   "file_extension": ".py",
   "mimetype": "text/x-python",
   "name": "python",
   "nbconvert_exporter": "python",
   "pygments_lexer": "ipython3",
   "version": "3.9.13"
  }
 },
 "nbformat": 4,
 "nbformat_minor": 5
}
