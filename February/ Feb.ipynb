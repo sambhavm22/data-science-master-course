{
 "cells": [
  {
   "cell_type": "markdown",
   "id": "e2291b6a",
   "metadata": {},
   "source": [
    "which keyword to used to create a function? \n",
    "\"def\" keyword is used to ceare a function"
   ]
  },
  {
   "cell_type": "code",
   "execution_count": 13,
   "id": "2bd190ee",
   "metadata": {},
   "outputs": [],
   "source": [
    "lst=list(range(25))"
   ]
  },
  {
   "cell_type": "code",
   "execution_count": 18,
   "id": "838396b7",
   "metadata": {},
   "outputs": [],
   "source": [
    "def odd_num(a):\n",
    "    n=[]\n",
    "    for i in a:\n",
    "        if i in a %2==0:\n",
    "            print(i)\n",
    "    return n      "
   ]
  },
  {
   "cell_type": "code",
   "execution_count": 19,
   "id": "02f5e2aa",
   "metadata": {},
   "outputs": [
    {
     "ename": "TypeError",
     "evalue": "unsupported operand type(s) for %: 'list' and 'int'",
     "output_type": "error",
     "traceback": [
      "\u001b[0;31m---------------------------------------------------------------------------\u001b[0m",
      "\u001b[0;31mTypeError\u001b[0m                                 Traceback (most recent call last)",
      "\u001b[0;32m/var/folders/4m/vrm5g1l51xn5x3bdqm97xhsr0000gn/T/ipykernel_6669/3209163846.py\u001b[0m in \u001b[0;36m<module>\u001b[0;34m\u001b[0m\n\u001b[0;32m----> 1\u001b[0;31m \u001b[0modd_num\u001b[0m\u001b[0;34m(\u001b[0m\u001b[0mlst\u001b[0m\u001b[0;34m)\u001b[0m\u001b[0;34m\u001b[0m\u001b[0;34m\u001b[0m\u001b[0m\n\u001b[0m",
      "\u001b[0;32m/var/folders/4m/vrm5g1l51xn5x3bdqm97xhsr0000gn/T/ipykernel_6669/1746311922.py\u001b[0m in \u001b[0;36modd_num\u001b[0;34m(a)\u001b[0m\n\u001b[1;32m      2\u001b[0m     \u001b[0mn\u001b[0m\u001b[0;34m=\u001b[0m\u001b[0;34m[\u001b[0m\u001b[0;34m]\u001b[0m\u001b[0;34m\u001b[0m\u001b[0;34m\u001b[0m\u001b[0m\n\u001b[1;32m      3\u001b[0m     \u001b[0;32mfor\u001b[0m \u001b[0mi\u001b[0m \u001b[0;32min\u001b[0m \u001b[0ma\u001b[0m\u001b[0;34m:\u001b[0m\u001b[0;34m\u001b[0m\u001b[0;34m\u001b[0m\u001b[0m\n\u001b[0;32m----> 4\u001b[0;31m         \u001b[0;32mif\u001b[0m \u001b[0mi\u001b[0m \u001b[0;32min\u001b[0m \u001b[0ma\u001b[0m \u001b[0;34m%\u001b[0m\u001b[0;36m2\u001b[0m\u001b[0;34m==\u001b[0m\u001b[0;36m0\u001b[0m\u001b[0;34m:\u001b[0m\u001b[0;34m\u001b[0m\u001b[0;34m\u001b[0m\u001b[0m\n\u001b[0m\u001b[1;32m      5\u001b[0m             \u001b[0mprint\u001b[0m\u001b[0;34m(\u001b[0m\u001b[0mi\u001b[0m\u001b[0;34m)\u001b[0m\u001b[0;34m\u001b[0m\u001b[0;34m\u001b[0m\u001b[0m\n\u001b[1;32m      6\u001b[0m     \u001b[0;32mreturn\u001b[0m \u001b[0mn\u001b[0m\u001b[0;34m\u001b[0m\u001b[0;34m\u001b[0m\u001b[0m\n",
      "\u001b[0;31mTypeError\u001b[0m: unsupported operand type(s) for %: 'list' and 'int'"
     ]
    }
   ],
   "source": [
    "odd_num(lst)"
   ]
  },
  {
   "cell_type": "code",
   "execution_count": 7,
   "id": "b2b42b8c",
   "metadata": {},
   "outputs": [],
   "source": [
    "l=[range(25)]"
   ]
  },
  {
   "cell_type": "code",
   "execution_count": 8,
   "id": "5afd8d28",
   "metadata": {},
   "outputs": [
    {
     "data": {
      "text/plain": [
       "[range(0, 25)]"
      ]
     },
     "execution_count": 8,
     "metadata": {},
     "output_type": "execute_result"
    }
   ],
   "source": [
    "l"
   ]
  },
  {
   "cell_type": "code",
   "execution_count": 11,
   "id": "745545b6",
   "metadata": {},
   "outputs": [],
   "source": [
    "l1=list(range(25))"
   ]
  },
  {
   "cell_type": "code",
   "execution_count": 12,
   "id": "2da2dd28",
   "metadata": {},
   "outputs": [
    {
     "data": {
      "text/plain": [
       "[0,\n",
       " 1,\n",
       " 2,\n",
       " 3,\n",
       " 4,\n",
       " 5,\n",
       " 6,\n",
       " 7,\n",
       " 8,\n",
       " 9,\n",
       " 10,\n",
       " 11,\n",
       " 12,\n",
       " 13,\n",
       " 14,\n",
       " 15,\n",
       " 16,\n",
       " 17,\n",
       " 18,\n",
       " 19,\n",
       " 20,\n",
       " 21,\n",
       " 22,\n",
       " 23,\n",
       " 24]"
      ]
     },
     "execution_count": 12,
     "metadata": {},
     "output_type": "execute_result"
    }
   ],
   "source": [
    "l1"
   ]
  },
  {
   "cell_type": "code",
   "execution_count": 27,
   "id": "491e166f",
   "metadata": {},
   "outputs": [],
   "source": [
    "def get_odd_num():\n",
    "    odd_number=[]\n",
    "    for num in range(1,25,2):\n",
    "        odd_number.append(num)\n",
    "    return odd_number   \n",
    "        "
   ]
  },
  {
   "cell_type": "code",
   "execution_count": 30,
   "id": "9135493b",
   "metadata": {},
   "outputs": [
    {
     "name": "stdout",
     "output_type": "stream",
     "text": [
      "[1, 3, 5, 7, 9, 11, 13, 15, 17, 19, 21, 23]\n"
     ]
    }
   ],
   "source": [
    "odd_number= get_odd_num()\n",
    "print(odd_number)"
   ]
  },
  {
   "cell_type": "code",
   "execution_count": 31,
   "id": "df374096",
   "metadata": {},
   "outputs": [],
   "source": [
    "def on():\n",
    "    return[ num for num in range(1,25,2)]"
   ]
  },
  {
   "cell_type": "code",
   "execution_count": 34,
   "id": "be09e91b",
   "metadata": {},
   "outputs": [
    {
     "name": "stdout",
     "output_type": "stream",
     "text": [
      "[1, 3, 5, 7, 9, 11, 13, 15, 17, 19, 21, 23]\n"
     ]
    }
   ],
   "source": [
    "getoddnumber=on()\n",
    "print(getoddnumber)"
   ]
  },
  {
   "cell_type": "markdown",
   "id": "9e903e31",
   "metadata": {},
   "source": [
    "### Answer 2\n",
    "## *args is used to return n number of arguments and **kwargs is used to return n number of key and value pairs (dictionary)"
   ]
  },
  {
   "cell_type": "code",
   "execution_count": 38,
   "id": "8ae7e649",
   "metadata": {},
   "outputs": [],
   "source": [
    "def test1(*args):\n",
    "    return args\n",
    "    \n"
   ]
  },
  {
   "cell_type": "code",
   "execution_count": 39,
   "id": "dbf1a753",
   "metadata": {},
   "outputs": [
    {
     "data": {
      "text/plain": [
       "(1, 2, 3, 4, 'sam', [5, 6, 7], 23.4)"
      ]
     },
     "execution_count": 39,
     "metadata": {},
     "output_type": "execute_result"
    }
   ],
   "source": [
    "test1(1,2,3,4,'sam',[5,6,7],23.4)"
   ]
  },
  {
   "cell_type": "code",
   "execution_count": 40,
   "id": "891e1f4e",
   "metadata": {},
   "outputs": [],
   "source": [
    "def test2(**kwargs):\n",
    "    return kwargs"
   ]
  },
  {
   "cell_type": "code",
   "execution_count": 41,
   "id": "e926260f",
   "metadata": {},
   "outputs": [
    {
     "data": {
      "text/plain": [
       "{'a': 1, 'b': 2, 'c': 3, 'd': 'pwskills'}"
      ]
     },
     "execution_count": 41,
     "metadata": {},
     "output_type": "execute_result"
    }
   ],
   "source": [
    "test2(a=1,b=2,c=3,d='pwskills')"
   ]
  },
  {
   "cell_type": "code",
   "execution_count": 42,
   "id": "971b5377",
   "metadata": {},
   "outputs": [],
   "source": [
    "def my_function(*args, **kwargs):\n",
    "    print(\"Positional arguments (*args):\")\n",
    "    for arg in args:\n",
    "        print(arg)\n",
    "\n",
    "    print(\"Keyword arguments (**kwargs):\")\n",
    "    for key, value in kwargs.items():\n",
    "        print(f\"{key} = {value}\")"
   ]
  },
  {
   "cell_type": "code",
   "execution_count": 43,
   "id": "a796316f",
   "metadata": {},
   "outputs": [
    {
     "name": "stdout",
     "output_type": "stream",
     "text": [
      "Positional arguments (*args):\n",
      "1\n",
      "2\n",
      "3\n",
      "4\n",
      "Keyword arguments (**kwargs):\n",
      "a = 5\n",
      "b = 6\n"
     ]
    }
   ],
   "source": [
    "my_function(1,2,3,4,a='5',b='6')"
   ]
  },
  {
   "cell_type": "code",
   "execution_count": 44,
   "id": "b91410b8",
   "metadata": {},
   "outputs": [],
   "source": [
    "## an iterator is an object that represents a stream of data. Iterators are used to iterate over a collection of data, one element at a time, and are commonly used in for loops. The built-in iter() function in Python creates an iterator object for an iterable (such as a list, tuple, or string) by calling its __iter__() method.\n",
    "## Iterators are useful because they allow you to iterate over a collection of data one element at a time, without loading the entire collection into memory at once. This can be particularly useful when working with large datasets or when dealing with data that is generated on the fly.\n"
   ]
  },
  {
   "cell_type": "code",
   "execution_count": 52,
   "id": "83d60cb4",
   "metadata": {},
   "outputs": [],
   "source": [
    "lst2=list(range(2,22,2))"
   ]
  },
  {
   "cell_type": "code",
   "execution_count": 53,
   "id": "6c6368a4",
   "metadata": {},
   "outputs": [
    {
     "data": {
      "text/plain": [
       "[2, 4, 6, 8, 10, 12, 14, 16, 18, 20]"
      ]
     },
     "execution_count": 53,
     "metadata": {},
     "output_type": "execute_result"
    }
   ],
   "source": [
    "lst2"
   ]
  },
  {
   "cell_type": "code",
   "execution_count": 48,
   "id": "6b5e2cb1",
   "metadata": {},
   "outputs": [],
   "source": [
    "def test3():\n",
    "    lst3=[]\n",
    "    for i in lst2:\n",
    "        print(i[0,5])\n",
    "    return lst3   "
   ]
  },
  {
   "cell_type": "code",
   "execution_count": 49,
   "id": "c91dd951",
   "metadata": {},
   "outputs": [],
   "source": [
    "lst3=lst2"
   ]
  },
  {
   "cell_type": "code",
   "execution_count": 50,
   "id": "0f317727",
   "metadata": {},
   "outputs": [
    {
     "data": {
      "text/plain": [
       "[0, 2, 4, 6, 8, 10, 12, 14, 16, 18, 20]"
      ]
     },
     "execution_count": 50,
     "metadata": {},
     "output_type": "execute_result"
    }
   ],
   "source": [
    "lst3"
   ]
  },
  {
   "cell_type": "code",
   "execution_count": 56,
   "id": "1189d72c",
   "metadata": {},
   "outputs": [],
   "source": [
    "def first_five_element():\n",
    "    lst4=list(range(2,22,2))\n",
    "    my_iterator=iter(lst4)\n",
    "    for i in range(5):\n",
    "        print(next(my_iterator))\n",
    "    "
   ]
  },
  {
   "cell_type": "code",
   "execution_count": 57,
   "id": "8195906d",
   "metadata": {},
   "outputs": [
    {
     "name": "stdout",
     "output_type": "stream",
     "text": [
      "2\n",
      "4\n",
      "6\n",
      "8\n",
      "10\n"
     ]
    }
   ],
   "source": [
    "first_five_element()"
   ]
  },
  {
   "cell_type": "markdown",
   "id": "43b48fe6",
   "metadata": {},
   "source": [
    "## generator function"
   ]
  },
  {
   "cell_type": "code",
   "execution_count": 58,
   "id": "734c885c",
   "metadata": {},
   "outputs": [],
   "source": [
    "## a generator function is a special type of function that returns an iterator object. Instead of returning a value and terminating, a generator function can pause execution and resume again later, allowing it to generate a sequence of values on the fly. Generator functions are defined using the yield keyword instead of the return keyword.\n",
    "## When a generator function is called, it returns an iterator object that can be used to iterate over the sequence of values that the generator generates. Each time the yield keyword is encountered, the generator function pauses execution and returns the value of the expression following the yield keyword. When the iterator's next() method is called again, execution resumes after the yield keyword, and the function continues to run until it encounters another yield statement or reaches the end of the function."
   ]
  },
  {
   "cell_type": "code",
   "execution_count": 60,
   "id": "7239b346",
   "metadata": {},
   "outputs": [],
   "source": [
    "def sq_value(n):\n",
    "    for i in range(n):\n",
    "        yield i**2"
   ]
  },
  {
   "cell_type": "code",
   "execution_count": 63,
   "id": "23098a22",
   "metadata": {},
   "outputs": [
    {
     "name": "stdout",
     "output_type": "stream",
     "text": [
      "0\n",
      "1\n",
      "4\n",
      "9\n",
      "16\n"
     ]
    }
   ],
   "source": [
    "for square in sq_value(5):\n",
    "    print(square)"
   ]
  },
  {
   "cell_type": "code",
   "execution_count": 64,
   "id": "8f934f74",
   "metadata": {},
   "outputs": [],
   "source": [
    "## create a generator number for prime number less than 1000. use the next() method to print the first 20 prime number."
   ]
  },
  {
   "cell_type": "code",
   "execution_count": 65,
   "id": "7bc645c0",
   "metadata": {},
   "outputs": [
    {
     "name": "stdout",
     "output_type": "stream",
     "text": [
      "2\n",
      "3\n",
      "5\n",
      "7\n",
      "11\n",
      "13\n",
      "17\n",
      "19\n",
      "23\n",
      "29\n",
      "31\n",
      "37\n",
      "41\n",
      "43\n",
      "47\n",
      "53\n",
      "59\n",
      "61\n",
      "67\n",
      "71\n"
     ]
    }
   ],
   "source": [
    "def prime_generator():\n",
    "    \"\"\"\n",
    "    This function generates prime numbers less than 1000.\n",
    "    \"\"\"\n",
    "    primes = []\n",
    "    for num in range(2, 1000):\n",
    "        is_prime = True\n",
    "        for i in range(2, int(num ** 0.5) + 1):\n",
    "            if num % i == 0:\n",
    "                is_prime = False\n",
    "                break\n",
    "        if is_prime:\n",
    "            primes.append(num)\n",
    "    return iter(primes)\n",
    "\n",
    "# Using the generator with next() method\n",
    "prime_gen = prime_generator()\n",
    "for i in range(20):\n",
    "    print(next(prime_gen))"
   ]
  },
  {
   "cell_type": "code",
   "execution_count": null,
   "id": "c482ed7b",
   "metadata": {},
   "outputs": [],
   "source": []
  }
 ],
 "metadata": {
  "kernelspec": {
   "display_name": "Python 3 (ipykernel)",
   "language": "python",
   "name": "python3"
  },
  "language_info": {
   "codemirror_mode": {
    "name": "ipython",
    "version": 3
   },
   "file_extension": ".py",
   "mimetype": "text/x-python",
   "name": "python",
   "nbconvert_exporter": "python",
   "pygments_lexer": "ipython3",
   "version": "3.9.13"
  }
 },
 "nbformat": 4,
 "nbformat_minor": 5
}
