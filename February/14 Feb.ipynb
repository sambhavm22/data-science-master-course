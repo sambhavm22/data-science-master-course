{
 "cells": [
  {
   "cell_type": "markdown",
   "id": "0dc4d049",
   "metadata": {},
   "source": [
    "1. What is multithreading in python? Why is it used? Name the module used to handle threads in python.\n",
    "\n",
    "\n",
    "2. Why threading module used? Write the use of the following functions\n",
    "    \n",
    "    activeCount()\n",
    "    currentThread()\n",
    "    enumerate()\n",
    "    \n",
    "    \n",
    "3. Explain the following functions\n",
    " \n",
    "     run()\n",
    "     start()\n",
    "     join()\n",
    "     isAlive()\n",
    " \n",
    " \n",
    "4. Write a python program to create two threads. Thread one must print the list of squares and thread\n",
    "   two must print the list of cubes\n",
    "   \n",
    "   \n",
    "5. State advantages and disadvantages of multithreading\n",
    "\n",
    "\n",
    "6. Explain deadlocks and race conditions."
   ]
  },
  {
   "cell_type": "markdown",
   "id": "c5c247ef",
   "metadata": {},
   "source": [
    "### Answer 1 It refers to the ability of a program to execute multiple threads of execution concurrently. A thread is a lightweight process that shares the same memory space as the parent process and can execute independently. Python's threading module provides a way to create and manage threads in a Python program.\n",
    "\n",
    "### Multithreading is used in Python for various reasons, including:\n",
    "\n",
    "### i) To improve the performance of a program by executing multiple tasks simultaneously\n",
    "### ii) To perform I/O-bound operations, such as reading and writing files or sending and receiving data over a network, without blocking the main thread.\n",
    "\n",
    "### The threading module is used to handle threads in Python. It provides a way to create and manage threads, including starting and stopping threads, waiting for threads to complete, and passing data between threads. The module defines the Thread class, which is used to create new threads, and various synchronization primitives, such as locks and semaphores, to coordinate access to shared resources between threads."
   ]
  },
  {
   "cell_type": "code",
   "execution_count": null,
   "id": "35b74c1d",
   "metadata": {},
   "outputs": [],
   "source": []
  },
  {
   "cell_type": "code",
   "execution_count": null,
   "id": "42b9aa18",
   "metadata": {},
   "outputs": [],
   "source": []
  },
  {
   "cell_type": "code",
   "execution_count": null,
   "id": "ef73cec2",
   "metadata": {},
   "outputs": [],
   "source": []
  },
  {
   "cell_type": "markdown",
   "id": "c7944da1",
   "metadata": {},
   "source": [
    "### Answer 2\n",
    "\n",
    "activeCount(): This function returns the number of currently active threads in the current process. This can be useful for debugging and monitoring the behavior of your program. For example, you might use activeCount() to determine whether you have too many threads running at once, which could cause performance issues.\n",
    "\n",
    "currentThread(): This function returns the current thread object. This can be useful if you need to manipulate the current thread in some way. For example, you might use currentThread() to retrieve the thread name or ID, or to set thread-specific data that can be accessed by other parts of the program.\n",
    "\n",
    "enumerate(): This function returns a list of all active Thread objects in the current process. Each Thread object represents a thread of execution. This can be useful for iterating over all of the threads in the program and performing some action on each one. For example, you might use enumerate() to check the status of all threads and terminate any threads that are no longer needed.\n",
    "\n"
   ]
  },
  {
   "cell_type": "markdown",
   "id": "7b94ef1f",
   "metadata": {},
   "source": [
    "### Answer 3\n",
    "\n",
    "\n",
    "run(): This method is called when a thread is started using the start() method. It contains the code that the thread will execute when it is running. When creating a custom thread class, you will typically override this method to define your thread's behavior.\n",
    "\n",
    "start(): This method starts the execution of a thread. When called, the run() method of the thread is executed in a separate thread of control. You can call the start() method only once per thread instance; if you try to call it again, a RuntimeError will be raised.\n",
    "\n",
    "join(): This method blocks the calling thread until the thread on which it is called completes its execution. When you call join() on a thread, the calling thread will wait until the target thread terminates. If the target thread has already terminated when join() is called, the method will return immediately. You can specify a timeout value (in seconds) for join() to prevent it from blocking indefinitely.\n",
    "\n",
    "isAlive(): This method returns a Boolean value indicating whether the thread is still running. Specifically, it returns True if the thread is currently executing, and False otherwise. This method is often used to check the status of a thread, allowing you to take action based on whether the thread is still running or has completed."
   ]
  },
  {
   "cell_type": "code",
   "execution_count": 38,
   "id": "c4ff02c4",
   "metadata": {},
   "outputs": [
    {
     "name": "stderr",
     "output_type": "stream",
     "text": [
      "Exception in thread Thread-68:\n",
      "Traceback (most recent call last):\n",
      "  File \"/Users/aakanksha/opt/anaconda3/lib/python3.9/threading.py\", line 980, in _bootstrap_inner\n",
      "    self.run()\n",
      "  File \"/Users/aakanksha/opt/anaconda3/lib/python3.9/threading.py\", line 917, in run\n",
      "    self._target(*self._args, **self._kwargs)\n",
      "  File \"/var/folders/4m/vrm5g1l51xn5x3bdqm97xhsr0000gn/T/ipykernel_1134/1367892344.py\", line 6, in print_square\n",
      "NameError: name 'sqaure' is not defined\n"
     ]
    },
    {
     "name": "stdout",
     "output_type": "stream",
     "text": [
      "1\n",
      "8\n",
      "27\n",
      "64\n",
      "125\n",
      "216\n",
      "343\n",
      "512\n",
      "729\n",
      "1000\n"
     ]
    }
   ],
   "source": [
    "import threading\n",
    "\n",
    "def print_square():\n",
    "    sq = [i**2 for i in range (1,11)]\n",
    "    for square in sq:\n",
    "        print(sqaure)\n",
    "    \n",
    "def print_cube():\n",
    "    cubes = [i**3 for i in range (1,11)]\n",
    "    for cube in cubes:\n",
    "        print(cube)\n",
    "        \n",
    "t1 = threading.Thread(target = print_square)\n",
    "t2 = threading.Thread(target = print_cube)\n",
    "\n",
    "t1.start()\n",
    "t2.start()\n",
    "\n",
    "t1.join()\n",
    "t2.join()"
   ]
  },
  {
   "cell_type": "markdown",
   "id": "a082201d",
   "metadata": {},
   "source": [
    "### Answer 5: Advantage and disadvantage\n",
    "\n",
    "advantage: -\n",
    "\n",
    "Improved performance,\n",
    "Responsiveness,\n",
    "Resource sharing,\n",
    "Modular design\n",
    "\n",
    "\n",
    "disadvantage: -\n",
    "\n",
    "Complexity,\n",
    "Synchronization issues,\n",
    "Reduced determinism,\n",
    "Increased resource consumption"
   ]
  },
  {
   "cell_type": "markdown",
   "id": "b9ea0427",
   "metadata": {},
   "source": [
    "### Answer 6\n",
    "\n",
    "A deadlock occurs when two or more threads are blocked, waiting for each other to release a resource. In other words, each thread is holding a resource that the other thread needs, and neither thread can proceed until it acquires the resource that the other thread is holding. Deadlocks can be difficult to detect and resolve because they involve circular dependencies, which means that a cycle of waiting threads prevents any of the threads from proceeding. Deadlocks can occur when threads are not properly synchronized when accessing shared resources such as locks or semaphores.\n",
    "\n",
    "A race condition occurs when two or more threads access a shared resource simultaneously, and the behavior of the program depends on the order in which the threads execute. In other words, the output of the program is unpredictable because it depends on the relative timing of the threads. For example, if two threads try to update the same variable simultaneously, the result may be different depending on which thread completes the update first. Race conditions can lead to incorrect or inconsistent program behavior, and can be difficult to detect and reproduce because they depend on the timing of the threads.\n",
    "\n",
    "Both deadlocks and race conditions can be avoided by using proper synchronization techniques, such as locks, semaphores, or atomic operations, to coordinate access to shared resources. By ensuring that threads access shared resources in a mutually exclusive and coordinated manner, you can prevent deadlocks and race conditions from occurring, and ensure that your program behaves correctly and consistently.\n",
    "\n",
    "\n",
    "\n",
    "\n"
   ]
  },
  {
   "cell_type": "code",
   "execution_count": null,
   "id": "3c9f5bcf",
   "metadata": {},
   "outputs": [],
   "source": []
  },
  {
   "cell_type": "code",
   "execution_count": null,
   "id": "38cdb845",
   "metadata": {},
   "outputs": [],
   "source": []
  },
  {
   "cell_type": "code",
   "execution_count": null,
   "id": "d5f39dde",
   "metadata": {},
   "outputs": [],
   "source": []
  },
  {
   "cell_type": "code",
   "execution_count": null,
   "id": "4f893f6a",
   "metadata": {},
   "outputs": [],
   "source": []
  },
  {
   "cell_type": "code",
   "execution_count": null,
   "id": "e99c62cf",
   "metadata": {},
   "outputs": [],
   "source": []
  }
 ],
 "metadata": {
  "kernelspec": {
   "display_name": "Python 3 (ipykernel)",
   "language": "python",
   "name": "python3"
  },
  "language_info": {
   "codemirror_mode": {
    "name": "ipython",
    "version": 3
   },
   "file_extension": ".py",
   "mimetype": "text/x-python",
   "name": "python",
   "nbconvert_exporter": "python",
   "pygments_lexer": "ipython3",
   "version": "3.9.13"
  }
 },
 "nbformat": 4,
 "nbformat_minor": 5
}
