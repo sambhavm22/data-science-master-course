{
 "cells": [
  {
   "cell_type": "markdown",
   "id": "7351adda-30a0-44b2-81ff-86ec91df06fb",
   "metadata": {},
   "source": [
    "Consider the below code to answer further questions:\n",
    "\n",
    "import numpy as np: - \n",
    "\n",
    "list_ = [ ‘1’ , ’2’ , ‘3’ , ‘4’ , ‘5’ ]\n",
    "\n",
    "array_list = np.array(object = list_)\n",
    "\n",
    "Q1. Is there any difference in the data type of variables list_ and array_list? If there is then write a code to print the data types of both the variables.\n",
    "\n",
    "Q2. Write a code to print the data type of each and every element of both the variables list_ and arra_list.\n",
    "\n",
    "Q3. Considering the following changes in the variable, array_list:\n",
    "array_list = np.array(object = list_, dtype = int). Will there be any difference in the data type of the elements present in both the variables, list_ and arra_list? If so then print the data types of each and every element present in both the variables, list_\n",
    "and arra_list.\n",
    "\n",
    "Consider the below code to answer further questions:\n",
    "\n",
    "import numpy as np\n",
    "\n",
    "num_list = [ [ 1 , 2 , 3 ] , [ 4 , 5 , 6 ] ]\n",
    "\n",
    "num_array = np.array(object = num_list)\n",
    "\n",
    "Q4. Write a code to find the following characteristics of variable, num_array:\n",
    "\n",
    "(i) shape\n",
    "\n",
    "(ii) size\n",
    "\n",
    "Q5. Write a code to create numpy array of 3*3 matrix containing zeros only, using a numpy array creation function.\n",
    "\n",
    "[Hint: The size of the array will be 9 and the shape will be (3,3).]\n",
    "\n",
    "Q6. Create an identity matrix of shape (5,5) using numpy functions?\n",
    "\n",
    "[Hint: An identity matrix is a matrix containing 1 diagonally and other elements will be 0.]"
   ]
  },
  {
   "cell_type": "markdown",
   "id": "eccd76ca-1dc7-43f8-9a44-5583d33a6296",
   "metadata": {},
   "source": [
    "### Answer1 "
   ]
  },
  {
   "cell_type": "code",
   "execution_count": 6,
   "id": "620d91b3-384c-4691-8200-c63a211f61db",
   "metadata": {},
   "outputs": [],
   "source": [
    "import numpy as np\n",
    "\n",
    "list_ = [ 1 , 2 , 3 , 4 , 5 ]\n",
    "\n",
    "array_list = np.array(object = list_)\n"
   ]
  },
  {
   "cell_type": "code",
   "execution_count": 7,
   "id": "92780ba8-3238-422b-be6f-3953d2b3d102",
   "metadata": {},
   "outputs": [
    {
     "data": {
      "text/plain": [
       "list"
      ]
     },
     "execution_count": 7,
     "metadata": {},
     "output_type": "execute_result"
    }
   ],
   "source": [
    "type(list_)"
   ]
  },
  {
   "cell_type": "code",
   "execution_count": 8,
   "id": "19fde3ae-0630-4550-8e5b-6de01fca0357",
   "metadata": {},
   "outputs": [
    {
     "data": {
      "text/plain": [
       "numpy.ndarray"
      ]
     },
     "execution_count": 8,
     "metadata": {},
     "output_type": "execute_result"
    }
   ],
   "source": [
    "type(array_list)"
   ]
  },
  {
   "cell_type": "markdown",
   "id": "57d78498-0e71-40ff-982a-6f07558986cf",
   "metadata": {},
   "source": []
  },
  {
   "cell_type": "markdown",
   "id": "907b5103-1f1e-4b85-ad01-6b90409b6c58",
   "metadata": {},
   "source": [
    "### Answer 2"
   ]
  },
  {
   "cell_type": "code",
   "execution_count": null,
   "id": "5e7a400c-bc6a-4eb4-852e-03c34d23b006",
   "metadata": {},
   "outputs": [],
   "source": []
  },
  {
   "cell_type": "code",
   "execution_count": 26,
   "id": "5622174e-0d13-40a5-a33d-783ad9d99cb3",
   "metadata": {},
   "outputs": [
    {
     "name": "stdout",
     "output_type": "stream",
     "text": [
      "<class 'int'>\n",
      "<class 'int'>\n",
      "<class 'int'>\n",
      "<class 'int'>\n",
      "<class 'int'>\n"
     ]
    }
   ],
   "source": [
    "for elements in list_:\n",
    "    print(type(elements))"
   ]
  },
  {
   "cell_type": "code",
   "execution_count": 27,
   "id": "67b2b976-854c-4dae-802c-c8f26c94e88d",
   "metadata": {},
   "outputs": [
    {
     "name": "stdout",
     "output_type": "stream",
     "text": [
      "<class 'numpy.int64'>\n",
      "<class 'numpy.int64'>\n",
      "<class 'numpy.int64'>\n",
      "<class 'numpy.int64'>\n",
      "<class 'numpy.int64'>\n"
     ]
    }
   ],
   "source": [
    "for elements in array_list:\n",
    "    print(type(elements))"
   ]
  },
  {
   "cell_type": "markdown",
   "id": "0898c403-fbac-4785-97cb-2bf6f6c88f64",
   "metadata": {},
   "source": [
    "### Answer 3"
   ]
  },
  {
   "cell_type": "markdown",
   "id": "381d9bca-6e17-4b6b-b773-d1f9d2876d27",
   "metadata": {},
   "source": [
    "the np.array() function inferred the data type of the resulting array from the data type of the input list_, which was a Python list object. Since the elements of list_ are all integers, the data type of the resulting array was also integers (numpy.int32 on most systems)."
   ]
  },
  {
   "cell_type": "code",
   "execution_count": 2,
   "id": "7516f553-0271-4572-bf3a-9a293a6ee7c2",
   "metadata": {},
   "outputs": [
    {
     "name": "stdout",
     "output_type": "stream",
     "text": [
      "<class 'int'>\n",
      "<class 'int'>\n",
      "<class 'int'>\n",
      "<class 'int'>\n",
      "<class 'int'>\n",
      "<class 'numpy.int64'>\n",
      "<class 'numpy.int64'>\n",
      "<class 'numpy.int64'>\n",
      "<class 'numpy.int64'>\n",
      "<class 'numpy.int64'>\n"
     ]
    }
   ],
   "source": [
    "import numpy as np\n",
    "\n",
    "list_ = [1, 2, 3, 4, 5]\n",
    "\n",
    "array_list = np.array(object=list_, dtype=int)\n",
    "\n",
    "\n",
    "for element in list_:\n",
    "    print(type(element))\n",
    "\n",
    "for element in array_list:\n",
    "    print(type(element))\n"
   ]
  },
  {
   "cell_type": "code",
   "execution_count": null,
   "id": "f0c232d3-9d5b-40de-a208-c987d80f4310",
   "metadata": {},
   "outputs": [],
   "source": []
  },
  {
   "cell_type": "markdown",
   "id": "1cc3d985-1a22-4f84-951c-a9a846b77438",
   "metadata": {},
   "source": [
    "### Answer 6"
   ]
  },
  {
   "cell_type": "code",
   "execution_count": 11,
   "id": "daa4464a-48ea-4b33-97ea-0f7bbc7e8b6a",
   "metadata": {},
   "outputs": [
    {
     "data": {
      "text/plain": [
       "array([[1., 0., 0., 0., 0.],\n",
       "       [0., 1., 0., 0., 0.],\n",
       "       [0., 0., 1., 0., 0.],\n",
       "       [0., 0., 0., 1., 0.],\n",
       "       [0., 0., 0., 0., 1.]])"
      ]
     },
     "execution_count": 11,
     "metadata": {},
     "output_type": "execute_result"
    }
   ],
   "source": [
    "np.eye(5,5)"
   ]
  },
  {
   "cell_type": "code",
   "execution_count": 13,
   "id": "190c9a49-a0c2-4d07-9d02-7b373997ee16",
   "metadata": {},
   "outputs": [
    {
     "data": {
      "text/plain": [
       "array([[1., 0., 0., 0., 0.],\n",
       "       [0., 1., 0., 0., 0.],\n",
       "       [0., 0., 1., 0., 0.],\n",
       "       [0., 0., 0., 1., 0.],\n",
       "       [0., 0., 0., 0., 1.]])"
      ]
     },
     "execution_count": 13,
     "metadata": {},
     "output_type": "execute_result"
    }
   ],
   "source": [
    "np.identity(5)"
   ]
  },
  {
   "cell_type": "markdown",
   "id": "2980e197-d515-4097-ba94-c29792daaef6",
   "metadata": {},
   "source": [
    "### Answer 5"
   ]
  },
  {
   "cell_type": "code",
   "execution_count": 16,
   "id": "2950d2fc-4fa6-4ef0-8c0e-fffa080ebc8b",
   "metadata": {},
   "outputs": [
    {
     "data": {
      "text/plain": [
       "array([[0., 0., 0.],\n",
       "       [0., 0., 0.],\n",
       "       [0., 0., 0.]])"
      ]
     },
     "execution_count": 16,
     "metadata": {},
     "output_type": "execute_result"
    }
   ],
   "source": [
    "np.zeros([3,3])"
   ]
  },
  {
   "cell_type": "code",
   "execution_count": 17,
   "id": "a22cdd97-58e4-4be0-a805-4723680ae79a",
   "metadata": {},
   "outputs": [
    {
     "data": {
      "text/plain": [
       "array([[0., 0., 0.],\n",
       "       [0., 0., 0.],\n",
       "       [0., 0., 0.]])"
      ]
     },
     "execution_count": 17,
     "metadata": {},
     "output_type": "execute_result"
    }
   ],
   "source": [
    "np.zeros((3,3))"
   ]
  },
  {
   "cell_type": "markdown",
   "id": "e81bdeac-15b1-45f2-ae94-2469e1f95349",
   "metadata": {},
   "source": [
    "### Answer 4"
   ]
  },
  {
   "cell_type": "code",
   "execution_count": 18,
   "id": "1cc60a13-8d25-45d4-b5e8-437e98713d4c",
   "metadata": {},
   "outputs": [],
   "source": [
    "import numpy as np\n",
    "num_list = [ [ 1 , 2 , 3 ] , [ 4 , 5 , 6 ] ]\n",
    "num_array = np.array(object = num_list)"
   ]
  },
  {
   "cell_type": "code",
   "execution_count": 19,
   "id": "9cf226ea-9cdf-41cd-83f5-fd42874a697c",
   "metadata": {},
   "outputs": [
    {
     "data": {
      "text/plain": [
       "[[1, 2, 3], [4, 5, 6]]"
      ]
     },
     "execution_count": 19,
     "metadata": {},
     "output_type": "execute_result"
    }
   ],
   "source": [
    "num_list"
   ]
  },
  {
   "cell_type": "code",
   "execution_count": 20,
   "id": "ebee364f-9758-425a-8cdc-3c39c612e1c4",
   "metadata": {},
   "outputs": [
    {
     "data": {
      "text/plain": [
       "array([[1, 2, 3],\n",
       "       [4, 5, 6]])"
      ]
     },
     "execution_count": 20,
     "metadata": {},
     "output_type": "execute_result"
    }
   ],
   "source": [
    "num_array"
   ]
  },
  {
   "cell_type": "code",
   "execution_count": 22,
   "id": "2275e3ae-5ede-41e8-9c09-5190f3e2f883",
   "metadata": {},
   "outputs": [
    {
     "data": {
      "text/plain": [
       "(2, 3)"
      ]
     },
     "execution_count": 22,
     "metadata": {},
     "output_type": "execute_result"
    }
   ],
   "source": [
    "np.shape(num_array)"
   ]
  },
  {
   "cell_type": "code",
   "execution_count": 23,
   "id": "f8cacdbf-fed9-4bfb-ba17-397389fecdae",
   "metadata": {},
   "outputs": [
    {
     "data": {
      "text/plain": [
       "(2, 3)"
      ]
     },
     "execution_count": 23,
     "metadata": {},
     "output_type": "execute_result"
    }
   ],
   "source": [
    "np.shape(num_list)"
   ]
  },
  {
   "cell_type": "code",
   "execution_count": 24,
   "id": "3d88d042-226f-476f-ad90-a70a33b1aea4",
   "metadata": {},
   "outputs": [
    {
     "data": {
      "text/plain": [
       "6"
      ]
     },
     "execution_count": 24,
     "metadata": {},
     "output_type": "execute_result"
    }
   ],
   "source": [
    "np.size(num_array)"
   ]
  },
  {
   "cell_type": "code",
   "execution_count": 25,
   "id": "d4f4f953-4c2f-46f5-a1f4-5374b3ad86e3",
   "metadata": {},
   "outputs": [
    {
     "data": {
      "text/plain": [
       "6"
      ]
     },
     "execution_count": 25,
     "metadata": {},
     "output_type": "execute_result"
    }
   ],
   "source": [
    "np.size(num_list)"
   ]
  },
  {
   "cell_type": "code",
   "execution_count": null,
   "id": "469c8252-d71a-40a8-bfc2-50a71faaa3dc",
   "metadata": {},
   "outputs": [],
   "source": []
  }
 ],
 "metadata": {
  "kernelspec": {
   "display_name": "Python 3 (ipykernel)",
   "language": "python",
   "name": "python3"
  },
  "language_info": {
   "codemirror_mode": {
    "name": "ipython",
    "version": 3
   },
   "file_extension": ".py",
   "mimetype": "text/x-python",
   "name": "python",
   "nbconvert_exporter": "python",
   "pygments_lexer": "ipython3",
   "version": "3.10.8"
  }
 },
 "nbformat": 4,
 "nbformat_minor": 5
}
