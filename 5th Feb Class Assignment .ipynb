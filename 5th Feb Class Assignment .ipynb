{
 "cells": [
  {
   "cell_type": "markdown",
   "id": "232c3d51",
   "metadata": {},
   "source": [
    "## Answer 1"
   ]
  },
  {
   "cell_type": "markdown",
   "id": "517eb77f",
   "metadata": {},
   "source": [
    "In object-oriented programming, a class is a blueprint that defines the common properties and behaviors of a set of objects whereas an object is an instance of a class. It is a particular realization of the class, with its own unique state and behavior. Each object has its own set of values for the attributes defined in the class, and it can execute the methods defined in the class."
   ]
  },
  {
   "cell_type": "code",
   "execution_count": 16,
   "id": "e96d7410",
   "metadata": {},
   "outputs": [],
   "source": [
    "# Define a class called 'Car'\n",
    "class Car:\n",
    "    # Define the attributes of the class\n",
    "    def __init__(self, make, model, year):\n",
    "        self.make = make\n",
    "        self.model = model\n",
    "        self.year = year\n",
    "        self.speed = 0\n",
    "        \n",
    "    # Define the methods of the class\n",
    "    def start(self):\n",
    "        print(f\"The {self.make} {self.model} {self.year} is starting.\")\n",
    "        \n",
    "    def accelerate(self, speed):\n",
    "        self.speed += speed\n",
    "        print(f\"The {self.make} {self.model} {self.year} is accelerating to {self.speed} mph.\")\n",
    "        \n",
    "    def stop(self):\n",
    "        self.speed = 0\n",
    "        print(f\"The {self.make} {self.model} {self.year} has stopped.\")\n"
   ]
  },
  {
   "cell_type": "code",
   "execution_count": 18,
   "id": "cec47df0",
   "metadata": {},
   "outputs": [
    {
     "name": "stdout",
     "output_type": "stream",
     "text": [
      "The Toyota Camry 2022 is starting.\n",
      "The Toyota Camry 2022 is accelerating to 30 mph.\n",
      "The Toyota Camry 2022 has stopped.\n"
     ]
    }
   ],
   "source": [
    "# Create an object of the 'Car' class\n",
    "my_car = Car(\"Toyota\", \"Camry\", 2022)\n",
    "\n",
    "# Call the methods of the 'Car' class on the object\n",
    "my_car.start()           # The Toyota Camry 2022 is starting.\n",
    "my_car.accelerate(30)    # The Toyota Camry 2022 is accelerating to 30 mph.\n",
    "my_car.stop()            # The Toyota Camry 2022 has stopped.\n"
   ]
  },
  {
   "cell_type": "code",
   "execution_count": null,
   "id": "3faf6c46",
   "metadata": {},
   "outputs": [],
   "source": []
  },
  {
   "cell_type": "code",
   "execution_count": null,
   "id": "5764734d",
   "metadata": {},
   "outputs": [],
   "source": []
  },
  {
   "cell_type": "code",
   "execution_count": 15,
   "id": "6ed00d22",
   "metadata": {},
   "outputs": [],
   "source": [
    "class test:\n",
    "    \n",
    "    def __init__(self, id_1, cell_num, email_id):\n",
    "        \n",
    "        self.id_1=id_1\n",
    "        self.cell_num=cell_num\n",
    "        self.email_id=email_id\n",
    "        \n",
    "    def return_person_details(self):\n",
    "        return self.id_1, self.cell_num, self.email_id\n",
    "    \n",
    "        "
   ]
  },
  {
   "cell_type": "code",
   "execution_count": 10,
   "id": "f0754108",
   "metadata": {},
   "outputs": [],
   "source": [
    "sambhav=test(1512, 9879877890, 'sam@gmail.com')"
   ]
  },
  {
   "cell_type": "code",
   "execution_count": 11,
   "id": "1c8fac49",
   "metadata": {},
   "outputs": [
    {
     "data": {
      "text/plain": [
       "9879877890"
      ]
     },
     "execution_count": 11,
     "metadata": {},
     "output_type": "execute_result"
    }
   ],
   "source": [
    "sambhav.cell_num"
   ]
  },
  {
   "cell_type": "code",
   "execution_count": 12,
   "id": "1ef99a3c",
   "metadata": {},
   "outputs": [
    {
     "data": {
      "text/plain": [
       "'sam@gmail.com'"
      ]
     },
     "execution_count": 12,
     "metadata": {},
     "output_type": "execute_result"
    }
   ],
   "source": [
    "sambhav.email_id"
   ]
  },
  {
   "cell_type": "code",
   "execution_count": 13,
   "id": "eee2b251",
   "metadata": {},
   "outputs": [
    {
     "data": {
      "text/plain": [
       "1512"
      ]
     },
     "execution_count": 13,
     "metadata": {},
     "output_type": "execute_result"
    }
   ],
   "source": [
    "sambhav.id_1"
   ]
  },
  {
   "cell_type": "code",
   "execution_count": 14,
   "id": "006c42fc",
   "metadata": {},
   "outputs": [
    {
     "data": {
      "text/plain": [
       "(1512, 9879877890, 'sam@gmail.com')"
      ]
     },
     "execution_count": 14,
     "metadata": {},
     "output_type": "execute_result"
    }
   ],
   "source": [
    "sambhav.return_person_details()"
   ]
  },
  {
   "cell_type": "markdown",
   "id": "866c705c",
   "metadata": {},
   "source": [
    "## Answer 2"
   ]
  },
  {
   "cell_type": "code",
   "execution_count": null,
   "id": "fe603d38",
   "metadata": {},
   "outputs": [],
   "source": [
    "1) Encapsulation\n",
    "2) Inheritance\n",
    "3) Polymorphism\n",
    "4) Abstraction"
   ]
  },
  {
   "cell_type": "markdown",
   "id": "4460ecf3",
   "metadata": {},
   "source": [
    "# Answer 3 "
   ]
  },
  {
   "cell_type": "markdown",
   "id": "5b87cbff",
   "metadata": {},
   "source": [
    "the __init__() function is a special method that is automatically called when an object is created from a class. The primary purpose of the __init__() function is to initialize the attributes of the object with appropriate values."
   ]
  },
  {
   "cell_type": "code",
   "execution_count": 33,
   "id": "251090a3",
   "metadata": {},
   "outputs": [],
   "source": [
    "class student_details:\n",
    "    \n",
    "    def __init__(self, name, number, student_id, email_id):\n",
    "        \n",
    "        self.name=name\n",
    "        self.number=number\n",
    "        self.student_id=student_id\n",
    "        self.email_id=email_id\n",
    "        \n",
    "    def return_attribute(self):\n",
    "        return self.name, self.number, self.student_id, self.email_id"
   ]
  },
  {
   "cell_type": "code",
   "execution_count": 34,
   "id": "76497a2f",
   "metadata": {},
   "outputs": [],
   "source": [
    "# Creating two objects of the Student class\n",
    "student1 = student_details('Alice', 101, 80, 'alice@gmail.com')\n",
    "student2 = student_details('Bob', 102, 90, 'bob@gmail.com')\n"
   ]
  },
  {
   "cell_type": "code",
   "execution_count": 25,
   "id": "f061ba82",
   "metadata": {},
   "outputs": [
    {
     "data": {
      "text/plain": [
       "'alice@gmail.com'"
      ]
     },
     "execution_count": 25,
     "metadata": {},
     "output_type": "execute_result"
    }
   ],
   "source": [
    "student1.email_id"
   ]
  },
  {
   "cell_type": "code",
   "execution_count": 27,
   "id": "b8b98b69",
   "metadata": {},
   "outputs": [
    {
     "data": {
      "text/plain": [
       "102"
      ]
     },
     "execution_count": 27,
     "metadata": {},
     "output_type": "execute_result"
    }
   ],
   "source": [
    "student2.number"
   ]
  },
  {
   "cell_type": "code",
   "execution_count": 37,
   "id": "ddc311a2",
   "metadata": {},
   "outputs": [
    {
     "data": {
      "text/plain": [
       "('Alice', 101, 80, 'alice@gmail.com')"
      ]
     },
     "execution_count": 37,
     "metadata": {},
     "output_type": "execute_result"
    }
   ],
   "source": [
    "student1.return_attribute()"
   ]
  },
  {
   "cell_type": "code",
   "execution_count": 38,
   "id": "00c25c1c",
   "metadata": {},
   "outputs": [
    {
     "data": {
      "text/plain": [
       "('Bob', 102, 90, 'bob@gmail.com')"
      ]
     },
     "execution_count": 38,
     "metadata": {},
     "output_type": "execute_result"
    }
   ],
   "source": [
    "student2.return_attribute()"
   ]
  },
  {
   "cell_type": "markdown",
   "id": "df118786",
   "metadata": {},
   "source": [
    "### Answer 4"
   ]
  },
  {
   "cell_type": "markdown",
   "id": "d67e0e81",
   "metadata": {},
   "source": [
    "self is used as a reference to the current instance of the class. It is a convention used in Python to pass the instance of the class as the first argument to instance methods, including the constructor. when you define a method in a class, you need to pass self as the first argument. "
   ]
  },
  {
   "cell_type": "markdown",
   "id": "68c19659",
   "metadata": {},
   "source": [
    "### Answer 5"
   ]
  },
  {
   "cell_type": "markdown",
   "id": "e7256f43",
   "metadata": {},
   "source": [
    "Inheritance is one of the key concepts of Object-Oriented Programming (OOP), where a new class is created by inheriting properties and methods from an existing class. Inheritance allows us to reuse code and create new classes that are based on existing classes.\n",
    "\n",
    "There are 4 type of Inheritance:-\n",
    "\n",
    "\n",
    "Single inheritance\n",
    "Multiple inheritance\n",
    "Multilevel inheritance\n",
    "Hierarchical inheritance"
   ]
  },
  {
   "cell_type": "code",
   "execution_count": 40,
   "id": "41bf097d",
   "metadata": {},
   "outputs": [
    {
     "name": "stdout",
     "output_type": "stream",
     "text": [
      "Woof! I am a Labrador named Rover\n"
     ]
    }
   ],
   "source": [
    "class Animal:\n",
    "    def __init__(self, name):\n",
    "        self.name = name\n",
    "\n",
    "    def speak(self):\n",
    "        print(\"I am an animal.\")\n",
    "\n",
    "class Dog(Animal):\n",
    "    def __init__(self, name, breed):\n",
    "        super().__init__(name)\n",
    "        self.breed = breed\n",
    "\n",
    "    def speak(self):\n",
    "        print(\"Woof! I am a {} named {}\".format(self.breed, self.name))\n",
    "\n",
    "dog1 = Dog(\"Rover\", \"Labrador\")\n",
    "dog1.speak()   # Output: Woof! I am a Labrador named Rover\n"
   ]
  },
  {
   "cell_type": "code",
   "execution_count": 44,
   "id": "80562eba",
   "metadata": {},
   "outputs": [
    {
     "name": "stdout",
     "output_type": "stream",
     "text": [
      "Woof! I am a Labrador named Rover\n",
      "I like to play.\n"
     ]
    }
   ],
   "source": [
    "class Animal:\n",
    "    def __init__(self, name):\n",
    "        self.name = name\n",
    "\n",
    "    def speak(self):\n",
    "        print(\"I am an animal.\")\n",
    "\n",
    "class Pet:\n",
    "    def __init__(self, name):\n",
    "        self.name = name\n",
    "\n",
    "    def play(self):\n",
    "        print(\"I like to play.\")\n",
    "\n",
    "class Dog(Animal, Pet):\n",
    "    def __init__(self, name, breed):\n",
    "        super().__init__(name)\n",
    "        self.breed = breed\n",
    "\n",
    "    def speak(self):\n",
    "        print(\"Woof! I am a {} named {}\".format(self.breed, self.name))\n",
    "\n",
    "dog1 = Dog(\"Rover\", \"Labrador\")\n",
    "dog1.speak()   # Output: Woof! I am a Labrador named Rover\n",
    "dog1.play()    # Output: I like to play.\n"
   ]
  },
  {
   "cell_type": "code",
   "execution_count": 47,
   "id": "6df3cfb1",
   "metadata": {},
   "outputs": [
    {
     "ename": "SyntaxError",
     "evalue": "invalid syntax (297621798.py, line 8)",
     "output_type": "error",
     "traceback": [
      "\u001b[0;36m  File \u001b[0;32m\"/var/folders/4m/vrm5g1l51xn5x3bdqm97xhsr0000gn/T/ipykernel_26161/297621798.py\"\u001b[0;36m, line \u001b[0;32m8\u001b[0m\n\u001b[0;31m    class Mammal(Animal)\u001b[0m\n\u001b[0m                        ^\u001b[0m\n\u001b[0;31mSyntaxError\u001b[0m\u001b[0;31m:\u001b[0m invalid syntax\n"
     ]
    }
   ],
   "source": [
    "class Animal:\n",
    "    def __init__(self, name):\n",
    "        self.name = name\n",
    "\n",
    "    def speak(self):\n",
    "        print(\"I am an animal.\")\n",
    "\n",
    "class Mammal(Animal):"
   ]
  },
  {
   "cell_type": "code",
   "execution_count": null,
   "id": "4285edfe",
   "metadata": {},
   "outputs": [],
   "source": []
  }
 ],
 "metadata": {
  "kernelspec": {
   "display_name": "Python 3 (ipykernel)",
   "language": "python",
   "name": "python3"
  },
  "language_info": {
   "codemirror_mode": {
    "name": "ipython",
    "version": 3
   },
   "file_extension": ".py",
   "mimetype": "text/x-python",
   "name": "python",
   "nbconvert_exporter": "python",
   "pygments_lexer": "ipython3",
   "version": "3.9.13"
  }
 },
 "nbformat": 4,
 "nbformat_minor": 5
}
