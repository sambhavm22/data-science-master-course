{
 "cells": [
  {
   "cell_type": "markdown",
   "id": "2660a2ab",
   "metadata": {},
   "source": [
    "Q1, Create a vehicle class with an init method having instance variables as name_of_vehicle, max_speed\n",
    "and average_of_vehicle.\n",
    "\n",
    "\n",
    "Q2. Create a child class car from the vehicle class created in Que 1, which will inherit the vehicle class.\n",
    "Create a method named seating_capacity which takes capacity as an argument and returns the name of the vehicle and its seating capacity.\n",
    "\n",
    "\n",
    "Q3. What is multiple inheritance? Write a python code to demonstrate multiple inheritance.\n",
    "\n",
    "\n",
    "Q4. What are getter and setter in python? Create a class and create a getter and a setter method in this\n",
    "class.\n",
    "\n",
    "\n",
    "Q5.What is method overriding in python? Write a python code to demonstrate method overriding."
   ]
  },
  {
   "cell_type": "code",
   "execution_count": 1,
   "id": "02af646f",
   "metadata": {},
   "outputs": [],
   "source": [
    "class vehicle:\n",
    "    \n",
    "    def __init__(self, name_of_vehicle, max_speed, average_of_vehicle):\n",
    "        \n",
    "        self.name_of_vehicle = name_of_vehicle\n",
    "        self.max_speed = max_speed\n",
    "        self.average_of_vehicle = average_of_vehicle\n",
    "        \n",
    "        "
   ]
  },
  {
   "cell_type": "code",
   "execution_count": 2,
   "id": "4b73266b",
   "metadata": {},
   "outputs": [],
   "source": [
    "vehicle_obj = vehicle('bike', 100, 50)"
   ]
  },
  {
   "cell_type": "code",
   "execution_count": 3,
   "id": "9d56e1f4",
   "metadata": {},
   "outputs": [
    {
     "data": {
      "text/plain": [
       "'bike'"
      ]
     },
     "execution_count": 3,
     "metadata": {},
     "output_type": "execute_result"
    }
   ],
   "source": [
    "vehicle_obj.name_of_vehicle"
   ]
  },
  {
   "cell_type": "code",
   "execution_count": 4,
   "id": "c950b51c",
   "metadata": {},
   "outputs": [
    {
     "data": {
      "text/plain": [
       "50"
      ]
     },
     "execution_count": 4,
     "metadata": {},
     "output_type": "execute_result"
    }
   ],
   "source": [
    "vehicle_obj.average_of_vehicle"
   ]
  },
  {
   "cell_type": "code",
   "execution_count": 5,
   "id": "bd8d6586",
   "metadata": {},
   "outputs": [
    {
     "data": {
      "text/plain": [
       "100"
      ]
     },
     "execution_count": 5,
     "metadata": {},
     "output_type": "execute_result"
    }
   ],
   "source": [
    "vehicle_obj.max_speed"
   ]
  },
  {
   "cell_type": "code",
   "execution_count": 6,
   "id": "3e229310",
   "metadata": {},
   "outputs": [],
   "source": [
    "car1 = vehicle(\"Toyota Camry\", 120, 35)\n",
    "bike1 = vehicle(\"Honda CB Hornet\", 140, 50)\n"
   ]
  },
  {
   "cell_type": "code",
   "execution_count": 7,
   "id": "eb8e4cf4",
   "metadata": {},
   "outputs": [
    {
     "data": {
      "text/plain": [
       "35"
      ]
     },
     "execution_count": 7,
     "metadata": {},
     "output_type": "execute_result"
    }
   ],
   "source": [
    "car1.average_of_vehicle"
   ]
  },
  {
   "cell_type": "code",
   "execution_count": 8,
   "id": "46038c72",
   "metadata": {},
   "outputs": [
    {
     "data": {
      "text/plain": [
       "140"
      ]
     },
     "execution_count": 8,
     "metadata": {},
     "output_type": "execute_result"
    }
   ],
   "source": [
    "bike1.max_speed"
   ]
  },
  {
   "cell_type": "markdown",
   "id": "1719d103",
   "metadata": {},
   "source": [
    "### Answer 2"
   ]
  },
  {
   "cell_type": "code",
   "execution_count": 9,
   "id": "4b9d35da",
   "metadata": {},
   "outputs": [],
   "source": [
    "class car(vehicle):\n",
    "    \n",
    "    def __init__(self, name_of_vehicle, max_speed, average_of_vehicle):\n",
    "        super().__init__(name_of_vehicle, max_speed, average_of_vehicle)\n",
    "        \n",
    "     \n",
    "    def seating_capacity(self, capacity):\n",
    "        return f\"{self.name_of_vehicle} has a seating capacity of {capacity} persons.\"\n",
    "        "
   ]
  },
  {
   "cell_type": "code",
   "execution_count": 10,
   "id": "a157d960",
   "metadata": {},
   "outputs": [],
   "source": [
    "my_car = car(\"Toyota Camry\", 120, 35)\n",
    "my_car_1=car('polo', 140, 50)"
   ]
  },
  {
   "cell_type": "code",
   "execution_count": 11,
   "id": "906d00f7",
   "metadata": {},
   "outputs": [
    {
     "name": "stdout",
     "output_type": "stream",
     "text": [
      "Toyota Camry has a seating capacity of 5 persons.\n",
      "polo has a seating capacity of 4 persons.\n"
     ]
    }
   ],
   "source": [
    "print(my_car.seating_capacity(5))\n",
    "print(my_car_1.seating_capacity(4)) "
   ]
  },
  {
   "cell_type": "markdown",
   "id": "b2e1faf6",
   "metadata": {},
   "source": [
    "### Answer 3 : - Multiple inheritance is a feature in object-oriented programming where a subclass can inherit from multiple parent classes. This means that a subclass can have multiple superclasses, and it inherits all the methods and attributes from these superclasses."
   ]
  },
  {
   "cell_type": "code",
   "execution_count": 12,
   "id": "e1d258a2",
   "metadata": {},
   "outputs": [],
   "source": [
    "class A:\n",
    "    \n",
    "    def __init__(self, name, age):\n",
    "        self.name = name\n",
    "        self.age = age"
   ]
  },
  {
   "cell_type": "code",
   "execution_count": 60,
   "id": "2ddeba5b",
   "metadata": {},
   "outputs": [],
   "source": [
    "class B:\n",
    "    \n",
    "    def other_details(self, phone, email):\n",
    "        self.phone = int(phone)\n",
    "        self.email = email\n",
    "        "
   ]
  },
  {
   "cell_type": "code",
   "execution_count": 61,
   "id": "31727d18",
   "metadata": {},
   "outputs": [],
   "source": [
    "class C (A, B):\n",
    "    pass"
   ]
  },
  {
   "cell_type": "code",
   "execution_count": 62,
   "id": "5b90115a",
   "metadata": {},
   "outputs": [],
   "source": [
    "obj_a = C('sam', 25)"
   ]
  },
  {
   "cell_type": "code",
   "execution_count": 63,
   "id": "61c6699f",
   "metadata": {},
   "outputs": [
    {
     "data": {
      "text/plain": [
       "25"
      ]
     },
     "execution_count": 63,
     "metadata": {},
     "output_type": "execute_result"
    }
   ],
   "source": [
    "obj_a.age"
   ]
  },
  {
   "cell_type": "code",
   "execution_count": 64,
   "id": "cc887ed6",
   "metadata": {},
   "outputs": [
    {
     "data": {
      "text/plain": [
       "'sam'"
      ]
     },
     "execution_count": 64,
     "metadata": {},
     "output_type": "execute_result"
    }
   ],
   "source": [
    "obj_a.name"
   ]
  },
  {
   "cell_type": "code",
   "execution_count": 65,
   "id": "33e47df2",
   "metadata": {},
   "outputs": [],
   "source": [
    "obj_a.other_details(7568, 'sda@gmail.com')"
   ]
  },
  {
   "cell_type": "code",
   "execution_count": 69,
   "id": "1bde22fb",
   "metadata": {},
   "outputs": [
    {
     "data": {
      "text/plain": [
       "7568"
      ]
     },
     "execution_count": 69,
     "metadata": {},
     "output_type": "execute_result"
    }
   ],
   "source": [
    "obj_a.phone"
   ]
  },
  {
   "cell_type": "code",
   "execution_count": 68,
   "id": "77ac3f3f",
   "metadata": {},
   "outputs": [
    {
     "data": {
      "text/plain": [
       "'sda@gmail.com'"
      ]
     },
     "execution_count": 68,
     "metadata": {},
     "output_type": "execute_result"
    }
   ],
   "source": [
    "obj_a.email"
   ]
  },
  {
   "cell_type": "code",
   "execution_count": 80,
   "id": "595f2b15",
   "metadata": {},
   "outputs": [
    {
     "name": "stdout",
     "output_type": "stream",
     "text": [
      "This is method 1 from Parent Class 1.\n",
      "This is method 2 from Parent Class 2.\n",
      "This is method 3 from Child Class.\n"
     ]
    }
   ],
   "source": [
    "class ParentClass1:\n",
    "    def method1(self):\n",
    "        print(\"This is method 1 from Parent Class 1.\")\n",
    "\n",
    "class ParentClass2:\n",
    "    \n",
    "    def method2(self):\n",
    "        print(\"This is method 2 from Parent Class 2.\")\n",
    "\n",
    "class ChildClass(ParentClass1, ParentClass2):\n",
    "    def method3(self):\n",
    "        print(\"This is method 3 from Child Class.\")\n",
    "\n",
    "child_obj = ChildClass()\n",
    "child_obj.method1() \n",
    "child_obj.method2()  \n",
    "child_obj.method3()  \n"
   ]
  },
  {
   "cell_type": "markdown",
   "id": "98a517ec",
   "metadata": {},
   "source": [
    "### Answer 4: - getters and setters are methods that are used to access and modify the values of instance variables (also called attributes) of a class. A getter is a method that retrieves the value of an instance variable. It is also sometimes called an accessor method. Getters are used when we want to access the value of an instance variable outside the class, but we don't want to expose the variable directly. Getters are defined using the @property decorator in Python. A setter is a method that sets the value of an instance variable. It is also sometimes called a mutator method. Setters are used when we want to modify the value of an instance variable outside the class, but we don't want to expose the variable directly. Setters are defined using the @<attribute_name>.setter decorator in Python.\n"
   ]
  },
  {
   "cell_type": "code",
   "execution_count": 77,
   "id": "2bf33bb5",
   "metadata": {},
   "outputs": [
    {
     "name": "stdout",
     "output_type": "stream",
     "text": [
      "10\n"
     ]
    }
   ],
   "source": [
    "class MyClass:\n",
    "    def __init__(self, value):\n",
    "        self._value = value\n",
    "\n",
    "    @property\n",
    "    def value(self):\n",
    "        return self._value\n",
    "\n",
    "obj = MyClass(10)\n",
    "print(obj.value) \n"
   ]
  },
  {
   "cell_type": "code",
   "execution_count": 79,
   "id": "5c5e850e",
   "metadata": {},
   "outputs": [
    {
     "name": "stdout",
     "output_type": "stream",
     "text": [
      "20\n"
     ]
    }
   ],
   "source": [
    "class MyClass:\n",
    "    def __init__(self, value):\n",
    "        self._value = value\n",
    "\n",
    "    @property\n",
    "    def value(self):\n",
    "        return self._value\n",
    "\n",
    "    @value.setter\n",
    "    def value(self, new_value):\n",
    "        self._value = new_value\n",
    "\n",
    "obj = MyClass(10)\n",
    "obj.value = 20\n",
    "print(obj.value)  \n"
   ]
  },
  {
   "cell_type": "markdown",
   "id": "0ca07422",
   "metadata": {},
   "source": [
    "### Answer 5: - Method overriding is a feature in object-oriented programming where a subclass provides its own implementation of a method that is already defined in its parent class. When a method is called on an object of the subclass, the implementation provided by the subclass is executed instead of the implementation provided by the parent class."
   ]
  },
  {
   "cell_type": "code",
   "execution_count": 72,
   "id": "addb2d5c",
   "metadata": {},
   "outputs": [],
   "source": [
    "class ParentClass:\n",
    "    \n",
    "    def some_method(self):\n",
    "        print(\"this is parent class\")\n",
    "    \n",
    "class ChildClass:    \n",
    "    \n",
    "    def some_method(self):\n",
    "        print(\"this is child class, overriding the parent class method\")"
   ]
  },
  {
   "cell_type": "code",
   "execution_count": 75,
   "id": "27bf83c8",
   "metadata": {},
   "outputs": [],
   "source": [
    "obj = ChildClass()"
   ]
  },
  {
   "cell_type": "code",
   "execution_count": 76,
   "id": "789aad7a",
   "metadata": {},
   "outputs": [
    {
     "name": "stdout",
     "output_type": "stream",
     "text": [
      "this is child class, overriding the parent class method\n"
     ]
    }
   ],
   "source": [
    "obj.some_method()"
   ]
  },
  {
   "cell_type": "code",
   "execution_count": null,
   "id": "fcf65ff0",
   "metadata": {},
   "outputs": [],
   "source": []
  }
 ],
 "metadata": {
  "kernelspec": {
   "display_name": "Python 3 (ipykernel)",
   "language": "python",
   "name": "python3"
  },
  "language_info": {
   "codemirror_mode": {
    "name": "ipython",
    "version": 3
   },
   "file_extension": ".py",
   "mimetype": "text/x-python",
   "name": "python",
   "nbconvert_exporter": "python",
   "pygments_lexer": "ipython3",
   "version": "3.9.13"
  }
 },
 "nbformat": 4,
 "nbformat_minor": 5
}
