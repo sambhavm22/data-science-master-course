{
 "cells": [
  {
   "cell_type": "markdown",
   "id": "e7a0811b",
   "metadata": {},
   "source": [
    "Q1. Create a function which will take a list as an argument and return the product of all the numbers\n",
    "after creating a flat list.\n",
    "Use the below-given list as an argument for your function.\n",
    "list1 = [1,2,3,4, [44,55,66, True], False, (34,56,78,89,34), {1,2,3,3,2,1}, {1:34, \"key2\": [55, 67, 78, 89], 4: (45,22, 61, 34)}, [56, 'data science'], 'Machine Learning']\n",
    "Note: you must extract numeric keys and values of the dictionary also.\n",
    "\n",
    "\n",
    "Q2. Write a python program for encrypting a message sent to you by your friend. The logic of encryption\n",
    "should be such that, for a the output should be z. For b, the output should be y. For c, the output should\n",
    "be x respectively. Also, the whitespace should be replaced with a dollar sign. Keep the punctuation\n",
    "marks unchanged.\n",
    "Input Sentence: I want to become a Data Scientist.\n",
    "Encrypt the above input sentence using the program you just created.\n",
    "Note: Convert the given input"
   ]
  },
  {
   "cell_type": "markdown",
   "id": "ff0ed775",
   "metadata": {},
   "source": [
    "## in the 1st question the product of all the numbers is zero because it is taking False function as a boolean function i.e. 0"
   ]
  },
  {
   "cell_type": "markdown",
   "id": "f59ace9d",
   "metadata": {},
   "source": [
    "#### but if we remove False boolean function then the answer is"
   ]
  },
  {
   "cell_type": "code",
   "execution_count": 34,
   "id": "cdab9751",
   "metadata": {},
   "outputs": [],
   "source": [
    "lst = [1,2,3,4, [44,55,66, True], (34,56,78,89,34), {1,2,3,3,2,1}, {1:34, \"key2\": [55, 67, 78, 89], 4: (45,\n",
    "22, 61, 34)}, [56, 'data science'], 'Machine Learning']\n",
    "\n",
    "def product_of_number(lst):\n",
    "    \n",
    "    flat_list = []\n",
    "    \n",
    "    for num in lst:\n",
    "        \n",
    "        if isinstance(num, (int,float)):\n",
    "            flat_list.append(num)\n",
    "            \n",
    "        elif isinstance(num, list):\n",
    "            flat_list.extend([x for x in num if isinstance(x, (int, float))])\n",
    "            \n",
    "        elif isinstance(num, tuple):\n",
    "            flat_list.extend([x for x in num if isinstance(x, (int, float))])\n",
    "            \n",
    "        elif isinstance(num, dict):\n",
    "            flat_list.extend([x for x in num if isinstance(x, (int, float))])    \n",
    "            \n",
    "            \n",
    "    product = 1\n",
    "    for i in flat_list:\n",
    "        product *= i\n",
    "    return product    "
   ]
  },
  {
   "cell_type": "code",
   "execution_count": 35,
   "id": "103a60e8",
   "metadata": {},
   "outputs": [
    {
     "name": "stdout",
     "output_type": "stream",
     "text": [
      "385877123104112640\n"
     ]
    }
   ],
   "source": [
    "product = product_of_number(lst)\n",
    "print(product)"
   ]
  },
  {
   "cell_type": "code",
   "execution_count": 36,
   "id": "49eee75a",
   "metadata": {},
   "outputs": [
    {
     "name": "stdout",
     "output_type": "stream",
     "text": [
      "The given variable is a integer\n"
     ]
    }
   ],
   "source": [
    "is_string = \" Hello World \"\n",
    "\n",
    "is_number = 123\n",
    "\n",
    "if isinstance(is_number, str):\n",
    "    print(\"The given variable is a string\")\n",
    "    \n",
    "else:\n",
    "    print(\"The given variable is a integer\")"
   ]
  },
  {
   "cell_type": "code",
   "execution_count": 37,
   "id": "8bb77ae5",
   "metadata": {},
   "outputs": [
    {
     "name": "stdout",
     "output_type": "stream",
     "text": [
      "The given variable is a string\n"
     ]
    }
   ],
   "source": [
    "is_string = \" Hello World \"\n",
    "\n",
    "is_number = 123\n",
    "\n",
    "if isinstance(is_string, str):\n",
    "    print(\"The given variable is a string\")\n",
    "    \n",
    "else:\n",
    "    print(\"The given variable is a integer\")"
   ]
  },
  {
   "cell_type": "markdown",
   "id": "fda7b58f",
   "metadata": {},
   "source": [
    "Answer 2"
   ]
  },
  {
   "cell_type": "code",
   "execution_count": null,
   "id": "2d87d107",
   "metadata": {},
   "outputs": [],
   "source": [
    "\n"
   ]
  },
  {
   "cell_type": "code",
   "execution_count": 44,
   "id": "dcc95b13",
   "metadata": {},
   "outputs": [
    {
     "name": "stdout",
     "output_type": "stream",
     "text": [
      "r$dzmg$gl$yvxlnv$z$wzgz$hxrvmgrhg.\n"
     ]
    }
   ],
   "source": [
    "def encrypt_message(message):\n",
    "    # Create a dictionary to map each character to its encrypted counterpart\n",
    "    mapping = {\n",
    "        'a': 'z',\n",
    "        'b': 'y',\n",
    "        'c': 'x',\n",
    "        'd': 'w',\n",
    "        'e': 'v',\n",
    "        'f': 'u',\n",
    "        'g': 't',\n",
    "        'h': 's',\n",
    "        'i': 'r',\n",
    "        'j': 'q',\n",
    "        'k': 'p',\n",
    "        'l': 'o',\n",
    "        'm': 'n',\n",
    "        'n': 'm',\n",
    "        'o': 'l',\n",
    "        'p': 'k',\n",
    "        'q': 'j',\n",
    "        'r': 'i',\n",
    "        's': 'h',\n",
    "        't': 'g',\n",
    "        'u': 'f',\n",
    "        'v': 'e',\n",
    "        'w': 'd',\n",
    "        'x': 'c',\n",
    "        'y': 'b',\n",
    "        'z': 'a',\n",
    "        ' ': '$'\n",
    "    }\n",
    "    # Encrypt the message by applying the mapping to each character\n",
    "    encrypted_message = ''.join([mapping.get(c.lower(), c) for c in message])\n",
    "    return encrypted_message\n",
    "\n",
    "# Example usage\n",
    "message = \"I want to become a Data Scientist.\"\n",
    "encrypted_message = encrypt_message(message)\n",
    "print(encrypted_message)\n"
   ]
  },
  {
   "cell_type": "code",
   "execution_count": 43,
   "id": "51ce6910",
   "metadata": {},
   "outputs": [
    {
     "name": "stdout",
     "output_type": "stream",
     "text": [
      "z\n",
      "w\n"
     ]
    }
   ],
   "source": [
    "# Define a mapping from letters to encrypted counterparts\n",
    "mapping = {'a': 'z', 'b': 'y', 'c': 'x', 'd': 'w'}\n",
    "\n",
    "# Access and print the encrypted counterpart of 'a'\n",
    "print(mapping['a'])  # Output: 'z'\n",
    "\n",
    "print(mapping['d'])"
   ]
  },
  {
   "cell_type": "code",
   "execution_count": 27,
   "id": "6315c4e8",
   "metadata": {},
   "outputs": [],
   "source": []
  },
  {
   "cell_type": "code",
   "execution_count": 30,
   "id": "d50a52bd",
   "metadata": {},
   "outputs": [
    {
     "name": "stdout",
     "output_type": "stream",
     "text": [
      "0\n"
     ]
    }
   ],
   "source": [
    "\n"
   ]
  },
  {
   "cell_type": "code",
   "execution_count": null,
   "id": "cb6120ce",
   "metadata": {},
   "outputs": [],
   "source": []
  }
 ],
 "metadata": {
  "kernelspec": {
   "display_name": "Python 3 (ipykernel)",
   "language": "python",
   "name": "python3"
  },
  "language_info": {
   "codemirror_mode": {
    "name": "ipython",
    "version": 3
   },
   "file_extension": ".py",
   "mimetype": "text/x-python",
   "name": "python",
   "nbconvert_exporter": "python",
   "pygments_lexer": "ipython3",
   "version": "3.9.13"
  }
 },
 "nbformat": 4,
 "nbformat_minor": 5
}
