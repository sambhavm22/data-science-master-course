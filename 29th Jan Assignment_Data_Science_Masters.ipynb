{
 "cells": [
  {
   "cell_type": "markdown",
   "id": "98111b66",
   "metadata": {},
   "source": [
    "#### Who develop python programming language?"
   ]
  },
  {
   "cell_type": "markdown",
   "id": "2824bf8b",
   "metadata": {},
   "source": [
    "Python was created by Guido van Rossum in the late 1980s while he was working at the National Research Institute for Mathematics and Computer Science (CWI) in the Netherlands."
   ]
  },
  {
   "cell_type": "markdown",
   "id": "b41725f8",
   "metadata": {},
   "source": [
    "#### which type of programming does python support?"
   ]
  },
  {
   "cell_type": "markdown",
   "id": "48e3066e",
   "metadata": {},
   "source": [
    "Python is a high-level, general-purpose programming language that supports several programming paradigms, including:\n",
    "\n",
    "Procedural programming,\n",
    "Object-oriented programming,\n",
    "Functional programming"
   ]
  },
  {
   "cell_type": "markdown",
   "id": "96fb2ebb",
   "metadata": {},
   "source": [
    "#### Is python case sensative?"
   ]
  },
  {
   "cell_type": "markdown",
   "id": "46b0d489",
   "metadata": {},
   "source": [
    "Yes python language is case sensative that means a='sam' a='Sam' are two different variable for python."
   ]
  },
  {
   "cell_type": "markdown",
   "id": "305d7fba",
   "metadata": {},
   "source": [
    "#### What is the extension of the python file?"
   ]
  },
  {
   "cell_type": "markdown",
   "id": "bceab58b",
   "metadata": {},
   "source": [
    ".py is the extension for python file"
   ]
  },
  {
   "cell_type": "markdown",
   "id": "0751da6a",
   "metadata": {},
   "source": [
    "pip stands for \"Pip Installs Packages\". It is the default package manager for Python that is used to install and manage third-party packages (also called libraries or modules) that extend the functionality of Python. Pip simplifies the process of installing, upgrading, and removing Python packages and their dependencies."
   ]
  },
  {
   "cell_type": "markdown",
   "id": "4c6db31d",
   "metadata": {},
   "source": [
    "#### what are the benefit of python?"
   ]
  },
  {
   "cell_type": "markdown",
   "id": "79d2b5a0",
   "metadata": {},
   "source": [
    "Python has several benefits, which make it a popular choice for a wide range of applications.\n",
    "\n",
    "Easy to Learn and Use,\n",
    "Large Standard Library,\n",
    "Cross-Platform,\n",
    "Dynamically Typed,\n",
    "Large Community and Ecosystem"
   ]
  },
  {
   "cell_type": "markdown",
   "id": "029b2ac0",
   "metadata": {},
   "source": [
    "####  How memory is managed in python?"
   ]
  },
  {
   "cell_type": "markdown",
   "id": "0a13ae59",
   "metadata": {},
   "source": [
    "In Python, memory is managed automatically by the interpreter through a process called \"automatic memory management\" or \"garbage collection\".\n",
    "\n",
    "Python uses a private heap space to manage memory. The interpreter keeps track of objects that are created and used during the program's execution. When an object is no longer being used by the program, the interpreter marks it as garbage and frees the memory associated with it. This process is called garbage collection.\n",
    "\n",
    "Python also has a feature called \"reference counting\", which keeps track of the number of references to an object. When an object's reference count drops to zero, it means that the object is no longer being used by the program, and it can be garbage collected.\n",
    "\n"
   ]
  },
  {
   "cell_type": "markdown",
   "id": "aa8608a2",
   "metadata": {},
   "source": [
    "#### Mention a few built-in functions in python."
   ]
  },
  {
   "cell_type": "markdown",
   "id": "eb99df13",
   "metadata": {},
   "source": [
    "print(), type(), len(), int(), dict()"
   ]
  },
  {
   "cell_type": "markdown",
   "id": "86de8ad7",
   "metadata": {},
   "source": [
    "#### name a few blocks of code used to define in python language"
   ]
  },
  {
   "cell_type": "markdown",
   "id": "47e17960",
   "metadata": {},
   "source": [
    "Function Blocks: Code blocks that define functions in Python. They start with the \"def\" keyword, followed by the function name and a set of parentheses, and end with a colon. The code inside the function is indented.\n",
    "\n",
    "Loop Blocks: Code blocks that define loops in Python. They start with keywords such as \"for\" or \"while\", followed by a condition and a colon. The code inside the loop is indented.\n",
    "\n",
    "Conditional Blocks: Code blocks that define conditional statements in Python. They start with the \"if\" keyword, followed by a condition and a colon. The code inside the conditional statement is indented. Optional \"else\" and \"elif\" blocks can also be added.\n",
    "\n",
    "Class Blocks: Code blocks that define classes in Python. They start with the \"class\" keyword, followed by the class name and a colon. The code inside the class is indented.\n",
    "\n",
    "Exception Handling Blocks: Code blocks that define how to handle exceptions in Python. They start with the \"try\" keyword, followed by a colon. The code inside the block is indented. Optional \"except\" and \"finally\" blocks can also be added."
   ]
  },
  {
   "cell_type": "markdown",
   "id": "78972371",
   "metadata": {},
   "source": [
    "#### Is indentation required in python?"
   ]
  },
  {
   "cell_type": "markdown",
   "id": "8e56f405",
   "metadata": {},
   "source": [
    "Yes, indentation is required in Python. In fact, indentation is used to define the scope and hierarchy of code blocks in Python. Unlike other programming languages that use curly braces or keywords like \"end\" to define code blocks, Python uses whitespace indentation.  \n",
    "\n",
    "This makes the code more readable and easier to understand, but it also means that incorrect indentation can lead to syntax errors or unexpected behavior."
   ]
  },
  {
   "cell_type": "code",
   "execution_count": 1,
   "id": "2afd1a49",
   "metadata": {},
   "outputs": [],
   "source": [
    "def add_numbers(x, y):\n",
    "    result = x + y\n",
    "    return result\n"
   ]
  },
  {
   "cell_type": "markdown",
   "id": "5fa6d580",
   "metadata": {},
   "source": [
    "#### what is the maximum possible length of an identifier in python?\n",
    "\n"
   ]
  },
  {
   "cell_type": "markdown",
   "id": "75d60a7d",
   "metadata": {},
   "source": [
    "In Python, the maximum length of an identifier (variable name, function name, etc.) is not explicitly defined. However, Python's internal representation of identifiers uses a fixed-size array, which limits the maximum length of an identifier to 255 characters."
   ]
  },
  {
   "cell_type": "markdown",
   "id": "5dcb28b9",
   "metadata": {},
   "source": [
    "#### how to install python on windows and set path variables?"
   ]
  },
  {
   "cell_type": "markdown",
   "id": "6f6022cf",
   "metadata": {},
   "source": [
    "\n",
    "Download the Python installer: Go to the official Python website at https://www.python.org/downloads/windows/ and download the latest version of Python for Windows. Make sure to download the version that matches your Windows operating system (32-bit or 64-bit).\n",
    "\n",
    "Run the installer: Double-click on the downloaded installer file (e.g. python-3.x.x-amd64.exe) to launch the Python installer.\n",
    "\n",
    "Choose the installation location: Select the \"Customize installation\" option and choose the installation location for Python. By default, Python is installed in the \"C:\\PythonXX\" directory, where \"XX\" is the version number.\n",
    "\n",
    "Enable the \"Add Python to PATH\" option: Make sure to select the \"Add Python to PATH\" option during the installation process. This will add the Python executable to the system path, which makes it easier to run Python from the command prompt.\n",
    "\n",
    "Complete the installation: Click on the \"Install Now\" button to complete the installation process. The installer will install Python and other necessary components on your system.\n",
    "\n",
    "Verify the installation: Open the command prompt (press the \"Windows key\" + \"R\" and type \"cmd\" in the Run dialog) and type \"python\" in the command prompt. If Python is installed correctly, the Python interpreter should launch and display the version number.\n",
    "\n",
    "Set the path variables: If the Python interpreter is not found when you type \"python\" in the command prompt, you may need to set the path variables manually. To do this, right-click on the \"This PC\" icon and select \"Properties\". Click on \"Advanced system settings\", then click on \"Environment Variables\". Under \"System Variables\", scroll down and find the \"Path\" variable. Click \"Edit\" and add the path to the Python executable (e.g. \"C:\\PythonXX;C:\\PythonXX\\Scripts\") to the end of the existing path, separated by a semicolon. Click \"OK\" to save the changes.\n",
    "\n",
    "That's it! You should now be able to run Python from the command prompt and start writing Python programs on your Windows machine."
   ]
  },
  {
   "cell_type": "markdown",
   "id": "f8690c34",
   "metadata": {},
   "source": [
    "#### Is python code compiled or interpreted?"
   ]
  },
  {
   "cell_type": "markdown",
   "id": "e3996614",
   "metadata": {},
   "source": [
    "Python code is interpreted, meaning that the Python interpreter reads the source code line by line and executes it in real-time. When you run a Python program, the interpreter translates the source code into bytecode (a lower-level language) that can be executed by the Python virtual machine. This bytecode is then executed by the Python interpreter."
   ]
  },
  {
   "cell_type": "markdown",
   "id": "251358f8",
   "metadata": {},
   "source": [
    "#### state a character used to give a single line comments in python?"
   ]
  },
  {
   "cell_type": "code",
   "execution_count": 3,
   "id": "8806b836",
   "metadata": {},
   "outputs": [],
   "source": [
    "# this is a single line comment"
   ]
  },
  {
   "cell_type": "markdown",
   "id": "1fb9c970",
   "metadata": {},
   "source": [
    "#### python supports the creation of anonymous function at a runtime, using a construct called?"
   ]
  },
  {
   "cell_type": "markdown",
   "id": "77955a63",
   "metadata": {},
   "source": [
    "lambda function.\n",
    "\n",
    "A lambda function is a small, anonymous function that can have any number of arguments, but can only have one expression. The expression is evaluated and returned when the function is called.\n",
    "\n"
   ]
  },
  {
   "cell_type": "markdown",
   "id": "eaaa0fcc",
   "metadata": {},
   "source": [
    "#### mention functions which can help us to find the version of python that we are current working on?"
   ]
  },
  {
   "cell_type": "markdown",
   "id": "d3f571e2",
   "metadata": {},
   "source": [
    "sys.version,\n",
    "platform.python_version(),\n",
    "sys.version_info"
   ]
  },
  {
   "cell_type": "code",
   "execution_count": 4,
   "id": "49be09e6",
   "metadata": {},
   "outputs": [
    {
     "name": "stdout",
     "output_type": "stream",
     "text": [
      "3.9.13 (main, Aug 25 2022, 18:29:29) \n",
      "[Clang 12.0.0 ]\n",
      "3.9.13\n",
      "sys.version_info(major=3, minor=9, micro=13, releaselevel='final', serial=0)\n"
     ]
    }
   ],
   "source": [
    "import sys\n",
    "print(sys.version)\n",
    "\n",
    "import platform\n",
    "print(platform.python_version())\n",
    "\n",
    "import sys\n",
    "print(sys.version_info)\n"
   ]
  },
  {
   "cell_type": "code",
   "execution_count": null,
   "id": "c74e1cc0",
   "metadata": {},
   "outputs": [],
   "source": []
  }
 ],
 "metadata": {
  "kernelspec": {
   "display_name": "Python 3 (ipykernel)",
   "language": "python",
   "name": "python3"
  },
  "language_info": {
   "codemirror_mode": {
    "name": "ipython",
    "version": 3
   },
   "file_extension": ".py",
   "mimetype": "text/x-python",
   "name": "python",
   "nbconvert_exporter": "python",
   "pygments_lexer": "ipython3",
   "version": "3.9.13"
  }
 },
 "nbformat": 4,
 "nbformat_minor": 5
}
