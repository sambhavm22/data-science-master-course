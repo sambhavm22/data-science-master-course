{
 "cells": [
  {
   "cell_type": "markdown",
   "id": "645f9d9d-3077-4a11-bbaa-686043a0a7af",
   "metadata": {},
   "source": [
    "Q1. What is Statistics?\n",
    "\n",
    "Q2. Define the different types of statistics and give an example of when each type might be used.\n",
    "\n",
    "Q3. What are the different types of data and how do they differ from each other? Provide an example of each type of data.\n",
    "\n",
    "Q4. Categorise the following datasets with respect to quantitative and qualitative data types:\n",
    "\n",
    "(i) Grading in exam: A+, A, B+, B, C+, C, D, E\n",
    "\n",
    "(ii) Colour of mangoes: yellow, green, orange, red\n",
    "\n",
    "(iii) Height data of a class: [178.9, 179, 179.5, 176, 177.2, 178.3, 175.8,...]\n",
    "\n",
    "(iv) Number of mangoes exported by a farm: [500, 600, 478, 672, ...]\n",
    "\n",
    "Q5. Explain the concept of levels of measurement and give an example of a variable for each level.\n",
    "\n",
    "Q6. Why is it important to understand the level of measurement when analyzing data? Provide an example to illustrate your answer.\n",
    "\n",
    "Q7. How nominal data type is different from ordinal data type.\n",
    "\n",
    "Q8. Which type of plot can be used to display data in terms of range?\n",
    "\n",
    "Q9. Describe the difference between descriptive and inferential statistics. Give an example of each type of statistics and explain how they are used.\n",
    "\n",
    "Q10. What are some common measures of central tendency and variability used in statistics? Explain how each measure can be used to describe a dataset.\n"
   ]
  },
  {
   "cell_type": "markdown",
   "id": "97894e74-f0ab-42af-a9ef-db1a96027019",
   "metadata": {},
   "source": [
    "### Answer 1\n",
    "\n",
    "Statistics is a branch of mathematics that deals with the collection, analysis, interpretation, presentation, and organization of data. It involves using quantitative methods to gather and analyze data, and then drawing conclusions based on that analysis. "
   ]
  },
  {
   "cell_type": "markdown",
   "id": "d4596294-c682-4592-a7f8-262db045a615",
   "metadata": {},
   "source": [
    "### Answer 2 and Answer 3\n",
    "\n",
    "quantitative and qualitative data types are the types of statistics. \n",
    "\n",
    "eg. sample of tempertature data base is a quantitative types of statistic and martial status of a sample population is a qualitative types of statistic.\n",
    "\n",
    "\n",
    "quantitative statistics involves numbers and are of two types discrete and continuous quantitative data type. (for example no. of children in a class is discrete type of quantitative statistics and distance of one city to other city is continuous quantitative data type)\n",
    "\n",
    "qualitative statistics involves categorical data and are of two types nominal and ordinal quantitative data types (nominal type data is blood group of a sample population or educational degree of a sample population and eg for ordinal type data: - when a sample of food item is there and we need to rank the items based on the sweetness of the product then we can use ordinal datasets.)\n",
    "\n",
    "\n",
    "Descriptive Statistics: It summarizes and describes the characteristics of a dataset. For Example, calculating the average age of students in a class is a descriptive statistic.\n",
    "\n",
    "Inferential Statistics: It involves making inferences or generalizations about a population based on a sample of data. For example, determining whether a new drug is effective in treating a specific condition by conducting a clinical trial with a sample of patients.\n",
    "\n",
    "Predictive Statistics: It involves using past data to make predictions about future events. For example, predicting the stock prices of a company based on past performance.\n",
    "\n",
    "Diagnostic Statistics: It involves using data to diagnose problems or identify patterns in a system. For example, analyzing production data to identify the source of defects in a manufacturing process. \n",
    "\n",
    "Nominal Data: This type of data consists of categories or labels that cannot be ordered or ranked. Examples of nominal data include gender, race, and occupation.\n",
    "\n",
    "Ordinal Data: This type of data consists of categories that can be ordered or ranked. However, the distance between the categories is not known. Examples of ordinal data include educational level (elementary, high school, college), ratings (poor, fair, good, excellent), and income level (low, medium, high).\n",
    "\n",
    "Interval Data: This type of data consists of numerical data where the distance between the values is known, but there is no true zero point. Examples of interval data include temperature (measured in Celsius or Fahrenheit), time, and IQ scores.\n",
    "\n",
    "Ratio Data: This type of data consists of numerical data where there is a true zero point, and the values can be multiplied or divided. Examples of ratio data include height, weight, age, length of a river and income."
   ]
  },
  {
   "cell_type": "markdown",
   "id": "b5651a92-43b8-4a6c-b7c9-eef566aab289",
   "metadata": {},
   "source": [
    "### Answer 4\n",
    "\n",
    "i) Ordinal Qualitative (categorical)\n",
    "\n",
    "ii) Nominal Qualitative (categorical)\n",
    "\n",
    "iii) continuous (Quantitative)\n",
    "\n",
    "iv) Discrete (Quantitative)"
   ]
  },
  {
   "cell_type": "markdown",
   "id": "49a209d9-64f6-4105-bd67-b15c4f9e977f",
   "metadata": {},
   "source": [
    "### Ansewr 5\n",
    "\n",
    "Levels of measurement, also known as scales of measurement, refer to the different ways in which variables can be measured or classified. There are four commonly recognized levels of measurement: nominal, ordinal, interval, and ratio.\n",
    "\n",
    "Nominal level of measurement:\n",
    "Nominal variables are categorical variables where the data is classified into categories that cannot be ordered or ranked in any way. Examples of nominal variables include gender, race, religion, political affiliation, etc.\n",
    "\n",
    "Ordinal level of measurement:\n",
    "Ordinal variables have categories that can be ordered or ranked in a meaningful way, but the difference between the categories is not quantifiable. Examples of ordinal variables include education level (e.g. high school diploma, associate's degree, bachelor's degree), income level (e.g. low, medium, high), etc.\n",
    "\n",
    "Interval level of measurement:\n",
    "Interval variables have categories that can be ordered, and the difference between the categories is quantifiable. However, there is no true zero point, meaning that a value of 0 does not indicate the absence of the variable being measured. Examples of interval variables include temperature (measured in Celsius or Fahrenheit), time (measured in hours or minutes), etc.\n",
    "\n",
    "Ratio level of measurement:\n",
    "Ratio variables have categories that can be ordered, the difference between categories is quantifiable, and there is a true zero point, meaning that a value of 0 indicates the absence of the variable being measured. Examples of ratio variables include weight, height, distance, age, income, etc.\n",
    "\n",
    "Examples:\n",
    "\n",
    "Nominal: Eye color (e.g. blue, brown, green)\n",
    "\n",
    "Ordinal: Educational level (e.g. high school diploma, associate's degree, bachelor's degree, master's degree)\n",
    "\n",
    "Interval: Temperature in Celsius (e.g. 0°C, 10°C, 20°C, 30°C)\n",
    "\n",
    "Ratio: Weight (e.g. 50 kg, 60 kg, 70 kg, etc.)\n",
    "\n",
    "\n",
    "\n"
   ]
  },
  {
   "cell_type": "markdown",
   "id": "10fbd4d5-2bea-4a44-acbd-c67d1515a395",
   "metadata": {},
   "source": [
    "### Answer 6\n",
    "\n",
    "because it affects the type of statistical analysis that can be performed on the data. Different levels of measurement require different statistical techniques and tests, and using the wrong technique or test can lead to inaccurate or misleading conclusions. \n",
    "\n",
    "For example, let's consider the variable \"temperature\" measured in Celsius. Temperature is an interval level variable because it has categories that can be ordered and the difference between categories is quantifiable. However, temperature does not have a true zero point, meaning that a value of 0°C does not indicate the complete absence of temperature.\n",
    "\n"
   ]
  },
  {
   "cell_type": "markdown",
   "id": "70e66af1-c6d9-4902-9c3c-6af6d54dc123",
   "metadata": {},
   "source": [
    "### Answer 7\n",
    "\n",
    "Nominal data is a categorical data type where the data is classified into categories that cannot be ordered or ranked in any way. Eg. race, gender, religion\n",
    "\n",
    "Ordinal data, on the other hand, is a categorical data type where the categories have a natural order or ranking. Eg. educational level (e.g. high school diploma, associate's degree, bachelor's degree), income level (e.g. low, medium, high), etc"
   ]
  },
  {
   "cell_type": "markdown",
   "id": "7ea9fa20-c62a-4563-81b8-4833f0eb73c3",
   "metadata": {},
   "source": [
    "### Answer 8\n",
    "\n",
    "A box plot, also known as a box-and-whisker plot, is a type of plot that can be used to display data in terms of range. A box plot provides a visual summary of the distribution of the data by showing the median, quartiles, and minimum and maximum values of a dataset.\n",
    "\n"
   ]
  },
  {
   "cell_type": "markdown",
   "id": "5f73ca37-e6c6-4a9f-9cd9-964d419b7bec",
   "metadata": {},
   "source": [
    "### Answer 9\n",
    "\n",
    "Descriptive statistics is the branch of statistics that deals with the summarization and description of data using numerical or graphical techniques. It involves describing the characteristics of a dataset in terms of central tendency, variability, and distribution. Descriptive statistics are useful for exploring and understanding the patterns and trends in data, and they can be used to summarize and present data in a clear and concise manner. Some common examples of descriptive statistics include mean, median, mode, standard deviation, and histograms.\n",
    "\n",
    "nferential statistics, on the other hand, is the branch of statistics that deals with making generalizations and predictions about a population based on a sample of data. It involves using statistical methods to draw conclusions about a population based on data from a sample, while accounting for uncertainty and variability in the data. Inferential statistics are useful for testing hypotheses, making predictions, and making decisions based on data. Some common examples of inferential statistics include hypothesis testing, confidence intervals, and regression analysis."
   ]
  },
  {
   "cell_type": "code",
   "execution_count": 1,
   "id": "c9cf90b3-4ae2-43f5-82e7-bf4af1243466",
   "metadata": {},
   "outputs": [],
   "source": [
    "### Answer 10\n",
    "\n"
   ]
  },
  {
   "cell_type": "code",
   "execution_count": null,
   "id": "fcd34297-7bad-49ca-94be-45f7aa4b48da",
   "metadata": {},
   "outputs": [],
   "source": []
  },
  {
   "cell_type": "code",
   "execution_count": null,
   "id": "b781d895-ffbf-45c1-b937-0969492f4935",
   "metadata": {},
   "outputs": [],
   "source": []
  }
 ],
 "metadata": {
  "kernelspec": {
   "display_name": "Python 3 (ipykernel)",
   "language": "python",
   "name": "python3"
  },
  "language_info": {
   "codemirror_mode": {
    "name": "ipython",
    "version": 3
   },
   "file_extension": ".py",
   "mimetype": "text/x-python",
   "name": "python",
   "nbconvert_exporter": "python",
   "pygments_lexer": "ipython3",
   "version": "3.10.8"
  }
 },
 "nbformat": 4,
 "nbformat_minor": 5
}
