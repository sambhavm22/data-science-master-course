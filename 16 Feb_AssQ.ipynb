{
 "cells": [
  {
   "cell_type": "markdown",
   "id": "2acff241",
   "metadata": {},
   "source": [
    "Q1. What is a database? Differentiate between SQL and NoSQL databases.\n",
    "\n",
    "\n",
    "Q2. What is DDL? Explain why CREATE, DROP, ALTER, and TRUNCATE are used with an example.\n",
    "\n",
    "\n",
    "Q3. What is DML? Explain INSERT, UPDATE, and DELETE with an example.\n",
    "\n",
    "\n",
    "Q4. What is DQL? Explain SELECT with an example.\n",
    "\n",
    "\n",
    "Q5. Explain Primary Key and Foreign Key.\n",
    "\n",
    "\n",
    "Q6. Write a python code to connect MySQL to python. Explain the cursor() and execute() method.\n",
    "\n",
    "\n",
    "Q7. Give the order of execution of SQL clauses in an SQL query."
   ]
  },
  {
   "cell_type": "markdown",
   "id": "b45ed80e",
   "metadata": {},
   "source": [
    "### Answer 1\n",
    "\n",
    "A database is an organized collection of data that can be easily accessed, managed, and updated. It is used to store data for various purposes, such as to support business operations, for research, or for personal use. Databases can range from simple spreadsheets to complex systems that store and manage huge amounts of data.\n",
    "\n",
    "SQL Databases:\n",
    "\n",
    "Relational databases that use structured data.\n",
    "Organized into tables with pre-defined schemas.\n",
    "Use SQL to manage and manipulate the data.\n",
    "Good for complex queries and transactions.\n",
    "Provide ACID (Atomicity, Consistency, Isolation, Durability) properties, ensuring that transactions are processed reliably.\n",
    "\n",
    "NoSQL Databases:\n",
    "\n",
    "Non-relational databases that use unstructured or semi-structured data.\n",
    "Organized into collections or documents.\n",
    "Use a variety of languages (such as JavaScript, JSON, or XML) to manage and manipulate the data.\n",
    "Good for storing large volumes of unstructured data, such as social media posts or multimedia files.\n",
    "Do not provide ACID properties but offer eventual consistency, which means that the data eventually becomes consistent across all nodes in the database.\n"
   ]
  },
  {
   "cell_type": "markdown",
   "id": "7a36f4d4",
   "metadata": {},
   "source": [
    "### Answer 2\n",
    "\n",
    "DDL stands for Data Definition Language. It is a set of SQL statements used to define and modify the structure of database objects such as tables, indexes, and views. DDL statements allow you to create, alter, and drop these objects in a database.\n",
    "\n",
    "CREATE: Used to create new database objects such as tables, indexes, views, or constraints.\n",
    "\n",
    "ALTER: Used to modify the structure of an existing database object.\n",
    "\n",
    "DROP: Used to remove an existing database object from the database.\n",
    "\n",
    "TRUNCATE: Used to remove all data from a table without deleting the table structure.\n",
    "\n"
   ]
  },
  {
   "cell_type": "markdown",
   "id": "4d7a2453",
   "metadata": {},
   "source": [
    "CREATE TABLE if not exists Customers (CustomerID INT PRIMARY KEY, FirstName VARCHAR(50), LastName VARCHAR (50), EmailID VARCHAR(100), age INT);\n",
    "ALTER TABLE Customers\n",
    "ADD PhoneNumber INT(10);\n",
    "\n",
    "TRUNCATE TABLE Customers;\n",
    "DROP TABLE Customers;\n"
   ]
  },
  {
   "cell_type": "markdown",
   "id": "bfcf87fa",
   "metadata": {},
   "source": [
    "### Answer 3 \n",
    "\n",
    "DML stands for Data Manipulation Language. It is a set of SQL statements used to modify and retrieve data in a database. DML statements allow you to insert, update, delete, and retrieve data from database tables.\n",
    "\n",
    "SELECT: Used to retrieve data from one or more tables.\n",
    "\n",
    "INSERT: Used to insert new rows of data into a table.\n",
    "\n",
    "UPDATE: Used to modify existing data in a table.\n",
    "\n",
    "DELETE: Used to remove rows of data from a table"
   ]
  },
  {
   "cell_type": "markdown",
   "id": "0c219e0f",
   "metadata": {},
   "source": [
    "INSERT INTO Employees (EmployeeID, FirstName, LastName, Email, Phone)\n",
    "VALUES (101, 'John', 'Doe', 'john.doe@example.com', '555-1234');\n",
    "\n",
    "UPDATE Employees\n",
    "SET Email = 'jane.doe@example.com'\n",
    "WHERE EmployeeID = 102;\n",
    "\n",
    "DELETE FROM Employees\n",
    "WHERE EmployeeID = 101;\n"
   ]
  },
  {
   "cell_type": "markdown",
   "id": "fc9f1640",
   "metadata": {},
   "source": [
    "### Answer 4\n",
    "\n",
    "DQL stands for Data Query Language. It is a subset of SQL (Structured Query Language) that is used to retrieve data from a database. DQL statements are used to query the database and retrieve information that matches specific criteria. The most common DQL statement is the SELECT statement, which is used to retrieve data from one or more tables in a database.\n",
    "\n",
    "SELECT FirstName, LastName, Email\n",
    "\n",
    "FROM Customers\n",
    "\n",
    "WHERE Country = 'USA';\n",
    "\n",
    "the SELECT statement is a DQL statement used to retrieve data from one or more tables in a database. It allows you to specify the columns you want to retrieve data from, the table you want to retrieve data from, and any criteria you want to use to filter the data. \n"
   ]
  },
  {
   "cell_type": "markdown",
   "id": "3a1b8723",
   "metadata": {},
   "source": [
    "### Answer 5\n",
    "\n",
    "A primary key is a unique identifier for each row (record) in a table. It is used to enforce the integrity of the data in the table, ensuring that each row can be uniquely identified and that no two rows can have the same primary key value. Primary keys are typically implemented using a single column or a combination of columns in a table.\n",
    "\n",
    "A foreign key, on the other hand, is a column or a set of columns in one table that refers to the primary key of another table. It establishes a relationship between the two tables, allowing data from one table to be linked to data in another table. \n",
    "\n",
    "The Customers table has the following columns:\n",
    "\n",
    "CustomerID (primary key)\n",
    "\n",
    "CustomerName\n",
    "\n",
    "CustomerEmail\n",
    "\n",
    "CustomerPhone\n",
    "\n",
    "The Orders table has the following columns:\n",
    "\n",
    "OrderID (primary key)\n",
    "\n",
    "OrderDate\n",
    "\n",
    "CustomerID (foreign key)\n",
    "\n",
    "OrderTotal"
   ]
  },
  {
   "cell_type": "markdown",
   "id": "054ad06f",
   "metadata": {},
   "source": [
    "### Answer 6"
   ]
  },
  {
   "cell_type": "code",
   "execution_count": 1,
   "id": "13d2a835",
   "metadata": {},
   "outputs": [
    {
     "ename": "ModuleNotFoundError",
     "evalue": "No module named 'mysql'",
     "output_type": "error",
     "traceback": [
      "\u001b[0;31m---------------------------------------------------------------------------\u001b[0m",
      "\u001b[0;31mModuleNotFoundError\u001b[0m                       Traceback (most recent call last)",
      "\u001b[0;32m/var/folders/4m/vrm5g1l51xn5x3bdqm97xhsr0000gn/T/ipykernel_4543/2411108385.py\u001b[0m in \u001b[0;36m<module>\u001b[0;34m\u001b[0m\n\u001b[0;32m----> 1\u001b[0;31m \u001b[0;32mimport\u001b[0m \u001b[0mmysql\u001b[0m\u001b[0;34m.\u001b[0m\u001b[0mconnector\u001b[0m\u001b[0;34m\u001b[0m\u001b[0;34m\u001b[0m\u001b[0m\n\u001b[0m\u001b[1;32m      2\u001b[0m \u001b[0;34m\u001b[0m\u001b[0m\n\u001b[1;32m      3\u001b[0m \u001b[0;31m# establish database connection\u001b[0m\u001b[0;34m\u001b[0m\u001b[0;34m\u001b[0m\u001b[0m\n\u001b[1;32m      4\u001b[0m mydb = mysql.connector.connect(\n\u001b[1;32m      5\u001b[0m   \u001b[0mhost\u001b[0m\u001b[0;34m=\u001b[0m\u001b[0;34m\"localhost\"\u001b[0m\u001b[0;34m,\u001b[0m\u001b[0;34m\u001b[0m\u001b[0;34m\u001b[0m\u001b[0m\n",
      "\u001b[0;31mModuleNotFoundError\u001b[0m: No module named 'mysql'"
     ]
    }
   ],
   "source": [
    "import mysql.connector\n",
    "\n",
    "# establish database connection\n",
    "mydb = mysql.connector.connect(\n",
    "  host=\"localhost\",\n",
    "  user=\"yourusername\",\n",
    "  password=\"yourpassword\",\n",
    "  database=\"yourdatabase\"\n",
    ")\n",
    "\n",
    "# create a cursor object\n",
    "mycursor = mydb.cursor()\n",
    "\n",
    "# execute a SQL query\n",
    "mycursor.execute(\"SELECT * FROM yourtable\")\n",
    "\n",
    "# fetch the results\n",
    "result = mycursor.fetchall()\n",
    "\n",
    "# print the results\n",
    "for row in result:\n",
    "  print(row)\n"
   ]
  },
  {
   "cell_type": "markdown",
   "id": "f1faf56b",
   "metadata": {},
   "source": [
    "We create a cursor object using the cursor() method of the database connection object. The cursor is used to execute SQL queries and fetch the results.\n",
    "\n",
    "We then execute a SQL query using the execute() method of the cursor object."
   ]
  },
  {
   "cell_type": "markdown",
   "id": "44bb9960",
   "metadata": {},
   "source": [
    "### Answer 7\n",
    "\n",
    "FROM clause - specifies the tables from which to retrieve the data.\n",
    "\n",
    "JOIN clause - if used, combines data from multiple tables into a single result set.\n",
    "\n",
    "WHERE clause - filters the data based on specified conditions.\n",
    "\n",
    "GROUP BY clause - groups the data based on specified columns.\n",
    "\n",
    "HAVING clause - filters the grouped data based on specified conditions.\n",
    "\n",
    "SELECT clause - selects the columns to retrieve from the data.\n",
    "\n",
    "DISTINCT clause - if used, removes duplicates from the result set.\n",
    "\n",
    "ORDER BY clause - sorts the result set based on specified columns.\n",
    "\n",
    "LIMIT clause - limits the number of rows returned in the result set."
   ]
  },
  {
   "cell_type": "code",
   "execution_count": null,
   "id": "3bba9cda",
   "metadata": {},
   "outputs": [],
   "source": []
  }
 ],
 "metadata": {
  "kernelspec": {
   "display_name": "Python 3 (ipykernel)",
   "language": "python",
   "name": "python3"
  },
  "language_info": {
   "codemirror_mode": {
    "name": "ipython",
    "version": 3
   },
   "file_extension": ".py",
   "mimetype": "text/x-python",
   "name": "python",
   "nbconvert_exporter": "python",
   "pygments_lexer": "ipython3",
   "version": "3.9.13"
  }
 },
 "nbformat": 4,
 "nbformat_minor": 5
}
