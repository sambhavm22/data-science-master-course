{
 "cells": [
  {
   "cell_type": "markdown",
   "id": "ffc96d9b-66f0-4bb7-89a3-b2abb29fd328",
   "metadata": {},
   "source": [
    "Q1. What is an API? Give an example, where an API is used in real life.\n",
    "\n",
    "Q2. Give advantages and disadvantages of using API.\n",
    "\n",
    "Q3. What is a Web API? Differentiate between API and Web API.\n",
    "\n",
    "Q4. Explain REST and SOAP Architecture. Mention shortcomings of SOAP.\n",
    "\n",
    "Q5. Differentiate between REST and SOAP."
   ]
  },
  {
   "cell_type": "markdown",
   "id": "2c04e2b2-b202-4c3f-8e49-244d137d5620",
   "metadata": {},
   "source": [
    "### Answer 1\n",
    "\n",
    "API stands for Application Programming Interface. It is a set of protocols, tools, and routines used for building software applications. An API allows two software applications to communicate with each other, exchange data, and perform actions on each other's behalf.\n",
    "\n",
    "For example, when you use a ride-hailing app like Uber ola, the app uses an API to connect to the mapping and location services of your smartphone. This allows the app to access your location and provide you with real-time information about nearby drivers and estimated time of arrival. Similarly, the app also uses an API to connect to the payment gateway and process payments securely."
   ]
  },
  {
   "cell_type": "markdown",
   "id": "d45762d7-0019-48bd-8922-28814cde2b30",
   "metadata": {},
   "source": [
    "### Answer 2\n",
    "\n",
    "Advantages: -\n",
    "Scalability,\n",
    "Efficient communication,\n",
    "Better user experience,\n",
    "Innovation,\n",
    "Easy integration:\n",
    "\n",
    "Disadvantages: -\n",
    "Security risks,\n",
    "Dependency,\n",
    "Maintenance,\n",
    "Complexity"
   ]
  },
  {
   "cell_type": "markdown",
   "id": "da2d020a-86d0-4ae2-9d40-750f406e1f0a",
   "metadata": {},
   "source": [
    "### Answer 3\n",
    "\n",
    "A web API is an API that is designed specifically for web applications to communicate with each other over the internet. Web APIs use HTTP protocol to handle requests and responses, and they typically return data in formats like JSON or XML.\n",
    "\n",
    "The main difference between API and Web API is that while API is a general term used to refer to any set of protocols, tools, and routines used for building software applications, Web API is a specific type of API that is designed to be used over the web.\n",
    "\n",
    "Key difference btw API and Web API\n",
    "\n",
    "Purpose: APIs can be used for a wide range of applications, including desktop, mobile, and embedded systems, while Web APIs are specifically designed for web applications.\n",
    "\n",
    "Protocol: APIs can use a variety of protocols, such as REST, SOAP, and GraphQL, while Web APIs use the HTTP protocol.\n",
    "\n",
    "Data format: APIs can use a variety of data formats, including JSON, XML, and CSV, while Web APIs typically use JSON or XML.\n",
    "\n",
    "Transport: APIs can be used for local and remote communication, while Web APIs are typically used for remote communication over the internet.\n",
    "\n",
    "Security: Both APIs and Web APIs require proper security measures to protect against security risks, but Web APIs may have additional security concerns due to their exposure to the internet.\n",
    "\n"
   ]
  },
  {
   "cell_type": "markdown",
   "id": "a560eae3-e47a-428e-92f5-f832a92c50f6",
   "metadata": {},
   "source": [
    "### Answer 4\n",
    "\n",
    "REST is a lightweight, client-server architecture that uses HTTP protocol to handle requests and responses. RESTful APIs provide a standard way for different software systems to communicate with each other using simple HTTP requests and responses. REST APIs use HTTP verbs (GET, POST, PUT, DELETE, etc.) to define operations and resource URIs to identify resources.\n",
    "\n",
    "Advantages of REST architecture include:\n",
    "\n",
    "Simplicity and ease of use,\n",
    "Scalability and performance,\n",
    "Flexibility and independence,\n",
    "Caching and statelessness\n",
    "\n",
    "\n",
    "SOAP is a protocol-based architecture that uses XML to format messages and provides a standardized way for different software systems to communicate with each other. SOAP APIs define a set of rules for exchanging messages, including message formats, protocols, and error handling.\n",
    "\n",
    "Advantages of SOAP architecture include:\n",
    "\n",
    "Standardization and interoperability,\n",
    "Security and reliability,\n",
    "Extensibility and customization\n",
    "\n",
    "#### Shortcomings of SOAP architecture:\n",
    "\n",
    "Complexity and overhead: SOAP messages are large and can be complex to create and process, resulting in higher overhead and slower performance compared to REST.\n",
    "\n",
    "Limited support for web standards: SOAP uses its own set of protocols and message formats, which can limit its compatibility with web standards.\n",
    "\n",
    "Difficulty with integration: SOAP requires a more detailed description of the message format and structure, making it more difficult to integrate with other software systems."
   ]
  },
  {
   "cell_type": "markdown",
   "id": "8f2ec795-539f-4628-89c1-5058e0b020da",
   "metadata": {},
   "source": [
    "### Answer 5\n",
    "\n",
    "REST (Representational State Transfer) and SOAP (Simple Object Access Protocol) are two common architectural styles used for building web services.\n",
    "\n",
    "Protocol: REST uses HTTP protocol to handle requests and responses, while SOAP uses its own protocol based on XML.\n",
    "\n",
    "Message format: REST uses lightweight data formats like JSON and XML to transmit data, while SOAP uses XML exclusively.\n",
    "\n",
    "Design approach: REST is a resource-based architecture, where each resource is identified by a unique URL and can be accessed using HTTP verbs, while SOAP is an operation-based architecture, where each operation is identified by a unique action URI and can be accessed using SOAP messages.\n",
    "\n",
    "Performance: REST is faster and more efficient compared to SOAP, as it uses lightweight data formats and does not require additional processing overhead, while SOAP is slower and more resource-intensive, as it uses XML for all messages and requires additional processing overhead.\n",
    "\n",
    "Caching: REST allows for caching of responses, which can improve performance and reduce network traffic, while SOAP does not have built-in caching mechanisms.\n",
    "\n",
    "Security: Both REST and SOAP require proper security measures to protect against security risks, but SOAP has better support for advanced security features like WS-Security."
   ]
  },
  {
   "cell_type": "code",
   "execution_count": null,
   "id": "2dd12cb8-6d62-4918-95d8-4133702a1e20",
   "metadata": {},
   "outputs": [],
   "source": []
  }
 ],
 "metadata": {
  "kernelspec": {
   "display_name": "Python 3 (ipykernel)",
   "language": "python",
   "name": "python3"
  },
  "language_info": {
   "codemirror_mode": {
    "name": "ipython",
    "version": 3
   },
   "file_extension": ".py",
   "mimetype": "text/x-python",
   "name": "python",
   "nbconvert_exporter": "python",
   "pygments_lexer": "ipython3",
   "version": "3.10.8"
  }
 },
 "nbformat": 4,
 "nbformat_minor": 5
}
