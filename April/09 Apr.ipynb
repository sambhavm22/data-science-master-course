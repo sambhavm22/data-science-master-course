{
 "cells": [
  {
   "attachments": {},
   "cell_type": "markdown",
   "metadata": {},
   "source": [
    "Q1. What is Bayes' theorem?\n",
    "\n",
    "Q2. What is the formula for Bayes' theorem?\n",
    "\n",
    "Q3. How is Bayes' theorem used in practice?\n",
    "\n",
    "Q4. What is the relationship between Bayes' theorem and conditional probability?\n",
    "\n",
    "Q5. How do you choose which type of Naive Bayes classifier to use for any given problem?\n",
    "\n",
    "Q6. Assignment:\n",
    "\n",
    "You have a dataset with two features, X1 and X2, and two possible classes, A and B. You want to use Naive Bayes to classify a new instance with features X1 = 3 and X2 = 4. The following table shows the frequency of each feature value for each class:\n",
    "\n",
    "Class X1=1 X1=2 X1=3 X2=1 X2=2 X2=3 X2=4\n",
    "\n",
    "A 3 3 4 4 3 3 3\n",
    "B 2 2 1 2 2 2 3\n",
    "\n",
    "Assuming equal prior probabilities for each class, which class would Naive Bayes predict the new instance to belong to?"
   ]
  },
  {
   "attachments": {},
   "cell_type": "markdown",
   "metadata": {},
   "source": [
    "### Q1. What is Bayes' theorem?\n",
    " ### &\n",
    " ### Q2. What is the formula for Bayes' theorem?"
   ]
  },
  {
   "attachments": {},
   "cell_type": "markdown",
   "metadata": {},
   "source": [
    " Bayes' theorem is a fundamental concept in probability theory and statistics. It describes the relationship between conditional probabilities of events.\n",
    "\n",
    "Bayes' theorem states that the probability of an event A occurring given that event B has occurred is equal to the probability of event B given that event A has occurred, multiplied by the probability of event A occurring and divided by the probability of event B occurring. Mathematically, it can be expressed as:\n",
    "\n",
    "P(A|B) = (P(B|A) * P(A)) / P(B)"
   ]
  },
  {
   "attachments": {},
   "cell_type": "markdown",
   "metadata": {},
   "source": [
    "### Q3. How is Bayes' theorem used in practice?\n"
   ]
  },
  {
   "attachments": {},
   "cell_type": "markdown",
   "metadata": {},
   "source": [
    "Bayes' theorem is used in various practical applications across different fields. Here are a few examples:\n",
    "\n",
    "- Spam filtering: Bayes' theorem is employed in spam filtering algorithms. The classifier uses prior knowledge about words commonly found in spam and non-spam emails. It calculates the probabilities of an email being spam or non-spam based on the occurrence of these words and updates the probabilities using observed word frequencies in incoming emails.\n",
    "\n",
    "- Medical diagnosis: Bayes' theorem is used in medical diagnosis systems. It incorporates prior probabilities of diseases based on their prevalence and the conditional probabilities of observed symptoms given specific diseases. By updating these probabilities based on patient symptoms, the system can estimate the probability of a patient having a particular disease.\n",
    "\n",
    "- Machine learning: Bayes' theorem is utilized in various machine learning algorithms, particularly in the field of probabilistic modeling. Bayesian networks, for example, use Bayes' theorem to model dependencies between variables and infer probabilities based on observed data."
   ]
  },
  {
   "attachments": {},
   "cell_type": "markdown",
   "metadata": {},
   "source": [
    "### Q4. What is the relationship between Bayes' theorem and conditional probability?\n"
   ]
  },
  {
   "attachments": {},
   "cell_type": "markdown",
   "metadata": {},
   "source": [
    "Bayes' theorem provides a way to calculate conditional probabilities. It establishes a relationship between conditional probabilities of events.\n",
    "\n",
    "Conditional probability is the probability of an event A occurring given that event B has already occurred, denoted as P(A|B). Bayes' theorem allows us to calculate this conditional probability using the following formula:\n",
    "\n",
    "P(A|B) = (P(B|A) * P(A)) / P(B)"
   ]
  },
  {
   "attachments": {},
   "cell_type": "markdown",
   "metadata": {},
   "source": [
    "### Q5. How do you choose which type of Naive Bayes classifier to use for any given problem?\n"
   ]
  },
  {
   "attachments": {},
   "cell_type": "markdown",
   "metadata": {},
   "source": [
    "The choice of the type of Naive Bayes classifier depends on the characteristics of the problem and the assumptions that align with the data. Here's a brief overview of the three common types of Naive Bayes classifiers and their typical use cases:\n",
    "\n",
    "1. Gaussian Naive Bayes: This classifier assumes that the features follow a Gaussian (normal) distribution. It is suitable for continuous or real-valued features. If the data distribution is approximately normal or can be transformed to approximate normality, Gaussian Naive Bayes can be a good choice.\n",
    "\n",
    "2. Multinomial Naive Bayes: This classifier assumes that the features have discrete frequency counts, typically used for text classification problems. It works well with features that represent word frequencies or other discrete data. It's commonly used in spam filtering, sentiment analysis, and document classification tasks.\n",
    "\n",
    "3. Bernoulli Naive Bayes: This classifier assumes that the features are binary variables (0s and 1s). It is useful when dealing with binary or Boolean features. For example, it can be applied in text classification tasks where features represent the presence or absence of words in a document.\n",
    "\n",
    "The choice of the Naive Bayes classifier is guided by the nature of the features and the underlying distribution of the data. If the assumptions of a particular Naive Bayes variant align with the data characteristics, that variant is likely to yield better results. However, it's essential to consider the specific problem and perform experimentation or validation to assess the performance of different Naive Bayes variants on the given dataset."
   ]
  },
  {
   "attachments": {},
   "cell_type": "markdown",
   "metadata": {},
   "source": [
    "### Q6. Assignment:\n",
    "\n",
    "You have a dataset with two features, X1 and X2, and two possible classes, A and B. You want to use Naive Bayes to classify a new instance with features X1 = 3 and X2 = 4. The following table shows the frequency of each feature value for each class:\n",
    "\n",
    "Class X1=1 X1=2 X1=3 X2=1 X2=2 X2=3 X2=4\n",
    "\n",
    "A 3 3 4 4 3 3 3\n",
    "B 2 2 1 2 2 2 3\n",
    "\n",
    "Assuming equal prior probabilities for each class, which class would Naive Bayes predict the new instancemto belong to?"
   ]
  },
  {
   "attachments": {},
   "cell_type": "markdown",
   "metadata": {},
   "source": [
    "1. Calculate the conditional probabilities for each class:\n",
    "\n",
    "P(X1=3 | A) = 4/13,\n",
    "P(X2=4 | A) = 3/13\n",
    "\n",
    "P(X1=3 | B) = 1/9,\n",
    "P(X2=4 | B) = 3/9\n",
    "\n",
    "2. Calculate the likelihood of the new instance belonging to each class by multiplying the conditional probabilities:\n",
    "\n",
    "Likelihood of A = P(X1=3 | A) * P(X2=4 | A) = (4/13) * (3/13) = 12/169\n",
    "\n",
    "Likelihood of B = P(X1=3 | B) * P(X2=4 | B) = (1/9) * (3/9) = 3/81\n",
    "\n",
    "3. Normalize the likelihoods by dividing each likelihood by the sum of the likelihoods:\n",
    "\n",
    "Normalized likelihood of A = (12/169) / [(12/169) + (3/81)] ≈ 0.86\n",
    "\n",
    "Normalized likelihood of B = (3/81) / [(12/169) + (3/81)] ≈ 0.14\n",
    "\n",
    "Based on these calculations, the Naive Bayes classifier would predict the new instance to belong to Class A because it has a higher normalized likelihood (0.86) compared to Class B (0.14).\n",
    "\n",
    "\n",
    "\n",
    "\n"
   ]
  },
  {
   "attachments": {},
   "cell_type": "markdown",
   "metadata": {},
   "source": []
  }
 ],
 "metadata": {
  "kernelspec": {
   "display_name": ".venv",
   "language": "python",
   "name": "python3"
  },
  "language_info": {
   "codemirror_mode": {
    "name": "ipython",
    "version": 3
   },
   "file_extension": ".py",
   "mimetype": "text/x-python",
   "name": "python",
   "nbconvert_exporter": "python",
   "pygments_lexer": "ipython3",
   "version": "3.9.6"
  },
  "orig_nbformat": 4
 },
 "nbformat": 4,
 "nbformat_minor": 2
}
