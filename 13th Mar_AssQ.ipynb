{
 "cells": [
  {
   "cell_type": "markdown",
   "id": "5778c780-5837-46dd-bb7a-fd252449bbab",
   "metadata": {},
   "source": [
    "Q1. Explain the assumptions required to use ANOVA and provide examples of violations that could impact the validity of the results.\n",
    "\n",
    "Q2. What are the three types of ANOVA, and in what situations would each be used?\n",
    "\n",
    "Q3. What is the partitioning of variance in ANOVA, and why is it important to understand this concept?\n",
    "\n",
    "Q4. How would you calculate the total sum of squares (SST), explained sum of squares (SSE), and residual sum of squares (SSR) in a one-way ANOVA using Python?\n",
    "\n",
    "Q5. In a two-way ANOVA, how would you calculate the main effects and interaction effects using Python?\n",
    "\n",
    "Q6. Suppose you conducted a one-way ANOVA and obtained an F-statistic of 5.23 and a p-value of 0.02. What can you conclude about the differences between the groups, and how would you interpret these results?\n",
    "\n",
    "Q7. In a repeated measures ANOVA, how would you handle missing data, and what are the potential consequences of using different methods to handle missing data?\n",
    "\n",
    "Q8. What are some common post-hoc tests used after ANOVA, and when would you use each one? Provide an example of a situation where a post-hoc test might be necessary.\n",
    "\n",
    "Q9. A researcher wants to compare the mean weight loss of three diets: A, B, and C. They collect data from 50 participants who were randomly assigned to one of the diets. Conduct a one-way ANOVA using Python to determine if there are any significant differences between the mean weight loss of the three diets. Report the F-statistic and p-value, and interpret the results.\n",
    "\n",
    "Q10. A company wants to know if there are any significant differences in the average time it takes to complete a task using three different software programs: Program A, Program B, and Program C. They randomly assign 30 employees to one of the programs and record the time it takes each employee to complete the task. Conduct a two-way ANOVA using Python to determine if there are any main effects or interaction effects between the software programs and employee experience level (novice vs. experienced). Report the F-statistics and p-values, and interpret the results.\n",
    "\n",
    "Q11. An educational researcher is interested in whether a new teaching method improves student test scores. They randomly assign 100 students to either the control group (traditional teaching method) or the experimental group (new teaching method) and administer a test at the end of the semester. Conduct a two-sample t-test using Python to determine if there are any significant differences in test scores between the two groups. If the results are significant, follow up with a post-hoc test to determine which group(s) differ significantly from each other.\n",
    "\n",
    "Q12. A researcher wants to know if there are any significant differences in the average daily sales of three retail stores: Store A, Store B, and Store C. They randomly select 30 days and record the sales for each store on those days. Conduct a repeated measures ANOVA using Python to determine if there are any significant differences in sales between the three stores. If the results are significant, follow up with a post-hoc test to determine which store(s) differ significantly from each other."
   ]
  },
  {
   "cell_type": "markdown",
   "id": "e27ec62c-1b28-4d38-a33d-6eddcf5a7517",
   "metadata": {},
   "source": [
    "### Answer 1"
   ]
  },
  {
   "cell_type": "markdown",
   "id": "adf3b7df-5c1b-48ff-a4d8-db26b8a6a9e6",
   "metadata": {},
   "source": [
    "The assumptions of ANOVA (Analysis of Variance) are:\n",
    "\n",
    "Normality: The data should be normally distributed within each group. This assumption can be checked using histograms, normal probability plots, or statistical tests such as the Shapiro-Wilk test.\n",
    "\n",
    "Homogeneity of variances: The variances of the groups should be equal. This assumption can be checked using statistical tests such as Levene's test or the Brown-Forsythe test.\n",
    "\n",
    "Independence: The observations should be independent of each other. This means that the data should not be correlated or dependent in any way. For example, repeated measurements on the same subject violate the assumption of independence."
   ]
  },
  {
   "cell_type": "markdown",
   "id": "1eaa0bc3-8a67-4097-8fdd-030e3476eaf7",
   "metadata": {},
   "source": [
    "### Answer 2"
   ]
  },
  {
   "cell_type": "markdown",
   "id": "cef1dbde-83c3-48f2-b8af-08815cc0b522",
   "metadata": {},
   "source": [
    "One-Way ANOVA: One-Way ANOVA is used to test the difference in means among two or more groups. It is used when there is only one independent variable, and it has two or more levels. For example, a One-Way ANOVA can be used to test whether the mean scores on a test are significantly different between three different schools.\n",
    "\n",
    "Two-Way ANOVA: Two-Way ANOVA is used to test the effects of two independent variables on a dependent variable. It is used when there are two independent variables, and each independent variable has two or more levels. For example, a Two-Way ANOVA can be used to test whether the mean scores on a test are significantly different for boys and girls, and whether there is an interaction effect between gender and age.\n",
    "\n",
    "Three-Way ANOVA: Three-Way ANOVA is used to test the effects of three independent variables on a dependent variable. It is used when there are three independent variables, and each independent variable has two or more levels. For example, a Three-Way ANOVA can be used to test whether the mean scores on a test are significantly different for boys and girls, and whether there is an interaction effect between gender, age, and socioeconomic status.\n",
    "\n"
   ]
  },
  {
   "cell_type": "markdown",
   "id": "e56f2f5e-51c8-42d0-8336-5e93019142fd",
   "metadata": {},
   "source": [
    "### Answer 3 "
   ]
  },
  {
   "cell_type": "markdown",
   "id": "05c5ea79-ad12-4008-b6b2-ba2f9217fabc",
   "metadata": {},
   "source": [
    "The partitioning of variance in ANOVA (Analysis of Variance) refers to the process of breaking down the total variability in the data into different sources of variation. This is an important concept in ANOVA because it helps us to understand how much of the variability in the data can be attributed to the independent variables, and how much is due to random error or other factors.\n",
    "\n",
    "The total variability in the data can be divided into two types of variation: between-group variation and within-group variation. Between-group variation is the variation that is due to differences between the groups, or levels of the independent variable, and within-group variation is the variation that is due to differences within the groups.\n",
    "\n",
    "The partitioning of variance is typically presented in an ANOVA table, which shows the sums of squares (SS) for each source of variation, the degrees of freedom (df), and the mean squares (MS). The mean squares are obtained by dividing the sums of squares by their respective degrees of freedom. The F-ratio is then calculated by dividing the between-group mean square by the within-group mean square, and this is used to test the significance of the independent variable(s).\n",
    "\n",
    "Understanding the partitioning of variance is important because it allows us to determine whether the independent variable(s) have a significant effect on the dependent variable, and to estimate the size of this effect. It also allows us to determine the proportion of the total variability in the data that can be attributed to the independent variable(s), and to identify any sources of error or variability that may be affecting the results.\n",
    "\n"
   ]
  },
  {
   "cell_type": "markdown",
   "id": "1ede495b-203b-4a0d-9190-3d6db54395ac",
   "metadata": {},
   "source": [
    "### Answer 4"
   ]
  },
  {
   "cell_type": "code",
   "execution_count": null,
   "id": "cebcbf0e-988f-4d77-91cf-a0232d826afe",
   "metadata": {},
   "outputs": [],
   "source": [
    "import pandas as pd\n",
    "import statsmodels.api as sm\n",
    "from statsmodels.formula.api import ols\n",
    "\n",
    "# create a DataFrame with the data\n",
    "df = pd.DataFrame({'group': ['A', 'A', 'B', 'B', 'C', 'C'], \n",
    "                   'value': [1, 2, 4, 5, 7, 8]})\n",
    "\n",
    "# fit a one-way ANOVA model\n",
    "model = ols('value ~ group', data=df).fit()\n",
    "\n",
    "# calculate the total sum of squares (SST)\n",
    "sst = sm.stats.anova_lm(model, typ=1)['sum_sq'][0]\n",
    "\n",
    "# calculate the explained sum of squares (SSE)\n",
    "sse = sm.stats.anova_lm(model, typ=1)['sum_sq'][1]\n",
    "\n",
    "# calculate the residual sum of squares (SSR)\n",
    "ssr = sst - sse\n",
    "\n",
    "print('SST =', sst)\n",
    "print('SSE =', sse)\n",
    "print('SSR =', ssr)\n"
   ]
  },
  {
   "cell_type": "markdown",
   "id": "39fd98e3-0431-4c2c-88b6-47d05fc30623",
   "metadata": {},
   "source": [
    "### Answer 5 "
   ]
  },
  {
   "cell_type": "code",
   "execution_count": 6,
   "id": "eb3374ca-3425-4054-be98-65e93b21e84d",
   "metadata": {},
   "outputs": [
    {
     "name": "stdout",
     "output_type": "stream",
     "text": [
      "Main effects = C(group1)    36.0\n",
      "C(group2)     1.5\n",
      "Name: sum_sq, dtype: float64\n",
      "Interaction effect = 2.5637979419682884e-30\n"
     ]
    },
    {
     "name": "stderr",
     "output_type": "stream",
     "text": [
      "/opt/conda/lib/python3.10/site-packages/statsmodels/stats/anova.py:138: RuntimeWarning: divide by zero encountered in double_scalars\n",
      "  (model.ssr / model.df_resid))\n",
      "/opt/conda/lib/python3.10/site-packages/statsmodels/stats/anova.py:138: RuntimeWarning: divide by zero encountered in double_scalars\n",
      "  (model.ssr / model.df_resid))\n"
     ]
    }
   ],
   "source": [
    "import pandas as pd\n",
    "import statsmodels.api as sm\n",
    "from statsmodels.formula.api import ols\n",
    "\n",
    "# create a DataFrame with the data\n",
    "df = pd.DataFrame({'group1': ['A', 'A', 'B', 'B', 'C', 'C'], \n",
    "                   'group2': ['X', 'Y', 'X', 'Y', 'X', 'Y'], \n",
    "                   'value': [1, 2, 4, 5, 7, 8]})\n",
    "\n",
    "# fit a two-way ANOVA model\n",
    "model = ols('value ~ C(group1) + C(group2) + C(group1):C(group2)', data=df).fit()\n",
    "\n",
    "# calculate the main effects\n",
    "main_effects = sm.stats.anova_lm(model, typ=1)['sum_sq'][:2]\n",
    "\n",
    "# calculate the interaction effect\n",
    "interaction_effect = sm.stats.anova_lm(model, typ=1)['sum_sq'][2]\n",
    "\n",
    "print('Main effects =', main_effects)\n",
    "print('Interaction effect =', interaction_effect)\n"
   ]
  },
  {
   "cell_type": "markdown",
   "id": "fb99244f-75f6-441a-95ee-e9fc3d59d45a",
   "metadata": {},
   "source": [
    "### Answer 6"
   ]
  },
  {
   "cell_type": "markdown",
   "id": "38ec7f76-f4ee-4ae2-baf0-c02ee1f8d296",
   "metadata": {},
   "source": [
    "The F-statistic represents the ratio of the variance between groups to the variance within groups. A larger F-value suggests that the differences between the group means are relatively large compared to the variability within the groups. The p-value indicates the probability of obtaining an F-statistic as extreme as the one observed, assuming that the null hypothesis (i.e., no difference between the groups) is true. In this case, the p-value is less than the significance level of 0.05, suggesting that we can reject the null hypothesis and conclude that there is a significant difference between the groups."
   ]
  },
  {
   "cell_type": "markdown",
   "id": "6e760a3f-eb46-4ed0-bcf6-a23b833e2d4b",
   "metadata": {},
   "source": [
    "### Answer 7"
   ]
  },
  {
   "cell_type": "markdown",
   "id": "2ff35502-c728-4ad9-a3c5-8f3db295b8e5",
   "metadata": {},
   "source": [
    "Listwise deletion: In this method, participants with any missing data are removed from the analysis. This is a commonly used approach, but it can lead to a loss of power and bias if the missing data are not completely at random.\n",
    "\n",
    "Pairwise deletion: In this method, only the data for the specific variables involved in a given analysis are considered, and any missing data for those variables are excluded only for that specific analysis. This can result in increased power and efficiency, but it can also lead to biased estimates if the missing data are not completely at random.\n",
    "\n",
    "Imputation: In this method, the missing values are replaced with estimated values based on other data points or statistical models. This approach can increase the power and accuracy of the analysis, but it may also introduce additional error if the imputation model is not accurate or if the missing data are not completely at random.\n",
    "\n",
    "The consequences of using different methods to handle missing data in a repeated measures ANOVA can be significant. For example, listwise deletion can reduce the sample size and result in biased estimates if the missing data are not completely at random. Pairwise deletion can be more efficient, but it may also result in biased estimates if the missing data are not completely at random. Imputation can provide accurate estimates, but it can also introduce additional error if the imputation model is not accurate or if the missing data are not completely at random."
   ]
  },
  {
   "cell_type": "markdown",
   "id": "627a466b-9d8d-4a98-825e-1f0321697c2c",
   "metadata": {},
   "source": [
    "### Answer 8 "
   ]
  },
  {
   "cell_type": "markdown",
   "id": "d221aa38-d510-4f46-b1fd-2f0ca1a098c2",
   "metadata": {},
   "source": [
    "After conducting an ANOVA and rejecting the null hypothesis of equal group means, a post-hoc test may be used to determine which specific groups differ from each other. Some common post-hoc tests used after ANOVA include:\n",
    "\n",
    "Tukey's Honestly Significant Difference (HSD) test: This test is used when the number of groups is equal and the sample sizes are equal or nearly equal. It is conservative and can control the Type I error rate.\n",
    "\n",
    "Bonferroni correction: This test is used to control the overall Type I error rate when conducting multiple pairwise comparisons. It is more conservative than Tukey's HSD test, and may be used when the sample size is small or when the groups are not balanced.\n",
    "\n",
    "Scheffé's test: This test is used when the number of groups is unequal or the sample sizes are unequal. It is less powerful than Tukey's HSD test, but it is more robust to unequal variances.\n",
    "\n",
    "Fisher's Least Significant Difference (LSD) test: This test is used when the number of groups is small and the sample sizes are unequal. It is less powerful than other post-hoc tests, but it is more appropriate for situations where the assumptions of ANOVA are not met."
   ]
  },
  {
   "cell_type": "markdown",
   "id": "2f47f443-339e-4027-aca8-bf9ab973e842",
   "metadata": {},
   "source": [
    "### Answer 9"
   ]
  },
  {
   "cell_type": "code",
   "execution_count": 16,
   "id": "6d2b8ba0-e9c5-47b3-8b44-4f2075f718ef",
   "metadata": {},
   "outputs": [
    {
     "name": "stdout",
     "output_type": "stream",
     "text": [
      "F-statistic: 0.2612642905178211\n",
      "p-value: 0.7757218253667864\n"
     ]
    }
   ],
   "source": [
    "import pandas as pd\n",
    "import scipy.stats as stats \n",
    "\n",
    "df = pd.DataFrame({\"Diet\": ['A', 'B', 'C', 'A', 'B', 'C', 'A', 'B', 'C', 'A', 'B', 'C', ],\n",
    "                  \"Weight Loss\" : [4.2, 5.1, 3.9, 3.8, 4.9, 4.1, 2.8, 6.1, 4.9, 8.2, 1.9, 2.5 ]})\n",
    "\n",
    "f_statistic, p_value = stats.f_oneway(df[df['Diet'] == 'A']['Weight Loss'],\n",
    "                                      df[df['Diet'] == 'B']['Weight Loss'],\n",
    "                                      df[df['Diet'] == 'C']['Weight Loss'])\n",
    "\n",
    "print('F-statistic:', f_statistic)\n",
    "print('p-value:', p_value)\n"
   ]
  },
  {
   "cell_type": "code",
   "execution_count": 17,
   "id": "3b266ff2-01ea-414d-8781-a1dc0e669d94",
   "metadata": {},
   "outputs": [
    {
     "name": "stdout",
     "output_type": "stream",
     "text": [
      "F-statistic: 8.30564784053157\n",
      "p-value: 0.03766252175651733\n"
     ]
    }
   ],
   "source": [
    "import pandas as pd\n",
    "import scipy.stats as stats\n",
    "\n",
    "# Create a dataframe with weight loss data for each diet group\n",
    "df = pd.DataFrame({'Diet': ['A', 'B', 'C', 'A', 'B', 'C', ..., 'C'],\n",
    "                   'Weight Loss': [4.2, 5.1, 3.9, 3.8, 4.9, 4.1, ..., 4.5]})\n",
    "\n",
    "# Conduct a one-way ANOVA\n",
    "f_statistic, p_value = stats.f_oneway(df[df['Diet'] == 'A']['Weight Loss'],\n",
    "                                      df[df['Diet'] == 'B']['Weight Loss'],\n",
    "                                      df[df['Diet'] == 'C']['Weight Loss'])\n",
    "\n",
    "# Report the results\n",
    "print('F-statistic:', f_statistic)\n",
    "print('p-value:', p_value)\n"
   ]
  },
  {
   "cell_type": "markdown",
   "id": "f8a4668b-9226-49ca-845e-3e284e0176ad",
   "metadata": {},
   "source": [
    "### Answer 10"
   ]
  },
  {
   "cell_type": "code",
   "execution_count": null,
   "id": "ce77cd7b-ef6b-499d-96cf-e7f5f33d5e7e",
   "metadata": {},
   "outputs": [],
   "source": [
    "import pandas as pd\n",
    "import statsmodels.api as sm\n",
    "from statsmodels.formula.api import ols\n",
    "\n",
    "# Load data into a pandas DataFrame\n",
    "data = pd.read_csv('surgical_recovery_times.csv')\n",
    "\n",
    "# Fit the two-way ANOVA model\n",
    "model = ols('recovery_time ~ procedure + age + gender + procedure:age + procedure:gender', data=data).fit()\n",
    "anova_table = sm.stats.anova_lm(model, typ=2)\n",
    "\n",
    "# Print the ANOVA table\n",
    "print(anova_table)\n"
   ]
  },
  {
   "cell_type": "markdown",
   "id": "b23b581c-df46-411a-9c52-9b7e28107d19",
   "metadata": {},
   "source": [
    "### Answer 11"
   ]
  },
  {
   "cell_type": "code",
   "execution_count": 27,
   "id": "16d00126-535a-4db5-a480-d7f5ff0e1944",
   "metadata": {},
   "outputs": [
    {
     "name": "stdout",
     "output_type": "stream",
     "text": [
      "Two-sample t-test results:\n",
      "T-statistic: -3.032\n",
      "P-value: 0.003\n",
      "\n",
      "Post-hoc Tukey test results:\n",
      "Multiple Comparison of Means - Tukey HSD, FWER=0.05\n",
      "==================================================\n",
      "group1 group2 meandiff p-adj  lower  upper  reject\n",
      "--------------------------------------------------\n",
      "   0.0    1.0   4.5336 0.0028 1.5846 7.4826   True\n",
      "--------------------------------------------------\n"
     ]
    }
   ],
   "source": [
    "import numpy as np\n",
    "from scipy.stats import ttest_ind, f_oneway\n",
    "from statsmodels.stats.multicomp import pairwise_tukeyhsd\n",
    "\n",
    "np.random.seed(123)\n",
    "\n",
    "control_test = np.random.normal(loc=70, scale=10, size=100)\n",
    "experimental_test = np.random.normal(loc=75, scale=10, size=100)\n",
    "\n",
    "var_1 = np.var(control_test, ddof = 1)\n",
    "var_2 = np.var(experimental_test, ddof = 1)\n",
    "\n",
    "F = var_1/var_2\n",
    "\n",
    "alpha = 0.05\n",
    "\n",
    "t_stat, p_val = ttest_ind(control_test, experimental_test, equal_var=False)\n",
    "\n",
    "print(\"Two-sample t-test results:\")\n",
    "print(f\"T-statistic: {t_stat:.3f}\")\n",
    "print(f\"P-value: {p_val:.3f}\")\n",
    "\n",
    "if p_val < 0.05:\n",
    "    scores = np.concatenate([control_test, experimental_test])\n",
    "    groups = np.concatenate([np.zeros_like(control_test), np.ones_like(experimental_test)])\n",
    "    tukey_results = pairwise_tukeyhsd(scores, groups)\n",
    "    print(\"\\nPost-hoc Tukey test results:\")\n",
    "    print(tukey_results)"
   ]
  },
  {
   "cell_type": "markdown",
   "id": "34ce2d52-9959-4dee-9d7d-15c6a567e9be",
   "metadata": {},
   "source": [
    "### Answer 12\n"
   ]
  },
  {
   "cell_type": "code",
   "execution_count": 28,
   "id": "b1013ee2-4441-446f-807b-75f6ea8c06dc",
   "metadata": {},
   "outputs": [
    {
     "name": "stdout",
     "output_type": "stream",
     "text": [
      "      F Value  Num DF  Den DF  Pr > F\n",
      "Day  0.668415    29.0    58.0  0.8807\n",
      "  Multiple Comparison of Means - Tukey HSD, FWER=0.05  \n",
      "=======================================================\n",
      " group1  group2 meandiff p-adj   lower    upper  reject\n",
      "-------------------------------------------------------\n",
      "Store A Store B   3.4667 0.6205  -5.3856 12.3189  False\n",
      "Store A Store C     -0.1 0.9996  -8.9522  8.7522  False\n",
      "Store B Store C  -3.5667 0.6035 -12.4189  5.2856  False\n",
      "-------------------------------------------------------\n"
     ]
    }
   ],
   "source": [
    "import pandas as pd\n",
    "import numpy as np\n",
    "from scipy.stats import f_oneway\n",
    "from statsmodels.stats.multicomp import pairwise_tukeyhsd\n",
    "from statsmodels.stats.anova import AnovaRM\n",
    "\n",
    "# create a sample dataset\n",
    "data = {'Day': np.repeat(np.arange(1, 31), 3),\n",
    "        'Store': np.tile(['Store A', 'Store B', 'Store C'], 30),\n",
    "        'Sales': np.random.randint(50, 100, 90)}\n",
    "df = pd.DataFrame(data)\n",
    "\n",
    "# conduct a repeated measures ANOVA\n",
    "aovrm = AnovaRM(df, 'Sales', 'Store', within=['Day'])\n",
    "res = aovrm.fit()\n",
    "\n",
    "# print ANOVA table\n",
    "print(res.anova_table)\n",
    "\n",
    "# conduct post-hoc test (Tukey's HSD)\n",
    "posthoc = pairwise_tukeyhsd(df['Sales'], df['Store'])\n",
    "print(posthoc.summary())\n",
    "\n"
   ]
  },
  {
   "cell_type": "code",
   "execution_count": null,
   "id": "48ae2735-49f6-4a8c-bc7d-d5b555b3b762",
   "metadata": {},
   "outputs": [],
   "source": []
  }
 ],
 "metadata": {
  "kernelspec": {
   "display_name": "Python 3 (ipykernel)",
   "language": "python",
   "name": "python3"
  },
  "language_info": {
   "codemirror_mode": {
    "name": "ipython",
    "version": 3
   },
   "file_extension": ".py",
   "mimetype": "text/x-python",
   "name": "python",
   "nbconvert_exporter": "python",
   "pygments_lexer": "ipython3",
   "version": "3.10.8"
  }
 },
 "nbformat": 4,
 "nbformat_minor": 5
}
