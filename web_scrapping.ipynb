{
 "cells": [
  {
   "cell_type": "code",
   "execution_count": 2,
   "id": "d20fa6bb-7e98-44e0-bb13-8569ff444364",
   "metadata": {},
   "outputs": [],
   "source": [
    "import logging\n",
    "from urllib.request import urlopen\n",
    "from bs4 import BeautifulSoup as bs\n",
    "import requests"
   ]
  },
  {
   "cell_type": "code",
   "execution_count": 3,
   "id": "3463b98b-9a90-49b4-bede-cc2efa6abd3d",
   "metadata": {},
   "outputs": [],
   "source": [
    "flipkart_url = 'https://www.flipkart.com/search?q=' + 'tv'"
   ]
  },
  {
   "cell_type": "code",
   "execution_count": 4,
   "id": "11af7cf2-3f32-4ae1-abe2-1cddf5c48e29",
   "metadata": {},
   "outputs": [
    {
     "data": {
      "text/plain": [
       "'https://www.flipkart.com/search?q=tv'"
      ]
     },
     "execution_count": 4,
     "metadata": {},
     "output_type": "execute_result"
    }
   ],
   "source": [
    "flipkart_url"
   ]
  },
  {
   "cell_type": "code",
   "execution_count": 5,
   "id": "72947dab-b3d1-4d75-ab0f-e565f5246141",
   "metadata": {},
   "outputs": [],
   "source": [
    "url_client=urlopen(flipkart_url)"
   ]
  },
  {
   "cell_type": "code",
   "execution_count": 6,
   "id": "59219a44-6450-48fe-b681-b26e84402c8a",
   "metadata": {},
   "outputs": [],
   "source": [
    "flipkart_page = url_client.read()"
   ]
  },
  {
   "cell_type": "code",
   "execution_count": 7,
   "id": "bf9d2755-70b3-40f3-be3b-8f2623cdb85d",
   "metadata": {},
   "outputs": [],
   "source": [
    "flipkart_html = bs(flipkart_page, 'html.parser')"
   ]
  },
  {
   "cell_type": "code",
   "execution_count": 11,
   "id": "a0afcd4f-e55a-47de-b68f-92d320208df8",
   "metadata": {},
   "outputs": [],
   "source": [
    "bigbox = flipkart_html.find_all(\"div\",{\"class\": \"_1AtVbE col-12-12\"})"
   ]
  },
  {
   "cell_type": "code",
   "execution_count": 13,
   "id": "8b678efb-6185-4f11-8442-9f3ab32f9153",
   "metadata": {},
   "outputs": [
    {
     "data": {
      "text/plain": [
       "30"
      ]
     },
     "execution_count": 13,
     "metadata": {},
     "output_type": "execute_result"
    }
   ],
   "source": [
    "len(bigbox)"
   ]
  },
  {
   "cell_type": "code",
   "execution_count": 14,
   "id": "bc21005c-9150-47bc-a8a8-b1f42788fcb5",
   "metadata": {},
   "outputs": [],
   "source": [
    "del bigbox[0:3]"
   ]
  },
  {
   "cell_type": "code",
   "execution_count": 26,
   "id": "408580f8-a11e-400e-aabc-aacd5f6468c9",
   "metadata": {},
   "outputs": [],
   "source": [
    "productlink = 'https://www.flipkart.com' + bigbox[0].div.div.div.a['href']"
   ]
  },
  {
   "cell_type": "code",
   "execution_count": 25,
   "id": "a0bf90d5-f259-4e0a-bcbc-a96e9f2b321b",
   "metadata": {},
   "outputs": [
    {
     "name": "stdout",
     "output_type": "stream",
     "text": [
      "https://www.flipkart.com/mi-x-series-108-cm-43-inch-ultra-hd-4k-led-smart-android-tv-dolby-vision-30w-audio-2022-model/p/itm39b39b602f81a?pid=TVSGHEQVGZVTSEBT&lid=LSTTVSGHEQVGZVTSEBT6BSNVA&marketplace=FLIPKART&q=tv&store=ckf%2Fczl&srno=s_1_2&otracker=search&fm=organic&iid=en_TV2GAHlO0NKID2acn%2BahES3%2BRs%2FrhOBw7p5Ks0WfQmCELmOVnDvWvgVXBpxjj2a6mT8D%2FIaeKsHNuuV59lE%2BUQ%3D%3D&ppt=None&ppn=None&ssid=t8l7fpbutc0000001680711197126&qH=c9a1fdac6e082dd8\n",
      "https://www.flipkart.com/infinix-y1-80-cm-32-inch-hd-ready-led-smart-linux-tv-wall-mount/p/itme5476ca89d1b0?pid=TVSGFGF34GMTB9KF&lid=LSTTVSGFGF34GMTB9KFNOEUDG&marketplace=FLIPKART&q=tv&store=ckf%2Fczl&spotlightTagId=BestsellerId_ckf%2Fczl&srno=s_1_3&otracker=search&fm=organic&iid=612d27fd-5e11-456f-9a2f-2ca1e3b23ddc.TVSGFGF34GMTB9KF.SEARCH&ppt=None&ppn=None&ssid=t8l7fpbutc0000001680711197126&qH=c9a1fdac6e082dd8\n",
      "https://www.flipkart.com/thomson-alpha-80-cm-32-inch-hd-ready-led-smart-linux-tv-30-w-sound-output-bezel-less-design/p/itm0e90bcdadb9c9?pid=TVSGEMQV7R4CMTGA&lid=LSTTVSGEMQV7R4CMTGAN8OZ8J&marketplace=FLIPKART&q=tv&store=ckf%2Fczl&srno=s_1_4&otracker=search&fm=organic&iid=612d27fd-5e11-456f-9a2f-2ca1e3b23ddc.TVSGEMQV7R4CMTGA.SEARCH&ppt=None&ppn=None&ssid=t8l7fpbutc0000001680711197126&qH=c9a1fdac6e082dd8\n",
      "https://www.flipkart.com/acer-series-80-cm-32-inch-hd-ready-led-smart-android-tv-11-1-5gb-ram-2022-model/p/itm5767c4e3d5359?pid=TVSGEYD98YRZGSRU&lid=LSTTVSGEYD98YRZGSRUPETPT6&marketplace=FLIPKART&q=tv&store=ckf%2Fczl&srno=s_1_5&otracker=search&fm=organic&iid=612d27fd-5e11-456f-9a2f-2ca1e3b23ddc.TVSGEYD98YRZGSRU.SEARCH&ppt=None&ppn=None&ssid=t8l7fpbutc0000001680711197126&qH=c9a1fdac6e082dd8\n",
      "https://www.flipkart.com/lg-80-cm-32-inch-hd-ready-led-smart-webos-tv/p/itm6207e6d122567?pid=TVSFTW4CSRW8PGDQ&lid=LSTTVSFTW4CSRW8PGDQSZQIO6&marketplace=FLIPKART&q=tv&store=ckf%2Fczl&srno=s_1_6&otracker=search&fm=organic&iid=612d27fd-5e11-456f-9a2f-2ca1e3b23ddc.TVSFTW4CSRW8PGDQ.SEARCH&ppt=None&ppn=None&ssid=t8l7fpbutc0000001680711197126&qH=c9a1fdac6e082dd8\n",
      "https://www.flipkart.com/oneplus-y1s-108-cm-43-inch-full-hd-led-smart-android-tv-11-bezel-less-frame/p/itm178846d2e1567?pid=TVSGAXEVSNT3HBQA&lid=LSTTVSGAXEVSNT3HBQAKRCYE0&marketplace=FLIPKART&q=tv&store=ckf%2Fczl&srno=s_1_7&otracker=search&fm=organic&iid=612d27fd-5e11-456f-9a2f-2ca1e3b23ddc.TVSGAXEVSNT3HBQA.SEARCH&ppt=None&ppn=None&ssid=t8l7fpbutc0000001680711197126&qH=c9a1fdac6e082dd8\n",
      "https://www.flipkart.com/mi-5a-100-cm-40-inch-full-hd-led-smart-android-tv-dolby-audio-2022-model/p/itm6be60be56f52d?pid=TVSGD5CS4N7NWFZD&lid=LSTTVSGD5CS4N7NWFZDCMWLRV&marketplace=FLIPKART&q=tv&store=ckf%2Fczl&srno=s_1_8&otracker=search&fm=organic&iid=en_TV2GAHlO0NKID2acn%2BahES3%2BRs%2FrhOBw7p5Ks0WfQmBiz0eXk7vrakOT7LCpDT9LQuV%2FBHW9J9x6x8ROltl0gQ%3D%3D&ppt=None&ppn=None&ssid=t8l7fpbutc0000001680711197126&qH=c9a1fdac6e082dd8\n",
      "https://www.flipkart.com/samsung-80-cm-32-inch-hd-ready-led-smart-tizen-tv-2022-model/p/itm3c07ddc2dd25d?pid=TVSGHY2UZA9YHWQN&lid=LSTTVSGHY2UZA9YHWQNNQENTU&marketplace=FLIPKART&q=tv&store=ckf%2Fczl&spotlightTagId=FkPickId_ckf%2Fczl&srno=s_1_9&otracker=search&fm=organic&iid=612d27fd-5e11-456f-9a2f-2ca1e3b23ddc.TVSGHY2UZA9YHWQN.SEARCH&ppt=None&ppn=None&ssid=t8l7fpbutc0000001680711197126&qH=c9a1fdac6e082dd8\n",
      "https://www.flipkart.com/oneplus-y1-80-cm-32-inch-hd-ready-led-smart-android-tv-dolby-audio/p/itme650a6bb8cee3?pid=TVSFVWD2ENXYGEJY&lid=LSTTVSFVWD2ENXYGEJY9U6ROG&marketplace=FLIPKART&q=tv&store=ckf%2Fczl&spotlightTagId=BestsellerId_ckf%2Fczl&srno=s_1_10&otracker=search&fm=organic&iid=612d27fd-5e11-456f-9a2f-2ca1e3b23ddc.TVSFVWD2ENXYGEJY.SEARCH&ppt=None&ppn=None&ssid=t8l7fpbutc0000001680711197126&qH=c9a1fdac6e082dd8\n",
      "https://www.flipkart.com/oneplus-y1s-80-cm-32-inch-hd-ready-led-smart-android-tv-11-bezel-less-frame/p/itm0a39edd7df236?pid=TVSGAXEVXNG9YBUM&lid=LSTTVSGAXEVXNG9YBUMLGWYAS&marketplace=FLIPKART&q=tv&store=ckf%2Fczl&srno=s_1_11&otracker=search&fm=organic&iid=612d27fd-5e11-456f-9a2f-2ca1e3b23ddc.TVSGAXEVXNG9YBUM.SEARCH&ppt=None&ppn=None&ssid=t8l7fpbutc0000001680711197126&qH=c9a1fdac6e082dd8\n",
      "https://www.flipkart.com/skytron-80-cm-32-inch-hd-ready-led-smart-android-based-tv-20w-thunder-speaker-soundbar-cloud-lite-os-briefcase-packaging/p/itm2ce4c5b34eafd?pid=TVSGK94MGSERXAVA&lid=LSTTVSGK94MGSERXAVASBPRGZ&marketplace=FLIPKART&q=tv&store=ckf%2Fczl&srno=s_1_12&otracker=search&fm=organic&iid=en_TV2GAHlO0NKID2acn%2BahES3%2BRs%2FrhOBw7p5Ks0WfQmCxffwUGXiKgd1plUSJK%2Bt%2FuYxo146jJe1evfrn3I4kpg%3D%3D&ppt=None&ppn=None&ssid=t8l7fpbutc0000001680711197126&qH=c9a1fdac6e082dd8\n",
      "https://www.flipkart.com/acer-100-cm-40-inch-full-hd-led-smart-android-tv/p/itmd0bd88d59827f?pid=TVSGHNHVWVGGUQHY&lid=LSTTVSGHNHVWVGGUQHYCG8AJV&marketplace=FLIPKART&q=tv&store=ckf%2Fczl&srno=s_1_13&otracker=search&fm=organic&iid=612d27fd-5e11-456f-9a2f-2ca1e3b23ddc.TVSGHNHVWVGGUQHY.SEARCH&ppt=None&ppn=None&ssid=t8l7fpbutc0000001680711197126&qH=c9a1fdac6e082dd8\n",
      "https://www.flipkart.com/iffalcon-tcl-79-97-cm-32-inch-hd-ready-led-smart-android-tv-google-assistant-hdr-10-dolby-audio/p/itmf7hcfgwf2wzx8?pid=TVSF7HCFDCSAHZSE&lid=LSTTVSF7HCFDCSAHZSEIWJJBZ&marketplace=FLIPKART&q=tv&store=ckf%2Fczl&spotlightTagId=TrendingId_ckf%2Fczl&srno=s_1_14&otracker=search&fm=organic&iid=612d27fd-5e11-456f-9a2f-2ca1e3b23ddc.TVSF7HCFDCSAHZSE.SEARCH&ppt=None&ppn=None&ssid=t8l7fpbutc0000001680711197126&qH=c9a1fdac6e082dd8\n",
      "https://www.flipkart.com/sens-80-cm-32-inch-hd-ready-led-smart-linux-tv-dolby-audio/p/itm42bfcb2db2495?pid=TVSGHY2BCKSKB5QF&lid=LSTTVSGHY2BCKSKB5QFJ7HUWT&marketplace=FLIPKART&q=tv&store=ckf%2Fczl&srno=s_1_15&otracker=search&fm=organic&iid=612d27fd-5e11-456f-9a2f-2ca1e3b23ddc.TVSGHY2BCKSKB5QF.SEARCH&ppt=None&ppn=None&ssid=t8l7fpbutc0000001680711197126&qH=c9a1fdac6e082dd8\n",
      "https://www.flipkart.com/yuwa-y-snw-80-cm-32-inch-hd-ready-led-smart-android-based-tv-voice-assistant-5000-apps-games-20-content-partners/p/itm7aedafd497a25?pid=TVSGCZWJRMZXBY7T&lid=LSTTVSGCZWJRMZXBY7TXOAF0X&marketplace=FLIPKART&q=tv&store=ckf%2Fczl&srno=s_1_16&otracker=search&fm=organic&iid=en_TV2GAHlO0NKID2acn%2BahES3%2BRs%2FrhOBw7p5Ks0WfQmC%2F2kIgFfMvyn537itiyD9E9t6SCSc9qfSITMx47sOpQQ%3D%3D&ppt=None&ppn=None&ssid=t8l7fpbutc0000001680711197126&qH=c9a1fdac6e082dd8\n",
      "https://www.flipkart.com/sansui-80-cm-32-inch-hd-ready-led-smart-android-tv-11-midnight-black-2021-model/p/itm038eb70861a01?pid=TVSGYGQW3RZPMEVT&lid=LSTTVSGYGQW3RZPMEVTTQHQIM&marketplace=FLIPKART&q=tv&store=ckf%2Fczl&srno=s_1_17&otracker=search&fm=organic&iid=612d27fd-5e11-456f-9a2f-2ca1e3b23ddc.TVSGYGQW3RZPMEVT.SEARCH&ppt=None&ppn=None&ssid=t8l7fpbutc0000001680711197126&qH=c9a1fdac6e082dd8\n",
      "https://www.flipkart.com/samsung-crystal-4k-neo-series-108-cm-43-inch-ultra-hd-4k-led-smart-tizen-tv-black-2022-model/p/itma076c4dd16aa4?pid=TVSGEAGP9GXWCHCX&lid=LSTTVSGEAGP9GXWCHCXSVNDV5&marketplace=FLIPKART&q=tv&store=ckf%2Fczl&srno=s_1_18&otracker=search&fm=organic&iid=612d27fd-5e11-456f-9a2f-2ca1e3b23ddc.TVSGEAGP9GXWCHCX.SEARCH&ppt=None&ppn=None&ssid=t8l7fpbutc0000001680711197126&qH=c9a1fdac6e082dd8\n",
      "https://www.flipkart.com/iffalcon-tcl-f53-100-cm-40-inch-full-hd-led-smart-android-tv-11/p/itm4af56d3acdfc7?pid=TVSGCYVJGZKRMXZE&lid=LSTTVSGCYVJGZKRMXZE32WAPX&marketplace=FLIPKART&q=tv&store=ckf%2Fczl&srno=s_1_19&otracker=search&fm=organic&iid=612d27fd-5e11-456f-9a2f-2ca1e3b23ddc.TVSGCYVJGZKRMXZE.SEARCH&ppt=None&ppn=None&ssid=t8l7fpbutc0000001680711197126&qH=c9a1fdac6e082dd8\n",
      "https://www.flipkart.com/adsun-frameless-80-cm-32-inch-hd-ready-led-tv/p/itm1cc397ee891f4?pid=TVSGK8P3YH3GGG6F&lid=LSTTVSGK8P3YH3GGG6FGPOHIM&marketplace=FLIPKART&q=tv&store=ckf%2Fczl&srno=s_1_20&otracker=search&fm=organic&iid=en_TV2GAHlO0NKID2acn%2BahES3%2BRs%2FrhOBw7p5Ks0WfQmCsgl%2BXXNBcZeHiSUJAPEG8lYe6yH%2FlTtlVuAl2%2BuojAA%3D%3D&ppt=None&ppn=None&ssid=t8l7fpbutc0000001680711197126&qH=c9a1fdac6e082dd8\n",
      "https://www.flipkart.com/coocaa-80-cm-32-inch-hd-ready-led-smart-coolita-tv-dolby-audio-eye-care-technology/p/itm1d67beddce98f?pid=TVSG4VHWKAP6KYP4&lid=LSTTVSG4VHWKAP6KYP4VFHHOJ&marketplace=FLIPKART&q=tv&store=ckf%2Fczl&srno=s_1_21&otracker=search&fm=organic&iid=612d27fd-5e11-456f-9a2f-2ca1e3b23ddc.TVSG4VHWKAP6KYP4.SEARCH&ppt=None&ppn=None&ssid=t8l7fpbutc0000001680711197126&qH=c9a1fdac6e082dd8\n",
      "https://www.flipkart.com/iffalcon-tcl-u62-108-cm-43-inch-ultra-hd-4k-led-smart-google-tv-bezel-less-design-dolby-audio/p/itm09fd15fcb7ee8?pid=TVSGGJTQPTRDFDGX&lid=LSTTVSGGJTQPTRDFDGXEORYEG&marketplace=FLIPKART&q=tv&store=ckf%2Fczl&srno=s_1_22&otracker=search&fm=organic&iid=612d27fd-5e11-456f-9a2f-2ca1e3b23ddc.TVSGGJTQPTRDFDGX.SEARCH&ppt=None&ppn=None&ssid=t8l7fpbutc0000001680711197126&qH=c9a1fdac6e082dd8\n",
      "https://www.flipkart.com/acer-series-139-cm-55-inch-ultra-hd-4k-led-smart-android-tv-11-30w-dolby-audio-memc-2022-model/p/itm75ac6230f0901?pid=TVSGEYD9FW7UQDZ5&lid=LSTTVSGEYD9FW7UQDZ5YQLPCW&marketplace=FLIPKART&q=tv&store=ckf%2Fczl&srno=s_1_23&otracker=search&fm=organic&iid=612d27fd-5e11-456f-9a2f-2ca1e3b23ddc.TVSGEYD9FW7UQDZ5.SEARCH&ppt=None&ppn=None&ssid=t8l7fpbutc0000001680711197126&qH=c9a1fdac6e082dd8\n",
      "https://www.flipkart.com/yuwa-30w-in-built-soundbar-80-cm-32-inch-hd-ready-led-smart-android-tv-voice-assistant-5000-games-apps-20-content-partners/p/itm530a2af6d939c?pid=TVSGEFYZNKGHWAHM&lid=LSTTVSGEFYZNKGHWAHMB1MHDZ&marketplace=FLIPKART&q=tv&store=ckf%2Fczl&srno=s_1_24&otracker=search&fm=organic&iid=en_TV2GAHlO0NKID2acn%2BahES3%2BRs%2FrhOBw7p5Ks0WfQmB9S%2B9jgYwX0B2P0znsA7jl9W16OannYOh7zMktM1ceMg%3D%3D&ppt=None&ppn=None&ssid=t8l7fpbutc0000001680711197126&qH=c9a1fdac6e082dd8\n"
     ]
    },
    {
     "ename": "AttributeError",
     "evalue": "'NoneType' object has no attribute 'a'",
     "output_type": "error",
     "traceback": [
      "\u001b[0;31m---------------------------------------------------------------------------\u001b[0m",
      "\u001b[0;31mAttributeError\u001b[0m                            Traceback (most recent call last)",
      "Cell \u001b[0;32mIn[25], line 2\u001b[0m\n\u001b[1;32m      1\u001b[0m \u001b[38;5;28;01mfor\u001b[39;00m i \u001b[38;5;129;01min\u001b[39;00m bigbox:\n\u001b[0;32m----> 2\u001b[0m     \u001b[38;5;28mprint\u001b[39m(\u001b[38;5;124m'\u001b[39m\u001b[38;5;124mhttps://www.flipkart.com\u001b[39m\u001b[38;5;124m'\u001b[39m \u001b[38;5;241m+\u001b[39m \u001b[43mi\u001b[49m\u001b[38;5;241;43m.\u001b[39;49m\u001b[43mdiv\u001b[49m\u001b[38;5;241;43m.\u001b[39;49m\u001b[43mdiv\u001b[49m\u001b[38;5;241;43m.\u001b[39;49m\u001b[43mdiv\u001b[49m\u001b[38;5;241;43m.\u001b[39;49m\u001b[43ma\u001b[49m[\u001b[38;5;124m'\u001b[39m\u001b[38;5;124mhref\u001b[39m\u001b[38;5;124m'\u001b[39m])\n",
      "\u001b[0;31mAttributeError\u001b[0m: 'NoneType' object has no attribute 'a'"
     ]
    }
   ],
   "source": [
    "for i in bigbox:\n",
    "    print('https://www.flipkart.com' + i.div.div.div.a['href'])"
   ]
  },
  {
   "cell_type": "code",
   "execution_count": 27,
   "id": "01850836-aeba-42dd-bb3f-fbfa9f92789d",
   "metadata": {},
   "outputs": [
    {
     "data": {
      "text/plain": [
       "'https://www.flipkart.com/mi-x-series-108-cm-43-inch-ultra-hd-4k-led-smart-android-tv-dolby-vision-30w-audio-2022-model/p/itm39b39b602f81a?pid=TVSGHEQVGZVTSEBT&lid=LSTTVSGHEQVGZVTSEBT6BSNVA&marketplace=FLIPKART&q=tv&store=ckf%2Fczl&srno=s_1_2&otracker=search&fm=organic&iid=en_TV2GAHlO0NKID2acn%2BahES3%2BRs%2FrhOBw7p5Ks0WfQmCELmOVnDvWvgVXBpxjj2a6mT8D%2FIaeKsHNuuV59lE%2BUQ%3D%3D&ppt=None&ppn=None&ssid=t8l7fpbutc0000001680711197126&qH=c9a1fdac6e082dd8'"
      ]
     },
     "execution_count": 27,
     "metadata": {},
     "output_type": "execute_result"
    }
   ],
   "source": [
    "productlink"
   ]
  },
  {
   "cell_type": "code",
   "execution_count": 29,
   "id": "d2c8d563-c0bd-4e4b-8b15-3500cefb9a4d",
   "metadata": {},
   "outputs": [],
   "source": [
    "product_req = requests.get(productlink)"
   ]
  },
  {
   "cell_type": "code",
   "execution_count": 30,
   "id": "42d75494-1dd8-41d0-83d3-a458849f79c8",
   "metadata": {},
   "outputs": [
    {
     "data": {
      "text/plain": [
       "<Response [200]>"
      ]
     },
     "execution_count": 30,
     "metadata": {},
     "output_type": "execute_result"
    }
   ],
   "source": [
    "product_req"
   ]
  },
  {
   "cell_type": "code",
   "execution_count": 33,
   "id": "5c0cad14-3b89-4ee5-9d50-19a4c5c896aa",
   "metadata": {},
   "outputs": [],
   "source": [
    "product_html = bs(product_req.text, 'html.parser')"
   ]
  },
  {
   "cell_type": "code",
   "execution_count": 35,
   "id": "9049a3be-fbc1-45ef-9663-f4a937fa3254",
   "metadata": {},
   "outputs": [],
   "source": [
    "comment_box = product_html.find_all(\"div\", {\"class\": \"_16PBlm\" })"
   ]
  },
  {
   "cell_type": "code",
   "execution_count": 36,
   "id": "720acacd-686c-462c-8dfb-ad9eddd7aa21",
   "metadata": {},
   "outputs": [
    {
     "data": {
      "text/plain": [
       "11"
      ]
     },
     "execution_count": 36,
     "metadata": {},
     "output_type": "execute_result"
    }
   ],
   "source": [
    "len(comment_box)"
   ]
  },
  {
   "cell_type": "code",
   "execution_count": 39,
   "id": "ab2101ef-3629-4ae6-b8ce-a50950a5cbdb",
   "metadata": {},
   "outputs": [
    {
     "data": {
      "text/plain": [
       "'Devender Khatri'"
      ]
     },
     "execution_count": 39,
     "metadata": {},
     "output_type": "execute_result"
    }
   ],
   "source": [
    "comment_box[0].div.div.find_all(\"p\", {\"class\": \"_2sc7ZR _2V5EHH\"})[0].text"
   ]
  },
  {
   "cell_type": "code",
   "execution_count": 41,
   "id": "ad2b2903-e19f-4197-968c-8cdef29d6286",
   "metadata": {},
   "outputs": [
    {
     "name": "stdout",
     "output_type": "stream",
     "text": [
      "Devender Khatri\n",
      "Aditya Poddar\n",
      "PUSHPRAJ BHASKAR\n",
      "Partheeban\n",
      "Kiran Deshmukh\n",
      "\n",
      "VASEEM KHAN\n",
      "Naveen Goud M\n",
      "Flipkart Customer\n",
      "Danish Akhtar\n"
     ]
    },
    {
     "ename": "AttributeError",
     "evalue": "'NoneType' object has no attribute 'div'",
     "output_type": "error",
     "traceback": [
      "\u001b[0;31m---------------------------------------------------------------------------\u001b[0m",
      "\u001b[0;31mAttributeError\u001b[0m                            Traceback (most recent call last)",
      "Cell \u001b[0;32mIn[41], line 2\u001b[0m\n\u001b[1;32m      1\u001b[0m \u001b[38;5;28;01mfor\u001b[39;00m i \u001b[38;5;129;01min\u001b[39;00m comment_box:\n\u001b[0;32m----> 2\u001b[0m     \u001b[38;5;28mprint\u001b[39m(\u001b[43mi\u001b[49m\u001b[38;5;241;43m.\u001b[39;49m\u001b[43mdiv\u001b[49m\u001b[38;5;241;43m.\u001b[39;49m\u001b[43mdiv\u001b[49m\u001b[38;5;241m.\u001b[39mfind_all(\u001b[38;5;124m\"\u001b[39m\u001b[38;5;124mp\u001b[39m\u001b[38;5;124m\"\u001b[39m, {\u001b[38;5;124m\"\u001b[39m\u001b[38;5;124mclass\u001b[39m\u001b[38;5;124m\"\u001b[39m: \u001b[38;5;124m\"\u001b[39m\u001b[38;5;124m_2sc7ZR _2V5EHH\u001b[39m\u001b[38;5;124m\"\u001b[39m})[\u001b[38;5;241m0\u001b[39m]\u001b[38;5;241m.\u001b[39mtext)\n",
      "\u001b[0;31mAttributeError\u001b[0m: 'NoneType' object has no attribute 'div'"
     ]
    }
   ],
   "source": [
    "for i in comment_box:\n",
    "    print(i.div.div.find_all(\"p\", {\"class\": \"_2sc7ZR _2V5EHH\"})[0].text)"
   ]
  },
  {
   "cell_type": "code",
   "execution_count": 44,
   "id": "67204264-8c79-4f89-91cd-1bd9b12ec093",
   "metadata": {},
   "outputs": [
    {
     "data": {
      "text/plain": [
       "'Mind-blowing purchase'"
      ]
     },
     "execution_count": 44,
     "metadata": {},
     "output_type": "execute_result"
    }
   ],
   "source": [
    "comment_box[0].div.div.div.p.text"
   ]
  },
  {
   "cell_type": "code",
   "execution_count": 45,
   "id": "4a9731f1-0188-4237-9f57-8ade26d4ebd3",
   "metadata": {},
   "outputs": [
    {
     "name": "stdout",
     "output_type": "stream",
     "text": [
      "Mind-blowing purchase\n",
      "Highly recommended\n",
      "Classy product\n",
      "Worth the money\n",
      "Awesome\n",
      "Just wow!\n",
      "Very Good\n",
      "Must buy!\n",
      "Nice product\n",
      "Terrific\n"
     ]
    },
    {
     "ename": "AttributeError",
     "evalue": "'NoneType' object has no attribute 'div'",
     "output_type": "error",
     "traceback": [
      "\u001b[0;31m---------------------------------------------------------------------------\u001b[0m",
      "\u001b[0;31mAttributeError\u001b[0m                            Traceback (most recent call last)",
      "Cell \u001b[0;32mIn[45], line 2\u001b[0m\n\u001b[1;32m      1\u001b[0m \u001b[38;5;28;01mfor\u001b[39;00m i \u001b[38;5;129;01min\u001b[39;00m comment_box:\n\u001b[0;32m----> 2\u001b[0m     \u001b[38;5;28mprint\u001b[39m(\u001b[43mi\u001b[49m\u001b[38;5;241;43m.\u001b[39;49m\u001b[43mdiv\u001b[49m\u001b[38;5;241;43m.\u001b[39;49m\u001b[43mdiv\u001b[49m\u001b[38;5;241m.\u001b[39mdiv\u001b[38;5;241m.\u001b[39mp\u001b[38;5;241m.\u001b[39mtext)\n",
      "\u001b[0;31mAttributeError\u001b[0m: 'NoneType' object has no attribute 'div'"
     ]
    }
   ],
   "source": [
    "for i in comment_box:\n",
    "    print(i.div.div.div.p.text)"
   ]
  },
  {
   "cell_type": "code",
   "execution_count": 49,
   "id": "aec87b40-7c00-4542-8335-319dd3d2d2a4",
   "metadata": {},
   "outputs": [
    {
     "data": {
      "text/plain": [
       "'Excellent smart tv  you must buy it picture is superb sound quality also very nice purchased it with additional 3 year warranty'"
      ]
     },
     "execution_count": 49,
     "metadata": {},
     "output_type": "execute_result"
    }
   ],
   "source": [
    "comment_box[0].div.div.find_all('div',{'class': ''})[0].div.text"
   ]
  },
  {
   "cell_type": "code",
   "execution_count": 50,
   "id": "465958da-7e13-4054-81b2-d6a7ab66eb57",
   "metadata": {},
   "outputs": [
    {
     "name": "stdout",
     "output_type": "stream",
     "text": [
      "Excellent smart tv  you must buy it picture is superb sound quality also very nice purchased it with additional 3 year warranty\n",
      "Amazing tv by Xiaomi (MI),1. The Clarity of the display is so crisp and clear,2. The sound is so good and clear3. No lag or delay while using TV4. Great connectivity to wifi and Bluetooth5. The Bluetooth remote is so good that i can play it by sitting at next room .....Overall a great buy from Flipkart\n",
      "It is a very good TV, and the quality is also very good, it is a good performing TV for a middle class people in a low price.  I would like to say that this TV is very good compared to all, and can fulfill your wish of getting a TV at a low price.\n",
      "Received the product in good condition. Writing review after one hour of usage.Picture quality is perfect and sound is too good. Connectivity is fast enough. Overall worth for the price. Sound is perfect for medium sized hall and we should have HD pack for best viewing experience. It's good if product comes with wall mount as optional to choose with minimal additional charge and installation should be done at free of cost.\n",
      "Very nice TV in this price,  Tv screen quality super clear and detail view, But Internal storage required more usable storage is only 4 GB, Overall performance and Design is to Good, Installation in same Day thanks flipkart for very nice service, Installation person is very good and technical strong, MI service is to good. Thank you Flipkart\n",
      "Every thing is good with this product. And the delivery of this product is very good and the delivery boy were also polite ❤️\n",
      "Led is very nice, sound quality can do much batter like 40 watts speaker with woofer if it has to be done so enjoy much more\n",
      "Really very good experience with the TV. Picture quality is crystal clear. You have to do some settings for good sound experience. TV will get bit slower like every other TV cause it's just 2 GB ram and 8 GB storage. If you have WiFi connection you don't have any storage issues.\n",
      "Very good tv fast delivery and installation picture clarity is very good\n",
      "Very nice product..sound quality is very nice...picture quality is good .. overall experience with the product is nice 🙂..Thank you Flipkart for valuable product.\n"
     ]
    },
    {
     "ename": "AttributeError",
     "evalue": "'NoneType' object has no attribute 'div'",
     "output_type": "error",
     "traceback": [
      "\u001b[0;31m---------------------------------------------------------------------------\u001b[0m",
      "\u001b[0;31mAttributeError\u001b[0m                            Traceback (most recent call last)",
      "Cell \u001b[0;32mIn[50], line 2\u001b[0m\n\u001b[1;32m      1\u001b[0m \u001b[38;5;28;01mfor\u001b[39;00m i \u001b[38;5;129;01min\u001b[39;00m comment_box:\n\u001b[0;32m----> 2\u001b[0m     \u001b[38;5;28mprint\u001b[39m(\u001b[43mi\u001b[49m\u001b[38;5;241;43m.\u001b[39;49m\u001b[43mdiv\u001b[49m\u001b[38;5;241;43m.\u001b[39;49m\u001b[43mdiv\u001b[49m\u001b[38;5;241m.\u001b[39mfind_all(\u001b[38;5;124m'\u001b[39m\u001b[38;5;124mdiv\u001b[39m\u001b[38;5;124m'\u001b[39m,{\u001b[38;5;124m'\u001b[39m\u001b[38;5;124mclass\u001b[39m\u001b[38;5;124m'\u001b[39m: \u001b[38;5;124m'\u001b[39m\u001b[38;5;124m'\u001b[39m})[\u001b[38;5;241m0\u001b[39m]\u001b[38;5;241m.\u001b[39mdiv\u001b[38;5;241m.\u001b[39mtext)\n",
      "\u001b[0;31mAttributeError\u001b[0m: 'NoneType' object has no attribute 'div'"
     ]
    }
   ],
   "source": [
    "for i in comment_box:\n",
    "    print(i.div.div.find_all('div',{'class': ''})[0].div.text)"
   ]
  },
  {
   "cell_type": "code",
   "execution_count": null,
   "id": "41ccf3b8-b39e-474d-b98b-fa9fca49d84d",
   "metadata": {},
   "outputs": [],
   "source": []
  }
 ],
 "metadata": {
  "kernelspec": {
   "display_name": "Python 3 (ipykernel)",
   "language": "python",
   "name": "python3"
  },
  "language_info": {
   "codemirror_mode": {
    "name": "ipython",
    "version": 3
   },
   "file_extension": ".py",
   "mimetype": "text/x-python",
   "name": "python",
   "nbconvert_exporter": "python",
   "pygments_lexer": "ipython3",
   "version": "3.10.8"
  }
 },
 "nbformat": 4,
 "nbformat_minor": 5
}
