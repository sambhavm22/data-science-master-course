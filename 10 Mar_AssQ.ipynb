{
 "cells": [
  {
   "cell_type": "markdown",
   "id": "73192833-d333-425f-a82b-4ec3d7eb11b3",
   "metadata": {},
   "source": [
    "Q1: What is Estimation Statistics? Explain point estimate and interval estimate.\n",
    "\n",
    "Q2. Write a Python function to estimate the population mean using a sample mean and standard deviation.\n",
    "\n",
    "Q3: What is Hypothesis testing? Why is it used? State the importance of Hypothesis testing.\n",
    "\n",
    "Q4. Create a hypothesis that states whether the average weight of male college students is greater than the average weight of female college students.\n",
    "\n",
    "Q5. Write a Python script to conduct a hypothesis test on the difference between two population means, given a sample from each population.\n",
    "\n",
    "Q6: What is a null and alternative hypothesis? Give some examples.\n",
    "\n",
    "Q7: Write down the steps involved in hypothesis testing.\n",
    "\n",
    "Q8. Define p-value and explain its significance in hypothesis testing.\n",
    "\n",
    "Q9. Generate a Student's t-distribution plot using Python's matplotlib library, with the degrees of freedom parameter set to 10.\n",
    "\n",
    "Q10. Write a Python program to calculate the two-sample t-test for independent samples, given two random samples of equal size and a null hypothesis that the population means are equal.\n",
    "\n",
    "Q11: What is Student’s t distribution? When to use the t-Distribution.\n",
    "\n",
    "Q12: What is t-statistic? State the formula for t-statistic.\n",
    "\n",
    "Q13. A coffee shop owner wants to estimate the average daily revenue for their shop. They take a random sample of 50 days and find the sample mean revenue to be USD 500 with a standard deviation of $50.\n",
    "\n",
    "Estimate the population mean revenue with a 95% confidence interval.\n",
    "\n",
    "Q14. A researcher hypothesizes that a new drug will decrease blood pressure by 10 mmHg. They conduct a clinical trial with 100 patients and find that the sample mean decrease in blood pressure is 8 mmHg with a standard deviation of 3 mmHg. Test the hypothesis with a significance level of 0.05.\n",
    "\n",
    "Q15. An electronics company produces a certain type of product with a mean weight of 5 pounds and a standard deviation of 0.5 pounds. A random sample of 25 products is taken, and the sample mean weight is found to be 4.8 pounds. Test the hypothesis that the true mean weight of the products is less than 5 pounds with a significance level of 0.01.\n",
    "\n",
    "Q16. Two groups of students are given different study materials to prepare for a test. The first group (n1 = 30) has a mean score of 80 with a standard deviation of 10, and the second group (n2 = 40) has a mean score of 75 with a standard deviation of 8. Test the hypothesis that the population means for the two groups are equal with a significance level of 0.01.\n",
    "\n",
    "Q17. A marketing company wants to estimate the average number of ads watched by viewers during a TV program. They take a random sample of 50 viewers and find that the sample mean is 4 with a standard deviation of 1.5. Estimate the population mean with a 99% confidence interval."
   ]
  },
  {
   "cell_type": "markdown",
   "id": "883d2a2f-aa2a-4f8b-98cd-49533bbbea99",
   "metadata": {},
   "source": [
    "### Answer 1\n",
    "\n",
    "Estimation statistics is a branch of statistics that deals with estimating population parameters from sample statistics. The goal of estimation is to determine an approximate value for a population parameter based on the information provided by a sample.\n",
    "\n",
    "Point estimate is a single value estimate of the population parameter based on a sample statistic. For example, the sample mean (x̄) is a point estimate of the population mean (μ). A point estimate provides a rough estimate of the population parameter, but it is often not exact, since there is variability in the sample data.\n",
    "\n",
    "Interval estimate, also known as a confidence interval, is a range of values within which the population parameter is expected to lie with a certain level of confidence. It is based on the sample statistic and takes into account the variability in the data. The confidence level indicates the degree of confidence that the true population parameter falls within the interval. For example, a 95% confidence interval for the population mean (μ) indicates that we are 95% confident that the true population mean falls within the interval."
   ]
  },
  {
   "cell_type": "markdown",
   "id": "ef5daf76-3014-40ed-b9e8-292938688fad",
   "metadata": {},
   "source": [
    "### Answer 2"
   ]
  },
  {
   "cell_type": "code",
   "execution_count": 2,
   "id": "cdd297d8-7c68-48e5-b7e7-fbe2cc2807d4",
   "metadata": {},
   "outputs": [],
   "source": [
    "import math\n",
    "import scipy.stats as stats\n",
    "\n",
    "def estimate_population_mean(sample_mean, sample_stddev, sample_size, confidence_level):\n",
    "    \"\"\"\n",
    "    This function estimates the population mean with a given sample mean, standard deviation, sample size,\n",
    "    and confidence level using the t-distribution.\n",
    "    \"\"\"\n",
    "    # Calculate the critical t-value based on the confidence level and degrees of freedom (n-1)\n",
    "    alpha = 1 - confidence_level\n",
    "    df = sample_size - 1\n",
    "    t = abs(stats.t.ppf(alpha/2, df))\n",
    "\n",
    "    # Calculate the margin of error and confidence interval\n",
    "    margin_error = t * (sample_stddev / math.sqrt(sample_size))\n",
    "    lower_bound = sample_mean - margin_error\n",
    "    upper_bound = sample_mean + margin_error\n",
    "\n",
    "    # Return the estimated population mean and confidence interval\n",
    "    return (sample_mean, (lower_bound, upper_bound))\n"
   ]
  },
  {
   "cell_type": "code",
   "execution_count": 3,
   "id": "e869e209-7eae-45b5-b7b7-725ecc85afd4",
   "metadata": {},
   "outputs": [
    {
     "name": "stdout",
     "output_type": "stream",
     "text": [
      "Sample Mean: 500\n",
      "Confidence Interval: (485.79015724388137, 514.2098427561186)\n"
     ]
    }
   ],
   "source": [
    "import scipy.stats as stats\n",
    "\n",
    "sample_mean = 500\n",
    "sample_stddev = 50\n",
    "sample_size = 50\n",
    "confidence_level = 0.95\n",
    "\n",
    "result = estimate_population_mean(sample_mean, sample_stddev, sample_size, confidence_level)\n",
    "\n",
    "print(\"Sample Mean:\", result[0])\n",
    "print(\"Confidence Interval:\", result[1])\n"
   ]
  },
  {
   "cell_type": "markdown",
   "id": "0baeff0a-94f2-4c58-bb2a-b4a451854f86",
   "metadata": {},
   "source": [
    "### Answer 3 \n",
    "\n",
    "Hypothesis testing is a statistical method used to determine whether an observed effect or difference between two groups is statistically significant or likely due to chance. It involves formulating a null hypothesis, which represents the absence of any significant effect or difference, and an alternative hypothesis, which represents the presence of a significant effect or difference.\n",
    "\n",
    "The importance of hypothesis testing lies in its ability to provide a systematic way of testing hypotheses and drawing conclusions based on evidence from data. It helps researchers to evaluate whether the observed differences between groups are due to chance or whether they are statistically significant, and can be used to answer research questions, guide decision making, and inform policy.\n",
    "\n",
    "Hypothesis testing is used in various fields such as medicine, psychology, economics, engineering, and social sciences, to name a few. In medicine, for example, hypothesis testing is used to evaluate the effectiveness of new treatments or interventions by comparing their effects to a control group. In economics, hypothesis testing is used to determine whether changes in economic policy or practices have a significant effect on economic indicators such as GDP or unemployment rates.\n",
    "\n"
   ]
  },
  {
   "cell_type": "markdown",
   "id": "934b3572-efc0-4921-98cd-609499c4d743",
   "metadata": {},
   "source": [
    "### Answer 4 \n",
    "\n",
    "Null hypothesis: The average weight of male college students is equal to or less than the average weight of female college students.\n",
    "\n",
    "Alternative hypothesis: The average weight of male college students is greater than the average weight of female college students.\n",
    "\n",
    "Symbolically,\n",
    "\n",
    "H0: μmale ≤ μfemale\n",
    "\n",
    "Ha: μmale > μfemale\n",
    "\n",
    "where μmale represents the population mean weight of male college students and μfemale represents the population mean weight of female college students"
   ]
  },
  {
   "cell_type": "markdown",
   "id": "ed812a31-f6da-45e9-9d54-cf7c8efaa8a2",
   "metadata": {},
   "source": [
    "### Answer 5\n",
    "\n"
   ]
  },
  {
   "cell_type": "code",
   "execution_count": 21,
   "id": "bc45e792-77b9-4a49-a863-6b15ef0619bb",
   "metadata": {},
   "outputs": [
    {
     "name": "stdout",
     "output_type": "stream",
     "text": [
      "Sample mean 1:  10\n",
      "Sample mean 2:  12\n",
      "t_statistic:  -5.0\n",
      "P_Value:  2.513577983238048e-06\n",
      "reject the null hypothesis, population mean are not equal\n"
     ]
    }
   ],
   "source": [
    "import numpy as np\n",
    "from scipy.stats import ttest_ind_from_stats\n",
    "\n",
    "n1 = 50\n",
    "n2 = 50 \n",
    "mean1 = 10\n",
    "mean2 = 12\n",
    "std1 = 2\n",
    "std2 = 2\n",
    "\n",
    "tstats, pval = ttest_ind_from_stats(mean1, std1, n1, mean2, std2, n2)\n",
    "\n",
    "print(\"Sample mean 1: \", mean1)\n",
    "print(\"Sample mean 2: \", mean2)\n",
    "print(\"t_statistic: \", tstats)\n",
    "print(\"P_Value: \",pval)\n",
    "\n",
    "alpha = 0.05\n",
    "\n",
    "if pval < alpha:\n",
    "    print('reject the null hypothesis, population mean are not equal')\n",
    "    \n",
    "else:    \n",
    "    print('fail to reject the null hypothesis, population mean are equal')"
   ]
  },
  {
   "cell_type": "markdown",
   "id": "00427556-f593-4222-bb2d-858f806f46f2",
   "metadata": {},
   "source": [
    "### Answer 6\n",
    "\n",
    "The null hypothesis is a statement that assumes there is no significant difference between two groups or variables, or that any observed difference is due to random chance. The alternative hypothesis, on the other hand, is a statement that assumes there is a significant difference between two groups or variables, and that any observed difference is not due to random chance.\n",
    "\n",
    "Example for One-sample t-test:\n",
    "Null Hypothesis (H0): The average weight of apples is 150 grams.\n",
    "Alternative Hypothesis (HA): The average weight of apples is not equal to 150 grams.\n",
    "\n",
    "Example for Two-sample t-test:\n",
    "Null Hypothesis (H0): The mean math test score of boys is equal to the mean math test score of girls.\n",
    "Alternative Hypothesis (HA): The mean math test score of boys is different from the mean math test score of girls.\n",
    "\n",
    "Example for Chi-Square Goodness of Fit Test:\n",
    "Null Hypothesis (H0): The proportion of students who like to play football, basketball, and cricket is equal.\n",
    "Alternative Hypothesis (HA): The proportion of students who like to play football, basketball, and cricket is not equal.\n",
    "\n"
   ]
  },
  {
   "cell_type": "markdown",
   "id": "f5756748-b384-4180-9f2d-81263a7b793c",
   "metadata": {},
   "source": [
    "### Answer 7\n",
    "\n",
    "State the null hypothesis (H0) and alternative hypothesis (HA): The null hypothesis is the hypothesis of no difference or no effect, while the alternative hypothesis is the hypothesis of some difference or effect.\n",
    "\n",
    "Choose the appropriate test statistic and significance level (α): The test statistic is used to evaluate the evidence against the null hypothesis, while the significance level is the probability of rejecting the null hypothesis when it is true.\n",
    "\n",
    "Collect the data and calculate the test statistic: The data is collected and analyzed to calculate the test statistic. The test statistic depends on the type of hypothesis test being conducted.\n",
    "\n",
    "Calculate the p-value: The p-value is the probability of observing a test statistic as extreme as the one calculated, assuming the null hypothesis is true. The p-value is compared to the significance level to determine if the null hypothesis should be rejected.\n",
    "\n",
    "Interpret the results and draw conclusions: If the p-value is less than the significance level, the null hypothesis is rejected in favor of the alternative hypothesis. If the p-value is greater than the significance level, the null hypothesis is not rejected."
   ]
  },
  {
   "cell_type": "markdown",
   "id": "ed4257a2-5245-4c63-949c-d3c6a6a25699",
   "metadata": {},
   "source": [
    "### Answer 8\n",
    "\n",
    "The p-value is a measure of the evidence against the null hypothesis in statistical hypothesis testing. It represents the probability of observing a test statistic as extreme as the one calculated, assuming the null hypothesis is true.\n",
    "\n",
    "In hypothesis testing, the null hypothesis is initially assumed to be true. The p-value provides a way to evaluate how likely the observed data is under this assumption. If the p-value is small, it suggests that the observed data is unlikely to have occurred by chance under the null hypothesis. This provides evidence in favor of the alternative hypothesis.\n",
    "\n",
    "If the p-value is less than the chosen level of significance (α), typically 0.05 or 0.01, it is considered statistically significant. This means that the observed data is unlikely to have occurred by chance under the null hypothesis, and the null hypothesis is rejected in favor of the alternative hypothesis. If the p-value is greater than the level of significance, the observed data is consistent with the null hypothesis, and the null hypothesis is not rejected."
   ]
  },
  {
   "cell_type": "code",
   "execution_count": null,
   "id": "4c8c4dc1-f567-4272-90c2-fb3e6b28915b",
   "metadata": {},
   "outputs": [],
   "source": []
  },
  {
   "cell_type": "code",
   "execution_count": 15,
   "id": "572bad6e-b4a5-4eae-aebf-14370d8f7154",
   "metadata": {},
   "outputs": [],
   "source": [
    "### Answer 9\n",
    "\n",
    "import numpy as np\n",
    "import matplotlib.pyplot as plt\n",
    "from scipy.stats import t"
   ]
  },
  {
   "cell_type": "code",
   "execution_count": 18,
   "id": "5f000e42-e665-4e8a-8ad6-885a7a515772",
   "metadata": {},
   "outputs": [
    {
     "data": {
      "image/png": "[encoded data removed]",
      "text/plain": [
       "<Figure size 640x480 with 1 Axes>"
      ]
     },
     "metadata": {},
     "output_type": "display_data"
    }
   ],
   "source": [
    "df = 10 \n",
    "\n",
    "x = np.linspace(t.ppf(.001, df), t.ppf(.999, df), 1000)\n",
    "y = t.pdf(x, df)\n",
    "\n",
    "fig, ax = plt.subplots()\n",
    "ax.plot(x, y, 'b-', lw=2, alpha=0.9, label='t pdf')\n",
    "\n",
    "\n",
    "ax.set_xlabel('t-values')\n",
    "ax.set_ylabel('Probability density')\n",
    "ax.set_title('Student\\'s t-distribution with df = 10')\n",
    "ax.legend(loc='best', frameon=False)\n",
    "\n",
    "plt.show()"
   ]
  },
  {
   "cell_type": "markdown",
   "id": "a60c90ec-9d96-4cea-91a9-2307b7ff491f",
   "metadata": {},
   "source": [
    "### Answer 10"
   ]
  },
  {
   "cell_type": "code",
   "execution_count": 12,
   "id": "f10e919e-50a2-4a6f-9178-952ad9e8d6e9",
   "metadata": {},
   "outputs": [
    {
     "name": "stdout",
     "output_type": "stream",
     "text": [
      "Sample_1 mean:  9.953311125549591\n",
      "Sample_2 mean:  12.112028351741891\n",
      "T_test/statistics -5.839912933174943\n",
      "P_value:  6.80250264188335e-08\n",
      "reject the null hypothesis, population mean are not equal\n"
     ]
    }
   ],
   "source": [
    "import numpy as np\n",
    "from scipy.stats import ttest_ind\n",
    "\n",
    "sample_1 = np.random.normal(10, 2, size = 50)\n",
    "sample_2 = np.random.normal(12, 2, size = 50)\n",
    "\n",
    "t_stat, p_val = ttest_ind(sample_1, sample_2, equal_var=True)\n",
    "\n",
    "\n",
    "print(\"Sample_1 mean: \",np.mean(sample_1))\n",
    "print(\"Sample_2 mean: \",np.mean(sample_2))\n",
    "print('T_test/statistics', t_stat)\n",
    "print('P_value: ',p_val)\n",
    "\n",
    "alpha = 0.05\n",
    "\n",
    "if p_val < alpha :\n",
    "    print('reject the null hypothesis, population mean are not equal')\n",
    "    \n",
    "else:\n",
    "        print('fail to reject the null hypothesis, population mean are equal')"
   ]
  },
  {
   "cell_type": "markdown",
   "id": "61979999-1add-4b91-9003-e3dfb34d7125",
   "metadata": {},
   "source": [
    "### Answer 11\n",
    "\n",
    " the t-distribution is a probability distribution used in statistical inference when the sample size is small or the population standard deviation is unknown. It is used to estimate the population mean, calculate confidence intervals, test hypotheses about population means, and conduct t-tests. "
   ]
  },
  {
   "cell_type": "markdown",
   "id": "a84f1462-89f1-4ed7-9add-78aa43e01cee",
   "metadata": {},
   "source": [
    "### Answer 12\n",
    "\n",
    "The t-statistic is a statistical measure used to test whether the mean of a sample is significantly different from a known or hypothesized value.\n",
    "\n",
    "The formula for t-statistic is:\n",
    "\n",
    "t = (x̄ - μ) / (s / sqrt(n))"
   ]
  },
  {
   "cell_type": "markdown",
   "id": "3b46448b-f309-448f-9bd5-a53151571dab",
   "metadata": {},
   "source": [
    "### Answer 13"
   ]
  },
  {
   "cell_type": "code",
   "execution_count": 12,
   "id": "1a98f69c-3b36-43b5-a857-2f9886ecb39c",
   "metadata": {},
   "outputs": [
    {
     "name": "stdout",
     "output_type": "stream",
     "text": [
      "The 95% confidence interval for the population mean revenue is ($485.79, $514.21).\n"
     ]
    }
   ],
   "source": [
    "import math\n",
    "import scipy.stats as stats\n",
    "from scipy.stats import t\n",
    "\n",
    "# Sample statistics\n",
    "n = 50\n",
    "x_bar = 500\n",
    "s = 50\n",
    "\n",
    "# Confidence level and degrees of freedom\n",
    "alpha = 0.05\n",
    "df = n - 1\n",
    "\n",
    "# Calculate the standard error\n",
    "se = s / math.sqrt(n)\n",
    "\n",
    "# Calculate the t-value for the confidence interval\n",
    "t = abs(stats.t.ppf(alpha/2, df))\n",
    "\n",
    "# Calculate the lower and upper bounds of the confidence interval\n",
    "lower = x_bar - t * se\n",
    "upper = x_bar + t * se\n",
    "\n",
    "# Print the confidence interval\n",
    "print(f\"The 95% confidence interval for the population mean revenue is (${lower:.2f}, ${upper:.2f}).\")\n"
   ]
  },
  {
   "cell_type": "markdown",
   "id": "19a3828e-6c89-4b6c-80a3-78595ec35f4f",
   "metadata": {},
   "source": [
    "### Answer 14\n",
    "\n"
   ]
  },
  {
   "cell_type": "code",
   "execution_count": 15,
   "id": "c98088a5-ca0c-4223-95a0-8989bf5c0b6b",
   "metadata": {},
   "outputs": [
    {
     "name": "stdout",
     "output_type": "stream",
     "text": [
      "Test statistic: -6.67\n",
      "P-value: 0.0000\n",
      "Reject null hypothesis. The new drug has a statistically significant effect on decreasing blood pressure.\n"
     ]
    }
   ],
   "source": [
    "import math\n",
    "from scipy import stats\n",
    "\n",
    "# Sample statistics\n",
    "n = 100\n",
    "x_bar = 8\n",
    "s = 3\n",
    "\n",
    "# Hypothesis parameters\n",
    "mu = 10\n",
    "alpha = 0.05\n",
    "\n",
    "# Calculate the test statistic\n",
    "t = (x_bar - mu) / (s / math.sqrt(n))\n",
    "\n",
    "# Calculate the p-value\n",
    "p_value = stats.t.sf(abs(t), n - 1) * 2\n",
    "\n",
    "# Print the results\n",
    "print(f\"Test statistic: {t:.2f}\")\n",
    "print(f\"P-value: {p_value:.4f}\")\n",
    "\n",
    "if p_value < alpha:\n",
    "    print(\"Reject null hypothesis. The new drug has a statistically significant effect on decreasing blood pressure.\")\n",
    "else:\n",
    "    print(\"Fail to reject null hypothesis. There is not enough evidence to suggest that the new drug has a significant effect on decreasing blood pressure.\")\n"
   ]
  },
  {
   "cell_type": "markdown",
   "id": "6c94044b-d361-4c7e-9f82-3725bfe3aac1",
   "metadata": {},
   "source": [
    "### Answer 15\n",
    "\n"
   ]
  },
  {
   "cell_type": "code",
   "execution_count": 17,
   "id": "2372eb7f-0146-4f19-b193-c01fa649d696",
   "metadata": {},
   "outputs": [
    {
     "name": "stdout",
     "output_type": "stream",
     "text": [
      "Test statistic: -2.00\n",
      "P-value: 0.0569\n",
      "Fail to reject null hypothesis\n"
     ]
    }
   ],
   "source": [
    "import math\n",
    "from scipy import stats \n",
    "\n",
    "\n",
    "# Sample statistics\n",
    "std = 0.5 \n",
    "n= 25\n",
    "x_bar = 4.8\n",
    "\n",
    "# Hypothesis parameters\n",
    "mu = 5\n",
    "alpha = 0.01\n",
    "\n",
    "t = (x_bar - mu) / (std/math.sqrt(n))\n",
    "\n",
    "p_value = stats.t.sf(abs(t), n - 1) * 2\n",
    "p_value = stats.t.cdf(t, n - 1)\n",
    "\n",
    "print(f\"Test statistic: {t:.2f}\")\n",
    "print(f\"P-value: {p_value:.4f}\")\n",
    "\n",
    "if p_value < alpha:\n",
    "    print(\"Reject null hypothesis\")\n",
    "else:\n",
    "    print(\"Fail to reject null hypothesis\")"
   ]
  },
  {
   "cell_type": "markdown",
   "id": "ee3f69e2-a5b9-40ac-a520-6032a13120b7",
   "metadata": {},
   "source": [
    "### Answer 16"
   ]
  },
  {
   "cell_type": "code",
   "execution_count": 21,
   "id": "d98dd31a-1747-4078-8575-5c4eb8263cbf",
   "metadata": {},
   "outputs": [
    {
     "name": "stdout",
     "output_type": "stream",
     "text": [
      "Test statistic: 2.25\n",
      "P-value: 1.9715\n",
      "Fail to reject null hypothesis. There is not enough evidence to suggest that the population means for the two groups are not equal.\n"
     ]
    }
   ],
   "source": [
    "import math\n",
    "from scipy import stats\n",
    "\n",
    "# Sample statistics for group 1\n",
    "n1 = 30\n",
    "x1_bar = 80\n",
    "s1 = 10\n",
    "\n",
    "# Sample statistics for group 2\n",
    "n2 = 40\n",
    "x2_bar = 75\n",
    "s2 = 8\n",
    "\n",
    "# Hypothesis parameters\n",
    "alpha = 0.01\n",
    "\n",
    "# Calculate the test statistic\n",
    "t = (x1_bar - x2_bar) / math.sqrt((s1 ** 2 / n1) + (s2 ** 2 / n2))\n",
    "\n",
    "# Calculate the degrees of freedom\n",
    "df = ((s1 ** 2 / n1) + (s2 ** 2 / n2)) ** 2 / (((s1 ** 2 / n1) ** 2) / (n1 - 1) + ((s2 ** 2 / n2) ** 2) / (n2 - 1))\n",
    "\n",
    "# Calculate the p-value\n",
    "p_value = stats.t.cdf(t, df) * 2\n",
    "\n",
    "# Print the results\n",
    "print(f\"Test statistic: {t:.2f}\")\n",
    "print(f\"P-value: {p_value:.4f}\")\n",
    "\n",
    "if p_value < alpha:\n",
    "    print(\"Reject null hypothesis. The population means for the two groups are not equal.\")\n",
    "else:\n",
    "    print(\"Fail to reject null hypothesis. There is not enough evidence to suggest that the population means for the two groups are not equal.\")\n"
   ]
  },
  {
   "cell_type": "markdown",
   "id": "659ccfaf-c2fa-480a-88ba-a1430f0ba769",
   "metadata": {},
   "source": [
    "### Answer 17"
   ]
  },
  {
   "cell_type": "code",
   "execution_count": 23,
   "id": "629df38c-5fb8-441c-b3fd-2c2fbba8a970",
   "metadata": {},
   "outputs": [
    {
     "name": "stdout",
     "output_type": "stream",
     "text": [
      "Population mean estimate: 4.00\n",
      "99% Confidence interval: (3.43, 4.57)\n"
     ]
    }
   ],
   "source": [
    "import numpy as np\n",
    "from scipy.stats import t\n",
    "\n",
    "# Given data\n",
    "n = 50\n",
    "x_bar = 4\n",
    "s = 1.5\n",
    "alpha = 0.01   # significance level\n",
    "\n",
    "# Degrees of freedom\n",
    "df = n - 1\n",
    "\n",
    "# Calculate the critical value of t for the confidence level and degrees of freedom\n",
    "t_critical = abs(t.ppf(alpha/2, df))\n",
    "\n",
    "# Calculate the margin of error\n",
    "margin_of_error = t_critical * s / np.sqrt(n)\n",
    "\n",
    "# Calculate the lower and upper bounds of the confidence interval\n",
    "lower_bound = x_bar - margin_of_error\n",
    "upper_bound = x_bar + margin_of_error\n",
    "\n",
    "# Print the results\n",
    "print(f\"Population mean estimate: {x_bar:.2f}\")\n",
    "print(f\"99% Confidence interval: ({lower_bound:.2f}, {upper_bound:.2f})\")\n"
   ]
  },
  {
   "cell_type": "code",
   "execution_count": null,
   "id": "d45f82da-7b85-4c7e-88a2-00fa0ceb6b11",
   "metadata": {},
   "outputs": [],
   "source": []
  }
 ],
 "metadata": {
  "kernelspec": {
   "display_name": "Python 3 (ipykernel)",
   "language": "python",
   "name": "python3"
  },
  "language_info": {
   "codemirror_mode": {
    "name": "ipython",
    "version": 3
   },
   "file_extension": ".py",
   "mimetype": "text/x-python",
   "name": "python",
   "nbconvert_exporter": "python",
   "pygments_lexer": "ipython3",
   "version": "3.10.8"
  }
 },
 "nbformat": 4,
 "nbformat_minor": 5
}
