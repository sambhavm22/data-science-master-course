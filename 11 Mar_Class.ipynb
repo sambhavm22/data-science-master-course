{
 "cells": [
  {
   "cell_type": "markdown",
   "id": "96267148-2ab7-4517-9c5d-bafbbd4ec058",
   "metadata": {},
   "source": [
    "Q1: What is the difference between a t-test and a z-test? Provide an example scenario where you would use each type of test.\n",
    "\n",
    "Q2: Differentiate between one-tailed and two-tailed tests.\n",
    "\n",
    "Q3: Explain the concept of Type 1 and Type 2 errors in hypothesis testing. Provide an example scenario for each type of error.\n",
    "\n",
    "Q4: Explain Bayes's theorem with an example.\n",
    "\n",
    "Q5: What is a confidence interval? How to calculate the confidence interval, explain with an example.\n",
    "\n",
    "Q6. Use Bayes' Theorem to calculate the probability of an event occurring given prior knowledge of the event's probability and new evidence. Provide a sample problem and solution.\n",
    "\n",
    "Q7. Calculate the 95% confidence interval for a sample of data with a mean of 50 and a standard deviation of 5. Interpret the results.\n",
    "\n",
    "Q8. What is the margin of error in a confidence interval? How does sample size affect the margin of error? Provide an example of a scenario where a larger sample size would result in a smaller margin of error.\n",
    "\n",
    "Q9. Calculate the z-score for a data point with a value of 75, a population mean of 70, and a population standard deviation of 5. Interpret the results.\n",
    "\n",
    "Q10. In a study of the effectiveness of a new weight loss drug, a sample of 50 participants lost an average of 6 pounds with a standard deviation of 2.5 pounds. Conduct a hypothesis test to determine if the drug is significantly effective at a 95% confidence level using a t-test.\n",
    "\n",
    "Q11. In a survey of 500 people, 65% reported being satisfied with their current job. Calculate the 95% confidence interval for the true proportion of people who are satisfied with their job.\n",
    "\n",
    "Q12. A researcher is testing the effectiveness of two different teaching methods on student performance. Sample A has a mean score of 85 with a standard deviation of 6, while sample B has a mean score of 82 with a standard deviation of 5. Conduct a hypothesis test to determine if the two teaching methods have a significant difference in student performance using a t-test with a significance level of 0.01.\n",
    "\n",
    "Q13. A population has a mean of 60 and a standard deviation of 8. A sample of 50 observations has a mean of 65. Calculate the 90% confidence interval for the true population mean.\n",
    "\n",
    "Q14. In a study of the effects of caffeine on reaction time, a sample of 30 participants had an average reaction time of 0.25 seconds with a standard deviation of 0.05 seconds. Conduct a hypothesis test to determine if the caffeine has a significant effect on reaction time at a 90% confidence level using a t-test."
   ]
  },
  {
   "cell_type": "markdown",
   "id": "2d75b92c-245b-407a-815a-294afda1632a",
   "metadata": {},
   "source": [
    "### Answer 1\n",
    "\n",
    "The main difference between t-test and z-test is that a z-test is used when the population standard deviation is known, while a t-test is used when the population standard deviation is unknown or not provided. Another difference is that t-tests are typically used for smaller sample sizes, whereas z-tests are used for larger sample sizes.\n",
    "\n",
    "Suppose you are conducting a study to compare the average salaries of two different professions, doctors and lawyers, in a given city. You have collected a random sample of 50 doctors and 50 lawyers and want to determine whether there is a significant difference in their average salaries. You know the population standard deviation for both groups. A z-test is appropriate in this scenario because you have a large enough sample size to assume that the sample means follow a normal distribution.\n",
    "\n",
    "let's suppose you are conducting a similar study, but this time you do not know the population standard deviation of either profession. You have collected a random sample of 20 doctors and 20 lawyers and want to determine whether there is a significant difference in their average salaries. A t-test is appropriate in this scenario because you have a small sample size and cannot assume that the sample means follow a normal distribution."
   ]
  },
  {
   "cell_type": "markdown",
   "id": "57773926-1d24-4242-b261-9d7f17e6aa49",
   "metadata": {},
   "source": [
    "### Answer 2\n",
    "\n",
    "One-tailed tests are used when the direction of an effect is specified in advance, while two-tailed tests are used when the direction of the effect is not specified or when testing for differences in either direction."
   ]
  },
  {
   "cell_type": "markdown",
   "id": "bcc06ecb-fb34-4926-9f4f-d37f8383d36e",
   "metadata": {},
   "source": [
    "### Answer 3\n",
    "\n",
    "A Type 1 error is also called a false positive. It occurs when we reject the null hypothesis when it is actually true. This means we have concluded that there is a significant difference or relationship between the variables being studied when, in fact, there is no such difference or relationship. \n",
    "\n",
    "Example scenario: A pharmaceutical company is conducting a clinical trial to test a new drug's effectiveness in treating a specific disease. The null hypothesis is that the drug is not effective, and the alternative hypothesis is that the drug is effective. If the company rejects the null hypothesis based on the results of the study, but in reality, the drug is not effective, this is a Type 1 error.\n",
    "\n",
    "A Type 2 error is also called a false negative. It occurs when we fail to reject the null hypothesis when it is actually false. This means we have concluded that there is no significant difference or relationship between the variables being studied when, in fact, there is such a difference or relationship.\n",
    "\n",
    "Example scenario: A researcher is studying the effects of a new teaching method on students' test scores. The null hypothesis is that there is no difference in test scores between the two groups, and the alternative hypothesis is that the new teaching method leads to higher test scores. If the researcher fails to reject the null hypothesis based on the results of the study, but in reality, the new teaching method does lead to higher test scores, this is a Type 2 error."
   ]
  },
  {
   "cell_type": "markdown",
   "id": "a59bf98e-78bd-4bbf-8e39-2d03af574bc0",
   "metadata": {},
   "source": [
    "### Answer 4\n",
    "\n",
    "Bayes's theorem is a mathematical formula used to update the probability of an event based on new evidence or information. \n",
    "\n",
    "P(A|B) = (P(B|A) * P(A)) / P(B)\n",
    "\n",
    "P(A|B) is the probability of event A given that event B has occurred\n",
    "P(B|A) is the probability of event B given that event A has occurred\n",
    "P(A) is the prior probability of event A\n",
    "P(B) is the prior probability of event B\n",
    "\n",
    "Suppose a medical test is used to diagnose a rare disease that affects 1 in every 10,000 people. The test is 99% accurate, meaning that it correctly identifies 99% of people who have the disease, and also gives a false positive result in 1% of people who do not have the disease.\n",
    "\n",
    "We can use Bayes's theorem to calculate the probability that a person who tests positive for the disease actually has the disease. Let's say we have a population of 1 million people, and we test all of them for the disease. Based on the prevalence of the disease, we would expect 100 people to have the disease and 999,900 people to not have the disease.\n",
    "\n",
    "If a person tests positive for the disease, what is the probability that they actually have the disease?\n",
    "\n",
    "Using Bayes's theorem, we can calculate:\n",
    "\n",
    "P(Disease|Positive Test) = (P(Positive Test|Disease) * P(Disease)) / P(Positive Test)\n",
    "\n",
    "P(Positive Test|Disease) = 0.99 (the test correctly identifies 99% of people with the disease)\n",
    "\n",
    "P(Disease) = 0.0001 (the prevalence of the disease in the population)\n",
    "\n",
    "P(Positive Test) = P(Positive Test|Disease) * P(Disease) + P(Positive Test|No Disease) * P(No Disease) = 0.99 * 0.0001 + 0.01 * 0.9999 = 0.010098\n",
    "\n",
    "P(Disease|Positive Test) = (0.99 * 0.0001) / 0.010098 = 0.0098\n",
    "\n",
    "Therefore, if a person tests positive for the disease, the probability that they actually have the disease is only 0.98%. This example illustrates how Bayes's theorem can be used to update the probability of an event based on new evidence or information."
   ]
  },
  {
   "cell_type": "markdown",
   "id": "88dc0272-f05f-475b-812d-ffb7ff6a15f0",
   "metadata": {},
   "source": [
    "### Answer 5\n",
    "\n",
    "A confidence interval is a range of values that is likely to contain the true value of a population parameter, such as a mean or proportion. It is used in statistics to estimate the precision of a sample statistic and to provide a measure of uncertainty around that estimate.\n",
    "\n",
    "To calculate a confidence interval, you need to know the sample size, the sample mean, the standard deviation (or standard error), and the desired level of confidence. The level of confidence is typically set at 95% or 99%, which means that we are 95% or 99% confident that the true population parameter falls within the calculated interval.\n",
    "\n",
    "For example: - \n",
    "\n",
    "Suppose we want to estimate the average height of male students in a particular school. We take a random sample of 100 male students and measure their heights. The sample mean height is 175 cm, and the standard deviation of the sample is 5 cm. We want to calculate a 95% confidence interval for the population mean height.\n",
    "\n",
    "The formula for calculating the confidence interval is:\n",
    "\n",
    "Confidence interval = sample mean +/- (t-value * standard error)\n",
    "\n",
    "where:\n",
    "\n",
    "sample mean is the mean height of the sample (175 cm)\n",
    "t-value is the critical value from the t-distribution table for the desired level of confidence and degrees of freedom (98 in this case, since n-1=99-1=98)\n",
    "standard error is the standard deviation of the sample divided by the square root of the sample size (5/sqrt(100) = 0.5)\n",
    "Using the t-distribution table for a 95% confidence level and 98 degrees of freedom, we find that the t-value is approximately 1.984.\n",
    "\n",
    "Therefore, the confidence interval for the population mean height is:\n",
    "\n",
    "175 +/- (1.984 * 0.5) = 175 +/- 0.992\n",
    "\n",
    "This means that we are 95% confident that the true population mean height falls within the range of 174.008 to 175.992 cm.\n",
    "\n",
    "In conclusion, a confidence interval provides a range of values that is likely to contain the true value of a population parameter. The confidence interval is calculated using the sample statistic, the standard error, and the desired level of confidence, and it provides a measure of uncertainty around the estimate of the population parameter.\n",
    "\n",
    "\n",
    "\n",
    "\n"
   ]
  },
  {
   "cell_type": "markdown",
   "id": "62aacf45-6eee-402e-8903-7690396286c9",
   "metadata": {},
   "source": [
    "### Answer 6\n",
    "\n",
    "Suppose a certain disease affects 1% of the population. A diagnostic test for the disease has a false positive rate of 5% (meaning it incorrectly identifies 5% of healthy people as having the disease) and a false negative rate of 2% (meaning it incorrectly identifies 2% of people with the disease as not having it). If a person tests positive for the disease, what is the probability that they actually have it?\n",
    "\n",
    "Solution:\n",
    "\n",
    "Let's define our events as follows:\n",
    "\n",
    "A: the person has the disease\n",
    "B: the person tests positive for the disease\n",
    "We are trying to find the probability of event A given evidence B, which is P(A|B). We can use Bayes' Theorem to calculate this:\n",
    "\n",
    "P(A|B) = P(B|A) * P(A) / P(B)\n",
    "\n",
    "First, we need to calculate the probability of evidence B given that event A has occurred (i.e., the true positive rate of the test). This is simply the complement of the false negative rate, which is:\n",
    "\n",
    "P(B|A) = 1 - 0.02 = 0.98\n",
    "\n",
    "Next, we need to calculate the prior probability of event A occurring, which is given in the problem as 0.01:\n",
    "\n",
    "P(A) = 0.01\n",
    "\n",
    "Finally, we need to calculate the prior probability of evidence B occurring, which can be expressed as the sum of the probabilities of true positive and false positive results:\n",
    "\n",
    "P(B) = P(B|A) * P(A) + P(B|not A) * P(not A)\n",
    "= 0.98 * 0.01 + 0.05 * 0.99\n",
    "= 0.0577\n",
    "\n",
    "(Note that we also need to calculate the probability of not having the disease, which is simply the complement of P(A).)\n",
    "\n",
    "Now we can plug in all these values into Bayes' Theorem to get:\n",
    "\n",
    "P(A|B) = 0.98 * 0.01 / 0.0577\n",
    "= 0.1695\n",
    "\n",
    "So the probability that a person who tests positive for the disease actually has it is approximately 16.95%. This may seem low, but it's due to the low prevalence of the disease in the population combined with the imperfect accuracy of the diagnostic test.\n",
    "\n",
    "\n",
    "\n",
    "\n"
   ]
  },
  {
   "cell_type": "markdown",
   "id": "15e1e5f3-a418-4703-825d-2a412b4f2ff6",
   "metadata": {},
   "source": [
    "### Answer 7\n",
    "\n",
    "To calculate the 95% confidence interval for a sample of data with a mean of 50 and a standard deviation of 5, we can use the following formula:\n",
    "\n",
    "CI = X ± Z * (s / sqrt(n))\n",
    "\n",
    "Where:\n",
    "\n",
    "CI is the confidence interval\n",
    "X is the sample mean\n",
    "Z is the Z-score for the desired confidence level (95% confidence level corresponds to a Z-score of 1.96)\n",
    "s is the sample standard deviation\n",
    "n is the sample size\n",
    "Plugging in the values we have:\n",
    "\n",
    "CI = 50 ± 1.96 * (5 / sqrt(n))\n",
    "\n",
    "Since we don't have any information about the sample size, we cannot calculate the exact confidence interval. However, we can still interpret the formula and make some general statements about the confidence interval.\n",
    "\n",
    "The confidence interval represents a range of values around the sample mean that we can be 95% confident contains the true population mean. In other words, if we were to repeat the sampling process many times, and calculate the 95% confidence interval for each sample, we would expect the true population mean to fall within the confidence interval for 95% of those samples.\n",
    "\n",
    "The width of the confidence interval depends on the sample size, the sample standard deviation, and the desired level of confidence. In this case, assuming a reasonable sample size, the confidence interval will be centered around the sample mean of 50, and will have a width of approximately 1.96 times the standard error of the mean (which is s / sqrt(n)). This means that a larger sample size would result in a narrower confidence interval, while a smaller sample size would result in a wider confidence interval.\n",
    "\n"
   ]
  },
  {
   "cell_type": "markdown",
   "id": "e006f4b3-6876-45e2-b2cc-36509dd6a184",
   "metadata": {},
   "source": [
    "### Answer 8\n",
    "\n",
    "\n",
    "The margin of error in a confidence interval is a measure of the precision of the estimate of the population parameter. It represents the maximum distance between the point estimate (such as the sample mean or proportion) and the true population parameter, within the specified level of confidence.\n",
    "\n",
    "The margin of error is calculated as:\n",
    "\n",
    "Margin of error = Z * (standard error)\n",
    "\n",
    "Where:\n",
    "\n",
    "Z is the critical value for the desired level of confidence\n",
    "Standard error is the standard deviation of the sampling distribution of the point estimate, which depends on the sample size and the population parameter being estimated\n",
    "In general, larger sample sizes result in smaller margins of error. This is because as the sample size increases, the standard error decreases, making the estimate of the population parameter more precise. Specifically, the standard error is inversely proportional to the square root of the sample size.\n",
    "\n",
    "Here is an example scenario where a larger sample size would result in a smaller margin of error:\n",
    "\n",
    "Suppose we want to estimate the proportion of registered voters in a certain state who plan to vote for a certain candidate in an upcoming election. We take a random sample of 100 voters and find that 60 of them plan to vote for the candidate. Using this sample, we want to construct a 95% confidence interval for the population proportion.\n",
    "\n",
    "We can calculate the margin of error as:\n",
    "\n",
    "Margin of error = 1.96 * sqrt[(0.6 * 0.4) / 100] ≈ 0.098\n",
    "\n",
    "This means that we can be 95% confident that the true proportion of voters who plan to vote for the candidate falls within the interval:\n",
    "\n",
    "0.6 ± 0.098, or (0.502, 0.698)\n",
    "\n",
    "Now suppose we take a larger sample of 1000 voters instead of 100. We find that 600 of them plan to vote for the candidate. Using this sample, we want to construct a 95% confidence interval for the population proportion.\n",
    "\n",
    "We can calculate the margin of error as:\n",
    "\n",
    "Margin of error = 1.96 * sqrt[(0.6 * 0.4) / 1000] ≈ 0.031\n",
    "\n",
    "This means that we can be 95% confident that the true proportion of voters who plan to vote for the candidate falls within the interval:\n",
    "\n",
    "0.6 ± 0.031, or (0.569, 0.631)\n",
    "\n",
    "As we can see, the larger sample size results in a smaller margin of error, which means that the interval is narrower and the estimate is more precise."
   ]
  },
  {
   "cell_type": "code",
   "execution_count": null,
   "id": "1e464cbb-f1a9-4115-9e29-139ddb60b0c8",
   "metadata": {},
   "outputs": [
    {
     "name": "stdout",
     "output_type": "stream",
     "text": [
      "the z-score is: 1.0\n",
      "The probability of observing a value of 75 or higher is: 0.15865525393145707\n"
     ]
    }
   ],
   "source": [
    "### Answer 9\n",
    "\n",
    "from scipy.stats import norm\n",
    "\n",
    "# Set up the parameters for the normal distribution\n",
    "x = 75\n",
    "mu = 70\n",
    "std = 5\n",
    "\n",
    "# Calculate the probability and print the results\n",
    "z = (x-mu)/std\n",
    "\n",
    "print(\"the z-score is:\",z)\n",
    "\n",
    "p = 1 - norm.cdf(z)\n",
    "\n",
    "print(\"The probability of observing a value of 75 or higher is:\", p)\n"
   ]
  },
  {
   "cell_type": "markdown",
   "id": "b9531be4-e41d-4c69-ad68-69a950cde21a",
   "metadata": {},
   "source": [
    "### Answer 10\n"
   ]
  },
  {
   "cell_type": "code",
   "execution_count": 12,
   "id": "bac127d5-13c8-4996-a100-e3101f217f94",
   "metadata": {},
   "outputs": [
    {
     "name": "stdout",
     "output_type": "stream",
     "text": [
      "Sample size (n): 50\n",
      "Sample mean: 6\n",
      "Sample standard deviation: 2.5\n",
      "Hypothesized population mean (μ): 0\n",
      "Degrees of freedom: 49\n",
      "T-score: 16.970562748477143\n",
      "P-value: 0.0\n",
      "Critical t-value: 1.6765508919142629\n",
      "Reject the null hypothesis\n",
      "The weight loss drug is significantly effective.\n"
     ]
    }
   ],
   "source": [
    "import scipy.stats as stats\n",
    "\n",
    "# Given data\n",
    "\n",
    "n = 50\n",
    "sample_mean = 6\n",
    "sample_std = 2.5\n",
    "population_mean = 0\n",
    "confidence_level = 0.95\n",
    "\n",
    "# Calculate t-score and p-value\n",
    "t_score = (sample_mean - population_mean) / (sample_std / (n**0.5))\n",
    "p_value = 1 - stats.t.cdf(t_score, n-1)\n",
    "\n",
    "# Calculate the critical t-value for the given confidence level and degrees of freedom\n",
    "alpha = 1 - confidence_level\n",
    "critical_t = stats.t.ppf(1 - alpha, n-1)\n",
    "\n",
    "# Print the results\n",
    "print(\"Sample size (n):\", n)\n",
    "print(\"Sample mean:\", sample_mean)\n",
    "print(\"Sample standard deviation:\", sample_std)\n",
    "print(\"Hypothesized population mean (μ):\", population_mean)\n",
    "print(\"Degrees of freedom:\", n-1)\n",
    "print(\"T-score:\", t_score)\n",
    "print(\"P-value:\", p_value)\n",
    "print(\"Critical t-value:\", critical_t)\n",
    "\n",
    "if abs(t_score) > critical_t:\n",
    "    print(\"Reject the null hypothesis\")\n",
    "    print(\"The weight loss drug is significantly effective.\")\n",
    "else:\n",
    "    print(\"Fail to reject the null hypothesis\")\n",
    "    print(\"The weight loss drug is not significantly effective.\")\n"
   ]
  },
  {
   "cell_type": "markdown",
   "id": "c64099bf-5f83-446e-b5ad-ab86fd8ec4e7",
   "metadata": {},
   "source": [
    "### Answer 11\n",
    "\n",
    "CI = p ± z*sqrt((p*(1-p))/n)\n"
   ]
  },
  {
   "cell_type": "code",
   "execution_count": 17,
   "id": "2c8de2c0-7f14-47ef-90b5-7d1a7b43fd13",
   "metadata": {},
   "outputs": [
    {
     "name": "stdout",
     "output_type": "stream",
     "text": [
      "Sample size (n): 500\n",
      "Sample proportion (p): 0.65\n",
      "Confidence level: 0.95\n",
      "Critical value (z): 1.96\n",
      "Standard error: 0.02133072900770154\n",
      "Margin of error: 0.04180822885509502\n",
      "95% Confidence interval: (0.61, 0.69)\n"
     ]
    }
   ],
   "source": [
    "import math\n",
    "\n",
    "# Given data\n",
    "n = 500\n",
    "p = 0.65\n",
    "confidence_level = 0.95\n",
    "\n",
    "# Calculate the critical value from the standard normal distribution\n",
    "z_critical = round(stats.norm.ppf(1 - ((1-confidence_level)/2)), 2)\n",
    "\n",
    "# Calculate the standard error\n",
    "standard_error = math.sqrt((p*(1-p))/n)\n",
    "\n",
    "# Calculate the margin of error\n",
    "margin_of_error = z_critical * standard_error\n",
    "\n",
    "# Calculate the confidence interval\n",
    "lower_bound = round(p - margin_of_error, 2)\n",
    "upper_bound = round(p + margin_of_error, 2)\n",
    "\n",
    "# Print the results\n",
    "print(\"Sample size (n):\", n)\n",
    "print(\"Sample proportion (p):\", p)\n",
    "print(\"Confidence level:\", confidence_level)\n",
    "print(\"Critical value (z):\", z_critical)\n",
    "print(\"Standard error:\", standard_error)\n",
    "print(\"Margin of error:\", margin_of_error)\n",
    "print(\"95% Confidence interval:\", (lower_bound, upper_bound))\n"
   ]
  },
  {
   "cell_type": "markdown",
   "id": "da671633-23c4-4a90-87f9-6ba34e1ad652",
   "metadata": {},
   "source": [
    "### Answer 12"
   ]
  },
  {
   "cell_type": "code",
   "execution_count": 24,
   "id": "ed22df87-5226-46b2-a00b-49fe27f17529",
   "metadata": {},
   "outputs": [
    {
     "name": "stdout",
     "output_type": "stream",
     "text": [
      "Reject null hypothesis: there is a significant difference between the two teaching methods.\n"
     ]
    }
   ],
   "source": [
    "import math\n",
    "from scipy.stats import t\n",
    "\n",
    "# Given data\n",
    "# Let's assume the sample sizes are equal, i.e., n1 = n2 = n. \n",
    "x1 = 85\n",
    "s1 = 6\n",
    "n1 = 50\n",
    "x2 = 82\n",
    "s2 = 5\n",
    "n2 = 50\n",
    "alpha = 0.01\n",
    "\n",
    "# Calculate the pooled standard deviation\n",
    "sp = math.sqrt(((n1-1)*(s1**2) + (n2-1)*(s2**2)) / (n1+n2-2))\n",
    "\n",
    "# Calculate the test statistic\n",
    "t_stat = (x1 - x2) / (sp * math.sqrt(2/n1))\n",
    "\n",
    "# Find the critical t-value\n",
    "t_critical = t.ppf(alpha/2, n1+n2-2)\n",
    "\n",
    "# Determine if we reject or fail to reject the null hypothesis\n",
    "if abs(t_stat) > t_critical:\n",
    "    print(\"Reject null hypothesis: there is a significant difference between the two teaching methods.\")\n",
    "else:\n",
    "    print(\"Fail to reject null hypothesis: there is not enough evidence to suggest a significant difference between the two teaching methods.\")"
   ]
  },
  {
   "cell_type": "markdown",
   "id": "1e83642b-7c26-40e8-951c-d6f4e1abb2e5",
   "metadata": {},
   "source": [
    "### Answer 13"
   ]
  },
  {
   "cell_type": "code",
   "execution_count": 29,
   "id": "8ebfe52c-1ba4-4be6-b875-bb878a9f5340",
   "metadata": {},
   "outputs": [
    {
     "name": "stdout",
     "output_type": "stream",
     "text": [
      "The 0.90 confidence interval for the true population mean is (63.14, 66.86)\n"
     ]
    }
   ],
   "source": [
    "from scipy.stats import norm\n",
    "\n",
    "# Set the values\n",
    "x_bar = 65\n",
    "mu = 60\n",
    "sigma = 8\n",
    "n = 50\n",
    "confidence_level = 0.90\n",
    "\n",
    "# Calculate the critical z-value\n",
    "z_value = norm.ppf((1 + confidence_level) / 2)\n",
    "\n",
    "# Calculate the confidence interval\n",
    "lower_bound = x_bar - z_value * (sigma / (n ** 0.5))\n",
    "upper_bound = x_bar + z_value * (sigma / (n ** 0.5))\n",
    "\n",
    "# Print the result\n",
    "print(f\"The {confidence_level:.2f} confidence interval for the true population mean is ({lower_bound:.2f}, {upper_bound:.2f})\")\n"
   ]
  },
  {
   "cell_type": "markdown",
   "id": "e6b867a3-ae79-48be-9d19-c4b555c4a41d",
   "metadata": {},
   "source": [
    "### Answer 14"
   ]
  },
  {
   "cell_type": "code",
   "execution_count": 38,
   "id": "a3b9a907-3bce-417e-ad7b-43da8492d0ce",
   "metadata": {},
   "outputs": [
    {
     "name": "stdout",
     "output_type": "stream",
     "text": [
      "Reject the null hypothesis\n"
     ]
    }
   ],
   "source": [
    "import math\n",
    "import scipy.stats as stats\n",
    "\n",
    "# Given information\n",
    "sample_mean = 0.25\n",
    "n = 30\n",
    "sample_std_dev = 0.05\n",
    "alpha = 0.1\n",
    "mu = 0.24 # Assuming no effect of caffeine\n",
    "\n",
    "# Calculate t-score\n",
    "t_score = (sample_mean - mu) / (sample_std_dev / math.sqrt(n))\n",
    "\n",
    "# Find the p-value\n",
    "p_value = 2 * (1 - stats.t.cdf(abs(t_score), n-1))\n",
    "\n",
    "# Decide to reject or fail to reject the null hypothesis\n",
    "if p_value < t_score:\n",
    "    print(\"Reject the null hypothesis\")\n",
    "else:\n",
    "    print(\"Fail to reject the null hypothesis\")\n"
   ]
  },
  {
   "cell_type": "code",
   "execution_count": null,
   "id": "28565dcc-5e74-4216-bbf0-3d8b3acc6668",
   "metadata": {},
   "outputs": [],
   "source": []
  }
 ],
 "metadata": {
  "kernelspec": {
   "display_name": "Python 3 (ipykernel)",
   "language": "python",
   "name": "python3"
  },
  "language_info": {
   "codemirror_mode": {
    "name": "ipython",
    "version": 3
   },
   "file_extension": ".py",
   "mimetype": "text/x-python",
   "name": "python",
   "nbconvert_exporter": "python",
   "pygments_lexer": "ipython3",
   "version": "3.10.8"
  }
 },
 "nbformat": 4,
 "nbformat_minor": 5
}
