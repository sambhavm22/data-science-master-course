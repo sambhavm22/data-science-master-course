{
 "cells": [
  {
   "attachments": {},
   "cell_type": "markdown",
   "metadata": {},
   "source": [
    "### \"12_July_CNN_Basics_ipynb\""
   ]
  },
  {
   "attachments": {},
   "cell_type": "markdown",
   "metadata": {},
   "source": [
    "### CNN_Basics"
   ]
  },
  {
   "attachments": {},
   "cell_type": "markdown",
   "metadata": {},
   "source": [
    "**TOPIC: Understanding Pooling and Padding in CNN**\n",
    "\n",
    "1. Describe the purpose and benefits of pooling in CNN.\n",
    "2. Explain the difference between min pooling and max pooling. \n",
    "3. Discuss the concept of padding in CNN and its significance \n",
    "4. Compare and contrast zero-padding and valid-padding in terms of their effects on the output\n",
    "feature map size.\n",
    "\n",
    "**TOPIC: Exploring LeNet**\n",
    "\n",
    "1. Provide a brief overview of LeNet-5 architecture \n",
    "2. Desire the ke¢ components of LeNet-5 and their respective purposes.\n",
    "3. Discuss the advantages and limitations of LeNet-5 in the context of image classification tasks.\n",
    "4. Implement LeNet-5 using a deep learning network of your choice (e.g., Tensor Flow, PyTorch) and train it on a publicly available dataset (e.g., MNIST). Evaluate its performance and provide insights.\n",
    "\n",
    "**TOPIC: Analyzing AlexNet**\n",
    "\n",
    "1. Present an overview of the AlexNet architecture\n",
    "2. Explain the architecture innovations introduced in AlexNet that contributed to its break through performance\n",
    "3. Discuss the cole of convolution layers, pooling layers, and fully connected layers in AlexNet\n",
    "4. Implement AlexNet using a deep learning network of your choice and evaluate its performance on a dataset of your choice."
   ]
  },
  {
   "attachments": {},
   "cell_type": "markdown",
   "metadata": {},
   "source": [
    "**TOPIC: Understanding Pooling and Padding in CNN**\n",
    "\n",
    "### Q1. Describe the purpose and benefits of pooling in CNN.\n",
    "\n",
    "Pooling (also known as sub-sampling or down-sampling) is a crucial operation in Convolutional Neural Networks (CNNs) that serves several purposes and provides several benefits in the context of image processing and deep learning:\n",
    "\n",
    "**Purpose of Pooling:**\n",
    "\n",
    "1. Dimension Reduction: Pooling reduces the spatial dimensions (width and height) of the input feature maps while retaining their essential information. This reduction helps reduce the computational load in deeper layers of the network and can prevent over fitting.\n",
    "\n",
    "2. Translation Invariance: Pooling helps create a form of translation invariance by making the network focus on whether a specific feature is present rather than its precise location. This makes the network more robust to slight shifts and variations in the input.\n",
    "\n",
    "3. Feature Aggregation: Pooling aggregates information from local regions of the input feature maps. By summarizing a group of nearby values into a single value (e.g., taking the maximum or average), the network can focus on the most relevant features.\n",
    "\n",
    "**Benefits of Pooling:**\n",
    "\n",
    "1. Reduced Computational Complexity: Pooling reduces the size of feature maps, leading to fewer parameters and lower computational complexity in subsequent layers. This is crucial for building deep networks that can handle large-scale tasks.\n",
    "\n",
    "2. Parameter Efficiency: Pooling reduces the number of learnable parameters in the network compared to using fully connected layers with the original input size. This helps prevent over fitting, especially when the dataset is small.\n",
    "\n",
    "3. Feature Invariance: By summarizing information within local receptive fields, pooling helps the network become more invariant to small variations in the input, such as translation, rotation, or slight deformations. This makes CNNs suitable for tasks where the spatial relationships of features matter more than their precise locations.\n",
    "\n",
    "4. Hierarchical Representation: Pooling is typically applied in a hierarchical manner, with each pooling layer summarizing features from larger receptive fields. This hierarchical representation allows the network to capture features at multiple levels of abstraction, from low-level edges to high-level object parts.\n",
    "\n",
    "5. Reduced Memory Usage: Smaller feature maps resulting from pooling layers require less memory, making it possible to train deeper networks and work with larger datasets."
   ]
  },
  {
   "attachments": {},
   "cell_type": "markdown",
   "metadata": {},
   "source": [
    "### Q2. Explain the difference between min pooling and max pooling. \n",
    "\n",
    "**Max Pooling:**\n",
    "\n",
    "1. Operation: Max pooling selects the maximum value within each pooling window (typically a small grid, e.g., 2x2 or 3x3) and outputs that maximum value to the corresponding location in the output feature map.\n",
    "\n",
    "2. Benefit: Max pooling helps capture the most salient features within a local receptive field. It is particularly useful for detecting features that are relevant to object recognition, as it focuses on the most prominent information.\n",
    "\n",
    "3. Effect: Max pooling enhances the most distinctive features while suppressing less relevant or noisy information.\n",
    "\n",
    "4. Typical Usage: Max pooling is the more common of the two and is often used in CNN architectures, especially in tasks like image classification.\n",
    "\n",
    "**Min Pooling:**\n",
    "\n",
    "1. Operation: Min pooling selects the minimum value within each pooling window and outputs that minimum value to the corresponding location in the output feature map.\n",
    "\n",
    "2. Benefit: Min pooling can be used when the goal is to capture the least salient features or information within a local region. It is less common than max pooling and is used in specific scenarios where highlighting the least relevant information is useful.\n",
    "\n",
    "3. Effect: Min pooling emphasizes the least significant features, which can be helpful in tasks where the presence of certain features is important (e.g., anomaly detection).\n",
    "\n",
    "4. Typical Usage: Min pooling is not as commonly used as max pooling but may find application in specific domains such as medical imaging or quality control."
   ]
  },
  {
   "attachments": {},
   "cell_type": "markdown",
   "metadata": {},
   "source": [
    "### Q3. Discuss the concept of padding in CNN and its significance \n",
    "\n",
    "Padding is a technique used in Convolutional Neural Networks (CNNs) to control the spatial dimensions of feature maps (width and height) as they pass through convolutional and pooling layers. Padding involves adding extra rows and columns of zeros (or other constant values) around the input feature map before applying convolution or pooling operations. It plays a significant role in the design of CNN architectures and has several important purposes:\n",
    "\n",
    "1. Controlling Output Size:\n",
    "\n",
    "Without padding: Convolutional and pooling layers reduce the spatial dimensions of the feature maps. This reduction can lead to a gradual loss of spatial information and cause the output size to become smaller than desired.\n",
    "With padding: Padding allows you to control the spatial dimensions of the output feature maps. You can choose the size of padding to ensure that the output size matches your requirements.\n",
    "\n",
    "2. Preserving Spatial Information:\n",
    "\n",
    "Padding helps preserve the spatial information at the edges of the input feature map. When convolutions or pooling operations are applied, the padded regions ensure that the central parts of the input have the same influence as the edge regions, leading to more accurate feature extraction.\n",
    "\n",
    "3. Handling Stride Effects:\n",
    "\n",
    "When a convolutional layer uses a stride greater than 1, it skips some input regions, reducing the output size even further. Padding can help mitigate this effect, ensuring that all regions of the input contribute to the output.\n",
    "\n",
    "**Significance of Padding:**\n",
    "\n",
    "1. Preventing Information Loss: Padding helps prevent information loss at the edges of the feature maps during convolution and pooling operations.\n",
    "\n",
    "2. Controlling Output Size: Padding allows you to control the size of the output feature maps, making it easier to design network architectures.\n",
    "\n",
    "3. Handling Stride: Padding is particularly useful when using strides greater than 1. It ensures that all regions of the input are considered during the operation.\n",
    "\n",
    "4. Symmetry and Centering: Padding helps maintain symmetry and centering of the receptive field within the input feature map.\n"
   ]
  },
  {
   "attachments": {},
   "cell_type": "markdown",
   "metadata": {},
   "source": [
    "### 4. Compare and contrast zero-padding and valid-padding in terms of their effects on the output feature map size.\n",
    "\n",
    "Zero-padding and valid-padding are two different ways to deal with the issue of input size not being a multiple of the filter size in convolutional neural networks (CNNs).\n",
    "\n",
    "Zero-padding adds zeros to the input feature map, increasing its size so that it is a multiple of the filter size. This has the effect of preserving the size of the output feature map, which is often desirable. However, zero-padding can also lead to a loss of information, as the zeros added to the input feature map do not contain any useful information.\n",
    "\n",
    "Valid-padding, on the other hand, does not add any zeros to the input feature map. This means that the size of the output feature map will be smaller than the size of the input feature map. However, valid-padding can help to preserve the spatial information in the input feature map, as no information is lost.\n",
    "\n",
    "In general, zero-padding is used when it is important to preserve the size of the output feature map, while valid-padding is used when it is important to preserve the spatial information in the input feature map.\n",
    "\n",
    "Here is a table summarizing the key differences between zero-padding and valid-padding:\n",
    "\n",
    "| Feature | Zero-padding | Valid-padding |\n",
    "|---|---|---|\n",
    "| Output feature map size | Preserved | Smaller than input feature map |\n",
    "| Information loss | Can occur | Does not occur |\n",
    "| Spatial information preservation | Not as good | Better |\n"
   ]
  },
  {
   "attachments": {},
   "cell_type": "markdown",
   "metadata": {},
   "source": [
    "**TOPIC: Exploring LeNet**\n",
    "\n",
    "### Q1. Provide a brief overview oj LeNet-5 architecture \n",
    "\n",
    "The LeNet-5 architecture is a convolutional neural network (CNN) architecture that was developed by Yann LeCun in 1998. It is one of the earliest and most influential CNN architectures, and it has been used successfully in a wide variety of applications, including image classification, object detection, and face recognition.\n",
    "\n",
    "The LeNet-5 architecture consists of five convolutional layers, followed by two fully connected layers. The convolutional layers use a 5x5 kernel size and a stride of 1. The first convolutional layer has 6 filters, the second convolutional layer has 16 filters, the third convolutional layer has 32 filters, the fourth convolutional layer has 64 filters, and the fifth convolutional layer has 128 filters. The fully connected layers have 120 and 84 units, respectively. The output layer is a 10-unit softmax layer.\n",
    "\n",
    "The LeNet-5 architecture is a relatively simple CNN architecture, but it is still capable of achieving state-of-the-art results on a variety of tasks. This is due to the fact that the LeNet-5 architecture is very efficient, and it can be trained on relatively small datasets. Additionally, the LeNet-5 architecture is very robust to noise and distortions, which makes it well-suited for real-world applications."
   ]
  },
  {
   "attachments": {},
   "cell_type": "markdown",
   "metadata": {},
   "source": [
    "### Q2. Describe the key components of LeNet-5 and their respective purposes.\n",
    "\n",
    "The LeNet-5 architecture consists of the following key components:\n",
    "\n",
    "**Convolutional layers:** \n",
    "\n",
    "The convolutional layers are the main building blocks of the LeNet-5 architecture. They are responsible for extracting features from the input image. The convolutional layers use a 5x5 kernel size and a stride of 1. The first convolutional layer has 6 filters, the second convolutional layer has 16 filters, the third convolutional layer has 32 filters, the fourth convolutional layer has 64 filters, and the fifth convolutional layer has 128 filters.\n",
    "\n",
    "**Pooling layers:** \n",
    "\n",
    "The pooling layers are responsible for reducing the dimensionality of the feature maps produced by the convolutional layers. The pooling layers use a 2x2 kernel size and a stride of 2.\n",
    "\n",
    "**Fully connected layers:**\n",
    "\n",
    "The fully connected layers are responsible for classifying the input image. The fully connected layers have 120 and 84 units, respectively. The output layer is a 10-unit softmax layer.\n",
    "\n",
    "The purpose of each component of the LeNet-5 architecture is as follows:\n",
    "\n",
    "**Convolutional layers:** \n",
    "\n",
    "The convolutional layers extract features from the input image. The features extracted by the convolutional layers are used by the pooling layers to reduce the dimensionality of the feature maps.\n",
    "\n",
    "\n",
    "**Pooling layers:**\n",
    "\n",
    "The pooling layers reduce the dimensionality of the feature maps produced by the convolutional layers. This helps to reduce the computational cost of the network and it also helps to make the network more robust to noise and distortions.\n",
    "\n",
    "\n",
    "**Fully connected layers:**\n",
    "\n",
    "The fully connected layers classify the input image. The fully connected layers use the features extracted by the convolutional layers to predict the class of the input image."
   ]
  },
  {
   "attachments": {},
   "cell_type": "markdown",
   "metadata": {},
   "source": [
    "### Q3. Discuss the advantages and limitations of LeNet-5 in the context of image classification tasks.\n",
    "\n",
    "The LeNet-5 architecture has several advantages that make it well-suited for image classification tasks.\n",
    "\n",
    "* First, the LeNet-5 architecture is very efficient. It has a relatively small number of parameters and it can be trained on relatively small datasets. This makes it a good choice for applications where computational resources are limited.\n",
    "* Second, the LeNet-5 architecture is very robust to noise and distortions. This makes it well-suited for real-world applications, where images are often noisy or distorted.\n",
    "* Third, the LeNet-5 architecture is relatively simple to train. This makes it a good choice for beginners who are new to deep learning.\n",
    "\n",
    "However, the LeNet-5 architecture also has some limitations.\n",
    "\n",
    "* First, the LeNet-5 architecture is not as accurate as some of the more modern CNN architectures.\n",
    "* Second, the LeNet-5 architecture is not as scalable as some of the more modern CNN architectures. This means that it is not as well-suited for large-scale image classification tasks.\n",
    "\n",
    "Overall, the LeNet-5 architecture is a good choice for image classification tasks that require a simple, efficient, and robust model. However, for tasks that require high accuracy or scalability, a more modern CNN architecture may be a better choice."
   ]
  },
  {
   "attachments": {},
   "cell_type": "markdown",
   "metadata": {},
   "source": [
    "### Q4. Implement LeNet-5 using a deep learning network of your choice (e.g., Tensor Flow, PyTorch) and train it on a publicly available dataset (e.g., MNIST). Evaluate its performance and provide insights."
   ]
  },
  {
   "cell_type": "code",
   "execution_count": 1,
   "metadata": {},
   "outputs": [],
   "source": [
    "import tensorflow as tf\n",
    "from tensorflow.keras.datasets import mnist\n",
    "from tensorflow.keras.models import Sequential\n",
    "from tensorflow.keras.layers import Conv2D, MaxPooling2D, Flatten, Dense\n",
    "from tensorflow.keras.optimizers import Adam\n",
    "from tensorflow.keras.utils import to_categorical\n",
    "import matplotlib.pyplot as plt\n",
    "\n",
    "# Load and preprocess the MNIST dataset\n",
    "(x_train, y_train), (x_test, y_test) = mnist.load_data()\n",
    "x_train = x_train.reshape(-1, 28, 28, 1).astype('float32') / 255.0\n",
    "x_test = x_test.reshape(-1, 28, 28, 1).astype('float32') / 255.0\n",
    "y_train = to_categorical(y_train, 10)\n",
    "y_test = to_categorical(y_test, 10)\n"
   ]
  },
  {
   "cell_type": "code",
   "execution_count": 2,
   "metadata": {},
   "outputs": [
    {
     "name": "stderr",
     "output_type": "stream",
     "text": [
      "WARNING:absl:At this time, the v2.11+ optimizer `tf.keras.optimizers.Adam` runs slowly on M1/M2 Macs, please use the legacy Keras optimizer instead, located at `tf.keras.optimizers.legacy.Adam`.\n",
      "WARNING:absl:There is a known slowdown when using v2.11+ Keras optimizers on M1/M2 Macs. Falling back to the legacy Keras optimizer, i.e., `tf.keras.optimizers.legacy.Adam`.\n"
     ]
    },
    {
     "name": "stdout",
     "output_type": "stream",
     "text": [
      "Epoch 1/10\n",
      "469/469 - 9s - loss: 0.3150 - accuracy: 0.9101 - val_loss: 0.0978 - val_accuracy: 0.9697 - 9s/epoch - 19ms/step\n",
      "Epoch 2/10\n",
      "469/469 - 7s - loss: 0.0850 - accuracy: 0.9737 - val_loss: 0.0600 - val_accuracy: 0.9803 - 7s/epoch - 16ms/step\n",
      "Epoch 3/10\n",
      "469/469 - 7s - loss: 0.0600 - accuracy: 0.9816 - val_loss: 0.0507 - val_accuracy: 0.9837 - 7s/epoch - 16ms/step\n",
      "Epoch 4/10\n",
      "469/469 - 8s - loss: 0.0477 - accuracy: 0.9849 - val_loss: 0.0420 - val_accuracy: 0.9859 - 8s/epoch - 16ms/step\n",
      "Epoch 5/10\n",
      "469/469 - 7s - loss: 0.0392 - accuracy: 0.9876 - val_loss: 0.0415 - val_accuracy: 0.9869 - 7s/epoch - 15ms/step\n",
      "Epoch 6/10\n",
      "469/469 - 7s - loss: 0.0342 - accuracy: 0.9892 - val_loss: 0.0360 - val_accuracy: 0.9880 - 7s/epoch - 15ms/step\n",
      "Epoch 7/10\n",
      "469/469 - 7s - loss: 0.0298 - accuracy: 0.9906 - val_loss: 0.0382 - val_accuracy: 0.9861 - 7s/epoch - 16ms/step\n",
      "Epoch 8/10\n",
      "469/469 - 9s - loss: 0.0269 - accuracy: 0.9909 - val_loss: 0.0329 - val_accuracy: 0.9896 - 9s/epoch - 19ms/step\n",
      "Epoch 9/10\n",
      "469/469 - 9s - loss: 0.0225 - accuracy: 0.9928 - val_loss: 0.0311 - val_accuracy: 0.9896 - 9s/epoch - 18ms/step\n",
      "Epoch 10/10\n",
      "469/469 - 7s - loss: 0.0195 - accuracy: 0.9937 - val_loss: 0.0322 - val_accuracy: 0.9902 - 7s/epoch - 16ms/step\n",
      "Test Accuracy: 0.9902\n"
     ]
    }
   ],
   "source": [
    "# Build LeNet-5 architecture\n",
    "model = Sequential([\n",
    "    Conv2D(6, kernel_size=(5, 5), activation='relu', input_shape=(28, 28, 1)),\n",
    "    MaxPooling2D(pool_size=(2, 2)),\n",
    "    Conv2D(16, kernel_size=(5, 5), activation='relu'),\n",
    "    MaxPooling2D(pool_size=(2, 2)),\n",
    "    Flatten(),\n",
    "    Dense(120, activation='relu'),\n",
    "    Dense(84, activation='relu'),\n",
    "    Dense(10, activation='softmax')\n",
    "])\n",
    "\n",
    "# Compile the model\n",
    "model.compile(optimizer=Adam(learning_rate=0.001), loss='categorical_crossentropy', metrics=['accuracy'])\n",
    "\n",
    "# Train the model\n",
    "history = model.fit(x_train, y_train, epochs=10, batch_size=128, validation_data=(x_test, y_test), verbose=2)\n",
    "\n",
    "# Evaluate the model\n",
    "test_loss, test_accuracy = model.evaluate(x_test, y_test, verbose=0)\n",
    "print(f\"Test Accuracy: {test_accuracy:.4f}\")    \n"
   ]
  },
  {
   "cell_type": "code",
   "execution_count": 3,
   "metadata": {},
   "outputs": [
    {
     "data": {
      "image/png": "[encoded data removed]",
      "text/plain": [
       "<Figure size 800x500 with 1 Axes>"
      ]
     },
     "metadata": {},
     "output_type": "display_data"
    },
    {
     "data": {
      "image/png": "[encoded data removed]",
      "text/plain": [
       "<Figure size 800x500 with 1 Axes>"
      ]
     },
     "metadata": {},
     "output_type": "display_data"
    }
   ],
   "source": [
    "# Plot training and validation loss\n",
    "plt.figure(figsize=(8, 5))\n",
    "plt.plot(history.history['loss'], label='Training Loss')\n",
    "plt.plot(history.history['val_loss'], label='Validation Loss')\n",
    "plt.xlabel('Epochs')\n",
    "plt.ylabel('Loss')\n",
    "plt.legend()\n",
    "plt.show()\n",
    "\n",
    "# Plot training and validation accuracy\n",
    "plt.figure(figsize=(8, 5))\n",
    "plt.plot(history.history['accuracy'], label='Training Accuracy')\n",
    "plt.plot(history.history['val_accuracy'], label='Validation Accuracy')\n",
    "plt.xlabel('Epochs')\n",
    "plt.ylabel('Accuracy')\n",
    "plt.legend()\n",
    "plt.show()"
   ]
  },
  {
   "attachments": {},
   "cell_type": "markdown",
   "metadata": {},
   "source": [
    "**TOPIC: Analyzing AlexNet**\n",
    "\n",
    "### Q1. Present an overview of the AlexNet architecture\n",
    "\n",
    "The AlexNet architecture is a convolutional neural network (CNN) architecture that was developed by Alex Krizhevsky, Ilya Sutskever, and Geoffrey Hinton in 2012. It was the first CNN architecture to achieve a top-5 error rate of less than 10% on the ImageNet Large Scale Visual Recognition Challenge (ILSVRC).\n",
    "\n",
    "The AlexNet architecture consists of five convolutional layers, three pooling layers, and two fully connected layers. The convolutional layers use a 3x3 kernel size and a stride of 1. The first convolutional layer has 96 filters, the second convolutional layer has 256 filters, the third convolutional layer has 384 filters, the fourth convolutional layer has 384 filters, and the fifth convolutional layer has 256 filters. The pooling layers use a 2x2 kernel size and a stride of 2. The fully connected layers have 4096 units and 4096 units, respectively. The output layer is a 1000-unit soft-max layer.\n",
    "\n",
    "The AlexNet architecture has several advantages that make it well-suited for image classification tasks. First, the AlexNet architecture is very deep. This allows it to learn more complex features than shallower CNN architectures. Second, the AlexNet architecture uses a large number of filters. This allows it to learn more discriminative features than CNN architectures that use a smaller number of filters. Third, the AlexNet architecture uses a dropout layer. This helps to prevent over-fitting.\n",
    "\n",
    "However, the AlexNet architecture also has some disadvantages. First, the AlexNet architecture is very computationally expensive. This makes it difficult to train on large datasets. Second, the AlexNet architecture is not very scalable. This makes it difficult to apply to large-scale image classification tasks.\n",
    "\n",
    "Despite its disadvantages, the AlexNet architecture is still a very important CNN architecture. It was the first CNN architecture to achieve a top-5 error rate of less than 10% on the ILSVRC, and it has inspired the development of many other CNN architectures."
   ]
  },
  {
   "attachments": {},
   "cell_type": "markdown",
   "metadata": {},
   "source": [
    "### Q2. Explain the architecture innovations introduced in AlexNet that contributed to its break through performance\n",
    "\n",
    "The AlexNet architecture introduced several innovations that contributed to its breakthrough performance on the ImageNet Large Scale Visual Recognition Challenge (ILSVRC).\n",
    "\n",
    "* **Deep architecture:** AlexNet was one of the first CNNs to use a deep architecture, with five convolutional layers and three fully connected layers. This allowed it to learn more complex features than shallower CNNs.\n",
    "* **Large number of filters:** AlexNet used a large number of filters in its convolutional layers, which allowed it to learn more discriminative features than CNNs that used a smaller number of filters.\n",
    "* **Dropout:** AlexNet used a dropout layer between its fully connected layers, which helped to prevent overfitting.\n",
    "* **Data augmentation:** AlexNet used data augmentation techniques, such as random cropping and flipping, to increase the size of its training set and improve its generalization performance.\n",
    "* **GPU training:** AlexNet was trained on a GPU, which significantly reduced the training time.\n",
    "\n",
    "These innovations helped AlexNet to achieve a top-5 error rate of 15.3% on the ILSVRC, which was a significant improvement over the previous state-of-the-art of 26.2%. AlexNet's success helped to popularize the use of CNNs for image classification and paved the way for the development of even more powerful CNN architectures."
   ]
  },
  {
   "attachments": {},
   "cell_type": "markdown",
   "metadata": {},
   "source": [
    "### Q3. Discuss the role of convolution layers, pooling layers, and fully connected layers in AlexNet\n",
    "\n",
    "Convolutional layers are the building blocks of AlexNet. They are responsible for extracting features from the input image. Each convolutional layer consists of a number of filters, which are small matrices of weights. The filters are applied to the input image, and the output of each filter is a feature map. The feature maps are then passed to the next convolutional layer.\n",
    "\n",
    "Pooling layers reduce the dimensionality of the feature maps by combining neighboring pixels. This helps to reduce the computational cost of the network and makes it more robust to noise.\n",
    "\n",
    "Fully connected layers are used to classify the input image. They are made up of a number of neurons, each of which is connected to all of the pixels in the previous layer. The output of each neuron is a score for a particular class of object. The class with the highest score is the predicted class of the input image.\n",
    "\n",
    "In AlexNet, the convolutional layers learn to extract low-level features such as edges and corners. The pooling layers reduce the dimensionality of the feature maps and make the network more robust to noise. The fully connected layers learn to classify the input image based on the features extracted by the convolutional layers.\n",
    "\n",
    "The combination of convolutional layers, pooling layers, and fully connected layers makes AlexNet a powerful image classification network."
   ]
  },
  {
   "attachments": {},
   "cell_type": "markdown",
   "metadata": {},
   "source": [
    "### Q4. Implement AlexNet using a deep learning network oj your choice and evaluate its performance on a dataset of your choice."
   ]
  },
  {
   "cell_type": "code",
   "execution_count": 14,
   "metadata": {},
   "outputs": [
    {
     "name": "stdout",
     "output_type": "stream",
     "text": [
      "Downloading data from https://www.cs.toronto.edu/~kriz/cifar-10-python.tar.gz\n",
      " 32735232/170498071 [====>.........................] - ETA: 16:08"
     ]
    }
   ],
   "source": [
    "import tensorflow as tf\n",
    "from tensorflow.keras.datasets import cifar10\n",
    "from tensorflow.keras.models import Sequential\n",
    "from tensorflow.keras.layers import Conv2D, MaxPooling2D, Flatten, Dense, Dropout, BatchNormalization\n",
    "from tensorflow.keras.optimizers import Adam\n",
    "from tensorflow.keras.utils import to_categorical\n",
    "import matplotlib.pyplot as plt\n",
    "\n",
    "# Load and preprocess the CIFAR-10 dataset\n",
    "(x_train, y_train), (x_test, y_test) = cifar10.load_data()\n",
    "x_train = x_train.astype('float32') / 255.0\n",
    "x_test = x_test.astype('float32') / 255.0\n",
    "y_train = to_categorical(y_train, 10)\n",
    "y_test = to_categorical(y_test, 10)\n",
    "\n",
    "# Create an AlexNet-like model for CIFAR-10\n",
    "model = Sequential([\n",
    "    Conv2D(96, (11, 11), activation='relu', strides=(4, 4), input_shape=(32, 32, 3)),\n",
    "    BatchNormalization(),\n",
    "    MaxPooling2D((3, 3), strides=(2, 2)),\n",
    "    Conv2D(256, (5, 5), activation='relu'),\n",
    "    BatchNormalization(),\n",
    "    MaxPooling2D((3, 3), strides=(2, 2)),\n",
    "    Conv2D(384, (3, 3), activation='relu'),\n",
    "    Conv2D(384, (3, 3), activation='relu'),\n",
    "    Conv2D(256, (3, 3), activation='relu'),\n",
    "    MaxPooling2D((3, 3), strides=(2, 2)),\n",
    "    Flatten(),\n",
    "    Dense(4096, activation='relu'),\n",
    "    Dropout(0.5),\n",
    "    Dense(4096, activation='relu'),\n",
    "    Dropout(0.5),\n",
    "    Dense(10, activation='softmax')\n",
    "])\n",
    "\n",
    "# Compile the model\n",
    "model.compile(optimizer=Adam(learning_rate=0.0001), loss='categorical_crossentropy', metrics=['accuracy'])\n",
    "\n",
    "# Train the model\n",
    "history = model.fit(x_train, y_train, epochs=20, batch_size=128, validation_data=(x_test, y_test), verbose=2)\n",
    "\n",
    "# Evaluate the model\n",
    "test_loss, test_accuracy = model.evaluate(x_test, y_test, verbose=0)\n",
    "print(f\"Test Accuracy: {test_accuracy:.4f}\")\n",
    "\n",
    "# Plot training and validation loss\n",
    "plt.figure(figsize=(8, 5))\n",
    "plt.plot(history.history['loss'], label='Training Loss')\n",
    "plt.plot(history.history['val_loss'], label='Validation Loss')\n",
    "plt.xlabel('Epochs')\n",
    "plt.ylabel('Loss')\n",
    "plt.legend()\n",
    "plt.show()\n",
    "\n",
    "# Plot training and validation accuracy\n",
    "plt.figure(figsize=(8, 5))\n",
    "plt.plot(history.history['accuracy'], label='Training Accuracy')\n",
    "plt.plot(history.history['val_accuracy'], label='Validation Accuracy')\n",
    "plt.xlabel('Epochs')\n",
    "plt.ylabel('Accuracy')\n",
    "plt.legend()\n",
    "plt.show()\n"
   ]
  }
 ],
 "metadata": {
  "kernelspec": {
   "display_name": "Python 3",
   "language": "python",
   "name": "python3"
  },
  "language_info": {
   "codemirror_mode": {
    "name": "ipython",
    "version": 3
   },
   "file_extension": ".py",
   "mimetype": "text/x-python",
   "name": "python",
   "nbconvert_exporter": "python",
   "pygments_lexer": "ipython3",
   "version": "3.9.6"
  },
  "orig_nbformat": 4
 },
 "nbformat": 4,
 "nbformat_minor": 2
}
