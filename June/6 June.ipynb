{
 "cells": [
  {
   "attachments": {},
   "cell_type": "markdown",
   "metadata": {},
   "source": [
    "### 12_July_Optimizers_Assignment.ipynb\"\n",
    "\n",
    "### Optimizers"
   ]
  },
  {
   "attachments": {},
   "cell_type": "markdown",
   "metadata": {},
   "source": [
    "**Part 1: Understanding Optimizer**\n",
    "\n",
    "1. What is the role of optimization algorithms in artificial neural networks? Why are they necessary?\n",
    "2. Explain the concept of gradient descent and its variants. Discuss their differences and tradeoffs in terms of convergence speed and memory requirements.\n",
    "3. Describe the challenges associated with traditional gradient descent optimization methods (e.g., slow convergence, local minima). How do modern optimizers address these challenges?\n",
    "4. Discuss the concepts of momentum and learning rate in the context of optimization algorithms. How do they impact convergence and model performance. \n",
    "\n",
    "**Part 2: Optimizer Technique**\n",
    "\n",
    "5. Explain the concept of Stochastic radient Descent (SGD) and its advantages compared to traditional gradient descent. Discuss its limitations and scenarios where it is most suitable.\n",
    "6. Describe the concept of Adam optimizer and how it combines momentum and adaptive learning rates. Discuss its benefits and potential drawbacks. \n",
    "7. Explain the concept of RMSprop optimizer and how it addresses the challenges of adaptive learning rates. Compare it with Adam and discuss their relative strengths and weaknesses.\n",
    "\n",
    "**Part 3: Applying Optimizer**\n",
    "\n",
    "8. Implement SGD, Adam, and RMSprop optimizers in a deep learning model using a framework of your choice. Train the model on a suitable dataset and compare their impact on model convergence and performance.\n",
    "9. Discuss the considerations and tradeoffs when choosing the appropriate optimizer for a given neural network architecture and task. Consider factors such as convergence speed, stability, and generalization performance."
   ]
  },
  {
   "attachments": {},
   "cell_type": "markdown",
   "metadata": {},
   "source": [
    "### Part1\n",
    "### Q1. What is the role of optimization algorithms in artificial neural networks? Why are they necessary?"
   ]
  },
  {
   "attachments": {},
   "cell_type": "markdown",
   "metadata": {},
   "source": [
    "- Optimization algorithms are essential for training artificial neural networks.\n",
    "- They are used to find the set of parameters (weights and biases) that minimize the loss function, which measures the difference between the network's predictions and the desired outputs.\n",
    "- The loss function is typically a function of the network's weights and biases, and the optimization algorithm iteratively updates these parameters in order to minimize the loss function.\n",
    "- Commonly used optimization algorithms include gradient descent and its variants (such as stochastic gradient descent, momentum, and AdaGrad), as well as more sophisticated methods such as L-BFGS and conjugate gradient methods.\n",
    "- Without optimization algorithms, it would be impossible to train neural networks to solve complex tasks, as the search space of possible parameter values is typically very large."
   ]
  },
  {
   "attachments": {},
   "cell_type": "markdown",
   "metadata": {},
   "source": [
    "### Q2. Explain the concept of gradient descent and its variants. Discuss their differences and tradeoffs in terms of convergence speed and memory requirements.\n",
    "\n"
   ]
  },
  {
   "attachments": {},
   "cell_type": "markdown",
   "metadata": {},
   "source": [
    "Gradient descent is a first-order optimization algorithm that finds a local minimum of a function by iteratively updating the function's parameters in the direction of the negative of the gradient of the function.\n",
    "\n",
    "The gradient is the vector of partial derivatives of the function with respect to each of its parameters.\n",
    "\n",
    "In the context of neural networks, the function being minimized is the loss function, and the parameters being updated are the weights and biases of the network.\n",
    "\n",
    "The basic gradient descent algorithm is as follows:\n",
    "\n",
    "1. Initialize the parameters to some random values.\n",
    "2. Compute the gradient of the loss function with respect to each parameter.\n",
    "3. Update the parameters by subtracting a small multiple of the gradient from each parameter.\n",
    "4. Repeat steps 2 and 3 until the loss function converges or a maximum number of iterations is reached.\n",
    "\n",
    "Variants of gradient descent include:\n",
    "\n",
    "* **Stochastic gradient descent (SGD)**: \n",
    "\n",
    "- SGD is a variant of gradient descent that computes the gradient of the loss function with respect to a single training example at a time, rather than the entire training set.\n",
    "\n",
    "- This can be more efficient for large training sets, as it avoids the need to compute the gradient with respect to the entire training set at each iteration.\n",
    "\n",
    "* **Momentum:** \n",
    "- Momentum is a variant of gradient descent that adds a momentum term to the update rule.\n",
    "\n",
    "- The momentum term helps to accelerate convergence by preventing the algorithm from getting stuck in\n",
    "\n",
    "* **AdaGrad:** \n",
    "- AdaGrad is a variant of gradient descent that adapts the learning rate for each parameter.\n",
    "- This can be helpful for training deep neural networks, as it can prevent the learning rate from becoming too large for some parameters and too small for others.\n",
    "* **RMSProp:** \n",
    "- RMSProp is a variant of gradient descent that is similar to AdaGrad, but it uses a different method for adapting the learning rate.\n",
    "- RMSProp can be more efficient than AdaGrad for training deep neural networks.\n",
    "* **Adam:** \n",
    "- Adam is a variant of gradient descent that combines the advantages of momentum and RMSProp.\n",
    "- Adam is often considered to be one of the best gradient descent algorithms for training deep neural networks.\n"
   ]
  },
  {
   "attachments": {},
   "cell_type": "markdown",
   "metadata": {},
   "source": [
    "### Q3. Describe the challenges associated with traditional gradient descent optimization methods (e.g., slow convergence, local minima). How do modern optimizers address these challenges?"
   ]
  },
  {
   "attachments": {},
   "cell_type": "markdown",
   "metadata": {},
   "source": [
    "Gradient descent is a first-order optimization algorithm that finds a local minimum of a function by iteratively updating the function's parameters in the direction of the negative of the gradient of the function.\n",
    "\n",
    "The gradient is the vector of partial derivatives of the function with respect to each of its parameters.\n",
    "In the context of neural networks, the function being minimized is the loss function, and the parameters being updated are the weights and biases of the network.\n",
    "\n",
    "The basic gradient descent algorithm is as follows:\n",
    "\n",
    "1. Initialize the parameters to some random values.\n",
    "2. Compute the gradient of the loss function with respect to each parameter.\n",
    "3. Update the parameters by subtracting a small multiple of the gradient from each parameter.\n",
    "4. Repeat steps 2 and 3 until the loss function converges or a maximum number of iterations is reached.\n",
    "\n",
    "There are several challenges associated with traditional gradient descent optimization methods, including:\n",
    "\n",
    "* **Slow convergence:** Gradient descent can be slow to converge, especially for large datasets and complex models.\n",
    "* **Local minima:** Gradient descent can get stuck in local minima, which are points where the gradient is zero but the function is not at a minimum.\n",
    "* **Parameter tuning:** The learning rate is a critical parameter in gradient descent, and it can be difficult to choose the optimal value.\n",
    "* **Overfitting:** Gradient descent can lead to overfitting, which is when the model learns to perform well on the training data but not on new data.\n",
    "\n",
    "Modern optimizers address these challenges in a variety of ways.\n",
    "\n",
    "For example, momentum and AdaGrad are two optimizers that can accelerate convergence.\n",
    "\n",
    "RMSProp and Adam are two optimizers that can help to prevent overfitting.\n",
    "\n",
    "L-BFGS and conjugate gradient methods are two optimizers that can be used to find local minima more efficiently.\n",
    "\n",
    "The choice of optimizer depends on the specific problem being solved.\n",
    "\n",
    "For example, if the dataset is large and the model is complex, then an optimizer that can accelerate convergence, such as momentum or AdaGrad, may be a good choice.\n",
    "\n",
    "If the model is prone to overfitting, then an optimizer that can help to prevent overfitting, such as RMSProp or Adam, may be a good choice."
   ]
  },
  {
   "attachments": {},
   "cell_type": "markdown",
   "metadata": {},
   "source": [
    "### Q4. Discuss the concepts of momentum and learning rate in the context of optimization algorithms. How do they impact convergence and model performance. "
   ]
  },
  {
   "attachments": {},
   "cell_type": "markdown",
   "metadata": {},
   "source": [
    "Momentum is a technique that can be used to accelerate the convergence of gradient descent.\n",
    "\n",
    "Momentum works by adding a fraction of the previous update to the current update.\n",
    "\n",
    "This helps to prevent the algorithm from getting stuck in local minima.\n",
    "\n",
    "The choice of learning rate and momentum can have a significant impact on the performance of a gradient descent algorithm.\n",
    "\n",
    "A good learning rate and momentum can help the algorithm to converge quickly and to find the optimal solution.\n",
    "\n",
    "However, a poor choice of learning rate and momentum can lead to slow convergence or even divergence.\n",
    "\n",
    "In general, a good learning rate is one that is small enough to ensure stability, but large enough to achieve fast convergence.\n",
    "\n",
    "A good momentum is one that is large enough to accelerate convergence, but small enough to prevent the algorithm from overshooting the optimal solution.\n",
    "\n",
    "The optimal learning rate and momentum for a particular problem can be found by experimentation.\n",
    "\n",
    "However, there are some general guidelines that can be used to choose a good starting point.\n",
    "\n",
    "For example, a good starting point for the learning rate is often between 0.01 and 0.1.\n",
    "\n",
    "A good starting point for the momentum is often between 0.5 and 0.9.\n",
    "\n",
    "These are just starting points, and the optimal values for a particular problem may be different.\n",
    "\n",
    "However, these guidelines can help to choose a good starting point for experimentation."
   ]
  },
  {
   "attachments": {},
   "cell_type": "markdown",
   "metadata": {},
   "source": [
    "### Q5. Explain the concept of Stochastic radient Descent (SGD) and its advantages compared to traditional gradient descent. Discuss its limitations and scenarios where it is most suitable.\n"
   ]
  },
  {
   "attachments": {},
   "cell_type": "markdown",
   "metadata": {},
   "source": [
    "Stochastic gradient descent (SGD) is an optimization algorithm used to find the minimum of a function.\n",
    "It is a variant of gradient descent that is used when the function to be minimized is too large to fit in memory or when the function is so complex that the gradient cannot be computed exactly.\n",
    "\n",
    "In SGD, the gradient is computed for a subset of the data, called a mini-batch.\n",
    "The gradient is then used to update the model parameters.\n",
    "This process is repeated until the model parameters converge or a certain number of iterations has been reached.\n",
    "\n",
    "SGD has several advantages over traditional gradient descent.\n",
    "First, SGD is more efficient, as it only requires the computation of the gradient for a subset of the data.\n",
    "Second, SGD is more robust to noise and outliers, as the gradient is computed for a subset of the data.\n",
    "Third, SGD can be used to train models on very large datasets, as it does not require the entire dataset to be stored in memory.\n",
    "\n",
    "However, SGD also has some limitations.\n",
    "First, SGD can be slower to converge than traditional gradient descent, as the gradient is only computed for a subset of the data.\n",
    "Second, SGD can be more sensitive to the choice of hyperparameters, such as the learning rate and the mini-batch size.\n",
    "\n",
    "SGD is most suitable for training models on very large datasets or when the function to be minimized is so complex that the gradient cannot be computed exactly.\n",
    "SGD is also suitable for training models that are robust to noise and outliers.\n"
   ]
  },
  {
   "attachments": {},
   "cell_type": "markdown",
   "metadata": {},
   "source": [
    "### Q6. Describe the concept of Adam optimizer and how it combines momentum and adaptive learning rates. Discuss its benefits and potential drawbacks. "
   ]
  },
  {
   "attachments": {},
   "cell_type": "markdown",
   "metadata": {},
   "source": [
    "The Adam optimizer is an optimization algorithm that combines the benefits of momentum and adaptive learning rates.\n",
    "It is a variant of the stochastic gradient descent (SGD) algorithm that is designed to be more efficient and effective in training deep neural networks.\n",
    "\n",
    "The Adam optimizer works by maintaining two separate estimates of the gradient for each parameter: a running average of the gradient, called the momentum, and an estimate of the second moment of the gradient, called the adaptive learning rate.\n",
    "The momentum term helps to accelerate convergence, while the adaptive learning rate helps to prevent the algorithm from overshooting the optimal solution.\n",
    "\n",
    "The Adam optimizer has several benefits over traditional SGD.\n",
    "First, it is more efficient, as it does not require the computation of the second moment of the gradient.\n",
    "Second, it is more effective, as it can achieve faster convergence and better generalization performance.\n",
    "Third, it is less sensitive to the choice of hyper parameters, such as the learning rate and the momentum.\n",
    "\n",
    "However, the Adam optimizer also has some potential drawbacks.\n",
    "First, it can be more computationally expensive than traditional SGD.\n",
    "Second, it can be more sensitive to the choice of the mini-batch size.\n",
    "Third, it can be more difficult to tune the hyper parameters of the Adam optimizer.\n",
    "\n",
    "Overall, the Adam optimizer is a powerful optimization algorithm that can be used to train deep neural networks effectively and efficiently.\n",
    "However, it is important to be aware of its potential drawbacks before using it.\n"
   ]
  },
  {
   "attachments": {},
   "cell_type": "markdown",
   "metadata": {},
   "source": [
    "### Q7. Explain the concept of RMSprop optimizer and how it addresses the challenges of adaptive learning rates. Compare it with Adam and discuss their relative strengths and weaknesses.\n"
   ]
  },
  {
   "attachments": {},
   "cell_type": "markdown",
   "metadata": {},
   "source": [
    "The RMSprop optimizer is an optimization algorithm that was developed to address the challenges of adaptive learning rates.\n",
    "Adaptive learning rates are learning rates that are adjusted during training based on the behavior of the loss function.\n",
    "This can be useful for training deep neural networks, as it can help to prevent the network from getting stuck in local minima.\n",
    "\n",
    "The RMSprop optimizer works by maintaining a running average of the squared gradients for each parameter.\n",
    "This running average is used to adapt the learning rate for each parameter, so that parameters with large gradients are updated more slowly than parameters with small gradients.\n",
    "This can help to prevent the network from overshooting the optimal solution.\n",
    "\n",
    "The RMSprop optimizer is similar to the Adam optimizer, but it is simpler and more computationally efficient.\n",
    "However, the Adam optimizer can be more effective in some cases, as it also takes into account the momentum of the gradients.\n",
    "\n",
    "The following table summarizes the relative strengths and weaknesses of the RMSprop and Adam optimizers:\n",
    "\n",
    "| Feature | RMSprop | Adam |\n",
    "|---|---|---|\n",
    "| Computational efficiency | More efficient | Less efficient |\n",
    "| Effectiveness | Less effective | More effective |\n",
    "| Sensitivity to hyperparameters | Less sensitive | More sensitive |\n",
    "| Overall | Good choice for simple models | Good choice for complex models |\n",
    "\n",
    "In general, the RMSprop optimizer is a good choice for training simple models, while the Adam optimizer is a good choice for training complex models.\n"
   ]
  },
  {
   "attachments": {},
   "cell_type": "markdown",
   "metadata": {},
   "source": [
    "### Q8. Implement SGD, Adam, and RMSprop optimizers in a deep learning model using a framework of your choice. Train the model on a suitable dataset and compare their impact on model convergence and performance.\n",
    "\n",
    "\n",
    "### Create binary classification dataset :"
   ]
  },
  {
   "cell_type": "code",
   "execution_count": 1,
   "metadata": {},
   "outputs": [],
   "source": [
    "import pandas as pd"
   ]
  },
  {
   "cell_type": "code",
   "execution_count": 2,
   "metadata": {},
   "outputs": [],
   "source": [
    "from sklearn.datasets import make_classification\n",
    "X, y = make_classification(n_samples=10000, n_classes=2, n_features=30, n_informative=15, random_state=42)\n"
   ]
  },
  {
   "cell_type": "code",
   "execution_count": 3,
   "metadata": {},
   "outputs": [
    {
     "data": {
      "text/plain": [
       "array([[ 0.54506103,  3.47375769, -1.27417123, ..., -0.76247294,\n",
       "        -1.53702818,  0.58073043],\n",
       "       [-0.74747919,  1.50765917,  2.83268947, ...,  0.4341933 ,\n",
       "         0.64146933, -0.89189812],\n",
       "       [ 0.38305276,  0.40881607, -3.08538065, ...,  0.91756088,\n",
       "        -0.48914949,  0.37209615],\n",
       "       ...,\n",
       "       [-0.61137217, -1.39698249, -0.05737358, ..., -0.72247362,\n",
       "        -1.16430512, -0.39789025],\n",
       "       [ 0.08501079,  0.88906907, -2.2481915 , ...,  1.69306299,\n",
       "        -1.43420606,  0.52888528],\n",
       "       [ 1.16960031,  2.84012677,  0.05640128, ..., -1.00131093,\n",
       "         0.34831776, -1.14330447]])"
      ]
     },
     "execution_count": 3,
     "metadata": {},
     "output_type": "execute_result"
    }
   ],
   "source": [
    "X"
   ]
  },
  {
   "cell_type": "code",
   "execution_count": 4,
   "metadata": {},
   "outputs": [
    {
     "data": {
      "text/plain": [
       "array([0, 1, 1, ..., 1, 0, 0])"
      ]
     },
     "execution_count": 4,
     "metadata": {},
     "output_type": "execute_result"
    }
   ],
   "source": [
    "y"
   ]
  },
  {
   "cell_type": "code",
   "execution_count": 5,
   "metadata": {},
   "outputs": [
    {
     "name": "stdout",
     "output_type": "stream",
     "text": [
      "['x1', 'x2', 'x3', 'x4', 'x5', 'x6', 'x7', 'x8', 'x9', 'x10', 'x11', 'x12', 'x13', 'x14', 'x15', 'x16', 'x17', 'x18', 'x19', 'x20', 'x21', 'x22', 'x23', 'x24', 'x25', 'x26', 'x27', 'x28', 'x29', 'x30']\n"
     ]
    }
   ],
   "source": [
    "cols = [f'x{i+1}' for i in range(30)]\n",
    "print(cols)"
   ]
  },
  {
   "cell_type": "code",
   "execution_count": 6,
   "metadata": {},
   "outputs": [
    {
     "data": {
      "text/html": [
       "<div>\n",
       "<style scoped>\n",
       "    .dataframe tbody tr th:only-of-type {\n",
       "        vertical-align: middle;\n",
       "    }\n",
       "\n",
       "    .dataframe tbody tr th {\n",
       "        vertical-align: top;\n",
       "    }\n",
       "\n",
       "    .dataframe thead th {\n",
       "        text-align: right;\n",
       "    }\n",
       "</style>\n",
       "<table border=\"1\" class=\"dataframe\">\n",
       "  <thead>\n",
       "    <tr style=\"text-align: right;\">\n",
       "      <th></th>\n",
       "      <th>x1</th>\n",
       "      <th>x2</th>\n",
       "      <th>x3</th>\n",
       "      <th>x4</th>\n",
       "      <th>x5</th>\n",
       "      <th>x6</th>\n",
       "      <th>x7</th>\n",
       "      <th>x8</th>\n",
       "      <th>x9</th>\n",
       "      <th>x10</th>\n",
       "      <th>...</th>\n",
       "      <th>x21</th>\n",
       "      <th>x22</th>\n",
       "      <th>x23</th>\n",
       "      <th>x24</th>\n",
       "      <th>x25</th>\n",
       "      <th>x26</th>\n",
       "      <th>x27</th>\n",
       "      <th>x28</th>\n",
       "      <th>x29</th>\n",
       "      <th>x30</th>\n",
       "    </tr>\n",
       "  </thead>\n",
       "  <tbody>\n",
       "    <tr>\n",
       "      <th>0</th>\n",
       "      <td>0.545061</td>\n",
       "      <td>3.473758</td>\n",
       "      <td>-1.274171</td>\n",
       "      <td>2.829054</td>\n",
       "      <td>-1.625498</td>\n",
       "      <td>-0.795522</td>\n",
       "      <td>-1.838215</td>\n",
       "      <td>-1.616808</td>\n",
       "      <td>-1.404714</td>\n",
       "      <td>10.127297</td>\n",
       "      <td>...</td>\n",
       "      <td>3.088289</td>\n",
       "      <td>0.900566</td>\n",
       "      <td>2.681921</td>\n",
       "      <td>3.762771</td>\n",
       "      <td>-0.440376</td>\n",
       "      <td>7.387078</td>\n",
       "      <td>-0.532967</td>\n",
       "      <td>-0.762473</td>\n",
       "      <td>-1.537028</td>\n",
       "      <td>0.580730</td>\n",
       "    </tr>\n",
       "    <tr>\n",
       "      <th>1</th>\n",
       "      <td>-0.747479</td>\n",
       "      <td>1.507659</td>\n",
       "      <td>2.832689</td>\n",
       "      <td>-1.656301</td>\n",
       "      <td>2.145346</td>\n",
       "      <td>-1.711876</td>\n",
       "      <td>1.238426</td>\n",
       "      <td>1.404021</td>\n",
       "      <td>0.441029</td>\n",
       "      <td>-6.931045</td>\n",
       "      <td>...</td>\n",
       "      <td>-6.499445</td>\n",
       "      <td>-4.773659</td>\n",
       "      <td>-1.383982</td>\n",
       "      <td>-5.539848</td>\n",
       "      <td>1.323978</td>\n",
       "      <td>-1.289218</td>\n",
       "      <td>-0.813520</td>\n",
       "      <td>0.434193</td>\n",
       "      <td>0.641469</td>\n",
       "      <td>-0.891898</td>\n",
       "    </tr>\n",
       "    <tr>\n",
       "      <th>2</th>\n",
       "      <td>0.383053</td>\n",
       "      <td>0.408816</td>\n",
       "      <td>-3.085381</td>\n",
       "      <td>-1.036111</td>\n",
       "      <td>0.656167</td>\n",
       "      <td>0.320889</td>\n",
       "      <td>2.941561</td>\n",
       "      <td>1.292984</td>\n",
       "      <td>1.687575</td>\n",
       "      <td>-0.685557</td>\n",
       "      <td>...</td>\n",
       "      <td>-0.265299</td>\n",
       "      <td>0.064433</td>\n",
       "      <td>-3.056030</td>\n",
       "      <td>5.022072</td>\n",
       "      <td>0.872650</td>\n",
       "      <td>-1.437520</td>\n",
       "      <td>-0.511495</td>\n",
       "      <td>0.917561</td>\n",
       "      <td>-0.489149</td>\n",
       "      <td>0.372096</td>\n",
       "    </tr>\n",
       "    <tr>\n",
       "      <th>3</th>\n",
       "      <td>-0.513837</td>\n",
       "      <td>3.699313</td>\n",
       "      <td>-3.492246</td>\n",
       "      <td>-0.482032</td>\n",
       "      <td>2.932740</td>\n",
       "      <td>0.822639</td>\n",
       "      <td>0.019105</td>\n",
       "      <td>-0.788151</td>\n",
       "      <td>0.910470</td>\n",
       "      <td>6.453276</td>\n",
       "      <td>...</td>\n",
       "      <td>0.111724</td>\n",
       "      <td>-0.321393</td>\n",
       "      <td>0.268264</td>\n",
       "      <td>0.209977</td>\n",
       "      <td>2.306930</td>\n",
       "      <td>1.354781</td>\n",
       "      <td>-0.801345</td>\n",
       "      <td>-0.230846</td>\n",
       "      <td>-3.497752</td>\n",
       "      <td>0.852655</td>\n",
       "    </tr>\n",
       "    <tr>\n",
       "      <th>4</th>\n",
       "      <td>-0.363382</td>\n",
       "      <td>2.071958</td>\n",
       "      <td>-0.922702</td>\n",
       "      <td>2.453411</td>\n",
       "      <td>0.604949</td>\n",
       "      <td>-1.406466</td>\n",
       "      <td>2.407122</td>\n",
       "      <td>-2.026160</td>\n",
       "      <td>-0.798391</td>\n",
       "      <td>-4.213380</td>\n",
       "      <td>...</td>\n",
       "      <td>-2.142106</td>\n",
       "      <td>-0.094702</td>\n",
       "      <td>-0.178359</td>\n",
       "      <td>-3.611207</td>\n",
       "      <td>-2.076258</td>\n",
       "      <td>4.204434</td>\n",
       "      <td>-0.330140</td>\n",
       "      <td>-0.035674</td>\n",
       "      <td>-1.314333</td>\n",
       "      <td>-0.444761</td>\n",
       "    </tr>\n",
       "  </tbody>\n",
       "</table>\n",
       "<p>5 rows × 30 columns</p>\n",
       "</div>"
      ],
      "text/plain": [
       "         x1        x2        x3        x4        x5        x6        x7   \n",
       "0  0.545061  3.473758 -1.274171  2.829054 -1.625498 -0.795522 -1.838215  \\\n",
       "1 -0.747479  1.507659  2.832689 -1.656301  2.145346 -1.711876  1.238426   \n",
       "2  0.383053  0.408816 -3.085381 -1.036111  0.656167  0.320889  2.941561   \n",
       "3 -0.513837  3.699313 -3.492246 -0.482032  2.932740  0.822639  0.019105   \n",
       "4 -0.363382  2.071958 -0.922702  2.453411  0.604949 -1.406466  2.407122   \n",
       "\n",
       "         x8        x9        x10  ...       x21       x22       x23       x24   \n",
       "0 -1.616808 -1.404714  10.127297  ...  3.088289  0.900566  2.681921  3.762771  \\\n",
       "1  1.404021  0.441029  -6.931045  ... -6.499445 -4.773659 -1.383982 -5.539848   \n",
       "2  1.292984  1.687575  -0.685557  ... -0.265299  0.064433 -3.056030  5.022072   \n",
       "3 -0.788151  0.910470   6.453276  ...  0.111724 -0.321393  0.268264  0.209977   \n",
       "4 -2.026160 -0.798391  -4.213380  ... -2.142106 -0.094702 -0.178359 -3.611207   \n",
       "\n",
       "        x25       x26       x27       x28       x29       x30  \n",
       "0 -0.440376  7.387078 -0.532967 -0.762473 -1.537028  0.580730  \n",
       "1  1.323978 -1.289218 -0.813520  0.434193  0.641469 -0.891898  \n",
       "2  0.872650 -1.437520 -0.511495  0.917561 -0.489149  0.372096  \n",
       "3  2.306930  1.354781 -0.801345 -0.230846 -3.497752  0.852655  \n",
       "4 -2.076258  4.204434 -0.330140 -0.035674 -1.314333 -0.444761  \n",
       "\n",
       "[5 rows x 30 columns]"
      ]
     },
     "execution_count": 6,
     "metadata": {},
     "output_type": "execute_result"
    }
   ],
   "source": [
    "X = pd.DataFrame(X, columns=cols)\n",
    "X.head()"
   ]
  },
  {
   "cell_type": "code",
   "execution_count": 7,
   "metadata": {},
   "outputs": [
    {
     "data": {
      "text/html": [
       "<div>\n",
       "<style scoped>\n",
       "    .dataframe tbody tr th:only-of-type {\n",
       "        vertical-align: middle;\n",
       "    }\n",
       "\n",
       "    .dataframe tbody tr th {\n",
       "        vertical-align: top;\n",
       "    }\n",
       "\n",
       "    .dataframe thead th {\n",
       "        text-align: right;\n",
       "    }\n",
       "</style>\n",
       "<table border=\"1\" class=\"dataframe\">\n",
       "  <thead>\n",
       "    <tr style=\"text-align: right;\">\n",
       "      <th></th>\n",
       "      <th>y</th>\n",
       "    </tr>\n",
       "  </thead>\n",
       "  <tbody>\n",
       "    <tr>\n",
       "      <th>0</th>\n",
       "      <td>0</td>\n",
       "    </tr>\n",
       "    <tr>\n",
       "      <th>1</th>\n",
       "      <td>1</td>\n",
       "    </tr>\n",
       "    <tr>\n",
       "      <th>2</th>\n",
       "      <td>1</td>\n",
       "    </tr>\n",
       "    <tr>\n",
       "      <th>3</th>\n",
       "      <td>0</td>\n",
       "    </tr>\n",
       "    <tr>\n",
       "      <th>4</th>\n",
       "      <td>0</td>\n",
       "    </tr>\n",
       "  </tbody>\n",
       "</table>\n",
       "</div>"
      ],
      "text/plain": [
       "   y\n",
       "0  0\n",
       "1  1\n",
       "2  1\n",
       "3  0\n",
       "4  0"
      ]
     },
     "execution_count": 7,
     "metadata": {},
     "output_type": "execute_result"
    }
   ],
   "source": [
    "y = pd.DataFrame(y,columns=['y'])\n",
    "y.head()"
   ]
  },
  {
   "attachments": {},
   "cell_type": "markdown",
   "metadata": {},
   "source": [
    "### train test split, scaling and training the neural networks"
   ]
  },
  {
   "cell_type": "code",
   "execution_count": 8,
   "metadata": {},
   "outputs": [],
   "source": [
    "from sklearn.model_selection import train_test_split\n",
    "xtrain, xtest, ytrain, ytest = train_test_split(X,y,test_size=0.2, random_state=42)"
   ]
  },
  {
   "cell_type": "code",
   "execution_count": 9,
   "metadata": {},
   "outputs": [
    {
     "data": {
      "text/plain": [
       "(8000, 30)"
      ]
     },
     "execution_count": 9,
     "metadata": {},
     "output_type": "execute_result"
    }
   ],
   "source": [
    "xtrain.shape"
   ]
  },
  {
   "cell_type": "code",
   "execution_count": 10,
   "metadata": {},
   "outputs": [
    {
     "data": {
      "text/plain": [
       "(2000, 30)"
      ]
     },
     "execution_count": 10,
     "metadata": {},
     "output_type": "execute_result"
    }
   ],
   "source": [
    "xtest.shape"
   ]
  },
  {
   "cell_type": "code",
   "execution_count": 11,
   "metadata": {},
   "outputs": [],
   "source": [
    "#scaling\n",
    "from sklearn.preprocessing import StandardScaler\n",
    "scaler = StandardScaler()\n",
    "xtrain = pd.DataFrame(scaler.fit_transform(xtrain), columns=xtrain.columns)\n",
    "xtest  = pd.DataFrame(scaler.transform(xtest), columns= xtest.columns )"
   ]
  },
  {
   "cell_type": "code",
   "execution_count": 12,
   "metadata": {},
   "outputs": [],
   "source": [
    "#training the model\n",
    "from keras.models import Sequential\n",
    "from keras.layers import Dense, Dropout, BatchNormalization"
   ]
  },
  {
   "cell_type": "code",
   "execution_count": 13,
   "metadata": {},
   "outputs": [],
   "source": [
    "#creating a function for using various optimizers\n",
    "def create_model(optimizer):\n",
    "    \n",
    "    #initialize the model\n",
    "    model = Sequential()\n",
    "\n",
    "    #hidden layer1\n",
    "    model.add(Dense(64, activation='relu', input_dim=xtrain.shape[1]))\n",
    "\n",
    "    #adding batch normalization\n",
    "    model.add(BatchNormalization())\n",
    "\n",
    "    #dropout layer1\n",
    "    model.add(Dropout(0.2))\n",
    "\n",
    "    #hidden layer2\n",
    "    model.add(Dense(32, activation='relu'))\n",
    "\n",
    "    #adding batch normalization\n",
    "    model.add(BatchNormalization())\n",
    "\n",
    "    #dropout layer1\n",
    "    model.add(Dropout(0.2))\n",
    "\n",
    "    # Output Layer \n",
    "    model.add(Dense(1, activation='sigmoid'))\n",
    "\n",
    "    #compiling the model\n",
    "    model.compile(loss='binary_crossentropy', optimizer=optimizer, metrics=['accuracy'])\n",
    "\n",
    "    #model summary\n",
    "    model.summary()\n",
    "\n",
    "    return model"
   ]
  },
  {
   "cell_type": "code",
   "execution_count": 14,
   "metadata": {},
   "outputs": [],
   "source": [
    "import matplotlib.pyplot as plt\n",
    "def plot_learning_curve(hist, opt):\n",
    "    plt.figure(figsize=(16,8))\n",
    "    plt.plot(hist.history['loss'], label='Training Loss')\n",
    "    plt.plot(hist.history['val_loss'], label='Validation Loss')\n",
    "    plt.xlabel('Epochs')\n",
    "    plt.ylabel('Binary cross entropy')\n",
    "    plt.title(f'Learning curve for Optimizer : {opt}')\n",
    "    plt.legend()\n",
    "    plt.show()"
   ]
  },
  {
   "attachments": {},
   "cell_type": "markdown",
   "metadata": {},
   "source": [
    "### SGD Optimizer"
   ]
  },
  {
   "cell_type": "code",
   "execution_count": 15,
   "metadata": {},
   "outputs": [
    {
     "name": "stdout",
     "output_type": "stream",
     "text": [
      "Model: \"sequential\"\n",
      "_________________________________________________________________\n",
      " Layer (type)                Output Shape              Param #   \n",
      "=================================================================\n",
      " dense (Dense)               (None, 64)                1984      \n",
      "                                                                 \n",
      " batch_normalization (Batch  (None, 64)                256       \n",
      " Normalization)                                                  \n",
      "                                                                 \n",
      " dropout (Dropout)           (None, 64)                0         \n",
      "                                                                 \n",
      " dense_1 (Dense)             (None, 32)                2080      \n",
      "                                                                 \n",
      " batch_normalization_1 (Bat  (None, 32)                128       \n",
      " chNormalization)                                                \n",
      "                                                                 \n",
      " dropout_1 (Dropout)         (None, 32)                0         \n",
      "                                                                 \n",
      " dense_2 (Dense)             (None, 1)                 33        \n",
      "                                                                 \n",
      "=================================================================\n",
      "Total params: 4481 (17.50 KB)\n",
      "Trainable params: 4289 (16.75 KB)\n",
      "Non-trainable params: 192 (768.00 Byte)\n",
      "_________________________________________________________________\n"
     ]
    }
   ],
   "source": [
    "model_sgd = create_model(optimizer='SGD')"
   ]
  },
  {
   "cell_type": "code",
   "execution_count": 16,
   "metadata": {},
   "outputs": [
    {
     "name": "stdout",
     "output_type": "stream",
     "text": [
      "Epoch 1/50\n",
      "200/200 [==============================] - 1s 2ms/step - loss: 0.6289 - accuracy: 0.6705 - val_loss: 0.4826 - val_accuracy: 0.7644\n",
      "Epoch 2/50\n",
      "200/200 [==============================] - 0s 844us/step - loss: 0.4866 - accuracy: 0.7581 - val_loss: 0.3976 - val_accuracy: 0.8231\n",
      "Epoch 3/50\n",
      "200/200 [==============================] - 0s 836us/step - loss: 0.4391 - accuracy: 0.7959 - val_loss: 0.3558 - val_accuracy: 0.8431\n",
      "Epoch 4/50\n",
      "200/200 [==============================] - 0s 819us/step - loss: 0.4016 - accuracy: 0.8189 - val_loss: 0.3258 - val_accuracy: 0.8600\n",
      "Epoch 5/50\n",
      "200/200 [==============================] - 0s 818us/step - loss: 0.3738 - accuracy: 0.8375 - val_loss: 0.3027 - val_accuracy: 0.8712\n",
      "Epoch 6/50\n",
      "200/200 [==============================] - 0s 815us/step - loss: 0.3518 - accuracy: 0.8406 - val_loss: 0.2841 - val_accuracy: 0.8844\n",
      "Epoch 7/50\n",
      "200/200 [==============================] - 0s 817us/step - loss: 0.3371 - accuracy: 0.8556 - val_loss: 0.2672 - val_accuracy: 0.8956\n",
      "Epoch 8/50\n",
      "200/200 [==============================] - 0s 811us/step - loss: 0.3354 - accuracy: 0.8595 - val_loss: 0.2532 - val_accuracy: 0.9050\n",
      "Epoch 9/50\n",
      "200/200 [==============================] - 0s 820us/step - loss: 0.3175 - accuracy: 0.8617 - val_loss: 0.2419 - val_accuracy: 0.9100\n",
      "Epoch 10/50\n",
      "200/200 [==============================] - 0s 817us/step - loss: 0.2997 - accuracy: 0.8723 - val_loss: 0.2293 - val_accuracy: 0.9137\n",
      "Epoch 11/50\n",
      "200/200 [==============================] - 0s 816us/step - loss: 0.2921 - accuracy: 0.8780 - val_loss: 0.2190 - val_accuracy: 0.9187\n",
      "Epoch 12/50\n",
      "200/200 [==============================] - 0s 820us/step - loss: 0.2783 - accuracy: 0.8844 - val_loss: 0.2098 - val_accuracy: 0.9262\n",
      "Epoch 13/50\n",
      "200/200 [==============================] - 0s 814us/step - loss: 0.2758 - accuracy: 0.8861 - val_loss: 0.2015 - val_accuracy: 0.9281\n",
      "Epoch 14/50\n",
      "200/200 [==============================] - 0s 830us/step - loss: 0.2696 - accuracy: 0.8909 - val_loss: 0.1953 - val_accuracy: 0.9300\n",
      "Epoch 15/50\n",
      "200/200 [==============================] - 0s 818us/step - loss: 0.2606 - accuracy: 0.8947 - val_loss: 0.1898 - val_accuracy: 0.9306\n",
      "Epoch 16/50\n",
      "200/200 [==============================] - 0s 824us/step - loss: 0.2460 - accuracy: 0.8986 - val_loss: 0.1843 - val_accuracy: 0.9337\n",
      "Epoch 17/50\n",
      "200/200 [==============================] - 0s 832us/step - loss: 0.2370 - accuracy: 0.9058 - val_loss: 0.1786 - val_accuracy: 0.9388\n",
      "Epoch 18/50\n",
      "200/200 [==============================] - 0s 832us/step - loss: 0.2369 - accuracy: 0.9031 - val_loss: 0.1731 - val_accuracy: 0.9388\n",
      "Epoch 19/50\n",
      "200/200 [==============================] - 0s 831us/step - loss: 0.2277 - accuracy: 0.9092 - val_loss: 0.1686 - val_accuracy: 0.9406\n",
      "Epoch 20/50\n",
      "200/200 [==============================] - 0s 825us/step - loss: 0.2248 - accuracy: 0.9078 - val_loss: 0.1651 - val_accuracy: 0.9413\n",
      "Epoch 21/50\n",
      "200/200 [==============================] - 0s 849us/step - loss: 0.2215 - accuracy: 0.9139 - val_loss: 0.1598 - val_accuracy: 0.9431\n",
      "Epoch 22/50\n",
      "200/200 [==============================] - 0s 921us/step - loss: 0.2147 - accuracy: 0.9152 - val_loss: 0.1558 - val_accuracy: 0.9431\n",
      "Epoch 23/50\n",
      "200/200 [==============================] - 0s 839us/step - loss: 0.2088 - accuracy: 0.9205 - val_loss: 0.1540 - val_accuracy: 0.9419\n",
      "Epoch 24/50\n",
      "200/200 [==============================] - 0s 833us/step - loss: 0.2046 - accuracy: 0.9237 - val_loss: 0.1504 - val_accuracy: 0.9419\n",
      "Epoch 25/50\n",
      "200/200 [==============================] - 0s 827us/step - loss: 0.2015 - accuracy: 0.9239 - val_loss: 0.1471 - val_accuracy: 0.9481\n",
      "Epoch 26/50\n",
      "200/200 [==============================] - 0s 828us/step - loss: 0.2079 - accuracy: 0.9197 - val_loss: 0.1450 - val_accuracy: 0.9494\n",
      "Epoch 27/50\n",
      "200/200 [==============================] - 0s 865us/step - loss: 0.2045 - accuracy: 0.9227 - val_loss: 0.1429 - val_accuracy: 0.9519\n",
      "Epoch 28/50\n",
      "200/200 [==============================] - 0s 833us/step - loss: 0.2027 - accuracy: 0.9189 - val_loss: 0.1415 - val_accuracy: 0.9513\n",
      "Epoch 29/50\n",
      "200/200 [==============================] - 0s 836us/step - loss: 0.1930 - accuracy: 0.9250 - val_loss: 0.1376 - val_accuracy: 0.9525\n",
      "Epoch 30/50\n",
      "200/200 [==============================] - 0s 898us/step - loss: 0.1916 - accuracy: 0.9284 - val_loss: 0.1348 - val_accuracy: 0.9575\n",
      "Epoch 31/50\n",
      "200/200 [==============================] - 0s 867us/step - loss: 0.1858 - accuracy: 0.9308 - val_loss: 0.1338 - val_accuracy: 0.9556\n",
      "Epoch 32/50\n",
      "200/200 [==============================] - 0s 1ms/step - loss: 0.1886 - accuracy: 0.9311 - val_loss: 0.1316 - val_accuracy: 0.9556\n",
      "Epoch 33/50\n",
      "200/200 [==============================] - 0s 881us/step - loss: 0.1874 - accuracy: 0.9294 - val_loss: 0.1292 - val_accuracy: 0.9575\n",
      "Epoch 34/50\n",
      "200/200 [==============================] - 0s 862us/step - loss: 0.1811 - accuracy: 0.9314 - val_loss: 0.1278 - val_accuracy: 0.9600\n",
      "Epoch 35/50\n",
      "200/200 [==============================] - 0s 827us/step - loss: 0.1790 - accuracy: 0.9347 - val_loss: 0.1269 - val_accuracy: 0.9600\n",
      "Epoch 36/50\n",
      "200/200 [==============================] - 0s 868us/step - loss: 0.1711 - accuracy: 0.9333 - val_loss: 0.1241 - val_accuracy: 0.9613\n",
      "Epoch 37/50\n",
      "200/200 [==============================] - 0s 881us/step - loss: 0.1732 - accuracy: 0.9352 - val_loss: 0.1225 - val_accuracy: 0.9619\n",
      "Epoch 38/50\n",
      "200/200 [==============================] - 0s 823us/step - loss: 0.1723 - accuracy: 0.9381 - val_loss: 0.1225 - val_accuracy: 0.9594\n",
      "Epoch 39/50\n",
      "200/200 [==============================] - 0s 845us/step - loss: 0.1676 - accuracy: 0.9364 - val_loss: 0.1196 - val_accuracy: 0.9625\n",
      "Epoch 40/50\n",
      "200/200 [==============================] - 0s 894us/step - loss: 0.1710 - accuracy: 0.9362 - val_loss: 0.1190 - val_accuracy: 0.9631\n",
      "Epoch 41/50\n",
      "200/200 [==============================] - 0s 833us/step - loss: 0.1700 - accuracy: 0.9425 - val_loss: 0.1190 - val_accuracy: 0.9625\n",
      "Epoch 42/50\n",
      "200/200 [==============================] - 0s 896us/step - loss: 0.1712 - accuracy: 0.9347 - val_loss: 0.1173 - val_accuracy: 0.9631\n",
      "Epoch 43/50\n",
      "200/200 [==============================] - 0s 870us/step - loss: 0.1622 - accuracy: 0.9394 - val_loss: 0.1162 - val_accuracy: 0.9644\n",
      "Epoch 44/50\n",
      "200/200 [==============================] - 0s 843us/step - loss: 0.1649 - accuracy: 0.9402 - val_loss: 0.1148 - val_accuracy: 0.9631\n",
      "Epoch 45/50\n",
      "200/200 [==============================] - 0s 909us/step - loss: 0.1650 - accuracy: 0.9417 - val_loss: 0.1142 - val_accuracy: 0.9638\n",
      "Epoch 46/50\n",
      "200/200 [==============================] - 0s 845us/step - loss: 0.1516 - accuracy: 0.9470 - val_loss: 0.1126 - val_accuracy: 0.9650\n",
      "Epoch 47/50\n",
      "200/200 [==============================] - 0s 892us/step - loss: 0.1523 - accuracy: 0.9434 - val_loss: 0.1125 - val_accuracy: 0.9638\n",
      "Epoch 48/50\n",
      "200/200 [==============================] - 0s 914us/step - loss: 0.1548 - accuracy: 0.9433 - val_loss: 0.1109 - val_accuracy: 0.9669\n",
      "Epoch 49/50\n",
      "200/200 [==============================] - 0s 878us/step - loss: 0.1474 - accuracy: 0.9506 - val_loss: 0.1094 - val_accuracy: 0.9675\n",
      "Epoch 50/50\n",
      "200/200 [==============================] - 0s 830us/step - loss: 0.1509 - accuracy: 0.9480 - val_loss: 0.1085 - val_accuracy: 0.9669\n"
     ]
    }
   ],
   "source": [
    "hist_sgd = model_sgd.fit(xtrain, ytrain, validation_split=0.2, epochs=50)"
   ]
  },
  {
   "cell_type": "code",
   "execution_count": 17,
   "metadata": {},
   "outputs": [
    {
     "data": {
      "image/png": "[encoded data removed]",
      "text/plain": [
       "<Figure size 1600x800 with 1 Axes>"
      ]
     },
     "metadata": {},
     "output_type": "display_data"
    }
   ],
   "source": [
    "plot_learning_curve(hist=hist_sgd, opt='SGD')\n"
   ]
  },
  {
   "attachments": {},
   "cell_type": "markdown",
   "metadata": {},
   "source": [
    "### Evaluate SGD"
   ]
  },
  {
   "cell_type": "code",
   "execution_count": 18,
   "metadata": {},
   "outputs": [
    {
     "name": "stdout",
     "output_type": "stream",
     "text": [
      "250/250 [==============================] - 0s 559us/step - loss: 0.0903 - accuracy: 0.9756\n"
     ]
    }
   ],
   "source": [
    "train_loss_sgd, train_accuracy_sgd = model_sgd.evaluate(xtrain, ytrain)"
   ]
  },
  {
   "cell_type": "code",
   "execution_count": 19,
   "metadata": {},
   "outputs": [
    {
     "name": "stdout",
     "output_type": "stream",
     "text": [
      "63/63 [==============================] - 0s 889us/step - loss: 0.0916 - accuracy: 0.9710\n"
     ]
    }
   ],
   "source": [
    "test_loss_sgd, test_accuracy_sgd = model_sgd.evaluate(xtest, ytest)"
   ]
  },
  {
   "attachments": {},
   "cell_type": "markdown",
   "metadata": {},
   "source": [
    "### SGD has 97.35% accuracy in testing\n",
    "\n",
    "### RMS Prop"
   ]
  },
  {
   "cell_type": "code",
   "execution_count": 20,
   "metadata": {},
   "outputs": [
    {
     "name": "stdout",
     "output_type": "stream",
     "text": [
      "Model: \"sequential_1\"\n",
      "_________________________________________________________________\n",
      " Layer (type)                Output Shape              Param #   \n",
      "=================================================================\n",
      " dense_3 (Dense)             (None, 64)                1984      \n",
      "                                                                 \n",
      " batch_normalization_2 (Bat  (None, 64)                256       \n",
      " chNormalization)                                                \n",
      "                                                                 \n",
      " dropout_2 (Dropout)         (None, 64)                0         \n",
      "                                                                 \n",
      " dense_4 (Dense)             (None, 32)                2080      \n",
      "                                                                 \n",
      " batch_normalization_3 (Bat  (None, 32)                128       \n",
      " chNormalization)                                                \n",
      "                                                                 \n",
      " dropout_3 (Dropout)         (None, 32)                0         \n",
      "                                                                 \n",
      " dense_5 (Dense)             (None, 1)                 33        \n",
      "                                                                 \n",
      "=================================================================\n",
      "Total params: 4481 (17.50 KB)\n",
      "Trainable params: 4289 (16.75 KB)\n",
      "Non-trainable params: 192 (768.00 Byte)\n",
      "_________________________________________________________________\n"
     ]
    }
   ],
   "source": [
    "model_rmsprop = create_model(optimizer='RMSProp')"
   ]
  },
  {
   "cell_type": "code",
   "execution_count": 21,
   "metadata": {},
   "outputs": [
    {
     "name": "stdout",
     "output_type": "stream",
     "text": [
      "Epoch 1/50\n",
      "200/200 [==============================] - 1s 2ms/step - loss: 0.5116 - accuracy: 0.7492 - val_loss: 0.3475 - val_accuracy: 0.8637\n",
      "Epoch 2/50\n",
      "200/200 [==============================] - 0s 2ms/step - loss: 0.3439 - accuracy: 0.8533 - val_loss: 0.2471 - val_accuracy: 0.9019\n",
      "Epoch 3/50\n",
      "200/200 [==============================] - 0s 1ms/step - loss: 0.2898 - accuracy: 0.8789 - val_loss: 0.2001 - val_accuracy: 0.9237\n",
      "Epoch 4/50\n",
      "200/200 [==============================] - 0s 1ms/step - loss: 0.2462 - accuracy: 0.9047 - val_loss: 0.1711 - val_accuracy: 0.9388\n",
      "Epoch 5/50\n",
      "200/200 [==============================] - 0s 1ms/step - loss: 0.2179 - accuracy: 0.9169 - val_loss: 0.1551 - val_accuracy: 0.9500\n",
      "Epoch 6/50\n",
      "200/200 [==============================] - 0s 1ms/step - loss: 0.2031 - accuracy: 0.9208 - val_loss: 0.1427 - val_accuracy: 0.9569\n",
      "Epoch 7/50\n",
      "200/200 [==============================] - 0s 1ms/step - loss: 0.1811 - accuracy: 0.9323 - val_loss: 0.1322 - val_accuracy: 0.9619\n",
      "Epoch 8/50\n",
      "200/200 [==============================] - 0s 999us/step - loss: 0.1828 - accuracy: 0.9319 - val_loss: 0.1248 - val_accuracy: 0.9625\n",
      "Epoch 9/50\n",
      "200/200 [==============================] - 0s 1ms/step - loss: 0.1599 - accuracy: 0.9391 - val_loss: 0.1185 - val_accuracy: 0.9644\n",
      "Epoch 10/50\n",
      "200/200 [==============================] - 0s 973us/step - loss: 0.1594 - accuracy: 0.9417 - val_loss: 0.1156 - val_accuracy: 0.9650\n",
      "Epoch 11/50\n",
      "200/200 [==============================] - 0s 953us/step - loss: 0.1510 - accuracy: 0.9464 - val_loss: 0.1114 - val_accuracy: 0.9675\n",
      "Epoch 12/50\n",
      "200/200 [==============================] - 0s 2ms/step - loss: 0.1482 - accuracy: 0.9498 - val_loss: 0.1100 - val_accuracy: 0.9694\n",
      "Epoch 13/50\n",
      "200/200 [==============================] - 0s 2ms/step - loss: 0.1368 - accuracy: 0.9498 - val_loss: 0.1052 - val_accuracy: 0.9700\n",
      "Epoch 14/50\n",
      "200/200 [==============================] - 0s 2ms/step - loss: 0.1337 - accuracy: 0.9527 - val_loss: 0.1036 - val_accuracy: 0.9706\n",
      "Epoch 15/50\n",
      "200/200 [==============================] - 1s 4ms/step - loss: 0.1238 - accuracy: 0.9563 - val_loss: 0.1026 - val_accuracy: 0.9706\n",
      "Epoch 16/50\n",
      "200/200 [==============================] - 0s 1ms/step - loss: 0.1296 - accuracy: 0.9541 - val_loss: 0.0987 - val_accuracy: 0.9712\n",
      "Epoch 17/50\n",
      "200/200 [==============================] - 0s 911us/step - loss: 0.1183 - accuracy: 0.9598 - val_loss: 0.0952 - val_accuracy: 0.9700\n",
      "Epoch 18/50\n",
      "200/200 [==============================] - 0s 996us/step - loss: 0.1175 - accuracy: 0.9605 - val_loss: 0.0943 - val_accuracy: 0.9700\n",
      "Epoch 19/50\n",
      "200/200 [==============================] - 0s 966us/step - loss: 0.1195 - accuracy: 0.9602 - val_loss: 0.0924 - val_accuracy: 0.9731\n",
      "Epoch 20/50\n",
      "200/200 [==============================] - 0s 912us/step - loss: 0.1164 - accuracy: 0.9598 - val_loss: 0.0900 - val_accuracy: 0.9750\n",
      "Epoch 21/50\n",
      "200/200 [==============================] - 0s 909us/step - loss: 0.1116 - accuracy: 0.9633 - val_loss: 0.0899 - val_accuracy: 0.9737\n",
      "Epoch 22/50\n",
      "200/200 [==============================] - 0s 973us/step - loss: 0.1067 - accuracy: 0.9663 - val_loss: 0.0887 - val_accuracy: 0.9750\n",
      "Epoch 23/50\n",
      "200/200 [==============================] - 0s 971us/step - loss: 0.1072 - accuracy: 0.9659 - val_loss: 0.0885 - val_accuracy: 0.9731\n",
      "Epoch 24/50\n",
      "200/200 [==============================] - 0s 908us/step - loss: 0.1186 - accuracy: 0.9611 - val_loss: 0.0862 - val_accuracy: 0.9756\n",
      "Epoch 25/50\n",
      "200/200 [==============================] - 0s 907us/step - loss: 0.1126 - accuracy: 0.9623 - val_loss: 0.0880 - val_accuracy: 0.9750\n",
      "Epoch 26/50\n",
      "200/200 [==============================] - 0s 978us/step - loss: 0.1041 - accuracy: 0.9650 - val_loss: 0.0842 - val_accuracy: 0.9775\n",
      "Epoch 27/50\n",
      "200/200 [==============================] - 0s 958us/step - loss: 0.0956 - accuracy: 0.9673 - val_loss: 0.0825 - val_accuracy: 0.9781\n",
      "Epoch 28/50\n",
      "200/200 [==============================] - 0s 964us/step - loss: 0.0973 - accuracy: 0.9656 - val_loss: 0.0834 - val_accuracy: 0.9769\n",
      "Epoch 29/50\n",
      "200/200 [==============================] - 0s 933us/step - loss: 0.1039 - accuracy: 0.9669 - val_loss: 0.0836 - val_accuracy: 0.9756\n",
      "Epoch 30/50\n",
      "200/200 [==============================] - 0s 910us/step - loss: 0.1013 - accuracy: 0.9659 - val_loss: 0.0870 - val_accuracy: 0.9756\n",
      "Epoch 31/50\n",
      "200/200 [==============================] - 0s 984us/step - loss: 0.0935 - accuracy: 0.9688 - val_loss: 0.0851 - val_accuracy: 0.9769\n",
      "Epoch 32/50\n",
      "200/200 [==============================] - 0s 911us/step - loss: 0.0928 - accuracy: 0.9684 - val_loss: 0.0842 - val_accuracy: 0.9756\n",
      "Epoch 33/50\n",
      "200/200 [==============================] - 0s 932us/step - loss: 0.0932 - accuracy: 0.9698 - val_loss: 0.0845 - val_accuracy: 0.9800\n",
      "Epoch 34/50\n",
      "200/200 [==============================] - 0s 938us/step - loss: 0.0998 - accuracy: 0.9669 - val_loss: 0.0842 - val_accuracy: 0.9812\n",
      "Epoch 35/50\n",
      "200/200 [==============================] - 0s 935us/step - loss: 0.0860 - accuracy: 0.9712 - val_loss: 0.0816 - val_accuracy: 0.9787\n",
      "Epoch 36/50\n",
      "200/200 [==============================] - 0s 945us/step - loss: 0.0833 - accuracy: 0.9733 - val_loss: 0.0809 - val_accuracy: 0.9794\n",
      "Epoch 37/50\n",
      "200/200 [==============================] - 0s 959us/step - loss: 0.0928 - accuracy: 0.9717 - val_loss: 0.0813 - val_accuracy: 0.9800\n",
      "Epoch 38/50\n",
      "200/200 [==============================] - 0s 922us/step - loss: 0.0938 - accuracy: 0.9673 - val_loss: 0.0793 - val_accuracy: 0.9812\n",
      "Epoch 39/50\n",
      "200/200 [==============================] - 0s 961us/step - loss: 0.0816 - accuracy: 0.9725 - val_loss: 0.0779 - val_accuracy: 0.9806\n",
      "Epoch 40/50\n",
      "200/200 [==============================] - 0s 930us/step - loss: 0.0802 - accuracy: 0.9758 - val_loss: 0.0771 - val_accuracy: 0.9812\n",
      "Epoch 41/50\n",
      "200/200 [==============================] - 0s 944us/step - loss: 0.0881 - accuracy: 0.9717 - val_loss: 0.0798 - val_accuracy: 0.9794\n",
      "Epoch 42/50\n",
      "200/200 [==============================] - 0s 907us/step - loss: 0.0752 - accuracy: 0.9759 - val_loss: 0.0781 - val_accuracy: 0.9800\n",
      "Epoch 43/50\n",
      "200/200 [==============================] - 0s 987us/step - loss: 0.0807 - accuracy: 0.9752 - val_loss: 0.0739 - val_accuracy: 0.9806\n",
      "Epoch 44/50\n",
      "200/200 [==============================] - 0s 964us/step - loss: 0.0816 - accuracy: 0.9748 - val_loss: 0.0740 - val_accuracy: 0.9794\n",
      "Epoch 45/50\n",
      "200/200 [==============================] - 0s 916us/step - loss: 0.0885 - accuracy: 0.9737 - val_loss: 0.0759 - val_accuracy: 0.9819\n",
      "Epoch 46/50\n",
      "200/200 [==============================] - 0s 909us/step - loss: 0.0867 - accuracy: 0.9678 - val_loss: 0.0743 - val_accuracy: 0.9812\n",
      "Epoch 47/50\n",
      "200/200 [==============================] - 0s 904us/step - loss: 0.0759 - accuracy: 0.9752 - val_loss: 0.0748 - val_accuracy: 0.9800\n",
      "Epoch 48/50\n",
      "200/200 [==============================] - 0s 905us/step - loss: 0.0843 - accuracy: 0.9717 - val_loss: 0.0735 - val_accuracy: 0.9825\n",
      "Epoch 49/50\n",
      "200/200 [==============================] - 0s 915us/step - loss: 0.0728 - accuracy: 0.9764 - val_loss: 0.0697 - val_accuracy: 0.9806\n",
      "Epoch 50/50\n",
      "200/200 [==============================] - 0s 898us/step - loss: 0.0734 - accuracy: 0.9777 - val_loss: 0.0737 - val_accuracy: 0.9819\n"
     ]
    }
   ],
   "source": [
    "hist_rmsprop = model_rmsprop.fit(xtrain, ytrain, validation_split=0.2, epochs=50)"
   ]
  },
  {
   "cell_type": "code",
   "execution_count": 22,
   "metadata": {},
   "outputs": [
    {
     "data": {
      "image/png": "[encoded data removed]",
      "text/plain": [
       "<Figure size 1600x800 with 1 Axes>"
      ]
     },
     "metadata": {},
     "output_type": "display_data"
    }
   ],
   "source": [
    "plot_learning_curve(hist=hist_rmsprop, opt='RMSProp')"
   ]
  },
  {
   "attachments": {},
   "cell_type": "markdown",
   "metadata": {},
   "source": [
    "### Evaluate rmsprop"
   ]
  },
  {
   "cell_type": "code",
   "execution_count": 23,
   "metadata": {},
   "outputs": [
    {
     "name": "stdout",
     "output_type": "stream",
     "text": [
      "250/250 [==============================] - 0s 538us/step - loss: 0.0398 - accuracy: 0.9912\n"
     ]
    }
   ],
   "source": [
    "\n",
    "train_loss_rms, train_accuracy_rms = model_rmsprop.evaluate(xtrain, ytrain)"
   ]
  },
  {
   "cell_type": "code",
   "execution_count": 24,
   "metadata": {},
   "outputs": [
    {
     "name": "stdout",
     "output_type": "stream",
     "text": [
      "63/63 [==============================] - 0s 641us/step - loss: 0.0562 - accuracy: 0.9850\n"
     ]
    }
   ],
   "source": [
    "test_loss_rms, test_accuracy_rms = model_rmsprop.evaluate(xtest, ytest)"
   ]
  },
  {
   "attachments": {},
   "cell_type": "markdown",
   "metadata": {},
   "source": [
    "### RMS Prop has improved model testing accuracy further to 98.40% which is very good improvement\n",
    "\n",
    "### Adam Optimizer"
   ]
  },
  {
   "cell_type": "code",
   "execution_count": 25,
   "metadata": {},
   "outputs": [
    {
     "name": "stdout",
     "output_type": "stream",
     "text": [
      "Model: \"sequential_2\"\n",
      "_________________________________________________________________\n",
      " Layer (type)                Output Shape              Param #   \n",
      "=================================================================\n",
      " dense_6 (Dense)             (None, 64)                1984      \n",
      "                                                                 \n",
      " batch_normalization_4 (Bat  (None, 64)                256       \n",
      " chNormalization)                                                \n",
      "                                                                 \n",
      " dropout_4 (Dropout)         (None, 64)                0         \n",
      "                                                                 \n",
      " dense_7 (Dense)             (None, 32)                2080      \n",
      "                                                                 \n",
      " batch_normalization_5 (Bat  (None, 32)                128       \n",
      " chNormalization)                                                \n",
      "                                                                 \n",
      " dropout_5 (Dropout)         (None, 32)                0         \n",
      "                                                                 \n",
      " dense_8 (Dense)             (None, 1)                 33        \n",
      "                                                                 \n",
      "=================================================================\n",
      "Total params: 4481 (17.50 KB)\n",
      "Trainable params: 4289 (16.75 KB)\n",
      "Non-trainable params: 192 (768.00 Byte)\n",
      "_________________________________________________________________\n"
     ]
    }
   ],
   "source": [
    "model_adam = create_model(optimizer='Adam')\n"
   ]
  },
  {
   "cell_type": "code",
   "execution_count": 26,
   "metadata": {},
   "outputs": [
    {
     "name": "stdout",
     "output_type": "stream",
     "text": [
      "Epoch 1/50\n",
      "200/200 [==============================] - 1s 2ms/step - loss: 0.5064 - accuracy: 0.7502 - val_loss: 0.3361 - val_accuracy: 0.8687\n",
      "Epoch 2/50\n",
      "200/200 [==============================] - 0s 1ms/step - loss: 0.3507 - accuracy: 0.8503 - val_loss: 0.2412 - val_accuracy: 0.9069\n",
      "Epoch 3/50\n",
      "200/200 [==============================] - 0s 990us/step - loss: 0.2823 - accuracy: 0.8831 - val_loss: 0.1919 - val_accuracy: 0.9300\n",
      "Epoch 4/50\n",
      "200/200 [==============================] - 0s 986us/step - loss: 0.2437 - accuracy: 0.9072 - val_loss: 0.1682 - val_accuracy: 0.9419\n",
      "Epoch 5/50\n",
      "200/200 [==============================] - 0s 1ms/step - loss: 0.2192 - accuracy: 0.9137 - val_loss: 0.1529 - val_accuracy: 0.9544\n",
      "Epoch 6/50\n",
      "200/200 [==============================] - 0s 1ms/step - loss: 0.1997 - accuracy: 0.9236 - val_loss: 0.1432 - val_accuracy: 0.9569\n",
      "Epoch 7/50\n",
      "200/200 [==============================] - 0s 1ms/step - loss: 0.1968 - accuracy: 0.9233 - val_loss: 0.1326 - val_accuracy: 0.9613\n",
      "Epoch 8/50\n",
      "200/200 [==============================] - 0s 997us/step - loss: 0.1692 - accuracy: 0.9356 - val_loss: 0.1285 - val_accuracy: 0.9563\n",
      "Epoch 9/50\n",
      "200/200 [==============================] - 0s 976us/step - loss: 0.1687 - accuracy: 0.9375 - val_loss: 0.1247 - val_accuracy: 0.9581\n",
      "Epoch 10/50\n",
      "200/200 [==============================] - 0s 993us/step - loss: 0.1614 - accuracy: 0.9411 - val_loss: 0.1140 - val_accuracy: 0.9675\n",
      "Epoch 11/50\n",
      "200/200 [==============================] - 0s 1ms/step - loss: 0.1537 - accuracy: 0.9441 - val_loss: 0.1100 - val_accuracy: 0.9663\n",
      "Epoch 12/50\n",
      "200/200 [==============================] - 0s 1ms/step - loss: 0.1417 - accuracy: 0.9520 - val_loss: 0.1103 - val_accuracy: 0.9656\n",
      "Epoch 13/50\n",
      "200/200 [==============================] - 0s 1ms/step - loss: 0.1444 - accuracy: 0.9506 - val_loss: 0.1078 - val_accuracy: 0.9675\n",
      "Epoch 14/50\n",
      "200/200 [==============================] - 0s 956us/step - loss: 0.1408 - accuracy: 0.9481 - val_loss: 0.1038 - val_accuracy: 0.9681\n",
      "Epoch 15/50\n",
      "200/200 [==============================] - 0s 968us/step - loss: 0.1403 - accuracy: 0.9520 - val_loss: 0.1006 - val_accuracy: 0.9712\n",
      "Epoch 16/50\n",
      "200/200 [==============================] - 0s 955us/step - loss: 0.1278 - accuracy: 0.9538 - val_loss: 0.0991 - val_accuracy: 0.9706\n",
      "Epoch 17/50\n",
      "200/200 [==============================] - 0s 962us/step - loss: 0.1179 - accuracy: 0.9566 - val_loss: 0.0992 - val_accuracy: 0.9706\n",
      "Epoch 18/50\n",
      "200/200 [==============================] - 0s 946us/step - loss: 0.1247 - accuracy: 0.9584 - val_loss: 0.0968 - val_accuracy: 0.9712\n",
      "Epoch 19/50\n",
      "200/200 [==============================] - 0s 957us/step - loss: 0.1144 - accuracy: 0.9616 - val_loss: 0.0984 - val_accuracy: 0.9663\n",
      "Epoch 20/50\n",
      "200/200 [==============================] - 0s 998us/step - loss: 0.1123 - accuracy: 0.9614 - val_loss: 0.0941 - val_accuracy: 0.9706\n",
      "Epoch 21/50\n",
      "200/200 [==============================] - 0s 985us/step - loss: 0.1219 - accuracy: 0.9570 - val_loss: 0.0942 - val_accuracy: 0.9700\n",
      "Epoch 22/50\n",
      "200/200 [==============================] - 0s 985us/step - loss: 0.1093 - accuracy: 0.9627 - val_loss: 0.0927 - val_accuracy: 0.9706\n",
      "Epoch 23/50\n",
      "200/200 [==============================] - 0s 952us/step - loss: 0.1162 - accuracy: 0.9602 - val_loss: 0.0931 - val_accuracy: 0.9712\n",
      "Epoch 24/50\n",
      "200/200 [==============================] - 0s 1ms/step - loss: 0.1119 - accuracy: 0.9616 - val_loss: 0.0934 - val_accuracy: 0.9706\n",
      "Epoch 25/50\n",
      "200/200 [==============================] - 0s 1ms/step - loss: 0.1112 - accuracy: 0.9600 - val_loss: 0.0898 - val_accuracy: 0.9706\n",
      "Epoch 26/50\n",
      "200/200 [==============================] - 0s 1ms/step - loss: 0.1036 - accuracy: 0.9652 - val_loss: 0.0912 - val_accuracy: 0.9694\n",
      "Epoch 27/50\n",
      "200/200 [==============================] - 1s 3ms/step - loss: 0.1073 - accuracy: 0.9631 - val_loss: 0.0917 - val_accuracy: 0.9700\n",
      "Epoch 28/50\n",
      "200/200 [==============================] - 0s 1ms/step - loss: 0.1002 - accuracy: 0.9645 - val_loss: 0.0874 - val_accuracy: 0.9737\n",
      "Epoch 29/50\n",
      "200/200 [==============================] - 0s 1ms/step - loss: 0.0911 - accuracy: 0.9702 - val_loss: 0.0947 - val_accuracy: 0.9700\n",
      "Epoch 30/50\n",
      "200/200 [==============================] - 0s 1ms/step - loss: 0.0948 - accuracy: 0.9659 - val_loss: 0.0870 - val_accuracy: 0.9744\n",
      "Epoch 31/50\n",
      "200/200 [==============================] - 0s 963us/step - loss: 0.0990 - accuracy: 0.9673 - val_loss: 0.0863 - val_accuracy: 0.9737\n",
      "Epoch 32/50\n",
      "200/200 [==============================] - 0s 1ms/step - loss: 0.0953 - accuracy: 0.9647 - val_loss: 0.0856 - val_accuracy: 0.9769\n",
      "Epoch 33/50\n",
      "200/200 [==============================] - 0s 1ms/step - loss: 0.0955 - accuracy: 0.9689 - val_loss: 0.0829 - val_accuracy: 0.9750\n",
      "Epoch 34/50\n",
      "200/200 [==============================] - 0s 1ms/step - loss: 0.0932 - accuracy: 0.9702 - val_loss: 0.0849 - val_accuracy: 0.9737\n",
      "Epoch 35/50\n",
      "200/200 [==============================] - 0s 1ms/step - loss: 0.0911 - accuracy: 0.9675 - val_loss: 0.0881 - val_accuracy: 0.9694\n",
      "Epoch 36/50\n",
      "200/200 [==============================] - 0s 1ms/step - loss: 0.0912 - accuracy: 0.9691 - val_loss: 0.0853 - val_accuracy: 0.9769\n",
      "Epoch 37/50\n",
      "200/200 [==============================] - 0s 1ms/step - loss: 0.0885 - accuracy: 0.9712 - val_loss: 0.0811 - val_accuracy: 0.9762\n",
      "Epoch 38/50\n",
      "200/200 [==============================] - 0s 991us/step - loss: 0.0872 - accuracy: 0.9692 - val_loss: 0.0820 - val_accuracy: 0.9794\n",
      "Epoch 39/50\n",
      "200/200 [==============================] - 0s 1ms/step - loss: 0.0863 - accuracy: 0.9720 - val_loss: 0.0864 - val_accuracy: 0.9756\n",
      "Epoch 40/50\n",
      "200/200 [==============================] - 0s 1ms/step - loss: 0.0890 - accuracy: 0.9709 - val_loss: 0.0809 - val_accuracy: 0.9812\n",
      "Epoch 41/50\n",
      "200/200 [==============================] - 0s 997us/step - loss: 0.0770 - accuracy: 0.9750 - val_loss: 0.0830 - val_accuracy: 0.9769\n",
      "Epoch 42/50\n",
      "200/200 [==============================] - 0s 1ms/step - loss: 0.0876 - accuracy: 0.9689 - val_loss: 0.0823 - val_accuracy: 0.9750\n",
      "Epoch 43/50\n",
      "200/200 [==============================] - 0s 995us/step - loss: 0.0842 - accuracy: 0.9706 - val_loss: 0.0826 - val_accuracy: 0.9769\n",
      "Epoch 44/50\n",
      "200/200 [==============================] - 0s 995us/step - loss: 0.0851 - accuracy: 0.9698 - val_loss: 0.0846 - val_accuracy: 0.9787\n",
      "Epoch 45/50\n",
      "200/200 [==============================] - 0s 1ms/step - loss: 0.0857 - accuracy: 0.9728 - val_loss: 0.0822 - val_accuracy: 0.9787\n",
      "Epoch 46/50\n",
      "200/200 [==============================] - 0s 1ms/step - loss: 0.0755 - accuracy: 0.9717 - val_loss: 0.0793 - val_accuracy: 0.9781\n",
      "Epoch 47/50\n",
      "200/200 [==============================] - 0s 981us/step - loss: 0.0819 - accuracy: 0.9719 - val_loss: 0.0829 - val_accuracy: 0.9750\n",
      "Epoch 48/50\n",
      "200/200 [==============================] - 0s 992us/step - loss: 0.0756 - accuracy: 0.9719 - val_loss: 0.0836 - val_accuracy: 0.9787\n",
      "Epoch 49/50\n",
      "200/200 [==============================] - 0s 1ms/step - loss: 0.0845 - accuracy: 0.9695 - val_loss: 0.0823 - val_accuracy: 0.9769\n",
      "Epoch 50/50\n",
      "200/200 [==============================] - 0s 1ms/step - loss: 0.0844 - accuracy: 0.9709 - val_loss: 0.0831 - val_accuracy: 0.9775\n"
     ]
    }
   ],
   "source": [
    "hist_adam = model_adam.fit(xtrain, ytrain, validation_split=0.2, epochs=50)"
   ]
  },
  {
   "cell_type": "code",
   "execution_count": 27,
   "metadata": {},
   "outputs": [
    {
     "data": {
      "image/png": "[encoded data removed]",
      "text/plain": [
       "<Figure size 1600x800 with 1 Axes>"
      ]
     },
     "metadata": {},
     "output_type": "display_data"
    }
   ],
   "source": [
    "plot_learning_curve(hist=hist_adam, opt='Adam')"
   ]
  },
  {
   "attachments": {},
   "cell_type": "markdown",
   "metadata": {},
   "source": [
    "### Evaluate Adam Optimizer"
   ]
  },
  {
   "cell_type": "code",
   "execution_count": 28,
   "metadata": {},
   "outputs": [
    {
     "name": "stdout",
     "output_type": "stream",
     "text": [
      "250/250 [==============================] - 0s 904us/step - loss: 0.0375 - accuracy: 0.9905\n"
     ]
    }
   ],
   "source": [
    "train_loss_adam, train_accuracy_adam = model_adam.evaluate(xtrain,ytrain)"
   ]
  },
  {
   "cell_type": "code",
   "execution_count": 29,
   "metadata": {},
   "outputs": [
    {
     "name": "stdout",
     "output_type": "stream",
     "text": [
      "63/63 [==============================] - 0s 793us/step - loss: 0.0651 - accuracy: 0.9820\n"
     ]
    }
   ],
   "source": [
    "test_loss_adam, test_accuracy_adam = model_adam.evaluate(xtest, ytest)"
   ]
  },
  {
   "attachments": {},
   "cell_type": "markdown",
   "metadata": {},
   "source": [
    "### Adam Optimizer has slightly lower accuracy compared to RMSProp which is 98.35% in testing\n",
    "\n",
    "### Result summary"
   ]
  },
  {
   "cell_type": "code",
   "execution_count": 30,
   "metadata": {},
   "outputs": [],
   "source": [
    "eval_dct = {'Optimizer':['SGD','RMSProp','Adam'],\n",
    "            'Training Loss':[train_loss_sgd, train_loss_rms, train_loss_adam],\n",
    "            'Testing Loss':[test_loss_sgd, test_loss_rms, test_loss_adam],\n",
    "            'Training Accuracy':[train_accuracy_sgd, train_accuracy_rms, train_accuracy_adam],\n",
    "            'Testing Accuracy':[test_accuracy_sgd, test_accuracy_rms, test_accuracy_adam]}"
   ]
  },
  {
   "cell_type": "code",
   "execution_count": 31,
   "metadata": {},
   "outputs": [
    {
     "data": {
      "text/html": [
       "<div>\n",
       "<style scoped>\n",
       "    .dataframe tbody tr th:only-of-type {\n",
       "        vertical-align: middle;\n",
       "    }\n",
       "\n",
       "    .dataframe tbody tr th {\n",
       "        vertical-align: top;\n",
       "    }\n",
       "\n",
       "    .dataframe thead th {\n",
       "        text-align: right;\n",
       "    }\n",
       "</style>\n",
       "<table border=\"1\" class=\"dataframe\">\n",
       "  <thead>\n",
       "    <tr style=\"text-align: right;\">\n",
       "      <th></th>\n",
       "      <th>Optimizer</th>\n",
       "      <th>Training Loss</th>\n",
       "      <th>Testing Loss</th>\n",
       "      <th>Training Accuracy</th>\n",
       "      <th>Testing Accuracy</th>\n",
       "    </tr>\n",
       "  </thead>\n",
       "  <tbody>\n",
       "    <tr>\n",
       "      <th>0</th>\n",
       "      <td>SGD</td>\n",
       "      <td>0.090341</td>\n",
       "      <td>0.091582</td>\n",
       "      <td>0.975625</td>\n",
       "      <td>0.971</td>\n",
       "    </tr>\n",
       "    <tr>\n",
       "      <th>1</th>\n",
       "      <td>RMSProp</td>\n",
       "      <td>0.039825</td>\n",
       "      <td>0.056214</td>\n",
       "      <td>0.991250</td>\n",
       "      <td>0.985</td>\n",
       "    </tr>\n",
       "    <tr>\n",
       "      <th>2</th>\n",
       "      <td>Adam</td>\n",
       "      <td>0.037532</td>\n",
       "      <td>0.065057</td>\n",
       "      <td>0.990500</td>\n",
       "      <td>0.982</td>\n",
       "    </tr>\n",
       "  </tbody>\n",
       "</table>\n",
       "</div>"
      ],
      "text/plain": [
       "  Optimizer  Training Loss  Testing Loss  Training Accuracy  Testing Accuracy\n",
       "0       SGD       0.090341      0.091582           0.975625             0.971\n",
       "1   RMSProp       0.039825      0.056214           0.991250             0.985\n",
       "2      Adam       0.037532      0.065057           0.990500             0.982"
      ]
     },
     "execution_count": 31,
     "metadata": {},
     "output_type": "execute_result"
    }
   ],
   "source": [
    "eval_df = pd.DataFrame(eval_dct)\n",
    "eval_df"
   ]
  },
  {
   "cell_type": "code",
   "execution_count": 32,
   "metadata": {},
   "outputs": [
    {
     "data": {
      "text/html": [
       "<div>\n",
       "<style scoped>\n",
       "    .dataframe tbody tr th:only-of-type {\n",
       "        vertical-align: middle;\n",
       "    }\n",
       "\n",
       "    .dataframe tbody tr th {\n",
       "        vertical-align: top;\n",
       "    }\n",
       "\n",
       "    .dataframe thead th {\n",
       "        text-align: right;\n",
       "    }\n",
       "</style>\n",
       "<table border=\"1\" class=\"dataframe\">\n",
       "  <thead>\n",
       "    <tr style=\"text-align: right;\">\n",
       "      <th></th>\n",
       "      <th>Optimizer</th>\n",
       "      <th>Training Loss</th>\n",
       "      <th>Testing Loss</th>\n",
       "      <th>Training Accuracy</th>\n",
       "      <th>Testing Accuracy</th>\n",
       "    </tr>\n",
       "  </thead>\n",
       "  <tbody>\n",
       "    <tr>\n",
       "      <th>1</th>\n",
       "      <td>RMSProp</td>\n",
       "      <td>0.039825</td>\n",
       "      <td>0.056214</td>\n",
       "      <td>0.991250</td>\n",
       "      <td>0.985</td>\n",
       "    </tr>\n",
       "    <tr>\n",
       "      <th>2</th>\n",
       "      <td>Adam</td>\n",
       "      <td>0.037532</td>\n",
       "      <td>0.065057</td>\n",
       "      <td>0.990500</td>\n",
       "      <td>0.982</td>\n",
       "    </tr>\n",
       "    <tr>\n",
       "      <th>0</th>\n",
       "      <td>SGD</td>\n",
       "      <td>0.090341</td>\n",
       "      <td>0.091582</td>\n",
       "      <td>0.975625</td>\n",
       "      <td>0.971</td>\n",
       "    </tr>\n",
       "  </tbody>\n",
       "</table>\n",
       "</div>"
      ],
      "text/plain": [
       "  Optimizer  Training Loss  Testing Loss  Training Accuracy  Testing Accuracy\n",
       "1   RMSProp       0.039825      0.056214           0.991250             0.985\n",
       "2      Adam       0.037532      0.065057           0.990500             0.982\n",
       "0       SGD       0.090341      0.091582           0.975625             0.971"
      ]
     },
     "execution_count": 32,
     "metadata": {},
     "output_type": "execute_result"
    }
   ],
   "source": [
    "eval_df.sort_values(by='Testing Accuracy', ascending=False)"
   ]
  },
  {
   "attachments": {},
   "cell_type": "markdown",
   "metadata": {},
   "source": [
    "### For Above dataset RMSProp Optimizer has best testing accuracy of 98.40%"
   ]
  },
  {
   "attachments": {},
   "cell_type": "markdown",
   "metadata": {},
   "source": [
    "### Q9. Discuss the considerations and tradeoffs when choosing the appropriate optimizer for a given neural network architecture and task. Consider factors such as convergence speed, stability, and generalization performance."
   ]
  },
  {
   "cell_type": "markdown",
   "metadata": {},
   "source": [
    "There are a number of factors to consider when choosing the appropriate optimizer for a given neural network architecture and task.\n",
    "These factors include:\n",
    "\n",
    "**1. Convergence speed:** \n",
    "- The convergence speed of an optimizer refers to how quickly it can find the optimal set of weights for a given neural network.\n",
    "- Some optimizers, such as stochastic gradient descent (SGD), are known for their fast convergence, while others, such as Adam, are known for their slower convergence.\n",
    "\n",
    "\n",
    "**2. Stability:** \n",
    "- The stability of an optimizer refers to its ability to avoid getting stuck in local minima or saddle points.\n",
    "- Some optimizers, such as SGD, are known for their stability, while others, such as Adam, are known for their instability.\n",
    "\n",
    "\n",
    "**3. Generalization performance:** \n",
    "- The generalization performance of an optimizer refers to its ability to find a set of weights that generalizes well to unseen data.\n",
    "- Some optimizers, such as SGD, are known for their good generalization performance, while others, such as Adam, are known for their poor generalization performance.\n",
    "\n",
    "\n",
    "**4. Computational cost:** \n",
    "- The computational cost of an optimizer refers to the amount of time and memory it requires to train a neural network.\n",
    "- Some optimizers, such as SGD, are known for their low computational cost, while others, such as Adam, are known for their high computational cost.\n",
    "\n",
    "\n",
    "**5. Memory requirements:** \n",
    "- The memory requirements of an optimizer refer to the amount of memory it requires to store its internal state.\n",
    "- Some optimizers, such as SGD, are known for their low memory requirements, while others, such as Adam, are known for their high memory requirements.\n",
    "\n",
    "\n",
    "**6. Ease of use:** \n",
    "- The ease of use of an optimizer refers to how easy it is to use and configure.\n",
    "- Some optimizers, such as SGD, are known for their ease of use, while others, such as Adam, are known for their difficulty of use.\n",
    "\n",
    "\n",
    "**7. Robustness to noise:** \n",
    "- The robustness to noise of an optimizer refers to its ability to handle noisy data.\n",
    "- Some optimizers, such as SGD, are known for their robustness to noise, while others, such as Adam, are known for their sensitivity to noise.\n",
    "\n"
   ]
  }
 ],
 "metadata": {
  "kernelspec": {
   "display_name": "Python 3",
   "language": "python",
   "name": "python3"
  },
  "language_info": {
   "codemirror_mode": {
    "name": "ipython",
    "version": 3
   },
   "file_extension": ".py",
   "mimetype": "text/x-python",
   "name": "python",
   "nbconvert_exporter": "python",
   "pygments_lexer": "ipython3",
   "version": "3.9.6"
  },
  "orig_nbformat": 4
 },
 "nbformat": 4,
 "nbformat_minor": 2
}
