{
 "cells": [
  {
   "attachments": {},
   "cell_type": "markdown",
   "metadata": {},
   "source": [
    "### \"12_July_Matrix_Operations_Assignment.ipynb\"\n",
    "\n",
    "### Tensorflow Matrix assignment "
   ]
  },
  {
   "attachments": {},
   "cell_type": "markdown",
   "metadata": {},
   "source": [
    "**Part 1: Theoretical Question**\n",
    "\n",
    "1. What are the different data structures used in Tensorflow?. Give some examples.\n",
    "2. How does the TensorFlow constant differ from a TensorFlow variable? Explain with an example.\n",
    "3. Describe the process of matrix addition, multiplication, and element wise operations in TensorFlow.\n",
    "\n",
    "**Part 2: Practical Implementation**\n",
    "\n",
    "##### Task 1: Creating and Manipulating Matrices\n",
    "\n",
    "1. Create a normal matrix A with dimensions 2x2, using TensorFlow's random_normal function. Display the values of matrix A.\n",
    "2. Create a Gaussian matrix B with dimensions 4X4, using TensorFlow's truncated_normal function. Display the values of matrix B\n",
    "3. Create a matrix C with dimensions 2x2, where the values are drawn from a normal distribution with a mean of 2 and a standard deviation of 0.5, using TensorFlow's random.normal function. Display the values of matrix C.\n",
    "4. Perform matrix addition between matrix A and matrix B, and store the result in matrix D.\n",
    "wc Perform matrix multiplication between matrix C and matrix D, and store the result in matrix E.\n",
    "\n",
    "##### Task 2: Performing Additional Matrix Operation\n",
    "1. Create a matrix F with dimensions 2x2, initialized with random values using TensorFlow's random_uniform function. \n",
    "2. Calculate the transpose of matrix F and store the result in matrix G.\n",
    "3. Calculate the element wise exponential of matrix F and store the result in matrix H.\n",
    "4. Create a matrix I by concatenating matrix F and matrix G horizontally. \n",
    "5. Create a matrix J by concatenating matrix F and matrix H vertically."
   ]
  },
  {
   "attachments": {},
   "cell_type": "markdown",
   "metadata": {},
   "source": [
    "### Part 1: Theoretical Question\n",
    "\n",
    "### Q1. What are the different data structures used in Tensorflow?. Give some examples.\n",
    "\n",
    "TensorFlow, as a deep learning framework, uses several data structures to represent and manipulate data efficiently during the training and inference processes. Here are some of the key data structures used in TensorFlow along with examples:\n",
    "\n",
    "Tensors:\n",
    "\n",
    "Tensors are multi-dimensional arrays that represent data in TensorFlow.\n",
    "\n",
    "Examples:\n",
    "\n",
    "- Scalar: A 0-dimensional tensor representing a single value (e.g., a single pixel intensity).\n",
    "- Vector: A 1-dimensional tensor representing a sequence of values (e.g., a single row or column of data).\n",
    "- Matrix: A 2-dimensional tensor representing tabular data (e.g., an image with height and width).\n",
    "- Higher-dimensional tensors: Tensors can have more than two dimensions, such as 3D tensors for volumes or 4D tensors for videos.\n",
    "\n"
   ]
  },
  {
   "cell_type": "code",
   "execution_count": 1,
   "metadata": {},
   "outputs": [],
   "source": [
    "import tensorflow as tf\n",
    "scalar = tf.constant(3.14)  # Scalar tensor\n",
    "vector = tf.constant([1, 2, 3])  # 1D tensor (vector)\n",
    "matrix = tf.constant([[1, 2], [3, 4]])  # 2D tensor (matrix)\n"
   ]
  },
  {
   "cell_type": "code",
   "execution_count": 2,
   "metadata": {},
   "outputs": [
    {
     "data": {
      "text/plain": [
       "<tf.Tensor: shape=(), dtype=float32, numpy=3.14>"
      ]
     },
     "execution_count": 2,
     "metadata": {},
     "output_type": "execute_result"
    }
   ],
   "source": [
    "scalar"
   ]
  },
  {
   "cell_type": "code",
   "execution_count": 3,
   "metadata": {},
   "outputs": [
    {
     "data": {
      "text/plain": [
       "<tf.Tensor: shape=(3,), dtype=int32, numpy=array([1, 2, 3], dtype=int32)>"
      ]
     },
     "execution_count": 3,
     "metadata": {},
     "output_type": "execute_result"
    }
   ],
   "source": [
    "vector"
   ]
  },
  {
   "cell_type": "code",
   "execution_count": 4,
   "metadata": {},
   "outputs": [
    {
     "data": {
      "text/plain": [
       "<tf.Tensor: shape=(2, 2), dtype=int32, numpy=\n",
       "array([[1, 2],\n",
       "       [3, 4]], dtype=int32)>"
      ]
     },
     "execution_count": 4,
     "metadata": {},
     "output_type": "execute_result"
    }
   ],
   "source": [
    "matrix"
   ]
  },
  {
   "attachments": {},
   "cell_type": "markdown",
   "metadata": {},
   "source": [
    "### Variables:\n",
    "\n",
    "Variables are tensors with values that can be updated or changed during training. They are commonly used for model parameters like weights and biases.\n",
    "\n",
    "Example:"
   ]
  },
  {
   "cell_type": "code",
   "execution_count": 5,
   "metadata": {},
   "outputs": [
    {
     "data": {
      "text/plain": [
       "<tf.Variable 'Variable:0' shape=(10, 10) dtype=float32, numpy=\n",
       "array([[ 0.23326708, -1.2483481 ,  0.70187837,  0.31343263, -0.33701044,\n",
       "         0.67661196, -0.10024985,  0.34253088, -1.1299161 , -1.8838545 ],\n",
       "       [-0.38650948,  0.9020241 ,  0.7997566 , -1.1838    , -1.2776661 ,\n",
       "        -1.9623892 ,  2.142799  , -0.30799437, -0.44662058,  0.18643993],\n",
       "       [ 1.5654635 ,  1.3713908 , -0.49958214,  1.0189266 ,  0.5297267 ,\n",
       "         0.1028422 ,  1.8547113 , -0.9637146 ,  0.08446245,  1.537444  ],\n",
       "       [-0.03474915,  0.3616112 , -0.3282525 , -1.4495802 ,  0.948751  ,\n",
       "        -1.5073907 , -0.93689376, -0.58908474,  0.18416043, -0.6260623 ],\n",
       "       [-0.3432828 ,  0.32783294,  0.89316803, -2.10116   , -0.57387817,\n",
       "        -0.2852402 ,  0.38890126,  1.5645528 ,  0.6780549 ,  2.0104368 ],\n",
       "       [ 0.11990689, -0.27471623,  1.9910253 ,  0.05357319, -0.25196332,\n",
       "        -2.4044955 ,  0.5106558 , -0.13053401,  1.2061714 , -0.34713933],\n",
       "       [-0.13206731, -0.16250335,  0.13141169, -0.5743583 , -0.22199735,\n",
       "         0.50185883,  0.91559196,  0.34385902,  0.19044793, -1.7246832 ],\n",
       "       [ 0.09986444,  0.49199507,  0.11242411,  0.49492857, -0.17748556,\n",
       "         0.15350857, -0.23271215, -1.1305195 ,  0.06019877, -0.7410668 ],\n",
       "       [ 1.7790614 ,  0.4557595 ,  1.2764863 ,  0.27223372, -0.6120601 ,\n",
       "         1.0727013 , -1.6223329 ,  0.01374006, -0.44870165, -1.0962492 ],\n",
       "       [-2.2221203 ,  0.59180874,  2.0457697 , -1.6097317 , -1.7669668 ,\n",
       "        -1.0353315 ,  1.4383552 , -0.16232935,  0.16941425,  0.4039549 ]],\n",
       "      dtype=float32)>"
      ]
     },
     "execution_count": 5,
     "metadata": {},
     "output_type": "execute_result"
    }
   ],
   "source": [
    "import tensorflow as tf\n",
    "weight_matrix = tf.Variable(tf.random.normal((10, 10)))  # Variable representing a weight matrix\n",
    "weight_matrix"
   ]
  },
  {
   "attachments": {},
   "cell_type": "markdown",
   "metadata": {},
   "source": [
    "### Sparse Tensors:\n",
    "\n",
    "Sparse tensors represent tensors with a large number of zero values efficiently, useful for tasks like natural language processing.\n",
    "\n",
    "Example:"
   ]
  },
  {
   "cell_type": "code",
   "execution_count": 6,
   "metadata": {},
   "outputs": [
    {
     "data": {
      "text/plain": [
       "SparseTensor(indices=tf.Tensor(\n",
       "[[0 0]\n",
       " [0 1]\n",
       " [1 0]\n",
       " [2 1]\n",
       " [3 2]\n",
       " [3 3]], shape=(6, 2), dtype=int64), values=tf.Tensor([1 2 0 0 3 0], shape=(6,), dtype=int32), dense_shape=tf.Tensor([4 4], shape=(2,), dtype=int64))"
      ]
     },
     "execution_count": 6,
     "metadata": {},
     "output_type": "execute_result"
    }
   ],
   "source": [
    "import tensorflow as tf\n",
    "values = [1, 2, 0, 0, 3, 0]\n",
    "indices = [[0, 0], [0, 1], [1, 0], [2, 1], [3, 2], [3, 3]]\n",
    "shape = [4, 4]\n",
    "sparse_tensor = tf.SparseTensor(indices=indices, values=values, dense_shape=shape)\n",
    "sparse_tensor"
   ]
  },
  {
   "attachments": {},
   "cell_type": "markdown",
   "metadata": {},
   "source": [
    "### Ragged Tensors:\n",
    "\n",
    "Ragged tensors represent sequences of varying lengths efficiently, often used in natural language processing tasks where sentences have different numbers of words.\n",
    "\n",
    "Example:"
   ]
  },
  {
   "cell_type": "code",
   "execution_count": 7,
   "metadata": {},
   "outputs": [
    {
     "data": {
      "text/plain": [
       "<tf.RaggedTensor [[1, 2], [3, 4, 5], [6]]>"
      ]
     },
     "execution_count": 7,
     "metadata": {},
     "output_type": "execute_result"
    }
   ],
   "source": [
    "import tensorflow as tf\n",
    "ragged_tensor = tf.ragged.constant([[1, 2], [3, 4, 5], [6]])\n",
    "ragged_tensor"
   ]
  },
  {
   "attachments": {},
   "cell_type": "markdown",
   "metadata": {},
   "source": [
    "### String Tensors:\n",
    "\n",
    "String tensors represent textual data.\n",
    "\n",
    "Example:"
   ]
  },
  {
   "cell_type": "code",
   "execution_count": 8,
   "metadata": {},
   "outputs": [
    {
     "data": {
      "text/plain": [
       "<tf.Tensor: shape=(), dtype=string, numpy=b'Hello, TensorFlow!'>"
      ]
     },
     "execution_count": 8,
     "metadata": {},
     "output_type": "execute_result"
    }
   ],
   "source": [
    "import tensorflow as tf\n",
    "string_tensor = tf.constant(\"Hello, TensorFlow!\")\n",
    "string_tensor"
   ]
  },
  {
   "attachments": {},
   "cell_type": "markdown",
   "metadata": {},
   "source": [
    "###  Creating a TensorArray"
   ]
  },
  {
   "cell_type": "code",
   "execution_count": 9,
   "metadata": {},
   "outputs": [
    {
     "data": {
      "text/plain": [
       "<tensorflow.python.ops.tensor_array_ops.TensorArray at 0x177fcdb20>"
      ]
     },
     "execution_count": 9,
     "metadata": {},
     "output_type": "execute_result"
    }
   ],
   "source": [
    "\n",
    "ta = tf.TensorArray(dtype=tf.float32, size=0, dynamic_size=True)\n",
    "ta"
   ]
  },
  {
   "attachments": {},
   "cell_type": "markdown",
   "metadata": {},
   "source": [
    "### Dataset:\n",
    "\n",
    "The tf.data.Dataset API is used to represent and work with large datasets efficiently. It allows for data loading, batching, shuffling, and other data manipulation operations."
   ]
  },
  {
   "attachments": {},
   "cell_type": "markdown",
   "metadata": {},
   "source": [
    "### Q2. How does the TensorFlow constant differ from a TensorFlow variable? Explain with an example.\n",
    "\n",
    "\n",
    "Both TensorFlow constants and variables are fundamental data structures, but they have different purposes and behaviors within a TensorFlow computation graph.\n",
    "\n",
    "### TensorFlow Constants:\n",
    "\n",
    "Constants are tensors with fixed values that remain unchanged throughout the computation.\n",
    "They are typically used to provide inputs or fixed values to the computation graph.\n",
    "Constants cannot be modified or updated after they are created.\n",
    "\n",
    "### TensorFlow Variables:\n",
    "\n",
    "Variables are tensors that hold mutable state, often used for model parameters that need to be learned during training.\n",
    "They are initialized with initial values and can be updated through operations like assignments.\n",
    "Variables can be used to store and update values as the model iteratively adjusts its parameters during training.\n",
    "Let's illustrate the difference with examples:"
   ]
  },
  {
   "attachments": {},
   "cell_type": "markdown",
   "metadata": {},
   "source": [
    "#### Example of Tensorflow constant \n"
   ]
  },
  {
   "cell_type": "code",
   "execution_count": 10,
   "metadata": {},
   "outputs": [
    {
     "name": "stdout",
     "output_type": "stream",
     "text": [
      "Error: 'tensorflow.python.framework.ops.EagerTensor' object has no attribute 'assign'\n"
     ]
    }
   ],
   "source": [
    "import tensorflow as tf\n",
    "\n",
    "# Creating a constant\n",
    "a = tf.constant(5)\n",
    "\n",
    "# Attempting to assign a new value to a constant will result in an error\n",
    "try:\n",
    "    a.assign(8)  # This will raise an error\n",
    "except Exception as e:\n",
    "    print(\"Error:\", e)"
   ]
  },
  {
   "attachments": {},
   "cell_type": "markdown",
   "metadata": {},
   "source": [
    "### Example of tensorflow variable "
   ]
  },
  {
   "cell_type": "code",
   "execution_count": 11,
   "metadata": {},
   "outputs": [
    {
     "name": "stdout",
     "output_type": "stream",
     "text": [
      "Initial 'b': <tf.Variable 'Variable:0' shape=(3, 3) dtype=float32, numpy=\n",
      "array([[ 0.9771478 ,  1.1732724 , -1.5948296 ],\n",
      "       [-0.519507  , -0.22827747,  1.7651294 ],\n",
      "       [-0.06060474, -0.19110289,  1.6960577 ]], dtype=float32)>\n",
      "\n",
      "Updated 'b': <tf.Variable 'Variable:0' shape=(3, 3) dtype=float32, numpy=\n",
      "array([[-0.50593764, -1.2671136 , -0.4444674 ],\n",
      "       [ 0.02567498,  0.05714185,  0.7929467 ],\n",
      "       [-1.2507179 ,  0.9868355 ,  0.08074746]], dtype=float32)>\n"
     ]
    }
   ],
   "source": [
    "import tensorflow as tf\n",
    "\n",
    "# Creating a variable with an initial value\n",
    "initial_value = tf.random.normal(shape=(3, 3))\n",
    "b = tf.Variable(initial_value)\n",
    "\n",
    "print(\"Initial 'b':\",b)\n",
    "\n",
    "# Assigning a new value to the variable using the assign() operation\n",
    "new_value = tf.random.normal(shape=(3, 3))\n",
    "b.assign(new_value)\n",
    "\n",
    "# Now 'b' holds the new value assigned to it\n",
    "print(\"\\nUpdated 'b':\", b)"
   ]
  },
  {
   "attachments": {},
   "cell_type": "markdown",
   "metadata": {},
   "source": [
    "#### In the second example, you can see that a TensorFlow variable b is created with an initial value. Unlike constants, variables can be assigned new values using the assign() operation. This capability is crucial during the training process, where model parameters (weights and biases) are updated iteratively to minimize the loss function.\n",
    "#### In summary, constants are used to provide fixed inputs or values, while variables are used to hold and update mutable state, often representing model parameters.\n"
   ]
  },
  {
   "attachments": {},
   "cell_type": "markdown",
   "metadata": {},
   "source": [
    "### Q3. Describe the process of matrix addition, multiplication, and element wise operations in TensorFlow.\n",
    "\n",
    "#### Matrix Addition:\n",
    "Matrix addition is a basic arithmetic operation where corresponding elements of two matrices are added together to create a new matrix of the same dimensions. In TensorFlow, you can perform matrix addition using the tf.add() function or by using the + operator."
   ]
  },
  {
   "cell_type": "code",
   "execution_count": 12,
   "metadata": {},
   "outputs": [
    {
     "name": "stdout",
     "output_type": "stream",
     "text": [
      "Matrix Addition Result:\n",
      "[[ 3  6]\n",
      " [ 9 12]]\n",
      "[[ 3  6]\n",
      " [ 9 12]]\n"
     ]
    }
   ],
   "source": [
    "import tensorflow as tf\n",
    "\n",
    "# Define two matrices\n",
    "matrix_a = tf.constant([[1, 2], [3, 4]])\n",
    "matrix_b = tf.constant([[2, 4], [6, 8]])\n",
    "\n",
    "# Perform matrix addition\n",
    "result = tf.add(matrix_a, matrix_b)\n",
    "\n",
    "# Alternatively, you can use the + operator\n",
    "result_alternative = matrix_a + matrix_b\n",
    "\n",
    "print(\"Matrix Addition Result:\")\n",
    "print(result.numpy())\n",
    "print(result_alternative.numpy())"
   ]
  },
  {
   "attachments": {},
   "cell_type": "markdown",
   "metadata": {},
   "source": [
    "### 2. Matrix Multiplication:\n",
    "Matrix multiplication is a more complex operation where the dot product of rows and columns of two matrices results in a new matrix. TensorFlow provides the tf.matmul() function to perform matrix multiplication."
   ]
  },
  {
   "cell_type": "code",
   "execution_count": 13,
   "metadata": {},
   "outputs": [
    {
     "name": "stdout",
     "output_type": "stream",
     "text": [
      "Matrix Multiplication Result:\n",
      "[[19 22]\n",
      " [43 50]]\n"
     ]
    }
   ],
   "source": [
    "import tensorflow as tf\n",
    "\n",
    "# Define two matrices\n",
    "matrix_a = tf.constant([[1, 2], [3, 4]])\n",
    "matrix_b = tf.constant([[5, 6], [7, 8]])\n",
    "\n",
    "# Perform matrix multiplication\n",
    "result = tf.matmul(matrix_a, matrix_b)\n",
    "\n",
    "print(\"Matrix Multiplication Result:\")\n",
    "print(result.numpy())"
   ]
  },
  {
   "attachments": {},
   "cell_type": "markdown",
   "metadata": {},
   "source": [
    "### 3. Element-wise Operations:\n",
    "Element-wise operations involve applying an operation to each corresponding element of two matrices (or a matrix and a scalar). TensorFlow allows you to perform a variety of element-wise operations, such as addition, subtraction, multiplication, division, and more."
   ]
  },
  {
   "cell_type": "code",
   "execution_count": 14,
   "metadata": {},
   "outputs": [
    {
     "name": "stdout",
     "output_type": "stream",
     "text": [
      "Element-wise Addition Result:\n",
      "[[3 4]\n",
      " [5 6]]\n",
      "Element-wise Multiplication Result:\n",
      "[[2 4]\n",
      " [6 8]]\n"
     ]
    }
   ],
   "source": [
    "import tensorflow as tf\n",
    "\n",
    "# Define a matrix and a scalar\n",
    "matrix = tf.constant([[1, 2], [3, 4]])\n",
    "scalar = 2\n",
    "\n",
    "# Perform element-wise addition\n",
    "result_add = matrix + scalar\n",
    "\n",
    "# Perform element-wise multiplication\n",
    "result_multiply = matrix * scalar\n",
    "\n",
    "print(\"Element-wise Addition Result:\")\n",
    "print(result_add.numpy())\n",
    "\n",
    "print(\"Element-wise Multiplication Result:\")\n",
    "print(result_multiply.numpy())"
   ]
  },
  {
   "attachments": {},
   "cell_type": "markdown",
   "metadata": {},
   "source": [
    "### Part 2:\n",
    "\n",
    "#### Task 1: Creating and Manipulating Matrices\n",
    "\n",
    "### Q1. Create a normal matrix A with dimensions 2x2, using TensorFlow's random_normal function. Display the values of matrix A."
   ]
  },
  {
   "cell_type": "code",
   "execution_count": 15,
   "metadata": {},
   "outputs": [
    {
     "name": "stdout",
     "output_type": "stream",
     "text": [
      "Matrix A:\n",
      "tf.Tensor(\n",
      "[[-0.1992763   0.8554451  -1.0981084 ]\n",
      " [-1.6360607   0.7261765   0.36278948]\n",
      " [-0.7939922   1.398413   -0.5483921 ]], shape=(3, 3), dtype=float32)\n"
     ]
    }
   ],
   "source": [
    "import tensorflow as tf\n",
    "\n",
    "#create a 3X3 matrix with random values from the normal distribution\n",
    "A = tf.random.normal(shape=(3,3))\n",
    "\n",
    "#display the value of matrix A\n",
    "print(\"Matrix A:\")\n",
    "print(A)"
   ]
  },
  {
   "attachments": {},
   "cell_type": "markdown",
   "metadata": {},
   "source": [
    "### Q2. Create a Gaussian matrix B with dimensions 4X4, using TensorFlow's truncated_normal function. Display the values of matrix B\n"
   ]
  },
  {
   "cell_type": "code",
   "execution_count": 16,
   "metadata": {},
   "outputs": [
    {
     "name": "stdout",
     "output_type": "stream",
     "text": [
      "Matrix B:\n",
      "tf.Tensor(\n",
      "[[ 3.4147945e-01 -2.0173238e-01  5.8563106e-02  1.2361519e+00]\n",
      " [-2.1893007e-01 -2.0711002e-01  4.5117679e-01 -5.3536451e-01]\n",
      " [-3.0158463e-01  1.4549143e+00 -7.6350170e-01  4.4802502e-01]\n",
      " [ 1.6967413e-01  6.7660940e-01  6.1771669e-04 -6.6405284e-01]], shape=(4, 4), dtype=float32)\n"
     ]
    }
   ],
   "source": [
    "import tensorflow as tf\n",
    "\n",
    "#defining the dimension of the matrix \n",
    "matrix_shape = (4,4)\n",
    "\n",
    "#create a 3X3 matrix with random values from the normal distribution\n",
    "B = tf.random.truncated_normal(shape=matrix_shape, mean=0, stddev=1)\n",
    "\n",
    "#display the value of matrix B\n",
    "print(\"Matrix B:\")\n",
    "print(B)"
   ]
  },
  {
   "attachments": {},
   "cell_type": "markdown",
   "metadata": {},
   "source": [
    "### 3. Create a matrix C with dimensions 2x2, where the values are drawn from a normal distribution with a mean of 2 and a standard deviation of 0.5, using TensorFlow's random.normal function. Display the values of matrix C.\n"
   ]
  },
  {
   "cell_type": "code",
   "execution_count": 17,
   "metadata": {},
   "outputs": [
    {
     "name": "stdout",
     "output_type": "stream",
     "text": [
      "Matrix C:\n",
      "[[2.7967207 2.4107368]\n",
      " [2.6862166 3.5305285]]\n"
     ]
    }
   ],
   "source": [
    "import tensorflow as tf\n",
    "\n",
    "\n",
    "# Generate a Gaussian matrix using normal distribution\n",
    "mean = 3.0\n",
    "stddev = 0.5\n",
    "C = tf.random.normal(shape=(2, 2), mean=mean, stddev=stddev)\n",
    "\n",
    "# Display the generated matrix\n",
    "print(\"Matrix C:\")\n",
    "print(C.numpy())"
   ]
  },
  {
   "attachments": {},
   "cell_type": "markdown",
   "metadata": {},
   "source": [
    "### Q4. Perform matrix addition between matrix A and matrix B, and store the result in matrix D.\n"
   ]
  },
  {
   "attachments": {},
   "cell_type": "markdown",
   "metadata": {},
   "source": [
    "\n",
    "#### Since, Matrix A has shape (3,3) while matrix B has shape(4,4) it is not possible to add these matrices as shapes are different\n"
   ]
  },
  {
   "cell_type": "code",
   "execution_count": 18,
   "metadata": {},
   "outputs": [
    {
     "name": "stdout",
     "output_type": "stream",
     "text": [
      "Matrix 1 :\n",
      " [[ 1.2093607  -1.6177379 ]\n",
      " [-0.18402678  0.92993397]]\n",
      "\n",
      "Matrix 2 :\n",
      " [[-0.272253    0.05691211]\n",
      " [ 0.2294071  -0.32921347]]\n",
      "\n",
      "Matrix D :\n",
      " [[ 0.9371077  -1.5608258 ]\n",
      " [ 0.04538032  0.6007205 ]]\n"
     ]
    }
   ],
   "source": [
    "\n",
    "matrix1 = tf.random.normal(shape=(2,2))\n",
    "matrix2 = tf.random.normal(shape=(2,2))\n",
    "D = tf.add(matrix1, matrix2)\n",
    "\n",
    "print(f'Matrix 1 :\\n {matrix1}')\n",
    "print(f'\\nMatrix 2 :\\n {matrix2}')\n",
    "print(f'\\nMatrix D :\\n {D}')\n"
   ]
  },
  {
   "attachments": {},
   "cell_type": "markdown",
   "metadata": {},
   "source": [
    "### Q5. Perform matrix multiplication between matrix C and matrix D, and store the result in matrix E."
   ]
  },
  {
   "cell_type": "code",
   "execution_count": 19,
   "metadata": {},
   "outputs": [
    {
     "name": "stdout",
     "output_type": "stream",
     "text": [
      "Matrix C :\n",
      "[[2.7967207 2.4107368]\n",
      " [2.6862166 3.5305285]]\n",
      "\n",
      "Matrix D :\n",
      "[[ 0.9371077  -1.5608258 ]\n",
      " [ 0.04538032  0.6007205 ]]\n",
      "\n",
      "Matrix E = CxD:\n",
      "[[ 2.7302284 -2.9170148]\n",
      " [ 2.6774907 -2.071855 ]]\n"
     ]
    }
   ],
   "source": [
    "E = tf.matmul(C,D)\n",
    "\n",
    "print(f'Matrix C :\\n{C}')\n",
    "print(f'\\nMatrix D :\\n{D}')\n",
    "print(f'\\nMatrix E = CxD:\\n{E}')"
   ]
  },
  {
   "cell_type": "code",
   "execution_count": 20,
   "metadata": {},
   "outputs": [
    {
     "name": "stdout",
     "output_type": "stream",
     "text": [
      "Matrix C :\n",
      "[[2.7967207 2.4107368]\n",
      " [2.6862166 3.5305285]]\n",
      "\n",
      "Matrix D :\n",
      "[[ 0.9371077  -1.5608258 ]\n",
      " [ 0.04538032  0.6007205 ]]\n",
      "\n",
      "Matrix E = CxD:\n",
      "[[ 2.7302284 -2.9170148]\n",
      " [ 2.6774907 -2.071855 ]]\n"
     ]
    }
   ],
   "source": [
    "E = tf.matmul(C,D)\n",
    "\n",
    "print(f'Matrix C :\\n{C.numpy()}')\n",
    "print(f'\\nMatrix D :\\n{D.numpy()}')\n",
    "print(f'\\nMatrix E = CxD:\\n{E.numpy()}')"
   ]
  },
  {
   "attachments": {},
   "cell_type": "markdown",
   "metadata": {},
   "source": [
    "##### Task 2: Performing Additional Matrix Operation\n",
    "### Q1. Create a matrix F with dimensions 2x2, initialized with random values using TensorFlow's random_uniform function. \n"
   ]
  },
  {
   "cell_type": "code",
   "execution_count": 21,
   "metadata": {},
   "outputs": [
    {
     "name": "stdout",
     "output_type": "stream",
     "text": [
      "Matrix F :\n",
      "[[0.5483893  0.27799976]\n",
      " [0.552814   0.8412311 ]]\n"
     ]
    }
   ],
   "source": [
    "# Create a matrix F\n",
    "F = tf.random.uniform(shape=(2,2))\n",
    "print(f'Matrix F :\\n{F}')"
   ]
  },
  {
   "attachments": {},
   "cell_type": "markdown",
   "metadata": {},
   "source": [
    "### Q2. Calculate the transpose of matrix F and store the result in matrix G.\n"
   ]
  },
  {
   "cell_type": "code",
   "execution_count": 22,
   "metadata": {},
   "outputs": [
    {
     "name": "stdout",
     "output_type": "stream",
     "text": [
      "Matrix G :\n",
      "[[0.5483893  0.552814  ]\n",
      " [0.27799976 0.8412311 ]]\n"
     ]
    }
   ],
   "source": [
    "# Transpose the F matrix\n",
    "G = tf.transpose(F)\n",
    "\n",
    "# Print the matrix\n",
    "print(f'Matrix G :\\n{G.numpy()}')"
   ]
  },
  {
   "cell_type": "code",
   "execution_count": 23,
   "metadata": {},
   "outputs": [
    {
     "name": "stdout",
     "output_type": "stream",
     "text": [
      "Matrix G :\n",
      "[[0.5483893  0.552814  ]\n",
      " [0.27799976 0.8412311 ]]\n"
     ]
    }
   ],
   "source": [
    "print(f'Matrix G :\\n{tf.transpose(F)}')"
   ]
  },
  {
   "attachments": {},
   "cell_type": "markdown",
   "metadata": {},
   "source": [
    "### Q3. Calculate the element wise exponential of matrix F and store the result in matrix H.\n"
   ]
  },
  {
   "cell_type": "code",
   "execution_count": 24,
   "metadata": {},
   "outputs": [
    {
     "name": "stdout",
     "output_type": "stream",
     "text": [
      "Matrix H :\n",
      "[[1.7304635 1.3204858]\n",
      " [1.7381372 2.3192203]]\n"
     ]
    }
   ],
   "source": [
    "# Element wise exponent\n",
    "H = tf.math.exp(F)\n",
    "\n",
    "# Print matrix H\n",
    "print(f'Matrix H :\\n{H.numpy()}')"
   ]
  },
  {
   "attachments": {},
   "cell_type": "markdown",
   "metadata": {},
   "source": [
    "### Q4. Create a matrix I by concatenating matrix F and matrix G horizontally. \n"
   ]
  },
  {
   "cell_type": "code",
   "execution_count": 25,
   "metadata": {},
   "outputs": [
    {
     "name": "stdout",
     "output_type": "stream",
     "text": [
      "Matrix F:\n",
      "[[0.5483893  0.27799976]\n",
      " [0.552814   0.8412311 ]]\n",
      "\n",
      "Matrix G:\n",
      "[[0.5483893  0.552814  ]\n",
      " [0.27799976 0.8412311 ]]\n",
      "\n",
      "Matrix I (Concatenated Horizontally):\n",
      "[[0.5483893  0.27799976 0.5483893  0.552814  ]\n",
      " [0.552814   0.8412311  0.27799976 0.8412311 ]]\n"
     ]
    }
   ],
   "source": [
    "# Concatenate matrices F and G horizontally to create matrix I\n",
    "I = tf.concat([F, G], axis=1)\n",
    "\n",
    "# Display the original matrices and the concatenated matrix\n",
    "print(\"Matrix F:\")\n",
    "print(F.numpy())\n",
    "\n",
    "print(\"\\nMatrix G:\")\n",
    "print(G.numpy())\n",
    "\n",
    "print(\"\\nMatrix I (Concatenated Horizontally):\")\n",
    "print(I.numpy())"
   ]
  },
  {
   "attachments": {},
   "cell_type": "markdown",
   "metadata": {},
   "source": [
    "###  Q5. Create a matrix J by concatenating matrix F and matrix H vertically."
   ]
  },
  {
   "cell_type": "code",
   "execution_count": 26,
   "metadata": {},
   "outputs": [
    {
     "name": "stdout",
     "output_type": "stream",
     "text": [
      "Matrix F:\n",
      "[[0.5483893  0.27799976]\n",
      " [0.552814   0.8412311 ]]\n",
      "\n",
      "Matrix H:\n",
      "[[1.7304635 1.3204858]\n",
      " [1.7381372 2.3192203]]\n",
      "\n",
      "Matrix J (Concatenated Vertically):\n",
      "[[0.5483893  0.27799976]\n",
      " [0.552814   0.8412311 ]\n",
      " [1.7304635  1.3204858 ]\n",
      " [1.7381372  2.3192203 ]]\n"
     ]
    }
   ],
   "source": [
    "# Concatenate matrices F and H vertically to create matrix J\n",
    "J = tf.concat([F, H], axis=0)\n",
    "\n",
    "# Display the original matrices and the concatenated matrix\n",
    "print(\"Matrix F:\")\n",
    "print(F.numpy())\n",
    "\n",
    "print(\"\\nMatrix H:\")\n",
    "print(H.numpy())\n",
    "\n",
    "print(\"\\nMatrix J (Concatenated Vertically):\")\n",
    "print(J.numpy())"
   ]
  },
  {
   "cell_type": "code",
   "execution_count": 27,
   "metadata": {},
   "outputs": [
    {
     "name": "stdout",
     "output_type": "stream",
     "text": [
      "[[0.5483893  0.27799976 1.7304635  1.3204858 ]\n",
      " [0.552814   0.8412311  1.7381372  2.3192203 ]]\n"
     ]
    }
   ],
   "source": [
    "T = tf.concat([F, H], axis=1)\n",
    "print(T.numpy())"
   ]
  },
  {
   "cell_type": "code",
   "execution_count": null,
   "metadata": {},
   "outputs": [],
   "source": []
  }
 ],
 "metadata": {
  "kernelspec": {
   "display_name": "Python 3",
   "language": "python",
   "name": "python3"
  },
  "language_info": {
   "codemirror_mode": {
    "name": "ipython",
    "version": 3
   },
   "file_extension": ".py",
   "mimetype": "text/x-python",
   "name": "python",
   "nbconvert_exporter": "python",
   "pygments_lexer": "ipython3",
   "version": "3.9.6"
  },
  "orig_nbformat": 4
 },
 "nbformat": 4,
 "nbformat_minor": 2
}
