{
 "cells": [
  {
   "attachments": {},
   "cell_type": "markdown",
   "metadata": {},
   "source": [
    "### \"12_July_Regularization_Assignment.ipynb\"\n",
    "\n",
    "### Regularization_Assignment"
   ]
  },
  {
   "attachments": {},
   "cell_type": "markdown",
   "metadata": {},
   "source": [
    "**Part 1: Understanding Regularization**\n",
    "\n",
    "1. What is regularization in the context of deep learning? Why is it important?\n",
    "2. Explain the bias-variance tradeoff and how regularization helps in addressing this tradeoff?\n",
    "3. Describe the concept of L1 and L2 regularization. How do they differ in terms of penalty calculation and\n",
    "their effects on the model?\n",
    "4. Discuss the role of regularization in preventing over fitting and improving the generalization of deep learning models.\n",
    "\n",
    "**Part 2: Regularization Technique**\n",
    "\n",
    "5. Explain Dropout regularization and how it works to reduce over fitting. Discuss the impact of Dropout on\n",
    "model training and inference.\n",
    "6. Describe the concept of Early stopping as a form of regularization. How does it help prevent over fitting during the training process?\n",
    "7. Explain the concept of Batch Normalization and its role as a form of regularization. How does Batch\n",
    "Normalization help in preventing over fitting?\n",
    "\n",
    "**Part 3: Applying Regularization**\n",
    "\n",
    "8. Implement Dropout regularization in a deep learning model using a framework of your choice. Evaluate\n",
    "its impact on model performance and compare it with a model without Dropout.\n",
    "9. Discuss the considerations and tradeoffs when choosing the appropriate regularization technique for a\n",
    "given deep learning task.\n",
    "\n",
    "### Part 1\n",
    "\n",
    "### 1. What is regularization in the context of deep learning? Why is it important?\n",
    "\n",
    "Regularization is a set of techniques used in deep learning to reduce overfitting. Overfitting occurs when a model learns to perform well on the training data, but does not generalize well to new, unseen data. Regularization helps to prevent overfitting by penalizing the model for making predictions that are too specific to the training data. This encourages the model to learn more generalizable features that will perform well on new data.\n",
    "\n",
    "Regularization is an important tool for preventing over fitting in deep learning models. By penalizing the model for making predictions that are too specific to the training data, regularization encourages the model to learn more generalizable features that will perform well on new data."
   ]
  },
  {
   "attachments": {},
   "cell_type": "markdown",
   "metadata": {},
   "source": [
    "### Q2. Explain the bias-variance tradeoff and how regularization helps in addressing this tradeoff?\n",
    "\n",
    "The bias-variance tradeoff is a fundamental problem in machine learning. It states that there is a tradeoff between the bias of a model and its variance. Bias is the error that is introduced when the model makes predictions that are consistently different from the true values. Variance is the error that is introduced when the model makes predictions that are highly variable.\n",
    "\n",
    "Regularization is a technique that can be used to address the bias-variance tradeoff. Regularization helps to reduce the variance of a model by penalizing the model for making predictions that are too extreme. This can help to improve the generalization performance of the model, as it is less likely to over fit to the training data.\n",
    "\n",
    "There are a number of different regularization techniques that can be used, each with its own strengths and weaknesses. Some of the most common regularization techniques include:\n",
    "\n",
    "* **L1 regularization** (also known as lasso regularization) penalizes the model for the sum of the absolute values of its weights. This encourages the model to use fewer weights, which can help to reduce over fitting.\n",
    "\n",
    "* **L2 regularization** (also known as ridge regression) penalizes the model for the sum of the squares of its weights. This encourages the model to use smaller weights, which can also help to reduce over fitting.\n",
    "\n",
    "* **Dropout** is a technique that randomly drops out (sets to zero) a certain percentage of the weights in the model during training. This forces the model to learn to rely on multiple features in order to make predictions, which can help to reduce over fitting.\n",
    "\n",
    "* **Early stopping** is a technique that stops training the model before it has had a chance to over fit to the training data. This can be done by monitoring the model's performance on a validation set, which is a set of data that is held out from the training data and used to evaluate the model's performance.\n",
    "\n",
    "Regularization is an important tool for addressing the bias-variance tradeoff in machine learning. By penalizing the model for making predictions that are too extreme, regularization can help to improve the generalization performance of the model.\n"
   ]
  },
  {
   "attachments": {},
   "cell_type": "markdown",
   "metadata": {},
   "source": [
    "### Q3. Describe the concept of L1 and L2 regularization. How do they differ in terms of penalty calculation and their effects on the model?\n",
    "\n",
    "Regularization is an important technique used in machine learning to prevent over fitting. Over fitting occurs when a model learns to perform well on the training data but fails to generalize to new, unseen data. Regularization helps to address this issue by penalizing the model for making predictions that are too specific to the training data. This encourages the model to learn more generalizable features that will perform well on new data.\n",
    "\n",
    "L1 regularization (also known as lasso regularization) and L2 regularization (also known as ridge regression) are two commonly used regularization techniques. Both techniques penalize the model for the magnitude of its weights, but they differ in the way they calculate the penalty.\n",
    "\n",
    "L1 regularization penalizes the model for the sum of the absolute values of its weights. This encourages the model to use fewer weights, which can help to reduce overfitting. L2 regularization, on the other hand, penalizes the model for the sum of the squares of its weights. This encourages the model to use smaller weights, which can also help to reduce overfitting.\n",
    "\n",
    "The main difference between L1 and L2 regularization is the way they penalize the model for large weights. L1 regularization penalizes the model more heavily for large weights, while L2 regularization penalizes the model less heavily for large weights. This can lead to different results in practice. L1 regularization tends to produce models with fewer non-zero weights, while L2 regularization tends to produce models with smaller weights.\n",
    "\n",
    "The choice of which regularization technique to use depends on the specific problem being solved. In some cases, L1 regularization may be preferred, while in other cases, L2 regularization may be preferred. It is often necessary to experiment with different regularization techniques to find the one that works best for a particular problem."
   ]
  },
  {
   "attachments": {},
   "cell_type": "markdown",
   "metadata": {},
   "source": [
    "### Q4. Discuss the role of regularization in preventing over fitting and improving the generalization of deep learning models.\n",
    "\n",
    "Regularization plays a crucial role in preventing over fitting and improving the generalization of deep learning models. Over fitting occurs when a model learns to perform well on the training data but fails to generalize to new, unseen data. This can happen when the model learns to memorize the specific features of the training data, rather than learning the underlying relationships between the features and the target variable. Regularization helps to address this issue by penalizing the model for making predictions that are too specific to the training data. This encourages the model to learn more generalizable features that will perform well on new data.\n",
    "\n",
    "\n",
    "Regularization is an important tool for improving the generalization of deep learning models. By penalizing the model for making predictions that are too specific to the training data, regularization helps to encourage the model to learn more generalizable features. This can lead to models that perform better on new, unseen data."
   ]
  },
  {
   "attachments": {},
   "cell_type": "markdown",
   "metadata": {},
   "source": [
    "### Part 2\n",
    "\n",
    "### Q5. Explain Dropout regularization and how it works to reduce over fitting. Discuss the impact of Dropout on model training and inference.\n",
    "\n",
    "Dropout regularization is a technique used to prevent overfitting in deep learning models. It works by randomly dropping out (setting to zero) a certain percentage of the neurons in the model during training. This forces the model to learn to rely on multiple features in order to make predictions, which can help to reduce overfitting.\n",
    "\n",
    "Dropout regularization can be applied to any type of deep learning model, but it is most commonly used in neural networks. In a neural network, dropout regularization is typically applied to the hidden layers of the network. This is because the hidden layers are where the model learns the most complex relationships between the features. By dropping out neurons in the hidden layers, the model is forced to learn to rely on multiple features in order to make predictions. This can help to reduce overfitting.\n",
    "\n",
    "Dropout regularization can have a significant impact on model training and inference. During training, dropout regularization can help to reduce overfitting and improve the generalization of the model. This can lead to models that perform better on new, unseen data. However, dropout regularization can also increase the training time of the model. This is because the model has to be trained multiple times, once for each dropout mask.\n",
    "\n",
    "During inference, dropout regularization can help to improve the robustness of the model. This is because the model is less likely to overfit to the training data. However, dropout regularization can also increase the inference time of the model. This is because the model has to be run multiple times, once for each dropout mask.\n",
    "\n",
    "Overall, dropout regularization is a powerful technique that can be used to improve the performance of deep learning models. However, it is important to be aware of the potential impact of dropout regularization on model training and inference.\n"
   ]
  },
  {
   "attachments": {},
   "cell_type": "markdown",
   "metadata": {},
   "source": [
    "### Q6. Describe the concept of Early stopping as a form of regularization. How does it help prevent over fitting during the training process?\n",
    "\n",
    "Early stopping is another regularization technique that can be used to prevent over fitting. Early stopping works by monitoring the model's performance on a validation set during training. If the model's performance on the validation set starts to decrease, training is stopped early. This helps to prevent the model from overfitting to the training data. \n",
    "\n",
    "Early stopping can be a very effective regularization technique, but it can be difficult to choose the right time to stop training. If training is stopped too early, the model may not have learned enough to make accurate predictions. If training is stopped too late, the model may overfit to the training data.\n"
   ]
  },
  {
   "attachments": {},
   "cell_type": "markdown",
   "metadata": {},
   "source": [
    "### Q7. Explain the concept of Batch Normalization and its role as a form of regularization. How does Batch Normalization help in preventing over fitting?\n",
    "\n",
    "Batch normalization is a technique used in deep learning to improve the stability and performance of neural networks. It involves normalizing the activations of each layer in the network, which helps to reduce the internal covariate shift that can occur during training. This can help to stabilize the training process and make the network less likely to overfit to the training data.\n",
    "\n",
    "Overfitting occurs when a model learns to perform well on the training data, but does not generalize well to new data. This can happen when the model learns to rely too heavily on specific features in the training data that are not present in the new data. Batch normalization can help to prevent overfitting by reducing the covariate shift between the training and new data. This is because batch normalization normalizes the activations of each layer in the network, which helps to reduce the effect of specific features in the training data.\n",
    "\n",
    "In addition to reducing overfitting, batch normalization can also help to improve the generalization of neural networks. This is because batch normalization helps to make the network less sensitive to the order of the training data. This can be important for tasks where the order of the training data is not important, such as image classification.\n"
   ]
  },
  {
   "attachments": {},
   "cell_type": "markdown",
   "metadata": {},
   "source": [
    "### Part 3 \n",
    "\n",
    "### Q8. Implement Dropout regularization in a deep learning model using a framework of your choice. Evaluate its impact on model performance and compare it with a model without Dropout."
   ]
  },
  {
   "cell_type": "code",
   "execution_count": 4,
   "metadata": {},
   "outputs": [],
   "source": [
    "# Create a dummy dataset \n",
    "from sklearn.datasets import make_classification\n",
    "X, Y = make_classification(n_samples=10000, n_classes=3, n_features=30, n_informative=15, random_state=42)"
   ]
  },
  {
   "cell_type": "code",
   "execution_count": 5,
   "metadata": {},
   "outputs": [
    {
     "data": {
      "text/plain": [
       "array([[-0.11815017,  0.38076452, -0.20987666, ...,  2.33358591,\n",
       "        -1.2911413 ,  0.33283555],\n",
       "       [-0.89563724, -5.35203283,  0.46708285, ...,  0.04285109,\n",
       "        -1.02684832, -1.62124716],\n",
       "       [-2.73978924,  0.89121879, -0.4994428 , ...,  0.47661818,\n",
       "         2.11965669, -5.26111841],\n",
       "       ...,\n",
       "       [-1.06690815, -1.11805328, -0.10710567, ..., -0.24018804,\n",
       "         2.33946977, -0.62287796],\n",
       "       [ 1.46095465, -2.78375282, -1.41126372, ..., -1.64606871,\n",
       "         0.64806951, -0.13936941],\n",
       "       [-1.08829476,  0.80570789, -1.46631216, ..., -0.10960281,\n",
       "        -2.38233077,  1.47380475]])"
      ]
     },
     "execution_count": 5,
     "metadata": {},
     "output_type": "execute_result"
    }
   ],
   "source": [
    "X"
   ]
  },
  {
   "cell_type": "code",
   "execution_count": 6,
   "metadata": {},
   "outputs": [
    {
     "data": {
      "text/plain": [
       "array([1, 1, 0, ..., 1, 2, 1])"
      ]
     },
     "execution_count": 6,
     "metadata": {},
     "output_type": "execute_result"
    }
   ],
   "source": [
    "Y"
   ]
  },
  {
   "attachments": {},
   "cell_type": "markdown",
   "metadata": {},
   "source": [
    "### Performing train test split, scaling and converting data to categorical"
   ]
  },
  {
   "cell_type": "code",
   "execution_count": 8,
   "metadata": {},
   "outputs": [
    {
     "name": "stdout",
     "output_type": "stream",
     "text": [
      "(8000, 30)\n",
      "(2000, 30)\n"
     ]
    }
   ],
   "source": [
    "from sklearn.model_selection import train_test_split\n",
    "xtrain, xtest, ytrain, ytest = train_test_split(X,Y, test_size=0.2, random_state=42)\n",
    "print(xtrain.shape)\n",
    "print(xtest.shape)"
   ]
  },
  {
   "cell_type": "code",
   "execution_count": 9,
   "metadata": {},
   "outputs": [],
   "source": [
    "from sklearn.preprocessing import StandardScaler\n",
    "scaler =  StandardScaler()\n",
    "xtrain = scaler.fit_transform(xtrain)\n",
    "xtest = scaler.transform(xtest)"
   ]
  },
  {
   "cell_type": "code",
   "execution_count": 12,
   "metadata": {},
   "outputs": [
    {
     "name": "stdout",
     "output_type": "stream",
     "text": [
      "[[0. 0. 1.]\n",
      " [0. 1. 0.]\n",
      " [1. 0. 0.]\n",
      " ...\n",
      " [1. 0. 0.]\n",
      " [0. 0. 1.]\n",
      " [1. 0. 0.]]\n",
      "************ y_test data *************\n",
      "[[0. 0. 1.]\n",
      " [1. 0. 0.]\n",
      " [1. 0. 0.]\n",
      " ...\n",
      " [0. 0. 1.]\n",
      " [1. 0. 0.]\n",
      " [0. 0. 1.]]\n"
     ]
    }
   ],
   "source": [
    "from keras.utils import to_categorical\n",
    "ytrain_cat = to_categorical(ytrain)\n",
    "ytest_cat = to_categorical(ytest)\n",
    "\n",
    "print(ytrain_cat)\n",
    "print(\"************ y_test data *************\")\n",
    "print(ytest_cat)"
   ]
  },
  {
   "attachments": {},
   "cell_type": "markdown",
   "metadata": {},
   "source": [
    "### Creating Model1 without dropout"
   ]
  },
  {
   "cell_type": "code",
   "execution_count": 13,
   "metadata": {},
   "outputs": [],
   "source": [
    "from keras.models import Sequential\n",
    "from keras.layers import Dense, Dropout"
   ]
  },
  {
   "cell_type": "code",
   "execution_count": 14,
   "metadata": {},
   "outputs": [],
   "source": [
    "# Initialize the model\n",
    "model1 = Sequential()\n",
    "\n",
    "# Dense Layer 1\n",
    "model1.add(Dense(64, activation='relu',input_dim = xtrain.shape[1]))\n",
    "\n",
    "# Dense Layer 2\n",
    "model1.add(Dense(32,activation='relu'))\n",
    "\n",
    "# Output Layer\n",
    "model1.add(Dense(3,activation='softmax'))"
   ]
  },
  {
   "cell_type": "code",
   "execution_count": 15,
   "metadata": {},
   "outputs": [
    {
     "name": "stdout",
     "output_type": "stream",
     "text": [
      "Model: \"sequential\"\n",
      "_________________________________________________________________\n",
      " Layer (type)                Output Shape              Param #   \n",
      "=================================================================\n",
      " dense (Dense)               (None, 64)                1984      \n",
      "                                                                 \n",
      " dense_1 (Dense)             (None, 32)                2080      \n",
      "                                                                 \n",
      " dense_2 (Dense)             (None, 3)                 99        \n",
      "                                                                 \n",
      "=================================================================\n",
      "Total params: 4163 (16.26 KB)\n",
      "Trainable params: 4163 (16.26 KB)\n",
      "Non-trainable params: 0 (0.00 Byte)\n",
      "_________________________________________________________________\n"
     ]
    }
   ],
   "source": [
    "model1.summary()"
   ]
  },
  {
   "cell_type": "code",
   "execution_count": 16,
   "metadata": {},
   "outputs": [],
   "source": [
    "model1.compile(optimizer='adam',loss='categorical_crossentropy',metrics=['accuracy'])"
   ]
  },
  {
   "cell_type": "code",
   "execution_count": 17,
   "metadata": {},
   "outputs": [
    {
     "name": "stdout",
     "output_type": "stream",
     "text": [
      "Epoch 1/100\n",
      "200/200 [==============================] - 1s 2ms/step - loss: 0.8011 - accuracy: 0.6498 - val_loss: 0.6225 - val_accuracy: 0.7550\n",
      "Epoch 2/100\n",
      "200/200 [==============================] - 0s 1ms/step - loss: 0.5096 - accuracy: 0.7997 - val_loss: 0.4567 - val_accuracy: 0.8225\n",
      "Epoch 3/100\n",
      "200/200 [==============================] - 0s 884us/step - loss: 0.3858 - accuracy: 0.8598 - val_loss: 0.3803 - val_accuracy: 0.8481\n",
      "Epoch 4/100\n",
      "200/200 [==============================] - 0s 2ms/step - loss: 0.3187 - accuracy: 0.8828 - val_loss: 0.3396 - val_accuracy: 0.8606\n",
      "Epoch 5/100\n",
      "200/200 [==============================] - 0s 1ms/step - loss: 0.2769 - accuracy: 0.9038 - val_loss: 0.3172 - val_accuracy: 0.8756\n",
      "Epoch 6/100\n",
      "200/200 [==============================] - 0s 803us/step - loss: 0.2487 - accuracy: 0.9164 - val_loss: 0.2981 - val_accuracy: 0.8888\n",
      "Epoch 7/100\n",
      "200/200 [==============================] - 0s 773us/step - loss: 0.2267 - accuracy: 0.9266 - val_loss: 0.2950 - val_accuracy: 0.8881\n",
      "Epoch 8/100\n",
      "200/200 [==============================] - 0s 785us/step - loss: 0.2098 - accuracy: 0.9308 - val_loss: 0.2983 - val_accuracy: 0.8938\n",
      "Epoch 9/100\n",
      "200/200 [==============================] - 0s 800us/step - loss: 0.1967 - accuracy: 0.9358 - val_loss: 0.2875 - val_accuracy: 0.8938\n",
      "Epoch 10/100\n",
      "200/200 [==============================] - 0s 851us/step - loss: 0.1844 - accuracy: 0.9420 - val_loss: 0.2816 - val_accuracy: 0.8994\n",
      "Epoch 11/100\n",
      "200/200 [==============================] - 0s 807us/step - loss: 0.1745 - accuracy: 0.9467 - val_loss: 0.2856 - val_accuracy: 0.8888\n",
      "Epoch 12/100\n",
      "200/200 [==============================] - 0s 2ms/step - loss: 0.1657 - accuracy: 0.9500 - val_loss: 0.2859 - val_accuracy: 0.8994\n",
      "Epoch 13/100\n",
      "200/200 [==============================] - 0s 1ms/step - loss: 0.1574 - accuracy: 0.9523 - val_loss: 0.2783 - val_accuracy: 0.9006\n",
      "Epoch 14/100\n",
      "200/200 [==============================] - 0s 774us/step - loss: 0.1491 - accuracy: 0.9581 - val_loss: 0.2986 - val_accuracy: 0.8938\n",
      "Epoch 15/100\n",
      "200/200 [==============================] - 0s 775us/step - loss: 0.1412 - accuracy: 0.9583 - val_loss: 0.2931 - val_accuracy: 0.8956\n",
      "Epoch 16/100\n",
      "200/200 [==============================] - 0s 762us/step - loss: 0.1357 - accuracy: 0.9611 - val_loss: 0.2875 - val_accuracy: 0.9000\n",
      "Epoch 17/100\n",
      "200/200 [==============================] - 0s 769us/step - loss: 0.1269 - accuracy: 0.9650 - val_loss: 0.2928 - val_accuracy: 0.8969\n",
      "Epoch 18/100\n",
      "200/200 [==============================] - 0s 768us/step - loss: 0.1225 - accuracy: 0.9652 - val_loss: 0.2991 - val_accuracy: 0.8988\n",
      "Epoch 19/100\n",
      "200/200 [==============================] - 0s 758us/step - loss: 0.1164 - accuracy: 0.9678 - val_loss: 0.3070 - val_accuracy: 0.8938\n",
      "Epoch 20/100\n",
      "200/200 [==============================] - 0s 759us/step - loss: 0.1097 - accuracy: 0.9706 - val_loss: 0.3023 - val_accuracy: 0.9025\n",
      "Epoch 21/100\n",
      "200/200 [==============================] - 0s 766us/step - loss: 0.1055 - accuracy: 0.9731 - val_loss: 0.3121 - val_accuracy: 0.9000\n",
      "Epoch 22/100\n",
      "200/200 [==============================] - 0s 762us/step - loss: 0.1009 - accuracy: 0.9742 - val_loss: 0.3016 - val_accuracy: 0.8950\n",
      "Epoch 23/100\n",
      "200/200 [==============================] - 0s 761us/step - loss: 0.0951 - accuracy: 0.9755 - val_loss: 0.3158 - val_accuracy: 0.8981\n",
      "Epoch 24/100\n",
      "200/200 [==============================] - 0s 761us/step - loss: 0.0894 - accuracy: 0.9786 - val_loss: 0.3181 - val_accuracy: 0.8975\n",
      "Epoch 25/100\n",
      "200/200 [==============================] - 0s 774us/step - loss: 0.0843 - accuracy: 0.9800 - val_loss: 0.3245 - val_accuracy: 0.8963\n",
      "Epoch 26/100\n",
      "200/200 [==============================] - 0s 769us/step - loss: 0.0822 - accuracy: 0.9789 - val_loss: 0.3220 - val_accuracy: 0.8975\n",
      "Epoch 27/100\n",
      "200/200 [==============================] - 0s 764us/step - loss: 0.0772 - accuracy: 0.9816 - val_loss: 0.3288 - val_accuracy: 0.9006\n",
      "Epoch 28/100\n",
      "200/200 [==============================] - 0s 762us/step - loss: 0.0735 - accuracy: 0.9814 - val_loss: 0.3207 - val_accuracy: 0.9025\n",
      "Epoch 29/100\n",
      "200/200 [==============================] - 0s 762us/step - loss: 0.0685 - accuracy: 0.9845 - val_loss: 0.3357 - val_accuracy: 0.9013\n",
      "Epoch 30/100\n",
      "200/200 [==============================] - 0s 759us/step - loss: 0.0650 - accuracy: 0.9848 - val_loss: 0.3444 - val_accuracy: 0.9013\n",
      "Epoch 31/100\n",
      "200/200 [==============================] - 0s 764us/step - loss: 0.0619 - accuracy: 0.9866 - val_loss: 0.3545 - val_accuracy: 0.8963\n",
      "Epoch 32/100\n",
      "200/200 [==============================] - 0s 779us/step - loss: 0.0594 - accuracy: 0.9877 - val_loss: 0.3538 - val_accuracy: 0.8981\n",
      "Epoch 33/100\n",
      "200/200 [==============================] - 0s 762us/step - loss: 0.0553 - accuracy: 0.9873 - val_loss: 0.3655 - val_accuracy: 0.9000\n",
      "Epoch 34/100\n",
      "200/200 [==============================] - 0s 761us/step - loss: 0.0523 - accuracy: 0.9881 - val_loss: 0.3655 - val_accuracy: 0.8969\n",
      "Epoch 35/100\n",
      "200/200 [==============================] - 0s 761us/step - loss: 0.0498 - accuracy: 0.9887 - val_loss: 0.3710 - val_accuracy: 0.9006\n",
      "Epoch 36/100\n",
      "200/200 [==============================] - 0s 764us/step - loss: 0.0457 - accuracy: 0.9916 - val_loss: 0.3710 - val_accuracy: 0.9031\n",
      "Epoch 37/100\n",
      "200/200 [==============================] - 0s 763us/step - loss: 0.0438 - accuracy: 0.9906 - val_loss: 0.3948 - val_accuracy: 0.8938\n",
      "Epoch 38/100\n",
      "200/200 [==============================] - 0s 766us/step - loss: 0.0411 - accuracy: 0.9928 - val_loss: 0.4057 - val_accuracy: 0.8969\n",
      "Epoch 39/100\n",
      "200/200 [==============================] - 0s 763us/step - loss: 0.0383 - accuracy: 0.9933 - val_loss: 0.3885 - val_accuracy: 0.8988\n",
      "Epoch 40/100\n",
      "200/200 [==============================] - 0s 2ms/step - loss: 0.0377 - accuracy: 0.9936 - val_loss: 0.4013 - val_accuracy: 0.8975\n",
      "Epoch 41/100\n",
      "200/200 [==============================] - 0s 910us/step - loss: 0.0341 - accuracy: 0.9937 - val_loss: 0.4312 - val_accuracy: 0.8938\n",
      "Epoch 42/100\n",
      "200/200 [==============================] - 0s 866us/step - loss: 0.0322 - accuracy: 0.9955 - val_loss: 0.4331 - val_accuracy: 0.8950\n",
      "Epoch 43/100\n",
      "200/200 [==============================] - 0s 762us/step - loss: 0.0318 - accuracy: 0.9945 - val_loss: 0.4284 - val_accuracy: 0.8981\n",
      "Epoch 44/100\n",
      "200/200 [==============================] - 0s 766us/step - loss: 0.0283 - accuracy: 0.9952 - val_loss: 0.4366 - val_accuracy: 0.8906\n",
      "Epoch 45/100\n",
      "200/200 [==============================] - 0s 769us/step - loss: 0.0249 - accuracy: 0.9973 - val_loss: 0.4473 - val_accuracy: 0.8944\n",
      "Epoch 46/100\n",
      "200/200 [==============================] - 0s 821us/step - loss: 0.0267 - accuracy: 0.9961 - val_loss: 0.4340 - val_accuracy: 0.8981\n",
      "Epoch 47/100\n",
      "200/200 [==============================] - 0s 765us/step - loss: 0.0230 - accuracy: 0.9969 - val_loss: 0.4521 - val_accuracy: 0.8994\n",
      "Epoch 48/100\n",
      "200/200 [==============================] - 0s 796us/step - loss: 0.0212 - accuracy: 0.9972 - val_loss: 0.4572 - val_accuracy: 0.8894\n",
      "Epoch 49/100\n",
      "200/200 [==============================] - 0s 781us/step - loss: 0.0187 - accuracy: 0.9984 - val_loss: 0.4850 - val_accuracy: 0.8975\n",
      "Epoch 50/100\n",
      "200/200 [==============================] - 0s 772us/step - loss: 0.0190 - accuracy: 0.9978 - val_loss: 0.4690 - val_accuracy: 0.8956\n",
      "Epoch 51/100\n",
      "200/200 [==============================] - 0s 867us/step - loss: 0.0179 - accuracy: 0.9975 - val_loss: 0.4929 - val_accuracy: 0.8956\n",
      "Epoch 52/100\n",
      "200/200 [==============================] - 0s 763us/step - loss: 0.0152 - accuracy: 0.9984 - val_loss: 0.4968 - val_accuracy: 0.8906\n",
      "Epoch 53/100\n",
      "200/200 [==============================] - 0s 761us/step - loss: 0.0151 - accuracy: 0.9983 - val_loss: 0.4870 - val_accuracy: 0.8969\n",
      "Epoch 54/100\n",
      "200/200 [==============================] - 0s 767us/step - loss: 0.0140 - accuracy: 0.9987 - val_loss: 0.4865 - val_accuracy: 0.8950\n",
      "Epoch 55/100\n",
      "200/200 [==============================] - 0s 759us/step - loss: 0.0121 - accuracy: 0.9992 - val_loss: 0.5082 - val_accuracy: 0.8938\n",
      "Epoch 56/100\n",
      "200/200 [==============================] - 0s 762us/step - loss: 0.0108 - accuracy: 0.9997 - val_loss: 0.5041 - val_accuracy: 0.9025\n",
      "Epoch 57/100\n",
      "200/200 [==============================] - 0s 759us/step - loss: 0.0091 - accuracy: 0.9997 - val_loss: 0.5412 - val_accuracy: 0.8944\n",
      "Epoch 58/100\n",
      "200/200 [==============================] - 0s 762us/step - loss: 0.0095 - accuracy: 0.9995 - val_loss: 0.5808 - val_accuracy: 0.8900\n",
      "Epoch 59/100\n",
      "200/200 [==============================] - 0s 769us/step - loss: 0.0133 - accuracy: 0.9981 - val_loss: 0.5611 - val_accuracy: 0.8963\n",
      "Epoch 60/100\n",
      "200/200 [==============================] - 0s 760us/step - loss: 0.0182 - accuracy: 0.9956 - val_loss: 0.5764 - val_accuracy: 0.8875\n",
      "Epoch 61/100\n",
      "200/200 [==============================] - 0s 1ms/step - loss: 0.0175 - accuracy: 0.9950 - val_loss: 0.5605 - val_accuracy: 0.8963\n",
      "Epoch 62/100\n",
      "200/200 [==============================] - 0s 834us/step - loss: 0.0104 - accuracy: 0.9983 - val_loss: 0.5324 - val_accuracy: 0.8975\n",
      "Epoch 63/100\n",
      "200/200 [==============================] - 0s 791us/step - loss: 0.0066 - accuracy: 0.9997 - val_loss: 0.5502 - val_accuracy: 0.8975\n",
      "Epoch 64/100\n",
      "200/200 [==============================] - 0s 793us/step - loss: 0.0048 - accuracy: 1.0000 - val_loss: 0.5547 - val_accuracy: 0.9013\n",
      "Epoch 65/100\n",
      "200/200 [==============================] - 0s 789us/step - loss: 0.0043 - accuracy: 1.0000 - val_loss: 0.5563 - val_accuracy: 0.9031\n",
      "Epoch 66/100\n",
      "200/200 [==============================] - 0s 768us/step - loss: 0.0036 - accuracy: 1.0000 - val_loss: 0.5670 - val_accuracy: 0.8988\n",
      "Epoch 67/100\n",
      "200/200 [==============================] - 0s 771us/step - loss: 0.0035 - accuracy: 1.0000 - val_loss: 0.5749 - val_accuracy: 0.8969\n",
      "Epoch 68/100\n",
      "200/200 [==============================] - 0s 783us/step - loss: 0.0033 - accuracy: 1.0000 - val_loss: 0.5884 - val_accuracy: 0.8994\n",
      "Epoch 69/100\n",
      "200/200 [==============================] - 0s 933us/step - loss: 0.0031 - accuracy: 1.0000 - val_loss: 0.5800 - val_accuracy: 0.9038\n",
      "Epoch 70/100\n",
      "200/200 [==============================] - 0s 1ms/step - loss: 0.0030 - accuracy: 1.0000 - val_loss: 0.5890 - val_accuracy: 0.9019\n",
      "Epoch 71/100\n",
      "200/200 [==============================] - 0s 1ms/step - loss: 0.0030 - accuracy: 1.0000 - val_loss: 0.5972 - val_accuracy: 0.9019\n",
      "Epoch 72/100\n",
      "200/200 [==============================] - 0s 821us/step - loss: 0.0026 - accuracy: 1.0000 - val_loss: 0.6001 - val_accuracy: 0.9013\n",
      "Epoch 73/100\n",
      "200/200 [==============================] - 0s 856us/step - loss: 0.0025 - accuracy: 1.0000 - val_loss: 0.6033 - val_accuracy: 0.9044\n",
      "Epoch 74/100\n",
      "200/200 [==============================] - 0s 890us/step - loss: 0.0023 - accuracy: 1.0000 - val_loss: 0.6115 - val_accuracy: 0.9050\n",
      "Epoch 75/100\n",
      "200/200 [==============================] - 0s 846us/step - loss: 0.0036 - accuracy: 0.9997 - val_loss: 0.6606 - val_accuracy: 0.8950\n",
      "Epoch 76/100\n",
      "200/200 [==============================] - 0s 830us/step - loss: 0.0576 - accuracy: 0.9794 - val_loss: 0.6548 - val_accuracy: 0.8881\n",
      "Epoch 77/100\n",
      "200/200 [==============================] - 0s 841us/step - loss: 0.0389 - accuracy: 0.9870 - val_loss: 0.6112 - val_accuracy: 0.8956\n",
      "Epoch 78/100\n",
      "200/200 [==============================] - 0s 840us/step - loss: 0.0089 - accuracy: 0.9983 - val_loss: 0.5970 - val_accuracy: 0.9031\n",
      "Epoch 79/100\n",
      "200/200 [==============================] - 0s 832us/step - loss: 0.0037 - accuracy: 1.0000 - val_loss: 0.6015 - val_accuracy: 0.9038\n",
      "Epoch 80/100\n",
      "200/200 [==============================] - 0s 817us/step - loss: 0.0025 - accuracy: 1.0000 - val_loss: 0.6049 - val_accuracy: 0.9031\n",
      "Epoch 81/100\n",
      "200/200 [==============================] - 0s 830us/step - loss: 0.0021 - accuracy: 1.0000 - val_loss: 0.6025 - val_accuracy: 0.9019\n",
      "Epoch 82/100\n",
      "200/200 [==============================] - 0s 833us/step - loss: 0.0019 - accuracy: 1.0000 - val_loss: 0.6058 - val_accuracy: 0.9019\n",
      "Epoch 83/100\n",
      "200/200 [==============================] - 0s 831us/step - loss: 0.0017 - accuracy: 1.0000 - val_loss: 0.6115 - val_accuracy: 0.9019\n",
      "Epoch 84/100\n",
      "200/200 [==============================] - 0s 829us/step - loss: 0.0016 - accuracy: 1.0000 - val_loss: 0.6175 - val_accuracy: 0.9019\n",
      "Epoch 85/100\n",
      "200/200 [==============================] - 0s 917us/step - loss: 0.0015 - accuracy: 1.0000 - val_loss: 0.6169 - val_accuracy: 0.9025\n",
      "Epoch 86/100\n",
      "200/200 [==============================] - 0s 811us/step - loss: 0.0014 - accuracy: 1.0000 - val_loss: 0.6175 - val_accuracy: 0.9025\n",
      "Epoch 87/100\n",
      "200/200 [==============================] - 0s 818us/step - loss: 0.0013 - accuracy: 1.0000 - val_loss: 0.6221 - val_accuracy: 0.9006\n",
      "Epoch 88/100\n",
      "200/200 [==============================] - 0s 823us/step - loss: 0.0013 - accuracy: 1.0000 - val_loss: 0.6321 - val_accuracy: 0.9025\n",
      "Epoch 89/100\n",
      "200/200 [==============================] - 0s 813us/step - loss: 0.0012 - accuracy: 1.0000 - val_loss: 0.6305 - val_accuracy: 0.9038\n",
      "Epoch 90/100\n",
      "200/200 [==============================] - 0s 798us/step - loss: 0.0011 - accuracy: 1.0000 - val_loss: 0.6372 - val_accuracy: 0.9006\n",
      "Epoch 91/100\n",
      "200/200 [==============================] - 0s 800us/step - loss: 0.0010 - accuracy: 1.0000 - val_loss: 0.6455 - val_accuracy: 0.9013\n",
      "Epoch 92/100\n",
      "200/200 [==============================] - 0s 805us/step - loss: 0.0010 - accuracy: 1.0000 - val_loss: 0.6481 - val_accuracy: 0.9025\n",
      "Epoch 93/100\n",
      "200/200 [==============================] - 0s 802us/step - loss: 9.3984e-04 - accuracy: 1.0000 - val_loss: 0.6586 - val_accuracy: 0.9019\n",
      "Epoch 94/100\n",
      "200/200 [==============================] - 0s 804us/step - loss: 9.0865e-04 - accuracy: 1.0000 - val_loss: 0.6572 - val_accuracy: 0.9038\n",
      "Epoch 95/100\n",
      "200/200 [==============================] - 0s 799us/step - loss: 8.3668e-04 - accuracy: 1.0000 - val_loss: 0.6694 - val_accuracy: 0.9031\n",
      "Epoch 96/100\n",
      "200/200 [==============================] - 0s 805us/step - loss: 8.3030e-04 - accuracy: 1.0000 - val_loss: 0.6670 - val_accuracy: 0.9006\n",
      "Epoch 97/100\n",
      "200/200 [==============================] - 0s 799us/step - loss: 7.4261e-04 - accuracy: 1.0000 - val_loss: 0.6715 - val_accuracy: 0.9038\n",
      "Epoch 98/100\n",
      "200/200 [==============================] - 0s 808us/step - loss: 7.1442e-04 - accuracy: 1.0000 - val_loss: 0.6849 - val_accuracy: 0.9038\n",
      "Epoch 99/100\n",
      "200/200 [==============================] - 0s 807us/step - loss: 7.4084e-04 - accuracy: 1.0000 - val_loss: 0.6836 - val_accuracy: 0.9013\n",
      "Epoch 100/100\n",
      "200/200 [==============================] - 0s 814us/step - loss: 7.6881e-04 - accuracy: 1.0000 - val_loss: 0.7005 - val_accuracy: 0.9019\n"
     ]
    }
   ],
   "source": [
    "hist1 = model1.fit(xtrain, ytrain_cat, epochs=100, validation_split=0.2)"
   ]
  },
  {
   "attachments": {},
   "cell_type": "markdown",
   "metadata": {},
   "source": [
    "### Plot the learning curve"
   ]
  },
  {
   "cell_type": "code",
   "execution_count": 20,
   "metadata": {},
   "outputs": [],
   "source": [
    "import matplotlib.pyplot as plt\n",
    "def plot_learning_curve(hist):\n",
    "    plt.figure(figsize=(16,8))\n",
    "    plt.plot(hist.history['loss'],label='Training Loss')\n",
    "    plt.plot(hist.history['val_loss'],label='Validation Loss')\n",
    "    plt.xlabel('Epochs')\n",
    "    plt.ylabel('Categorical Crossentropy Loss')\n",
    "    plt.title('Learning Curve')\n",
    "    plt.legend()\n",
    "    plt.show()"
   ]
  },
  {
   "cell_type": "code",
   "execution_count": 21,
   "metadata": {},
   "outputs": [
    {
     "data": {
      "image/png": "[encoded data removed]",
      "text/plain": [
       "<Figure size 1600x800 with 1 Axes>"
      ]
     },
     "metadata": {},
     "output_type": "display_data"
    }
   ],
   "source": [
    "plot_learning_curve(hist1)"
   ]
  },
  {
   "attachments": {},
   "cell_type": "markdown",
   "metadata": {},
   "source": [
    "### Evaluate the model"
   ]
  },
  {
   "cell_type": "code",
   "execution_count": 22,
   "metadata": {},
   "outputs": [
    {
     "name": "stdout",
     "output_type": "stream",
     "text": [
      "250/250 [==============================] - 0s 544us/step - loss: 0.1406 - accuracy: 0.9804\n"
     ]
    }
   ],
   "source": [
    "# Training Evaluate\n",
    "tr_err1, tr_acc1 = model1.evaluate(xtrain, ytrain_cat)"
   ]
  },
  {
   "cell_type": "code",
   "execution_count": 23,
   "metadata": {},
   "outputs": [
    {
     "name": "stdout",
     "output_type": "stream",
     "text": [
      "63/63 [==============================] - 0s 596us/step - loss: 0.6599 - accuracy: 0.9050\n"
     ]
    }
   ],
   "source": [
    "# Testing evaluation\n",
    "ts_err1, ts_acc1 = model1.evaluate(xtest, ytest_cat)"
   ]
  },
  {
   "attachments": {},
   "cell_type": "markdown",
   "metadata": {},
   "source": [
    "### Model 2 With Dropout Layer"
   ]
  },
  {
   "cell_type": "code",
   "execution_count": 24,
   "metadata": {},
   "outputs": [],
   "source": [
    "# Model 2 Initialize\n",
    "model2 = Sequential()\n",
    "\n",
    "# Dense Layer 1\n",
    "model2.add(Dense(64, activation='relu', input_dim=xtrain.shape[1]))\n",
    "\n",
    "# Dropout Layer 1\n",
    "model2.add(Dropout(0.3))\n",
    "\n",
    "# Dense Layer 2\n",
    "model2.add(Dense(32, activation='relu'))\n",
    "\n",
    "# Dropout Layer 2\n",
    "model2.add(Dropout(0.3))\n",
    "\n",
    "# Output Layer\n",
    "model2.add(Dense(3, activation='softmax'))"
   ]
  },
  {
   "cell_type": "code",
   "execution_count": 25,
   "metadata": {},
   "outputs": [
    {
     "name": "stdout",
     "output_type": "stream",
     "text": [
      "Model: \"sequential_1\"\n",
      "_________________________________________________________________\n",
      " Layer (type)                Output Shape              Param #   \n",
      "=================================================================\n",
      " dense_3 (Dense)             (None, 64)                1984      \n",
      "                                                                 \n",
      " dropout (Dropout)           (None, 64)                0         \n",
      "                                                                 \n",
      " dense_4 (Dense)             (None, 32)                2080      \n",
      "                                                                 \n",
      " dropout_1 (Dropout)         (None, 32)                0         \n",
      "                                                                 \n",
      " dense_5 (Dense)             (None, 3)                 99        \n",
      "                                                                 \n",
      "=================================================================\n",
      "Total params: 4163 (16.26 KB)\n",
      "Trainable params: 4163 (16.26 KB)\n",
      "Non-trainable params: 0 (0.00 Byte)\n",
      "_________________________________________________________________\n"
     ]
    }
   ],
   "source": [
    "model2.summary()"
   ]
  },
  {
   "cell_type": "code",
   "execution_count": 26,
   "metadata": {},
   "outputs": [],
   "source": [
    "model2.compile(optimizer='adam', loss='binary_crossentropy', metrics=['accuracy'])"
   ]
  },
  {
   "cell_type": "code",
   "execution_count": 27,
   "metadata": {},
   "outputs": [
    {
     "name": "stdout",
     "output_type": "stream",
     "text": [
      "Epoch 1/100\n",
      "200/200 [==============================] - 1s 3ms/step - loss: 0.6196 - accuracy: 0.4620 - val_loss: 0.5174 - val_accuracy: 0.6394\n",
      "Epoch 2/100\n",
      "200/200 [==============================] - 0s 2ms/step - loss: 0.4927 - accuracy: 0.6425 - val_loss: 0.4128 - val_accuracy: 0.7269\n",
      "Epoch 3/100\n",
      "200/200 [==============================] - 0s 1ms/step - loss: 0.4319 - accuracy: 0.7022 - val_loss: 0.3597 - val_accuracy: 0.7800\n",
      "Epoch 4/100\n",
      "200/200 [==============================] - 0s 1ms/step - loss: 0.3813 - accuracy: 0.7455 - val_loss: 0.3218 - val_accuracy: 0.8000\n",
      "Epoch 5/100\n",
      "200/200 [==============================] - 0s 2ms/step - loss: 0.3471 - accuracy: 0.7773 - val_loss: 0.2791 - val_accuracy: 0.8369\n",
      "Epoch 6/100\n",
      "200/200 [==============================] - 1s 3ms/step - loss: 0.3179 - accuracy: 0.8002 - val_loss: 0.2526 - val_accuracy: 0.8569\n",
      "Epoch 7/100\n",
      "200/200 [==============================] - 0s 1ms/step - loss: 0.2965 - accuracy: 0.8142 - val_loss: 0.2342 - val_accuracy: 0.8625\n",
      "Epoch 8/100\n",
      "200/200 [==============================] - 0s 937us/step - loss: 0.2747 - accuracy: 0.8358 - val_loss: 0.2212 - val_accuracy: 0.8744\n",
      "Epoch 9/100\n",
      "200/200 [==============================] - 0s 861us/step - loss: 0.2604 - accuracy: 0.8458 - val_loss: 0.2064 - val_accuracy: 0.8763\n",
      "Epoch 10/100\n",
      "200/200 [==============================] - 0s 868us/step - loss: 0.2459 - accuracy: 0.8508 - val_loss: 0.2028 - val_accuracy: 0.8788\n",
      "Epoch 11/100\n",
      "200/200 [==============================] - 0s 846us/step - loss: 0.2451 - accuracy: 0.8564 - val_loss: 0.1958 - val_accuracy: 0.8806\n",
      "Epoch 12/100\n",
      "200/200 [==============================] - 0s 862us/step - loss: 0.2325 - accuracy: 0.8606 - val_loss: 0.1944 - val_accuracy: 0.8850\n",
      "Epoch 13/100\n",
      "200/200 [==============================] - 0s 844us/step - loss: 0.2231 - accuracy: 0.8664 - val_loss: 0.1862 - val_accuracy: 0.8869\n",
      "Epoch 14/100\n",
      "200/200 [==============================] - 0s 832us/step - loss: 0.2159 - accuracy: 0.8727 - val_loss: 0.1837 - val_accuracy: 0.8919\n",
      "Epoch 15/100\n",
      "200/200 [==============================] - 0s 831us/step - loss: 0.2150 - accuracy: 0.8720 - val_loss: 0.1829 - val_accuracy: 0.8956\n",
      "Epoch 16/100\n",
      "200/200 [==============================] - 0s 889us/step - loss: 0.2072 - accuracy: 0.8805 - val_loss: 0.1762 - val_accuracy: 0.8988\n",
      "Epoch 17/100\n",
      "200/200 [==============================] - 0s 2ms/step - loss: 0.2088 - accuracy: 0.8817 - val_loss: 0.1732 - val_accuracy: 0.9025\n",
      "Epoch 18/100\n",
      "200/200 [==============================] - 0s 1ms/step - loss: 0.2053 - accuracy: 0.8848 - val_loss: 0.1697 - val_accuracy: 0.9025\n",
      "Epoch 19/100\n",
      "200/200 [==============================] - 0s 889us/step - loss: 0.1954 - accuracy: 0.8870 - val_loss: 0.1664 - val_accuracy: 0.9031\n",
      "Epoch 20/100\n",
      "200/200 [==============================] - 0s 816us/step - loss: 0.1969 - accuracy: 0.8883 - val_loss: 0.1645 - val_accuracy: 0.9044\n",
      "Epoch 21/100\n",
      "200/200 [==============================] - 0s 805us/step - loss: 0.1957 - accuracy: 0.8875 - val_loss: 0.1625 - val_accuracy: 0.9031\n",
      "Epoch 22/100\n",
      "200/200 [==============================] - 0s 802us/step - loss: 0.1870 - accuracy: 0.8945 - val_loss: 0.1646 - val_accuracy: 0.9025\n",
      "Epoch 23/100\n",
      "200/200 [==============================] - 0s 922us/step - loss: 0.1843 - accuracy: 0.8977 - val_loss: 0.1627 - val_accuracy: 0.9062\n",
      "Epoch 24/100\n",
      "200/200 [==============================] - 0s 811us/step - loss: 0.1817 - accuracy: 0.8955 - val_loss: 0.1610 - val_accuracy: 0.9050\n",
      "Epoch 25/100\n",
      "200/200 [==============================] - 0s 803us/step - loss: 0.1771 - accuracy: 0.9041 - val_loss: 0.1565 - val_accuracy: 0.9106\n",
      "Epoch 26/100\n",
      "200/200 [==============================] - 0s 805us/step - loss: 0.1825 - accuracy: 0.9002 - val_loss: 0.1562 - val_accuracy: 0.9162\n",
      "Epoch 27/100\n",
      "200/200 [==============================] - 0s 816us/step - loss: 0.1792 - accuracy: 0.9033 - val_loss: 0.1548 - val_accuracy: 0.9119\n",
      "Epoch 28/100\n",
      "200/200 [==============================] - 0s 812us/step - loss: 0.1760 - accuracy: 0.9016 - val_loss: 0.1529 - val_accuracy: 0.9144\n",
      "Epoch 29/100\n",
      "200/200 [==============================] - 0s 812us/step - loss: 0.1745 - accuracy: 0.9030 - val_loss: 0.1566 - val_accuracy: 0.9106\n",
      "Epoch 30/100\n",
      "200/200 [==============================] - 0s 830us/step - loss: 0.1741 - accuracy: 0.9042 - val_loss: 0.1556 - val_accuracy: 0.9125\n",
      "Epoch 31/100\n",
      "200/200 [==============================] - 0s 808us/step - loss: 0.1636 - accuracy: 0.9122 - val_loss: 0.1530 - val_accuracy: 0.9150\n",
      "Epoch 32/100\n",
      "200/200 [==============================] - 0s 804us/step - loss: 0.1626 - accuracy: 0.9119 - val_loss: 0.1511 - val_accuracy: 0.9187\n",
      "Epoch 33/100\n",
      "200/200 [==============================] - 0s 810us/step - loss: 0.1658 - accuracy: 0.9077 - val_loss: 0.1510 - val_accuracy: 0.9200\n",
      "Epoch 34/100\n",
      "200/200 [==============================] - 0s 872us/step - loss: 0.1658 - accuracy: 0.9119 - val_loss: 0.1556 - val_accuracy: 0.9125\n",
      "Epoch 35/100\n",
      "200/200 [==============================] - 0s 832us/step - loss: 0.1582 - accuracy: 0.9156 - val_loss: 0.1538 - val_accuracy: 0.9137\n",
      "Epoch 36/100\n",
      "200/200 [==============================] - 0s 832us/step - loss: 0.1608 - accuracy: 0.9131 - val_loss: 0.1481 - val_accuracy: 0.9137\n",
      "Epoch 37/100\n",
      "200/200 [==============================] - 0s 811us/step - loss: 0.1662 - accuracy: 0.9084 - val_loss: 0.1455 - val_accuracy: 0.9194\n",
      "Epoch 38/100\n",
      "200/200 [==============================] - 0s 805us/step - loss: 0.1597 - accuracy: 0.9097 - val_loss: 0.1503 - val_accuracy: 0.9137\n",
      "Epoch 39/100\n",
      "200/200 [==============================] - 0s 803us/step - loss: 0.1646 - accuracy: 0.9105 - val_loss: 0.1476 - val_accuracy: 0.9169\n",
      "Epoch 40/100\n",
      "200/200 [==============================] - 0s 803us/step - loss: 0.1591 - accuracy: 0.9181 - val_loss: 0.1503 - val_accuracy: 0.9175\n",
      "Epoch 41/100\n",
      "200/200 [==============================] - 0s 808us/step - loss: 0.1448 - accuracy: 0.9236 - val_loss: 0.1457 - val_accuracy: 0.9194\n",
      "Epoch 42/100\n",
      "200/200 [==============================] - 0s 801us/step - loss: 0.1466 - accuracy: 0.9247 - val_loss: 0.1454 - val_accuracy: 0.9206\n",
      "Epoch 43/100\n",
      "200/200 [==============================] - 0s 810us/step - loss: 0.1471 - accuracy: 0.9205 - val_loss: 0.1455 - val_accuracy: 0.9244\n",
      "Epoch 44/100\n",
      "200/200 [==============================] - 0s 806us/step - loss: 0.1531 - accuracy: 0.9197 - val_loss: 0.1407 - val_accuracy: 0.9250\n",
      "Epoch 45/100\n",
      "200/200 [==============================] - 0s 894us/step - loss: 0.1499 - accuracy: 0.9208 - val_loss: 0.1420 - val_accuracy: 0.9287\n",
      "Epoch 46/100\n",
      "200/200 [==============================] - 0s 1ms/step - loss: 0.1527 - accuracy: 0.9217 - val_loss: 0.1409 - val_accuracy: 0.9237\n",
      "Epoch 47/100\n",
      "200/200 [==============================] - 0s 1ms/step - loss: 0.1384 - accuracy: 0.9262 - val_loss: 0.1413 - val_accuracy: 0.9262\n",
      "Epoch 48/100\n",
      "200/200 [==============================] - 0s 986us/step - loss: 0.1456 - accuracy: 0.9200 - val_loss: 0.1420 - val_accuracy: 0.9256\n",
      "Epoch 49/100\n",
      "200/200 [==============================] - 0s 1ms/step - loss: 0.1483 - accuracy: 0.9203 - val_loss: 0.1360 - val_accuracy: 0.9281\n",
      "Epoch 50/100\n",
      "200/200 [==============================] - 0s 1ms/step - loss: 0.1446 - accuracy: 0.9234 - val_loss: 0.1381 - val_accuracy: 0.9250\n",
      "Epoch 51/100\n",
      "200/200 [==============================] - 0s 1ms/step - loss: 0.1435 - accuracy: 0.9261 - val_loss: 0.1375 - val_accuracy: 0.9244\n",
      "Epoch 52/100\n",
      "200/200 [==============================] - 0s 2ms/step - loss: 0.1417 - accuracy: 0.9273 - val_loss: 0.1352 - val_accuracy: 0.9281\n",
      "Epoch 53/100\n",
      "200/200 [==============================] - 0s 1ms/step - loss: 0.1401 - accuracy: 0.9302 - val_loss: 0.1360 - val_accuracy: 0.9256\n",
      "Epoch 54/100\n",
      "200/200 [==============================] - 0s 911us/step - loss: 0.1432 - accuracy: 0.9192 - val_loss: 0.1367 - val_accuracy: 0.9244\n",
      "Epoch 55/100\n",
      "200/200 [==============================] - 0s 855us/step - loss: 0.1409 - accuracy: 0.9200 - val_loss: 0.1378 - val_accuracy: 0.9275\n",
      "Epoch 56/100\n",
      "200/200 [==============================] - 0s 872us/step - loss: 0.1404 - accuracy: 0.9283 - val_loss: 0.1351 - val_accuracy: 0.9319\n",
      "Epoch 57/100\n",
      "200/200 [==============================] - 0s 849us/step - loss: 0.1364 - accuracy: 0.9280 - val_loss: 0.1361 - val_accuracy: 0.9256\n",
      "Epoch 58/100\n",
      "200/200 [==============================] - 0s 1ms/step - loss: 0.1429 - accuracy: 0.9281 - val_loss: 0.1327 - val_accuracy: 0.9300\n",
      "Epoch 59/100\n",
      "200/200 [==============================] - 0s 905us/step - loss: 0.1379 - accuracy: 0.9262 - val_loss: 0.1309 - val_accuracy: 0.9306\n",
      "Epoch 60/100\n",
      "200/200 [==============================] - 0s 1ms/step - loss: 0.1388 - accuracy: 0.9269 - val_loss: 0.1323 - val_accuracy: 0.9281\n",
      "Epoch 61/100\n",
      "200/200 [==============================] - 1s 3ms/step - loss: 0.1338 - accuracy: 0.9325 - val_loss: 0.1314 - val_accuracy: 0.9269\n",
      "Epoch 62/100\n",
      "200/200 [==============================] - 0s 1ms/step - loss: 0.1381 - accuracy: 0.9334 - val_loss: 0.1331 - val_accuracy: 0.9256\n",
      "Epoch 63/100\n",
      "200/200 [==============================] - 0s 1ms/step - loss: 0.1312 - accuracy: 0.9302 - val_loss: 0.1306 - val_accuracy: 0.9319\n",
      "Epoch 64/100\n",
      "200/200 [==============================] - 0s 815us/step - loss: 0.1355 - accuracy: 0.9311 - val_loss: 0.1317 - val_accuracy: 0.9262\n",
      "Epoch 65/100\n",
      "200/200 [==============================] - 0s 816us/step - loss: 0.1347 - accuracy: 0.9287 - val_loss: 0.1310 - val_accuracy: 0.9250\n",
      "Epoch 66/100\n",
      "200/200 [==============================] - 0s 847us/step - loss: 0.1316 - accuracy: 0.9302 - val_loss: 0.1334 - val_accuracy: 0.9275\n",
      "Epoch 67/100\n",
      "200/200 [==============================] - 0s 814us/step - loss: 0.1371 - accuracy: 0.9275 - val_loss: 0.1349 - val_accuracy: 0.9231\n",
      "Epoch 68/100\n",
      "200/200 [==============================] - 0s 808us/step - loss: 0.1293 - accuracy: 0.9327 - val_loss: 0.1306 - val_accuracy: 0.9312\n",
      "Epoch 69/100\n",
      "200/200 [==============================] - 0s 809us/step - loss: 0.1326 - accuracy: 0.9311 - val_loss: 0.1327 - val_accuracy: 0.9300\n",
      "Epoch 70/100\n",
      "200/200 [==============================] - 0s 805us/step - loss: 0.1312 - accuracy: 0.9330 - val_loss: 0.1342 - val_accuracy: 0.9300\n",
      "Epoch 71/100\n",
      "200/200 [==============================] - 0s 872us/step - loss: 0.1319 - accuracy: 0.9331 - val_loss: 0.1275 - val_accuracy: 0.9312\n",
      "Epoch 72/100\n",
      "200/200 [==============================] - 0s 828us/step - loss: 0.1322 - accuracy: 0.9330 - val_loss: 0.1263 - val_accuracy: 0.9306\n",
      "Epoch 73/100\n",
      "200/200 [==============================] - 0s 805us/step - loss: 0.1315 - accuracy: 0.9356 - val_loss: 0.1270 - val_accuracy: 0.9312\n",
      "Epoch 74/100\n",
      "200/200 [==============================] - 0s 807us/step - loss: 0.1351 - accuracy: 0.9320 - val_loss: 0.1278 - val_accuracy: 0.9281\n",
      "Epoch 75/100\n",
      "200/200 [==============================] - 0s 809us/step - loss: 0.1241 - accuracy: 0.9339 - val_loss: 0.1278 - val_accuracy: 0.9306\n",
      "Epoch 76/100\n",
      "200/200 [==============================] - 0s 808us/step - loss: 0.1274 - accuracy: 0.9298 - val_loss: 0.1311 - val_accuracy: 0.9319\n",
      "Epoch 77/100\n",
      "200/200 [==============================] - 0s 815us/step - loss: 0.1334 - accuracy: 0.9330 - val_loss: 0.1282 - val_accuracy: 0.9306\n",
      "Epoch 78/100\n",
      "200/200 [==============================] - 0s 819us/step - loss: 0.1269 - accuracy: 0.9350 - val_loss: 0.1292 - val_accuracy: 0.9306\n",
      "Epoch 79/100\n",
      "200/200 [==============================] - 0s 832us/step - loss: 0.1224 - accuracy: 0.9386 - val_loss: 0.1278 - val_accuracy: 0.9269\n",
      "Epoch 80/100\n",
      "200/200 [==============================] - 0s 809us/step - loss: 0.1228 - accuracy: 0.9361 - val_loss: 0.1272 - val_accuracy: 0.9362\n",
      "Epoch 81/100\n",
      "200/200 [==============================] - 0s 807us/step - loss: 0.1281 - accuracy: 0.9380 - val_loss: 0.1310 - val_accuracy: 0.9256\n",
      "Epoch 82/100\n",
      "200/200 [==============================] - 0s 1ms/step - loss: 0.1223 - accuracy: 0.9383 - val_loss: 0.1341 - val_accuracy: 0.9281\n",
      "Epoch 83/100\n",
      "200/200 [==============================] - 0s 802us/step - loss: 0.1285 - accuracy: 0.9355 - val_loss: 0.1304 - val_accuracy: 0.9294\n",
      "Epoch 84/100\n",
      "200/200 [==============================] - 0s 802us/step - loss: 0.1289 - accuracy: 0.9373 - val_loss: 0.1302 - val_accuracy: 0.9262\n",
      "Epoch 85/100\n",
      "200/200 [==============================] - 0s 806us/step - loss: 0.1281 - accuracy: 0.9353 - val_loss: 0.1325 - val_accuracy: 0.9312\n",
      "Epoch 86/100\n",
      "200/200 [==============================] - 0s 818us/step - loss: 0.1200 - accuracy: 0.9419 - val_loss: 0.1275 - val_accuracy: 0.9331\n",
      "Epoch 87/100\n",
      "200/200 [==============================] - 0s 902us/step - loss: 0.1287 - accuracy: 0.9339 - val_loss: 0.1258 - val_accuracy: 0.9375\n",
      "Epoch 88/100\n",
      "200/200 [==============================] - 0s 917us/step - loss: 0.1246 - accuracy: 0.9375 - val_loss: 0.1261 - val_accuracy: 0.9369\n",
      "Epoch 89/100\n",
      "200/200 [==============================] - 0s 886us/step - loss: 0.1219 - accuracy: 0.9378 - val_loss: 0.1281 - val_accuracy: 0.9394\n",
      "Epoch 90/100\n",
      "200/200 [==============================] - 0s 846us/step - loss: 0.1286 - accuracy: 0.9319 - val_loss: 0.1244 - val_accuracy: 0.9356\n",
      "Epoch 91/100\n",
      "200/200 [==============================] - 0s 855us/step - loss: 0.1197 - accuracy: 0.9423 - val_loss: 0.1246 - val_accuracy: 0.9388\n",
      "Epoch 92/100\n",
      "200/200 [==============================] - 0s 872us/step - loss: 0.1253 - accuracy: 0.9380 - val_loss: 0.1242 - val_accuracy: 0.9362\n",
      "Epoch 93/100\n",
      "200/200 [==============================] - 0s 1ms/step - loss: 0.1219 - accuracy: 0.9367 - val_loss: 0.1227 - val_accuracy: 0.9375\n",
      "Epoch 94/100\n",
      "200/200 [==============================] - 0s 868us/step - loss: 0.1212 - accuracy: 0.9395 - val_loss: 0.1245 - val_accuracy: 0.9350\n",
      "Epoch 95/100\n",
      "200/200 [==============================] - 0s 886us/step - loss: 0.1161 - accuracy: 0.9394 - val_loss: 0.1264 - val_accuracy: 0.9350\n",
      "Epoch 96/100\n",
      "200/200 [==============================] - 0s 847us/step - loss: 0.1229 - accuracy: 0.9392 - val_loss: 0.1291 - val_accuracy: 0.9344\n",
      "Epoch 97/100\n",
      "200/200 [==============================] - 0s 934us/step - loss: 0.1214 - accuracy: 0.9411 - val_loss: 0.1276 - val_accuracy: 0.9350\n",
      "Epoch 98/100\n",
      "200/200 [==============================] - 0s 1ms/step - loss: 0.1160 - accuracy: 0.9386 - val_loss: 0.1323 - val_accuracy: 0.9362\n",
      "Epoch 99/100\n",
      "200/200 [==============================] - 0s 889us/step - loss: 0.1189 - accuracy: 0.9408 - val_loss: 0.1241 - val_accuracy: 0.9356\n",
      "Epoch 100/100\n",
      "200/200 [==============================] - 0s 871us/step - loss: 0.1244 - accuracy: 0.9367 - val_loss: 0.1250 - val_accuracy: 0.9394\n"
     ]
    }
   ],
   "source": [
    "hist2 = model2.fit(xtrain, ytrain_cat, validation_split=0.2, epochs=100)"
   ]
  },
  {
   "cell_type": "code",
   "execution_count": 28,
   "metadata": {},
   "outputs": [
    {
     "data": {
      "image/png": "[encoded data removed]",
      "text/plain": [
       "<Figure size 1600x800 with 1 Axes>"
      ]
     },
     "metadata": {},
     "output_type": "display_data"
    }
   ],
   "source": [
    "plot_learning_curve(hist2)"
   ]
  },
  {
   "attachments": {},
   "cell_type": "markdown",
   "metadata": {},
   "source": [
    "### Evaluate the model"
   ]
  },
  {
   "cell_type": "code",
   "execution_count": 29,
   "metadata": {},
   "outputs": [
    {
     "name": "stdout",
     "output_type": "stream",
     "text": [
      "250/250 [==============================] - 0s 623us/step - loss: 0.0697 - accuracy: 0.9737\n"
     ]
    }
   ],
   "source": [
    "tr_err2, tr_acc2 = model2.evaluate(xtrain, ytrain_cat)"
   ]
  },
  {
   "cell_type": "code",
   "execution_count": 30,
   "metadata": {},
   "outputs": [
    {
     "name": "stdout",
     "output_type": "stream",
     "text": [
      "63/63 [==============================] - 0s 697us/step - loss: 0.1050 - accuracy: 0.9475\n"
     ]
    }
   ],
   "source": [
    "ts_err2, ts_acc2 = model2.evaluate(xtest, ytest_cat)"
   ]
  },
  {
   "cell_type": "code",
   "execution_count": 33,
   "metadata": {},
   "outputs": [
    {
     "name": "stdout",
     "output_type": "stream",
     "text": [
      "250/250 [==============================] - 0s 432us/step\n",
      "63/63 [==============================] - 0s 467us/step\n"
     ]
    }
   ],
   "source": [
    "yprob_tr = model2.predict(xtrain)\n",
    "yprob_ts = model2.predict(xtest)"
   ]
  },
  {
   "cell_type": "code",
   "execution_count": 34,
   "metadata": {},
   "outputs": [],
   "source": [
    "import numpy as np\n",
    "ypred_tr = np.argmax(yprob_tr, axis=-1)\n",
    "ypred_ts = np.argmax(yprob_ts, axis=-1)"
   ]
  },
  {
   "attachments": {},
   "cell_type": "markdown",
   "metadata": {},
   "source": [
    "### Confusion matrix"
   ]
  },
  {
   "cell_type": "code",
   "execution_count": 35,
   "metadata": {},
   "outputs": [
    {
     "data": {
      "text/plain": [
       "<sklearn.metrics._plot.confusion_matrix.ConfusionMatrixDisplay at 0x17c792f70>"
      ]
     },
     "execution_count": 35,
     "metadata": {},
     "output_type": "execute_result"
    },
    {
     "data": {
      "image/png": "[encoded data removed]",
      "text/plain": [
       "<Figure size 640x480 with 2 Axes>"
      ]
     },
     "metadata": {},
     "output_type": "display_data"
    }
   ],
   "source": [
    "from sklearn.metrics import confusion_matrix, ConfusionMatrixDisplay\n",
    "cf = confusion_matrix(ytest, ypred_ts)\n",
    "cfd = ConfusionMatrixDisplay(cf, display_labels=[0,1,2])\n",
    "cfd.plot()"
   ]
  },
  {
   "attachments": {},
   "cell_type": "markdown",
   "metadata": {},
   "source": [
    "### classification report"
   ]
  },
  {
   "cell_type": "code",
   "execution_count": 36,
   "metadata": {},
   "outputs": [
    {
     "name": "stdout",
     "output_type": "stream",
     "text": [
      "              precision    recall  f1-score   support\n",
      "\n",
      "           0       0.95      0.93      0.94       651\n",
      "           1       0.94      0.96      0.95       665\n",
      "           2       0.96      0.95      0.96       684\n",
      "\n",
      "    accuracy                           0.95      2000\n",
      "   macro avg       0.95      0.95      0.95      2000\n",
      "weighted avg       0.95      0.95      0.95      2000\n",
      "\n"
     ]
    }
   ],
   "source": [
    "from sklearn.metrics import classification_report\n",
    "print(classification_report(ytest, ypred_ts))"
   ]
  },
  {
   "attachments": {},
   "cell_type": "markdown",
   "metadata": {},
   "source": [
    "### Comparing model with and without dropout"
   ]
  },
  {
   "cell_type": "code",
   "execution_count": 31,
   "metadata": {},
   "outputs": [],
   "source": [
    "dct = {'Model':['Simple ANN', 'Dropout ANN'],\n",
    "    'train_loss':[tr_err1, tr_err2],\n",
    "   'test_loss':[ts_err1, ts_err2],\n",
    "        'train_accuracy':[tr_acc1, tr_acc2],\n",
    "    'test_accuracy':[ts_acc1, ts_acc2]}"
   ]
  },
  {
   "cell_type": "code",
   "execution_count": 32,
   "metadata": {},
   "outputs": [
    {
     "data": {
      "text/html": [
       "<div>\n",
       "<style scoped>\n",
       "    .dataframe tbody tr th:only-of-type {\n",
       "        vertical-align: middle;\n",
       "    }\n",
       "\n",
       "    .dataframe tbody tr th {\n",
       "        vertical-align: top;\n",
       "    }\n",
       "\n",
       "    .dataframe thead th {\n",
       "        text-align: right;\n",
       "    }\n",
       "</style>\n",
       "<table border=\"1\" class=\"dataframe\">\n",
       "  <thead>\n",
       "    <tr style=\"text-align: right;\">\n",
       "      <th></th>\n",
       "      <th>Model</th>\n",
       "      <th>train_loss</th>\n",
       "      <th>test_loss</th>\n",
       "      <th>train_accuracy</th>\n",
       "      <th>test_accuracy</th>\n",
       "    </tr>\n",
       "  </thead>\n",
       "  <tbody>\n",
       "    <tr>\n",
       "      <th>0</th>\n",
       "      <td>Simple ANN</td>\n",
       "      <td>0.140571</td>\n",
       "      <td>0.659941</td>\n",
       "      <td>0.980375</td>\n",
       "      <td>0.9050</td>\n",
       "    </tr>\n",
       "    <tr>\n",
       "      <th>1</th>\n",
       "      <td>Dropout ANN</td>\n",
       "      <td>0.069717</td>\n",
       "      <td>0.105037</td>\n",
       "      <td>0.973750</td>\n",
       "      <td>0.9475</td>\n",
       "    </tr>\n",
       "  </tbody>\n",
       "</table>\n",
       "</div>"
      ],
      "text/plain": [
       "         Model  train_loss  test_loss  train_accuracy  test_accuracy\n",
       "0   Simple ANN    0.140571   0.659941        0.980375         0.9050\n",
       "1  Dropout ANN    0.069717   0.105037        0.973750         0.9475"
      ]
     },
     "execution_count": 32,
     "metadata": {},
     "output_type": "execute_result"
    }
   ],
   "source": [
    "import pandas as pd\n",
    "eval_df = pd.DataFrame(dct)\n",
    "eval_df"
   ]
  },
  {
   "attachments": {},
   "cell_type": "markdown",
   "metadata": {},
   "source": [
    "### Above results clearly show that Dropout Layer helps in regularization"
   ]
  },
  {
   "attachments": {},
   "cell_type": "markdown",
   "metadata": {},
   "source": [
    "### Q9. Discuss the considerations and tradeoffs when choosing the appropriate regularization technique for a given deep learning task.\n",
    "\n",
    "Choosing the right regularization technique for a deep learning task requires careful consideration of various factors and trade-offs. Different regularization techniques have different effects on the model's performance, training speed, and generalization ability. Here are some key considerations and trade-offs to keep in mind when choosing an appropriate regularization technique:\n",
    "\n",
    "1. Dataset Size:\n",
    "\n",
    "- Small Dataset: In cases of small datasets, regularization techniques that introduce additional constraints to the model, such as L1 or L2 regularization, can help prevent overfitting by reducing the model's complexity.\n",
    "- Large Dataset: With larger datasets, more complex models might be suitable, and techniques like dropout and data augmentation can provide effective regularization.\n",
    "\n",
    "2. Model Complexity:\n",
    "\n",
    "- Complex Models: Highly complex models with a large number of parameters are more prone to overfitting. Regularization techniques like dropout, batch normalization, and early stopping can help control their complexity.\n",
    "- Simpler Models: Simpler models might not need aggressive regularization and could benefit from techniques that don't overly constrain the model, such as early stopping or using larger learning rates.\n",
    "\n",
    "3. Type of Overfitting:\n",
    "\n",
    "- Bias-Variance Trade-off: If the model is experiencing high bias (underfitting), adding regularization might not be necessary. If it's experiencing high variance (overfitting), regularization techniques can help reduce this variance.\n",
    "\n",
    "4. Model Architecture:\n",
    "\n",
    "- Convolutional Neural Networks (CNNs): Techniques like dropout and batch normalization are commonly used in CNNs to regularize activations and improve convergence.\n",
    "- Recurrent Neural Networks (RNNs): Gradient clipping, recurrent dropout, and weight tying are techniques often used to regulate RNNs.\n",
    "\n",
    "5. Training Speed and Convergence:\n",
    "\n",
    "- Faster Convergence: Techniques like batch normalization can accelerate convergence and stabilize training, allowing for faster model development.\n",
    "- Slower Convergence: Techniques like dropout and weight decay might slow down training due to their stochastic nature or the additional constraints they impose.\n",
    "\n",
    "6. Interpretability:\n",
    "\n",
    "- Interpretability Required: Regularization techniques like L1 regularization (Lasso) can lead to sparse models, which might be easier to interpret in some cases.\n",
    "- Not High Priority: If interpretability is not a concern, other regularization techniques can be considered.\n",
    "\n",
    "7. Domain Knowledge:\n",
    "\n",
    "- Prior Knowledge: Depending on domain knowledge, specific regularization techniques might be more suitable. For example, if you know certain features are less relevant, L1 regularization could be applied to encourage feature selection.\n",
    "\n",
    "8. Hyperparameter Tuning:\n",
    "\n",
    "- Sensitivity to Hyperparameters: Some regularization techniques have hyperparameters that need to be tuned, such as the strength of regularization in L1 or L2 regularization. This requires additional tuning efforts.\n",
    "\n",
    "9. Computational Resources:\n",
    "\n",
    "- Resource Constraints: Techniques like dropout and data augmentation might be more resource-intensive, as they involve modifications during training.\n",
    "\n",
    "10. Ensemble Methods:\n",
    "\n",
    "- Ensemble Regularization: Techniques like dropout can be seen as a form of ensemble regularization, where the model is trained with multiple variations of itself.\n",
    "\n",
    "11. Combining Techniques:\n",
    "\n",
    "- Combining Regularization Techniques: It's possible to use multiple regularization techniques simultaneously to achieve a stronger regularization effect, but this might require careful tuning and understanding of their interactions.\n",
    "\n",
    "In conclusion, the choice of regularization technique depends on the specifics of the problem, dataset, model architecture, and resources available. Experimentation and thorough understanding of the trade-offs involved are crucial for selecting the most appropriate regularization strategy to achieve better generalization and prevent overfitting."
   ]
  },
  {
   "attachments": {},
   "cell_type": "markdown",
   "metadata": {},
   "source": []
  }
 ],
 "metadata": {
  "kernelspec": {
   "display_name": "Python 3",
   "language": "python",
   "name": "python3"
  },
  "language_info": {
   "codemirror_mode": {
    "name": "ipython",
    "version": 3
   },
   "file_extension": ".py",
   "mimetype": "text/x-python",
   "name": "python",
   "nbconvert_exporter": "python",
   "pygments_lexer": "ipython3",
   "version": "3.9.6"
  },
  "orig_nbformat": 4
 },
 "nbformat": 4,
 "nbformat_minor": 2
}
