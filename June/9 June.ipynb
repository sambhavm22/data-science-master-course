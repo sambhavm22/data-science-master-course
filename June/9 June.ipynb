{
 "cells": [
  {
   "attachments": {},
   "cell_type": "markdown",
   "metadata": {},
   "source": [
    "## \"12_July_Weight_Initialization_Assignment.ipynb\"\n",
    "### Weight_Initialization"
   ]
  },
  {
   "attachments": {},
   "cell_type": "markdown",
   "metadata": {},
   "source": [
    "**Part 1: Understanding Weight Initialization** \n",
    "\n",
    "1. Explain the importance of weight initialization in artificial neural networks. Why is it necessary to initialize the weights carefully. \n",
    "2. Describe the challenges associated with improper weight initialization. How do these issues affect model training and convergence.\n",
    "3. Discuss the concept of variance and how it relates to weight initialization. Why is it crucial to consider the variance of weights during initialization.\n",
    "\n",
    "**Part 2: Weight Initialization Technique**\n",
    "\n",
    "4. Explain the concept of zero initialization. Discuss its potential limitations and when it can be appropriate to use.\n",
    "5. Describe the process of random initialization. How can random initialization be adjusted to mitigate potential issues like saturation or vanishing/exploding gradients. \n",
    "6. Discuss the concept of Xavier/Glorot initialization. Explain how it addresses the challenges of improper weight initialization and the underlying theory behind it.\n",
    "7. Explain the concept of He initialization. How does it differ from Xavier initialization, and when is it preferred.\n",
    "\n",
    "**Part 3: Applying Weight Initialization**\n",
    "\n",
    "8. Implement different weight initialization techniques (zero initialization, random initialization, Xavier initialization, and He initialization) in a neural network using a framework of your choice. Train the model on a suitable dataset and compare the performance of the initialized models. \n",
    "9. Discuss the considerations and tradeoffs when choosing the appropriate weight initialization technique for a given neural network architecture and task."
   ]
  },
  {
   "attachments": {},
   "cell_type": "markdown",
   "metadata": {},
   "source": [
    "### Part 1\n",
    "\n",
    "### Q1. Explain the importance of weight initialization in artificial neural networks. Why is it necessary to initialize the weights carefully. \n",
    "\n",
    "Weight initialization is a crucial aspect of training artificial neural networks (ANNs), and it plays a significant role in determining whether a neural network can converge to a good solution during training. Careful weight initialization is necessary for several important reasons:\n",
    "\n",
    "1. Avoiding Vanishing or Exploding Gradients:\n",
    "\n",
    "- During the training of deep neural networks, gradients are computed with respect to the model's weights. If the weights are initialized too small (close to zero), gradients can become vanishingly small as they propagate backward through the network. This leads to slow convergence or getting stuck in a local minimum.\n",
    "- Conversely, if weights are initialized too large, gradients can explode, causing the model to fail to converge as the weights get updated with excessively large values.\n",
    "\n",
    "2. Faster Convergence:\n",
    "\n",
    "- Proper weight initialization can significantly speed up the convergence of neural networks. Initializing weights in a way that brings activations closer to the optimal range (around zero) helps gradients propagate efficiently through the network, leading to faster learning.\n",
    "\n",
    "3. Improving Generalization:\n",
    "\n",
    "- Careful weight initialization can help improve the generalization of the model, which means the ability of the model to perform well on unseen data. When weights are initialized with appropriate values, the model is less likely to overfit to the training data.\n",
    "\n",
    "4. Enhancing Network Stability:\n",
    "\n",
    "- Proper initialization contributes to the overall stability of the training process. A stable training process is less likely to diverge or encounter numerical issues.\n",
    "\n",
    "5. Breaking Symmetry:\n",
    "\n",
    "- In symmetric architectures (e.g., fully connected layers with the same number of neurons), initializing all weights to the same value results in symmetric neurons that learn the same features. Proper weight initialization helps break this symmetry, allowing neurons to learn diverse features.\n"
   ]
  },
  {
   "attachments": {},
   "cell_type": "markdown",
   "metadata": {},
   "source": [
    "### Q2. Describe the challenges associated with improper weight initialization. How do these issues affect model training and convergence.\n",
    "\n",
    "Improper weight initialization in artificial neural networks (ANNs) can lead to several challenges that significantly affect model training and convergence. Here are some of the key challenges associated with improper weight initialization:\n",
    "\n",
    "1. Vanishing Gradients:\n",
    "\n",
    "- Issue: When weights are initialized too small (e.g., close to zero), the gradients during backpropagation can become vanishingly small as they propagate through the layers of the network. This means that the weights in the early layers of the network may barely get updated during training.\n",
    "- Effect: Slow convergence, extended training times, and the potential of getting stuck in local minima. The model may fail to learn complex patterns and features.\n",
    "\n",
    "2. Exploding Gradients:\n",
    "\n",
    "- Issue: Conversely, if weights are initialized too large, gradients can explode during backpropagation. This means that the gradients can become extremely large and cause weight updates to be too drastic.\n",
    "- Effect: Divergence during training, numerical instability, and the inability of the model to learn meaningful representations. The training process may fail to converge.\n",
    "\n",
    "3. Symmetry Problems:\n",
    "\n",
    "- Issue: Initializing all weights to the same value results in symmetric neurons that learn the same features. This symmetry can persist during training, leading to suboptimal solutions.\n",
    "- Effect: Reduced capacity of the model to capture diverse features, limiting its expressiveness and generalization ability.\n",
    "\n",
    "4. Longer Training Times:\n",
    "\n",
    "- Issue: Improper weight initialization may require longer training times to reach convergence, as the model needs more iterations to adjust weights that started far from optimal values.\n",
    "- Effect: Increased computational resources and training time, making it less practical to train deep networks.\n",
    "\n",
    "5. Over fitting and Poor Generalization:\n",
    "\n",
    "- Issue: When weights are initialized poorly, the model is more prone to overfitting, where it learns the noise in the training data rather than the underlying patterns.\n",
    "- Effect: Reduced ability of the model to generalize to unseen data, leading to poor performance on validation and test datasets.\n",
    "\n",
    "6. Numerical Stability Issues:\n",
    "\n",
    "- Issue: Exploding or vanishing gradients can lead to numerical stability issues during training. This can result in numerical overflow or underflow problems.\n",
    "- Effect: Training instability, crashes, or unreliable model behavior.\n",
    "\n",
    "To mitigate these challenges and ensure successful training and convergence, it is essential to carefully select an appropriate weight initialization strategy based on the chosen activation functions and network architecture. Techniques such as Xavier/Glorot initialization, He initialization, and LeCun initialization are designed to address these issues by setting weights to values that facilitate efficient gradient flow and faster convergence while preventing vanishing or exploding gradients. Proper weight initialization is a fundamental step in building and training effective neural networks.\n"
   ]
  },
  {
   "attachments": {},
   "cell_type": "markdown",
   "metadata": {},
   "source": [
    "### Q3. Discuss the concept of variance and how it relates to weight initialization. Why is it crucial to consider the variance of weights during initialization.\n",
    "\n",
    "Variance is a statistical measure that quantifies the spread or dispersion of a set of data points. In the context of weight initialization in neural networks, variance refers to the spread or range of values that weights can take on when initialized. Understanding the concept of variance and its relationship to weight initialization is crucial for effective training of neural networks.\n",
    "\n",
    "Here's how variance relates to weight initialization and why it's crucial to consider:\n",
    "\n",
    "1. Variance and Activation Functions:\n",
    "\n",
    "- The choice of activation function in a neural network determines the range of values that neuron activations can take. For example, activation functions like ReLU have an unbounded positive range, while sigmoid functions have a limited range between 0 and 1. Variance in weight initialization affects the range of activations.\n",
    "\n",
    "2. Variance and Signal Propagation:\n",
    "\n",
    "- During the forward pass of training, inputs are multiplied by weights at each layer. The variance of weights influences the variance of activations in subsequent layers. High variance in weights can lead to activations that are far from the optimal range, making it difficult for the network to learn effectively.\n",
    "\n",
    "3. Effect on Gradients:\n",
    "\n",
    "- During back propagation, gradients are computed for weight updates. The variance in weights directly impacts the variance in gradients. High variance in gradients (exploding gradients) can lead to unstable training, while low variance (vanishing gradients) can result in slow convergence.\n",
    "\n",
    "4. Convergence Speed:\n",
    "\n",
    "- Variance in weight initialization affects the convergence speed of the neural network. Well-initialized weights that lead to activations within an appropriate range can speed up convergence, while improper initialization can slow it down.\n",
    "\n",
    "5. Generalization and Over fitting:\n",
    "\n",
    "- Variance in weights can affect the model's ability to generalize to new data. Proper weight initialization helps ensure that the network doesn't over fit to the training data by keeping activations within a suitable range.\n",
    "\n",
    "6. Stability:\n",
    "\n",
    "- Variance also plays a role in the numerical stability of training. Exploding or vanishing activations due to improper weight initialization can lead to numerical instability during training.\n",
    "Importance of Considering Variance in Weight Initialization:\n",
    "\n",
    "It is crucial to consider the variance of weights during initialization because it directly impacts the dynamics of neural network training. By choosing an appropriate variance for weight initialization, you can:\n",
    "\n",
    "Ensure that activations fall within a reasonable range, preventing vanishing or exploding activations.\n",
    "Facilitate efficient gradient flow by maintaining a balanced scale between layers.\n",
    "\n",
    "Speed up convergence by starting the training process closer to the optimal region of the loss landscape.\n",
    "Improve the generalization ability of the model, reducing the risk of overfitting."
   ]
  },
  {
   "attachments": {},
   "cell_type": "markdown",
   "metadata": {},
   "source": [
    "### Part 2\n",
    "\n",
    "### Q4. Explain the concept of zero initialization. Discuss its potential limitations and when it can be appropriate to use.\n",
    "\n",
    "Zero initialization, as the name suggests, involves setting all the weights of a neural network to zero during weight initialization. In other words, all neurons in the network have the same initial weights, which are typically set to zero. Zero initialization is straightforward but comes with several potential limitations and is generally not the best choice for weight initialization in most cases.\n",
    "\n",
    "Potential Limitations of Zero Initialization:\n",
    "\n",
    "1. Symmetry Problem:\n",
    "\n",
    "- All neurons in a layer have the same weight values initially. This leads to a symmetry problem where neurons in the same layer will always learn the same features during training. As a result, the network's capacity to capture diverse features is severely limited.\n",
    "\n",
    "2. Vanishing Gradient:\n",
    "\n",
    "- During back propagation, when weights are initialized to zero, gradients for each neuron in a layer will be identical. This means that all neurons in the layer will receive the same gradient updates, and they will remain identical throughout training. This phenomenon can lead to vanishing gradients, causing slow convergence or convergence to poor local minima.\n",
    "\n",
    "3. Weight Updating:\n",
    "\n",
    "- In practice, if all weights are initialized to zero, all neurons in a layer will have the same activations and receive the same gradients. Consequently, weight updates during training will be identical for all neurons in a layer, leading to a lack of diversity in weight values.\n",
    "\n",
    "**When Zero Initialization Can Be Appropriate:**\n",
    "\n",
    "Zero initialization is rarely used as a standalone technique for weight initialization in deep neural networks due to its limitations. However, there are specific cases where it can be appropriate or used as part of a more complex initialization strategy:\n",
    "\n",
    "1. Output Layer with Specific Constraints:\n",
    "\n",
    "In certain scenarios, the output layer of a neural network may have specific constraints where all output neurons should have identical or zero weights. For example, in binary classification with a single output neuron, initializing the weight to zero may be appropriate if you expect the network to output near-zero values for class probabilities.\n",
    "\n",
    "2. As a Component of Custom Initialization:\n",
    "\n",
    "Zero initialization can be used as a component of a custom weight initialization strategy. For instance, you might initialize some layers with zero weights and others with more suitable strategies like Xavier/Glorot or He initialization. This can be useful for experimentation and understanding the impact of different initializations.\n",
    "\n",
    "In general, for hidden layers in deep neural networks, it is recommended to use more sophisticated weight initialization techniques like Xavier/Glorot initialization or He initialization, which are designed to address issues like vanishing gradients and promote efficient training. These methods help break the symmetry between neurons, encourage diverse feature learning, and speed up convergence during training. Zero initialization should be used sparingly and with a clear understanding of its limitations and implications for training dynamics."
   ]
  },
  {
   "attachments": {},
   "cell_type": "markdown",
   "metadata": {},
   "source": [
    "### Q5. Describe the process of random initialization. How can random initialization be adjusted to mitigate potential issues like saturation or vanishing/exploding gradients. \n",
    "\n",
    "Random initialization is a commonly used weight initialization technique in neural networks, where the model's weights are initialized with random values drawn from a specified probability distribution. Proper random initialization helps break symmetry, prevent saturation, and mitigate issues related to vanishing and exploding gradients. Here's an overview of the process and how it can be adjusted to address potential problems:\n",
    "\n",
    "**Process of Random Initialization:**\n",
    "\n",
    "1. Choose a Probability Distribution: The first step in random initialization is to select a probability distribution from which the initial weights will be sampled. Common distributions used for random initialization include:\n",
    "\n",
    "- Uniform Distribution: Values are drawn from a uniform distribution over a specified range (e.g., [-0.5, 0.5]).\n",
    "Normal (Gaussian) Distribution: Values are drawn from a normal distribution with a specified mean and standard deviation (e.g., mean=0, std=0.01).\n",
    "\n",
    "2. Initialize Weights: Weights for each neuron in the network are randomly sampled from the chosen distribution independently.\n",
    "\n",
    "- For a fully connected layer, each weight parameter connecting input features to a neuron is initialized randomly.\n",
    "- For convolutional layers, weights for each filter are initialized independently.\n",
    "- Set Biases (Optional): Biases are often initialized separately, typically with small constant values (e.g., 0).\n",
    "\n",
    "**Mitigating Potential Issues:**\n",
    "\n",
    "Random initialization can sometimes lead to problems like saturation (vanishing gradients) or exploding gradients. To mitigate these issues, adjustments to the random initialization process can be made:\n",
    "\n",
    "1. Xavier/Glorot Initialization:\n",
    "\n",
    "Xavier/Glorot initialization adjusts the scale of random initialization based on the number of input and output units for a layer. It is designed to maintain the variance of activations close to one and prevent vanishing/exploding gradients.\n",
    "For a uniform distribution, weights are initialized in the range [-sqrt(6 / (fan_in + fan_out)), sqrt(6 / (fan_in + fan_out))].\n",
    "For a normal distribution, weights are sampled from a distribution with mean 0 and standard deviation sqrt(2 / (fan_in + fan_out)).\n",
    "\n",
    "2. He Initialization:\n",
    "\n",
    "He initialization is specifically tailored for ReLU activation functions. It addresses the issue of vanishing gradients.\n",
    "For a uniform distribution, weights are initialized in the range [-sqrt(6 / fan_in), sqrt(6 / fan_in)].\n",
    "For a normal distribution, weights are sampled from a distribution with mean 0 and standard deviation sqrt(2 / fan_in).\n",
    "\n",
    "3. LeCun Initialization:\n",
    "\n",
    "LeCun initialization is designed for use with the Leaky ReLU activation function.\n",
    "It adapts the initialization to account for the slope of the Leaky ReLU activation.\n",
    "For a normal distribution, weights are sampled from a distribution with mean 0 and standard deviation sqrt(1 / fan_in).\n",
    "\n",
    "4. Scaled Initialization:\n",
    "\n",
    "Adjust the scale of the random initialization based on the specific network architecture and activation functions. Experiment with different scales to find the best setting for your problem."
   ]
  },
  {
   "attachments": {},
   "cell_type": "markdown",
   "metadata": {},
   "source": [
    "### Q6. Discuss the concept of Xavier/Glorot initialization. Explain how it addresses the challenges of improper weight initialization and the underlying theory behind it.\n",
    "\n",
    "Xavier/Glorot initialization, named after its creator Xavier Glorot, is a widely used weight initialization technique in artificial neural networks. It is designed to address challenges associated with improper weight initialization, particularly the problems of vanishing and exploding gradients. Xavier/Glorot initialization is most commonly used with activation functions like sigmoid and hyperbolic tangent (tanh) that squash their inputs to a small range.\n",
    "\n",
    "**Concept of Xavier/Glorot Initialization:**\n",
    "\n",
    "The key idea behind Xavier/Glorot initialization is to set the initial weights of neurons in such a way that the variance of the activations remains roughly the same across layers. This helps prevent gradients from vanishing or exploding during training and promotes efficient learning.\n",
    "\n",
    "Mathematical Formulation:\n",
    "\n",
    "Xavier/Glorot initialization computes the scale of weights using the following formula:\n",
    "\n",
    "For a uniform distribution:\n",
    "\n",
    "Initialize weights in the range [-sqrt(6 / (fan_in + fan_out)), sqrt(6 / (fan_in + fan_out))], where fan_in is the number of input units and fan_out is the number of output units.\n",
    "For a normal (Gaussian) distribution:\n",
    "\n",
    "Sample weights from a distribution with mean 0 and standard deviation sqrt(2 / (fan_in + fan_out)).\n",
    "\n",
    "**Underlying Theory:**\n",
    "\n",
    "The choice of the initialization scale in Xavier/Glorot initialization is based on the assumption that:\n",
    "\n",
    "1. Activation Output Variance: The activations of neurons should have approximately equal variance across layers for efficient training. When activations have consistent variance, gradients flow more smoothly through the network.\n",
    "\n",
    "2. Weight Variance: The variance of weights plays a significant role in determining the variance of neuron activations. If weights are too small, activations will have low variance and may lead to vanishing gradients. If weights are too large, activations may have high variance, leading to exploding gradients.\n",
    "\n",
    "Xavier/Glorot initialization achieves these objectives by setting the initial weights to values that ensure the product of fan_in and fan_out in the weight initialization formula normalizes the variance of activations. The sqrt(6 / (fan_in + fan_out)) scaling factor helps to achieve this balance.\n",
    "\n",
    "**Advantages of Xavier/Glorot Initialization:**\n",
    "\n",
    "1. Prevents Vanishing Gradients: By ensuring that activations have a suitable variance, Xavier/Glorot initialization helps prevent the vanishing gradient problem, which can occur with improper weight initialization.\n",
    "\n",
    "2. Prevents Exploding Gradients: The initialization scale also helps prevent exploding gradients by ensuring that weights are not too large.\n",
    "\n",
    "3. Balanced Training Dynamics: It promotes more balanced training dynamics across layers, leading to faster convergence and more stable training.\n",
    "\n",
    "4. Generalization: Models initialized with Xavier/Glorot tend to generalize better, as they are less likely to overfit to the training data."
   ]
  },
  {
   "attachments": {},
   "cell_type": "markdown",
   "metadata": {},
   "source": [
    "### Q7. Explain the concept of He initialization. How does it differ from Xavier initialization, and when is it preferred.\n",
    "\n",
    "He initialization, named after its creator Kaiming He, is a weight initialization technique for deep neural networks. It is designed to address the challenges of improper weight initialization, particularly the problem of vanishing gradients, and is particularly well-suited for activation functions like the Rectified Linear Unit (ReLU). He initialization differs from Xavier initialization in terms of the scaling factor used and is preferred when using ReLU-based activation functions.\n",
    "\n",
    "Concept of He Initialization:\n",
    "\n",
    "The main idea behind He initialization is to set the initial weights of neurons in a way that accounts for the specific properties of the ReLU activation function.\n",
    "\n",
    "Differences from Xavier Initialization:\n",
    "\n",
    "The key difference between He initialization and Xavier initialization lies in the scaling factor applied to weights:\n",
    "\n",
    "- Xavier initialization uses a scaling factor based on both fan_in and fan_out (the number of input and output units), which balances the variance of activations in a layer.\n",
    "- He initialization uses a scaling factor based only on fan_in (the number of input units). This factor is larger than the corresponding factor in Xavier initialization.\n",
    "When to Use He Initialization:\n",
    "\n",
    "He initialization is preferred when using ReLU-based activation functions, such as ReLU, Leaky ReLU, and variants of ReLU. \n",
    "\n",
    "The reasons for using He initialization with ReLU are:\n",
    "\n",
    "1. Preventing Vanishing Gradients: He initialization increases the initial weights' scale, which helps prevent the vanishing gradient problem associated with ReLU. This ensures that gradients do not become too small during backpropagation.\n",
    "\n",
    "2. Promoting Efficient Learning: By providing a suitable initialization for ReLU, He initialization promotes faster convergence and efficient learning, especially in deep networks.\n",
    "\n",
    "3. Suitability for Modern Architectures: With the prevalence of ReLU and its variants in modern deep learning architectures, He initialization has become the preferred choice for weight initialization in many cases."
   ]
  },
  {
   "attachments": {},
   "cell_type": "markdown",
   "metadata": {},
   "source": [
    "### Q9. Discuss the considerations and tradeoffs when choosing the appropriate weight initialization technique for a given neural network architecture and task."
   ]
  },
  {
   "attachments": {},
   "cell_type": "markdown",
   "metadata": {},
   "source": [
    "Choosing the appropriate weight initialization technique for a neural network is a critical decision that can impact the training process and model performance. Here are some considerations and tradeoffs when selecting a weight initialization technique for a given neural network architecture and task:\n",
    "\n",
    "1. Choice of Activation Functions:\n",
    "\n",
    "ReLU and Variants (e.g., Leaky ReLU):\n",
    "\n",
    "- Use He initialization: These activation functions benefit from larger initial weights to prevent vanishing gradients.\n",
    "\n",
    "Sigmoid or Hyperbolic Tangent (tanh):\n",
    "\n",
    "- Consider Xavier/Glorot initialization: These activation functions squash inputs into a limited range, so Xavier initialization is suitable.\n",
    "\n",
    "2. Network Depth:\n",
    "\n",
    "Shallower Networks:\n",
    "\n",
    "- Simpler initialization methods may suffice, as vanishing/exploding gradients are less likely to occur.\n",
    "\n",
    "Deep Networks:\n",
    "\n",
    "- Consider more sophisticated initialization techniques like He or Xavier/Glorot initialization to ensure efficient gradient flow and convergence.\n",
    "\n",
    "3. Task Type:\n",
    "\n",
    "Classification:\n",
    "\n",
    "- Different tasks (binary, multi-class) may have different requirements for weight initialization, but the choice of activation functions typically remains consistent.\n",
    "\n",
    "Regression:\n",
    "\n",
    "- Similar considerations as classification apply, with the choice of activation functions influencing the initialization method.\n",
    "\n",
    "4. Architecture Design:\n",
    "\n",
    "Convolutional Neural Networks (CNNs):\n",
    "\n",
    "- CNNs often benefit from He initialization for convolutional layers and Xavier/Glorot initialization for fully connected layers.\n",
    "\n",
    "Recurrent Neural Networks (RNNs):\n",
    "\n",
    "- LSTM and GRU units may benefit from He initialization, as they often use ReLU-like activation functions. However, experimentation is important.\n",
    "\n",
    "5. Learning Rate and Optimization Algorithm:\n",
    "\n",
    "Learning Rate:\n",
    "\n",
    "- The choice of weight initialization may interact with the learning rate. Smaller initial weights may require smaller learning rates to avoid divergence.\n",
    "\n",
    "Optimization Algorithm:\n",
    "\n",
    "- Different optimization algorithms (e.g., Adam, SGD, RMSprop) can have varying sensitivities to weight initialization. Experiment with different combinations.\n",
    "\n",
    "6. Problem-specific Considerations:\n",
    "\n",
    "Data Distribution:\n",
    "\n",
    "- The distribution of your input data can influence weight initialization. For example, data with a broad range of feature values may benefit from larger initial weights.\n",
    "\n",
    "Data Scaling:\n",
    "\n",
    "- Normalize or scale your input data to a similar range before training. This can reduce sensitivity to weight initialization.\n",
    "\n",
    "7. Experimentation:\n",
    "\n",
    "- Ultimately, the best weight initialization for a specific task and architecture may require experimentation. Training multiple models with different initialization methods can help identify the most suitable one.\n",
    "\n",
    "**Tradeoffs:**\n",
    "\n",
    "1. Complexity vs. Performance:\n",
    "\n",
    "- More advanced initialization methods like He and Xavier/Glorot are computationally costlier to compute compared to simpler methods like zero or random initialization. Consider the tradeoff between computation time and potential training improvements.\n",
    "\n",
    "2. Over fitting vs. Generalization:\n",
    "\n",
    "- Sophisticated initialization methods may lead to faster convergence but may also increase the risk of overfitting, especially on smaller datasets. Regularization techniques can help mitigate this.\n",
    "\n",
    "3. Model Architecture vs. Initialization:\n",
    "\n",
    "- The choice of weight initialization should be considered as part of the larger architectural design process. The right initialization can complement the architecture's properties.\n",
    "\n",
    "In summary, the choice of weight initialization depends on a combination of factors, including the activation functions, network depth, task type, and architectural design. Experimentation and validation on your specific problem are essential to determine the most suitable weight initialization technique. Additionally, hyperparameter tuning, learning rate scheduling, and regularization methods should be considered alongside weight initialization to achieve the best model performance.\n",
    "\n",
    "\n",
    "\n",
    "\n"
   ]
  },
  {
   "attachments": {},
   "cell_type": "markdown",
   "metadata": {},
   "source": [
    "### Part 3\n",
    "\n",
    "### Q8. Implement different weight initialization techniques (zero initialization, random initialization, Xavier initialization, and He initialization) in a neural network using a framework of your choice. Train the model on a suitable dataset and compare the performance of the initialized models. "
   ]
  },
  {
   "cell_type": "code",
   "execution_count": 9,
   "metadata": {},
   "outputs": [],
   "source": [
    "import tensorflow as tf\n",
    "from tensorflow.keras.datasets import mnist\n",
    "from tensorflow.keras.models import Sequential\n",
    "from tensorflow.keras.layers import Dense, Flatten\n",
    "from tensorflow.keras.optimizers import SGD\n",
    "from tensorflow.keras.initializers import Zeros, RandomNormal, GlorotNormal, HeNormal\n",
    "import matplotlib.pyplot as plt"
   ]
  },
  {
   "cell_type": "code",
   "execution_count": 10,
   "metadata": {},
   "outputs": [],
   "source": [
    "# Load the MNIST dataset\n",
    "(x_train, y_train), (x_test, y_test) = mnist.load_data()\n",
    "\n",
    "# Preprocess the data\n",
    "x_train, x_test = x_train / 255.0, x_test / 255.0"
   ]
  },
  {
   "cell_type": "code",
   "execution_count": 13,
   "metadata": {},
   "outputs": [],
   "source": [
    "# Define weight initialization techniques\n",
    "initializations = {\n",
    "    \"Zero Initialization\": Zeros(),\n",
    "    \"Random Initialization\": RandomNormal(mean=0.0, stddev=0.01),\n",
    "    \"Xavier Initialization\": GlorotNormal(),\n",
    "    \"He Initialization\": HeNormal(),\n",
    "}\n",
    "# Create a dictionary to store model accuracies\n",
    "accuracies = {}"
   ]
  },
  {
   "cell_type": "code",
   "execution_count": 14,
   "metadata": {},
   "outputs": [
    {
     "name": "stderr",
     "output_type": "stream",
     "text": [
      "WARNING:absl:At this time, the v2.11+ optimizer `tf.keras.optimizers.SGD` runs slowly on M1/M2 Macs, please use the legacy Keras optimizer instead, located at `tf.keras.optimizers.legacy.SGD`.\n",
      "WARNING:absl:There is a known slowdown when using v2.11+ Keras optimizers on M1/M2 Macs. Falling back to the legacy Keras optimizer, i.e., `tf.keras.optimizers.legacy.SGD`.\n"
     ]
    },
    {
     "name": "stderr",
     "output_type": "stream",
     "text": [
      "/Users/aakanksha/Library/Python/3.9/lib/python/site-packages/keras/src/initializers/initializers.py:120: UserWarning: The initializer RandomNormal is unseeded and being called multiple times, which will return identical values each time (even if the initializer is unseeded). Please update your code to provide a seed to the initializer, or avoid using the same initializer instance more than once.\n",
      "  warnings.warn(\n",
      "WARNING:absl:At this time, the v2.11+ optimizer `tf.keras.optimizers.SGD` runs slowly on M1/M2 Macs, please use the legacy Keras optimizer instead, located at `tf.keras.optimizers.legacy.SGD`.\n",
      "WARNING:absl:There is a known slowdown when using v2.11+ Keras optimizers on M1/M2 Macs. Falling back to the legacy Keras optimizer, i.e., `tf.keras.optimizers.legacy.SGD`.\n"
     ]
    },
    {
     "name": "stdout",
     "output_type": "stream",
     "text": [
      "Zero Initialization - Test Accuracy: 0.1135\n"
     ]
    },
    {
     "name": "stderr",
     "output_type": "stream",
     "text": [
      "/Users/aakanksha/Library/Python/3.9/lib/python/site-packages/keras/src/initializers/initializers.py:120: UserWarning: The initializer GlorotNormal is unseeded and being called multiple times, which will return identical values each time (even if the initializer is unseeded). Please update your code to provide a seed to the initializer, or avoid using the same initializer instance more than once.\n",
      "  warnings.warn(\n",
      "WARNING:absl:At this time, the v2.11+ optimizer `tf.keras.optimizers.SGD` runs slowly on M1/M2 Macs, please use the legacy Keras optimizer instead, located at `tf.keras.optimizers.legacy.SGD`.\n",
      "WARNING:absl:There is a known slowdown when using v2.11+ Keras optimizers on M1/M2 Macs. Falling back to the legacy Keras optimizer, i.e., `tf.keras.optimizers.legacy.SGD`.\n"
     ]
    },
    {
     "name": "stdout",
     "output_type": "stream",
     "text": [
      "Random Initialization - Test Accuracy: 0.9562\n"
     ]
    },
    {
     "name": "stderr",
     "output_type": "stream",
     "text": [
      "/Users/aakanksha/Library/Python/3.9/lib/python/site-packages/keras/src/initializers/initializers.py:120: UserWarning: The initializer HeNormal is unseeded and being called multiple times, which will return identical values each time (even if the initializer is unseeded). Please update your code to provide a seed to the initializer, or avoid using the same initializer instance more than once.\n",
      "  warnings.warn(\n",
      "WARNING:absl:At this time, the v2.11+ optimizer `tf.keras.optimizers.SGD` runs slowly on M1/M2 Macs, please use the legacy Keras optimizer instead, located at `tf.keras.optimizers.legacy.SGD`.\n",
      "WARNING:absl:There is a known slowdown when using v2.11+ Keras optimizers on M1/M2 Macs. Falling back to the legacy Keras optimizer, i.e., `tf.keras.optimizers.legacy.SGD`.\n"
     ]
    },
    {
     "name": "stdout",
     "output_type": "stream",
     "text": [
      "Xavier Initialization - Test Accuracy: 0.9629\n",
      "He Initialization - Test Accuracy: 0.9660\n"
     ]
    },
    {
     "data": {
      "image/png": "[encoded data removed]",
      "text/plain": [
       "<Figure size 640x480 with 1 Axes>"
      ]
     },
     "metadata": {},
     "output_type": "display_data"
    }
   ],
   "source": [
    "# Loop through each initialization method\n",
    "for init_name, init_method in initializations.items():\n",
    "    # Build the model\n",
    "    model = Sequential([\n",
    "        Flatten(input_shape=(28, 28)),\n",
    "        Dense(128, activation='relu', kernel_initializer=init_method),\n",
    "        Dense(64, activation='relu', kernel_initializer=init_method),\n",
    "        Dense(10, activation='softmax')\n",
    "    ])\n",
    "\n",
    "    # Compile the model\n",
    "    model.compile(optimizer=SGD(learning_rate=0.01),\n",
    "                loss='sparse_categorical_crossentropy',\n",
    "                metrics=['accuracy'])\n",
    "\n",
    "    # Train the model\n",
    "    history = model.fit(x_train, y_train, epochs=10, validation_data=(x_test, y_test), verbose=0)\n",
    "\n",
    "    # Evaluate the model on test data\n",
    "    test_loss, test_accuracy = model.evaluate(x_test, y_test, verbose=0)\n",
    "\n",
    "    accuracies[init_name] = test_accuracy\n",
    "\n",
    "    print(f\"{init_name} - Test Accuracy: {test_accuracy:.4f}\")\n",
    "\n",
    "# Compare model accuracies\n",
    "plt.bar(accuracies.keys(), accuracies.values())\n",
    "plt.xlabel('Weight Initialization Method')\n",
    "plt.ylabel('Test Accuracy')\n",
    "plt.title('Comparison of Weight Initialization Techniques')\n",
    "plt.ylim(0.9, 1.0)\n",
    "plt.xticks(rotation=45)\n",
    "plt.show()\n"
   ]
  },
  {
   "cell_type": "code",
   "execution_count": 17,
   "metadata": {},
   "outputs": [
    {
     "name": "stderr",
     "output_type": "stream",
     "text": [
      "WARNING:absl:At this time, the v2.11+ optimizer `tf.keras.optimizers.SGD` runs slowly on M1/M2 Macs, please use the legacy Keras optimizer instead, located at `tf.keras.optimizers.legacy.SGD`.\n",
      "WARNING:absl:There is a known slowdown when using v2.11+ Keras optimizers on M1/M2 Macs. Falling back to the legacy Keras optimizer, i.e., `tf.keras.optimizers.legacy.SGD`.\n",
      "/Users/aakanksha/Library/Python/3.9/lib/python/site-packages/keras/src/initializers/initializers.py:120: UserWarning: The initializer RandomNormal is unseeded and being called multiple times, which will return identical values each time (even if the initializer is unseeded). Please update your code to provide a seed to the initializer, or avoid using the same initializer instance more than once.\n",
      "  warnings.warn(\n",
      "WARNING:absl:At this time, the v2.11+ optimizer `tf.keras.optimizers.SGD` runs slowly on M1/M2 Macs, please use the legacy Keras optimizer instead, located at `tf.keras.optimizers.legacy.SGD`.\n",
      "WARNING:absl:There is a known slowdown when using v2.11+ Keras optimizers on M1/M2 Macs. Falling back to the legacy Keras optimizer, i.e., `tf.keras.optimizers.legacy.SGD`.\n"
     ]
    },
    {
     "name": "stdout",
     "output_type": "stream",
     "text": [
      "Zero Initialization - Test Accuracy: 0.1135\n"
     ]
    },
    {
     "name": "stderr",
     "output_type": "stream",
     "text": [
      "/Users/aakanksha/Library/Python/3.9/lib/python/site-packages/keras/src/initializers/initializers.py:120: UserWarning: The initializer GlorotNormal is unseeded and being called multiple times, which will return identical values each time (even if the initializer is unseeded). Please update your code to provide a seed to the initializer, or avoid using the same initializer instance more than once.\n",
      "  warnings.warn(\n",
      "WARNING:absl:At this time, the v2.11+ optimizer `tf.keras.optimizers.SGD` runs slowly on M1/M2 Macs, please use the legacy Keras optimizer instead, located at `tf.keras.optimizers.legacy.SGD`.\n",
      "WARNING:absl:There is a known slowdown when using v2.11+ Keras optimizers on M1/M2 Macs. Falling back to the legacy Keras optimizer, i.e., `tf.keras.optimizers.legacy.SGD`.\n"
     ]
    },
    {
     "name": "stdout",
     "output_type": "stream",
     "text": [
      "Random Initialization - Test Accuracy: 0.9578\n"
     ]
    },
    {
     "name": "stderr",
     "output_type": "stream",
     "text": [
      "/Users/aakanksha/Library/Python/3.9/lib/python/site-packages/keras/src/initializers/initializers.py:120: UserWarning: The initializer HeNormal is unseeded and being called multiple times, which will return identical values each time (even if the initializer is unseeded). Please update your code to provide a seed to the initializer, or avoid using the same initializer instance more than once.\n",
      "  warnings.warn(\n",
      "WARNING:absl:At this time, the v2.11+ optimizer `tf.keras.optimizers.SGD` runs slowly on M1/M2 Macs, please use the legacy Keras optimizer instead, located at `tf.keras.optimizers.legacy.SGD`.\n",
      "WARNING:absl:There is a known slowdown when using v2.11+ Keras optimizers on M1/M2 Macs. Falling back to the legacy Keras optimizer, i.e., `tf.keras.optimizers.legacy.SGD`.\n"
     ]
    },
    {
     "name": "stdout",
     "output_type": "stream",
     "text": [
      "Xavier Initialization - Test Accuracy: 0.9656\n",
      "He Initialization - Test Accuracy: 0.9651\n"
     ]
    },
    {
     "data": {
      "image/png": "[encoded data removed]",
      "text/plain": [
       "<Figure size 640x480 with 1 Axes>"
      ]
     },
     "metadata": {},
     "output_type": "display_data"
    },
    {
     "name": "stdout",
     "output_type": "stream",
     "text": [
      "\n",
      "Results DataFrame:\n",
      "          Initialization  Test Accuracy\n",
      "0    Zero Initialization         0.1135\n",
      "1  Random Initialization         0.9578\n",
      "2  Xavier Initialization         0.9656\n",
      "3      He Initialization         0.9651\n"
     ]
    }
   ],
   "source": [
    "import tensorflow as tf\n",
    "from tensorflow.keras.datasets import mnist\n",
    "from tensorflow.keras.models import Sequential\n",
    "from tensorflow.keras.layers import Dense, Flatten\n",
    "from tensorflow.keras.optimizers import SGD\n",
    "from tensorflow.keras.initializers import Zeros, RandomNormal, GlorotNormal, HeNormal\n",
    "import matplotlib.pyplot as plt\n",
    "import pandas as pd\n",
    "\n",
    "# Load the MNIST dataset\n",
    "(x_train, y_train), (x_test, y_test) = mnist.load_data()\n",
    "\n",
    "# Preprocess the data\n",
    "x_train, x_test = x_train / 255.0, x_test / 255.0\n",
    "\n",
    "# Define weight initialization techniques\n",
    "initializations = {\n",
    "    \"Zero Initialization\": Zeros(),\n",
    "    \"Random Initialization\": RandomNormal(mean=0.0, stddev=0.01),\n",
    "    \"Xavier Initialization\": GlorotNormal(),\n",
    "    \"He Initialization\": HeNormal(),\n",
    "}\n",
    "\n",
    "# Create a dictionary to store model accuracies\n",
    "accuracies = {}\n",
    "\n",
    "# Create a list to store results as dictionaries\n",
    "results_list = []\n",
    "\n",
    "# Loop through each initialization method\n",
    "for init_name, init_method in initializations.items():\n",
    "    # Build the model\n",
    "    model = Sequential([\n",
    "        Flatten(input_shape=(28, 28)),\n",
    "        Dense(128, activation='relu', kernel_initializer=init_method),\n",
    "        Dense(64, activation='relu', kernel_initializer=init_method),\n",
    "        Dense(10, activation='softmax')\n",
    "    ])\n",
    "\n",
    "    # Compile the model\n",
    "    model.compile(optimizer=SGD(learning_rate=0.01),\n",
    "                  loss='sparse_categorical_crossentropy',\n",
    "                  metrics=['accuracy'])\n",
    "\n",
    "    # Train the model\n",
    "    history = model.fit(x_train, y_train, epochs=10, validation_data=(x_test, y_test), verbose=0)\n",
    "\n",
    "    # Evaluate the model on test data\n",
    "    test_loss, test_accuracy = model.evaluate(x_test, y_test, verbose=0)\n",
    "\n",
    "    accuracies[init_name] = test_accuracy\n",
    "\n",
    "    # Append results to the list as a dictionary\n",
    "    results_list.append({'Initialization': init_name, 'Test Accuracy': test_accuracy})\n",
    "\n",
    "    print(f\"{init_name} - Test Accuracy: {test_accuracy:.4f}\")\n",
    "\n",
    "# Compare model accuracies\n",
    "plt.bar(accuracies.keys(), accuracies.values())\n",
    "plt.xlabel('Weight Initialization Method')\n",
    "plt.ylabel('Test Accuracy')\n",
    "plt.title('Comparison of Weight Initialization Techniques')\n",
    "plt.ylim(0.9, 1.0)\n",
    "plt.xticks(rotation=45)\n",
    "plt.show()\n",
    "\n",
    "# Create a DataFrame from the results list\n",
    "results_df = pd.DataFrame(results_list)\n",
    "\n",
    "# Display results DataFrame\n",
    "print(\"\\nResults DataFrame:\")\n",
    "print(results_df)\n"
   ]
  },
  {
   "cell_type": "code",
   "execution_count": null,
   "metadata": {},
   "outputs": [],
   "source": []
  }
 ],
 "metadata": {
  "kernelspec": {
   "display_name": "Python 3",
   "language": "python",
   "name": "python3"
  },
  "language_info": {
   "codemirror_mode": {
    "name": "ipython",
    "version": 3
   },
   "file_extension": ".py",
   "mimetype": "text/x-python",
   "name": "python",
   "nbconvert_exporter": "python",
   "pygments_lexer": "ipython3",
   "version": "3.9.6"
  },
  "orig_nbformat": 4
 },
 "nbformat": 4,
 "nbformat_minor": 2
}
