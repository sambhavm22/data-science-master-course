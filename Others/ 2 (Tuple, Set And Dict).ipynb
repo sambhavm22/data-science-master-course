{
 "cells": [
  {
   "cell_type": "markdown",
   "id": "21471a4d",
   "metadata": {},
   "source": [
    "Tuples: - \n",
    "\n",
    "Immutability: Once a tuple is created, it cannot be modified. This means that you cannot add, remove or modify elements of a tuple. \n",
    "\n",
    "Indexing and Slicing: Tuples allow indexing and slicing operations, just like lists unlike sets\n",
    "\n",
    "Tuples can hold elements of different data types like integers, floats, strings, etc.\n",
    "\n",
    "Tuples can be used as an iterable in loops and comprehensions.\n",
    "\n",
    "Tuples are more memory efficient than lists, because they use less memory.\n",
    "\n"
   ]
  },
  {
   "cell_type": "markdown",
   "id": "938ae973",
   "metadata": {},
   "source": [
    "two methods in tuple?\n",
    "\n",
    "count and index\n",
    "\n",
    "count:- return the number of elements in a tuple\n",
    "index: - returns the index of the first occurrence of a specified element in the tuple.\n",
    "\n",
    "Tuples are designed to be immutable, which means that they cannot be changed once they are created. In contrast, lists are mutable and can be modified by adding, removing or changing elements. Therefore, lists have more methods available to support these mutable operations."
   ]
  },
  {
   "cell_type": "markdown",
   "id": "8c5284be",
   "metadata": {},
   "source": [
    "sets are function in python that do not allow suplication of elements. \n"
   ]
  },
  {
   "cell_type": "code",
   "execution_count": 20,
   "id": "67c2310b",
   "metadata": {},
   "outputs": [
    {
     "data": {
      "text/plain": [
       "[1,\n",
       " 1,\n",
       " 1,\n",
       " 2,\n",
       " 1,\n",
       " 3,\n",
       " 1,\n",
       " 4,\n",
       " 2,\n",
       " 1,\n",
       " 2,\n",
       " 2,\n",
       " 2,\n",
       " 3,\n",
       " 2,\n",
       " 4,\n",
       " 3,\n",
       " 1,\n",
       " 3,\n",
       " 2,\n",
       " 3,\n",
       " 3,\n",
       " 3,\n",
       " 4,\n",
       " 4,\n",
       " 1,\n",
       " 4,\n",
       " 2,\n",
       " 4,\n",
       " 3,\n",
       " 4,\n",
       " 4]"
      ]
     },
     "execution_count": 20,
     "metadata": {},
     "output_type": "execute_result"
    }
   ],
   "source": [
    "l1=[1,1,1,2,1,3,1,4,2,1,2,2,2,3,2,4,3,1,3,2,3,3,3,4,4,1,4,2,4,3,4,4]\n",
    "l1\n"
   ]
  },
  {
   "cell_type": "code",
   "execution_count": 21,
   "id": "5d529a19",
   "metadata": {},
   "outputs": [
    {
     "ename": "TypeError",
     "evalue": "'list' object is not callable",
     "output_type": "error",
     "traceback": [
      "\u001b[0;31m---------------------------------------------------------------------------\u001b[0m",
      "\u001b[0;31mTypeError\u001b[0m                                 Traceback (most recent call last)",
      "\u001b[0;32m/var/folders/4m/vrm5g1l51xn5x3bdqm97xhsr0000gn/T/ipykernel_3274/440496127.py\u001b[0m in \u001b[0;36m<module>\u001b[0;34m\u001b[0m\n\u001b[0;32m----> 1\u001b[0;31m \u001b[0ms1\u001b[0m \u001b[0;34m=\u001b[0m \u001b[0mset\u001b[0m\u001b[0;34m(\u001b[0m\u001b[0ml1\u001b[0m\u001b[0;34m)\u001b[0m\u001b[0;34m\u001b[0m\u001b[0;34m\u001b[0m\u001b[0m\n\u001b[0m\u001b[1;32m      2\u001b[0m \u001b[0ms1\u001b[0m\u001b[0;34m\u001b[0m\u001b[0;34m\u001b[0m\u001b[0m\n",
      "\u001b[0;31mTypeError\u001b[0m: 'list' object is not callable"
     ]
    }
   ],
   "source": [
    "s1 = set(l1)\n",
    "s1"
   ]
  },
  {
   "cell_type": "code",
   "execution_count": 17,
   "id": "8092dbbd",
   "metadata": {},
   "outputs": [
    {
     "ename": "TypeError",
     "evalue": "'list' object is not callable",
     "output_type": "error",
     "traceback": [
      "\u001b[0;31m---------------------------------------------------------------------------\u001b[0m",
      "\u001b[0;31mTypeError\u001b[0m                                 Traceback (most recent call last)",
      "\u001b[0;32m/var/folders/4m/vrm5g1l51xn5x3bdqm97xhsr0000gn/T/ipykernel_3274/2413238140.py\u001b[0m in \u001b[0;36m<module>\u001b[0;34m\u001b[0m\n\u001b[0;32m----> 1\u001b[0;31m \u001b[0ms1\u001b[0m\u001b[0;34m=\u001b[0m\u001b[0mset\u001b[0m\u001b[0;34m(\u001b[0m\u001b[0;34m\"L1\"\u001b[0m\u001b[0;34m)\u001b[0m\u001b[0;34m\u001b[0m\u001b[0;34m\u001b[0m\u001b[0m\n\u001b[0m\u001b[1;32m      2\u001b[0m \u001b[0mprint\u001b[0m\u001b[0;34m(\u001b[0m\u001b[0ms1\u001b[0m\u001b[0;34m)\u001b[0m\u001b[0;34m\u001b[0m\u001b[0;34m\u001b[0m\u001b[0m\n",
      "\u001b[0;31mTypeError\u001b[0m: 'list' object is not callable"
     ]
    }
   ],
   "source": [
    "s1=set(\"L1\")\n",
    "print(s1)"
   ]
  },
  {
   "cell_type": "code",
   "execution_count": 22,
   "id": "dda3eb3d",
   "metadata": {},
   "outputs": [
    {
     "ename": "TypeError",
     "evalue": "'list' object is not callable",
     "output_type": "error",
     "traceback": [
      "\u001b[0;31m---------------------------------------------------------------------------\u001b[0m",
      "\u001b[0;31mTypeError\u001b[0m                                 Traceback (most recent call last)",
      "\u001b[0;32m/var/folders/4m/vrm5g1l51xn5x3bdqm97xhsr0000gn/T/ipykernel_3274/1780992843.py\u001b[0m in \u001b[0;36m<module>\u001b[0;34m\u001b[0m\n\u001b[1;32m      1\u001b[0m \u001b[0mmy_list\u001b[0m \u001b[0;34m=\u001b[0m \u001b[0;34m[\u001b[0m\u001b[0;36m1\u001b[0m\u001b[0;34m,\u001b[0m \u001b[0;36m2\u001b[0m\u001b[0;34m,\u001b[0m \u001b[0;36m3\u001b[0m\u001b[0;34m,\u001b[0m \u001b[0;36m2\u001b[0m\u001b[0;34m,\u001b[0m \u001b[0;36m4\u001b[0m\u001b[0;34m,\u001b[0m \u001b[0;36m3\u001b[0m\u001b[0;34m,\u001b[0m \u001b[0;36m5\u001b[0m\u001b[0;34m]\u001b[0m\u001b[0;34m\u001b[0m\u001b[0;34m\u001b[0m\u001b[0m\n\u001b[0;32m----> 2\u001b[0;31m \u001b[0mmy_set\u001b[0m \u001b[0;34m=\u001b[0m \u001b[0mset\u001b[0m\u001b[0;34m(\u001b[0m\u001b[0mmy_list\u001b[0m\u001b[0;34m)\u001b[0m\u001b[0;34m\u001b[0m\u001b[0;34m\u001b[0m\u001b[0m\n\u001b[0m\u001b[1;32m      3\u001b[0m \u001b[0mprint\u001b[0m\u001b[0;34m(\u001b[0m\u001b[0mmy_set\u001b[0m\u001b[0;34m)\u001b[0m  \u001b[0;31m# Output: {1, 2, 3, 4, 5}\u001b[0m\u001b[0;34m\u001b[0m\u001b[0;34m\u001b[0m\u001b[0m\n",
      "\u001b[0;31mTypeError\u001b[0m: 'list' object is not callable"
     ]
    }
   ],
   "source": [
    "my_list = [1, 2, 3, 2, 4, 3, 5]\n",
    "my_set = set(my_list)\n",
    "print(my_set)  # Output: {1, 2, 3, 4, 5}\n"
   ]
  },
  {
   "cell_type": "code",
   "execution_count": 23,
   "id": "7ffadd5b",
   "metadata": {},
   "outputs": [
    {
     "ename": "TypeError",
     "evalue": "'list' object is not callable",
     "output_type": "error",
     "traceback": [
      "\u001b[0;31m---------------------------------------------------------------------------\u001b[0m",
      "\u001b[0;31mTypeError\u001b[0m                                 Traceback (most recent call last)",
      "\u001b[0;32m/var/folders/4m/vrm5g1l51xn5x3bdqm97xhsr0000gn/T/ipykernel_3274/3200716712.py\u001b[0m in \u001b[0;36m<module>\u001b[0;34m\u001b[0m\n\u001b[0;32m----> 1\u001b[0;31m \u001b[0ms1\u001b[0m\u001b[0;34m=\u001b[0m\u001b[0mset\u001b[0m\u001b[0;34m(\u001b[0m\u001b[0;34m'List'\u001b[0m\u001b[0;34m)\u001b[0m\u001b[0;34m\u001b[0m\u001b[0;34m\u001b[0m\u001b[0m\n\u001b[0m",
      "\u001b[0;31mTypeError\u001b[0m: 'list' object is not callable"
     ]
    }
   ],
   "source": [
    "s1=set('List')"
   ]
  },
  {
   "cell_type": "code",
   "execution_count": 24,
   "id": "2cc2bc06",
   "metadata": {},
   "outputs": [],
   "source": [
    "s1={1,1,1,2,1,3,1,4,2,1,2,2,2,3,2,4,3,1,3,2,3,3,3,4,4,1,4,2,4,3,4,4}"
   ]
  },
  {
   "cell_type": "code",
   "execution_count": 25,
   "id": "fa73386d",
   "metadata": {},
   "outputs": [
    {
     "data": {
      "text/plain": [
       "{1, 2, 3, 4}"
      ]
     },
     "execution_count": 25,
     "metadata": {},
     "output_type": "execute_result"
    }
   ],
   "source": [
    "s1"
   ]
  },
  {
   "cell_type": "markdown",
   "id": "9a522f68",
   "metadata": {},
   "source": [
    "## difference between union and update\n",
    "\n",
    "Both union() and update() are methods in Python that can be used to combine two or more sets into a single set. However, they differ in their behavior and how they modify the original set.\n",
    "\n",
    "The union() method returns a new set that contains all the unique elements from both sets. It does not modify the original set, but instead returns a new set object.\n",
    "\n",
    "On the other hand, the update() method modifies the original set by adding all the elements from another set to it. It updates the original set in-place, and does not return a new set object.\n",
    "\n",
    "union() method returns a new set containing all the unique elements from both sets, while the update() method modifies the original set by adding all the elements from another set to it.\n",
    "\n"
   ]
  },
  {
   "cell_type": "code",
   "execution_count": 27,
   "id": "6eeb705c",
   "metadata": {},
   "outputs": [],
   "source": [
    "## union method function\n",
    "\n",
    "set1={1,2,3}\n",
    "set2={3,4,5}\n",
    "set3=set1.union(set2)"
   ]
  },
  {
   "cell_type": "code",
   "execution_count": 28,
   "id": "9d7f0ab0",
   "metadata": {},
   "outputs": [
    {
     "data": {
      "text/plain": [
       "{1, 2, 3, 4, 5}"
      ]
     },
     "execution_count": 28,
     "metadata": {},
     "output_type": "execute_result"
    }
   ],
   "source": [
    "set3"
   ]
  },
  {
   "cell_type": "code",
   "execution_count": 29,
   "id": "c3890049",
   "metadata": {},
   "outputs": [
    {
     "data": {
      "text/plain": [
       "{3, 4, 5}"
      ]
     },
     "execution_count": 29,
     "metadata": {},
     "output_type": "execute_result"
    }
   ],
   "source": [
    "set2"
   ]
  },
  {
   "cell_type": "code",
   "execution_count": 30,
   "id": "7fd70f25",
   "metadata": {},
   "outputs": [
    {
     "data": {
      "text/plain": [
       "{1, 2, 3}"
      ]
     },
     "execution_count": 30,
     "metadata": {},
     "output_type": "execute_result"
    }
   ],
   "source": [
    "set1"
   ]
  },
  {
   "cell_type": "code",
   "execution_count": 31,
   "id": "beea0b9f",
   "metadata": {},
   "outputs": [],
   "source": [
    "## update method function\n",
    "\n",
    "set1={1,2,3}\n",
    "set2={3,4,5}\n",
    "set1.update(set2)"
   ]
  },
  {
   "cell_type": "code",
   "execution_count": 32,
   "id": "fb848768",
   "metadata": {},
   "outputs": [
    {
     "data": {
      "text/plain": [
       "{1, 2, 3, 4, 5}"
      ]
     },
     "execution_count": 32,
     "metadata": {},
     "output_type": "execute_result"
    }
   ],
   "source": [
    "set1"
   ]
  },
  {
   "cell_type": "code",
   "execution_count": 33,
   "id": "43eef0f9",
   "metadata": {},
   "outputs": [
    {
     "data": {
      "text/plain": [
       "{3, 4, 5}"
      ]
     },
     "execution_count": 33,
     "metadata": {},
     "output_type": "execute_result"
    }
   ],
   "source": [
    "set2"
   ]
  },
  {
   "cell_type": "markdown",
   "id": "96bcaced",
   "metadata": {},
   "source": [
    "## Answer_5 what are dictionary?\n",
    "\n",
    "dictionary are function in python language which contains keys along with its respective values. \n",
    "\n",
    "A dictionary is a built-in data structure in Python that stores key-value pairs. It is an unordered collection of elements, where each element is a key-value pair enclosed in curly braces { }. The keys in a dictionary must be unique and immutable (such as strings, numbers, and tuples), while the values can be of any data type.\n",
    "\n",
    "dictionary is an unordered collection of element i.e. the position of its key-value pair is not preserve. "
   ]
  },
  {
   "cell_type": "markdown",
   "id": "659d3772",
   "metadata": {},
   "source": [
    "##  Answer_6 nested dictionary "
   ]
  },
  {
   "cell_type": "code",
   "execution_count": 71,
   "id": "d2648317",
   "metadata": {},
   "outputs": [],
   "source": [
    "products={'raw material':['steel', 'stainless steel', 'Aluminum']},{'product':['substation','power line','nuts and bolts','solar panel Al frame']}"
   ]
  },
  {
   "cell_type": "code",
   "execution_count": 72,
   "id": "8b16029b",
   "metadata": {},
   "outputs": [
    {
     "data": {
      "text/plain": [
       "({'raw material': ['steel', 'stainless steel', 'Aluminum']},\n",
       " {'product': ['substation',\n",
       "   'power line',\n",
       "   'nuts and bolts',\n",
       "   'solar panel Al frame']})"
      ]
     },
     "execution_count": 72,
     "metadata": {},
     "output_type": "execute_result"
    }
   ],
   "source": [
    "products"
   ]
  },
  {
   "cell_type": "code",
   "execution_count": 75,
   "id": "66a18fee",
   "metadata": {},
   "outputs": [],
   "source": [
    "cities={'city':{'jaipur', 'jodhpur', 'Dilli'}},{'areas':['civil lines','Janpath','VKI','ramgarh']}"
   ]
  },
  {
   "cell_type": "code",
   "execution_count": 76,
   "id": "30b2e383",
   "metadata": {},
   "outputs": [
    {
     "data": {
      "text/plain": [
       "({'city': {'Dilli', 'jaipur', 'jodhpur'}},\n",
       " {'areas': ['civil lines', 'Janpath', 'VKI', 'ramgarh']})"
      ]
     },
     "execution_count": 76,
     "metadata": {},
     "output_type": "execute_result"
    }
   ],
   "source": [
    "cities"
   ]
  },
  {
   "cell_type": "code",
   "execution_count": 77,
   "id": "e6d54beb",
   "metadata": {},
   "outputs": [],
   "source": [
    "cities={'city':{'jaipur', 'jodhpur', 'Dilli'}},{'areas':{'civil lines','Janpath','VKI','ramgarh'}}"
   ]
  },
  {
   "cell_type": "code",
   "execution_count": 78,
   "id": "5e01c937",
   "metadata": {},
   "outputs": [
    {
     "data": {
      "text/plain": [
       "({'city': {'Dilli', 'jaipur', 'jodhpur'}},\n",
       " {'areas': {'Janpath', 'VKI', 'civil lines', 'ramgarh'}})"
      ]
     },
     "execution_count": 78,
     "metadata": {},
     "output_type": "execute_result"
    }
   ],
   "source": [
    "cities"
   ]
  },
  {
   "cell_type": "code",
   "execution_count": 34,
   "id": "4267fd52",
   "metadata": {},
   "outputs": [],
   "source": [
    "d1={'name':'sam', 'age':25}"
   ]
  },
  {
   "cell_type": "code",
   "execution_count": 35,
   "id": "84ab84c5",
   "metadata": {},
   "outputs": [
    {
     "data": {
      "text/plain": [
       "{'name': 'sam', 'age': 25}"
      ]
     },
     "execution_count": 35,
     "metadata": {},
     "output_type": "execute_result"
    }
   ],
   "source": [
    "d1"
   ]
  },
  {
   "cell_type": "code",
   "execution_count": 39,
   "id": "d93d2932",
   "metadata": {},
   "outputs": [
    {
     "data": {
      "text/plain": [
       "{'name': ('sam', 'nav'), 'age': (25, 22)}"
      ]
     },
     "execution_count": 39,
     "metadata": {},
     "output_type": "execute_result"
    }
   ],
   "source": [
    "d2={'name':('sam','nav'), 'age':(25, 22)}\n",
    "d2"
   ]
  },
  {
   "cell_type": "markdown",
   "id": "18041ef4",
   "metadata": {},
   "source": [
    "##  Answer_7"
   ]
  },
  {
   "cell_type": "code",
   "execution_count": 40,
   "id": "a9e7ac0d",
   "metadata": {},
   "outputs": [],
   "source": [
    "dict1={'language':'python', 'course':'data science masters'}"
   ]
  },
  {
   "cell_type": "code",
   "execution_count": 42,
   "id": "0029dd07",
   "metadata": {},
   "outputs": [
    {
     "data": {
      "text/plain": [
       "{'language': 'python', 'course': 'data science masters'}"
      ]
     },
     "execution_count": 42,
     "metadata": {},
     "output_type": "execute_result"
    }
   ],
   "source": [
    "dict1"
   ]
  },
  {
   "cell_type": "code",
   "execution_count": 79,
   "id": "39d7cd86",
   "metadata": {},
   "outputs": [],
   "source": [
    "dict1.setdefault('topics')"
   ]
  },
  {
   "cell_type": "code",
   "execution_count": 80,
   "id": "129bb6b1",
   "metadata": {},
   "outputs": [
    {
     "data": {
      "text/plain": [
       "{'language': 'python', 'course': 'data science masters', 'topics': None}"
      ]
     },
     "execution_count": 80,
     "metadata": {},
     "output_type": "execute_result"
    }
   ],
   "source": [
    "dict1"
   ]
  },
  {
   "cell_type": "code",
   "execution_count": 82,
   "id": "6dd2fdfe",
   "metadata": {},
   "outputs": [
    {
     "data": {
      "text/plain": [
       "{'language': 'python', 'course': 'data science masters', 'topics': None}"
      ]
     },
     "execution_count": 82,
     "metadata": {},
     "output_type": "execute_result"
    }
   ],
   "source": [
    "dict1"
   ]
  },
  {
   "cell_type": "code",
   "execution_count": 90,
   "id": "23066d79",
   "metadata": {},
   "outputs": [
    {
     "data": {
      "text/plain": [
       "{'language': 'python', 'course': 'data science masters', 'topics': None}"
      ]
     },
     "execution_count": 90,
     "metadata": {},
     "output_type": "execute_result"
    }
   ],
   "source": [
    "dict1.update['topics']:['python']\n",
    "dict1    "
   ]
  },
  {
   "cell_type": "code",
   "execution_count": 94,
   "id": "77385f14",
   "metadata": {},
   "outputs": [
    {
     "data": {
      "text/plain": [
       "{'language': 'python',\n",
       " 'course': 'data science masters',\n",
       " 'topics': ('python', 'machine learning', 'deep learning')}"
      ]
     },
     "execution_count": 94,
     "metadata": {},
     "output_type": "execute_result"
    }
   ],
   "source": [
    "dict1['topics']='python','machine learning','deep learning'\n",
    "dict1"
   ]
  },
  {
   "cell_type": "code",
   "execution_count": 50,
   "id": "78c8093f",
   "metadata": {},
   "outputs": [
    {
     "data": {
      "text/plain": [
       "{'name': ('sam', 'nav'), 'age': (25, 22)}"
      ]
     },
     "execution_count": 50,
     "metadata": {},
     "output_type": "execute_result"
    }
   ],
   "source": [
    "d2"
   ]
  },
  {
   "cell_type": "code",
   "execution_count": 51,
   "id": "eb111aec",
   "metadata": {},
   "outputs": [],
   "source": [
    "dict2={'sport':'cricket','teams':['India','Austriia','England','South Africa','Sri Lanka','Mew Zealand']}"
   ]
  },
  {
   "cell_type": "code",
   "execution_count": 52,
   "id": "b1af3cc5",
   "metadata": {},
   "outputs": [
    {
     "data": {
      "text/plain": [
       "{'sport': 'cricket',\n",
       " 'teams': ['India',\n",
       "  'Austriia',\n",
       "  'England',\n",
       "  'South Africa',\n",
       "  'Sri Lanka',\n",
       "  'Mew Zealand']}"
      ]
     },
     "execution_count": 52,
     "metadata": {},
     "output_type": "execute_result"
    }
   ],
   "source": [
    "dict2"
   ]
  },
  {
   "cell_type": "markdown",
   "id": "4f001f96",
   "metadata": {},
   "source": [
    "## Answer_8: -There are 3 built in method in pythin by which we can view obkects in a dictionary method: -dict2.keys(), dict2.items() and dict2.values()"
   ]
  },
  {
   "cell_type": "code",
   "execution_count": 67,
   "id": "4557165b",
   "metadata": {},
   "outputs": [
    {
     "data": {
      "text/plain": [
       "dict_keys(['sport', 'teams'])"
      ]
     },
     "execution_count": 67,
     "metadata": {},
     "output_type": "execute_result"
    }
   ],
   "source": [
    "dict2.keys()"
   ]
  },
  {
   "cell_type": "code",
   "execution_count": 68,
   "id": "17b61407",
   "metadata": {},
   "outputs": [
    {
     "data": {
      "text/plain": [
       "dict_values(['cricket', ['India', 'Austriia', 'England', 'South Africa', 'Sri Lanka', 'Mew Zealand']])"
      ]
     },
     "execution_count": 68,
     "metadata": {},
     "output_type": "execute_result"
    }
   ],
   "source": [
    "dict2.values()"
   ]
  },
  {
   "cell_type": "code",
   "execution_count": 69,
   "id": "326daad4",
   "metadata": {},
   "outputs": [
    {
     "data": {
      "text/plain": [
       "dict_items([('sport', 'cricket'), ('teams', ['India', 'Austriia', 'England', 'South Africa', 'Sri Lanka', 'Mew Zealand'])])"
      ]
     },
     "execution_count": 69,
     "metadata": {},
     "output_type": "execute_result"
    }
   ],
   "source": [
    "dict2.items()"
   ]
  },
  {
   "cell_type": "code",
   "execution_count": 53,
   "id": "b981ef35",
   "metadata": {},
   "outputs": [
    {
     "data": {
      "text/plain": [
       "'cricket'"
      ]
     },
     "execution_count": 53,
     "metadata": {},
     "output_type": "execute_result"
    }
   ],
   "source": [
    "dict2['sport']"
   ]
  },
  {
   "cell_type": "code",
   "execution_count": null,
   "id": "7a54b440",
   "metadata": {},
   "outputs": [],
   "source": []
  },
  {
   "cell_type": "code",
   "execution_count": 54,
   "id": "8fbc98c7",
   "metadata": {},
   "outputs": [
    {
     "data": {
      "text/plain": [
       "['India', 'Austriia', 'England', 'South Africa', 'Sri Lanka', 'Mew Zealand']"
      ]
     },
     "execution_count": 54,
     "metadata": {},
     "output_type": "execute_result"
    }
   ],
   "source": [
    "dict2['teams']"
   ]
  },
  {
   "cell_type": "code",
   "execution_count": 55,
   "id": "c052965f",
   "metadata": {},
   "outputs": [
    {
     "data": {
      "text/plain": [
       "['India', 'Austriia', 'England', 'South Africa', 'Sri Lanka', 'Mew Zealand']"
      ]
     },
     "execution_count": 55,
     "metadata": {},
     "output_type": "execute_result"
    }
   ],
   "source": [
    "dict2.get('teams')"
   ]
  },
  {
   "cell_type": "code",
   "execution_count": 57,
   "id": "051ca886",
   "metadata": {},
   "outputs": [
    {
     "data": {
      "text/plain": [
       "dict_keys(['sport', 'teams'])"
      ]
     },
     "execution_count": 57,
     "metadata": {},
     "output_type": "execute_result"
    }
   ],
   "source": [
    "dict2.keys()"
   ]
  },
  {
   "cell_type": "code",
   "execution_count": 58,
   "id": "7056bc95",
   "metadata": {},
   "outputs": [
    {
     "data": {
      "text/plain": [
       "dict_values(['cricket', ['India', 'Austriia', 'England', 'South Africa', 'Sri Lanka', 'Mew Zealand']])"
      ]
     },
     "execution_count": 58,
     "metadata": {},
     "output_type": "execute_result"
    }
   ],
   "source": [
    "dict2.values()"
   ]
  },
  {
   "cell_type": "code",
   "execution_count": 61,
   "id": "517dcf5a",
   "metadata": {},
   "outputs": [
    {
     "ename": "KeyError",
     "evalue": "0",
     "output_type": "error",
     "traceback": [
      "\u001b[0;31m---------------------------------------------------------------------------\u001b[0m",
      "\u001b[0;31mKeyError\u001b[0m                                  Traceback (most recent call last)",
      "\u001b[0;32m/var/folders/4m/vrm5g1l51xn5x3bdqm97xhsr0000gn/T/ipykernel_3274/3369664988.py\u001b[0m in \u001b[0;36m<module>\u001b[0;34m\u001b[0m\n\u001b[0;32m----> 1\u001b[0;31m \u001b[0mdict2\u001b[0m\u001b[0;34m[\u001b[0m\u001b[0;36m0\u001b[0m\u001b[0;34m]\u001b[0m\u001b[0;34m\u001b[0m\u001b[0;34m\u001b[0m\u001b[0m\n\u001b[0m",
      "\u001b[0;31mKeyError\u001b[0m: 0"
     ]
    }
   ],
   "source": [
    "dict2[0]"
   ]
  },
  {
   "cell_type": "code",
   "execution_count": 62,
   "id": "99979255",
   "metadata": {},
   "outputs": [
    {
     "data": {
      "text/plain": [
       "'cricket'"
      ]
     },
     "execution_count": 62,
     "metadata": {},
     "output_type": "execute_result"
    }
   ],
   "source": [
    "dict2.get('sport')"
   ]
  },
  {
   "cell_type": "code",
   "execution_count": 63,
   "id": "4bdc814e",
   "metadata": {},
   "outputs": [
    {
     "data": {
      "text/plain": [
       "['India', 'Austriia', 'England', 'South Africa', 'Sri Lanka', 'Mew Zealand']"
      ]
     },
     "execution_count": 63,
     "metadata": {},
     "output_type": "execute_result"
    }
   ],
   "source": [
    "dict2.get(\"teams\")"
   ]
  },
  {
   "cell_type": "code",
   "execution_count": 66,
   "id": "40e67410",
   "metadata": {},
   "outputs": [
    {
     "data": {
      "text/plain": [
       "{'I': None, 'n': None, 'd': None, 'i': None, 'a': None}"
      ]
     },
     "execution_count": 66,
     "metadata": {},
     "output_type": "execute_result"
    }
   ],
   "source": [
    "dict2.fromkeys('India')"
   ]
  },
  {
   "cell_type": "code",
   "execution_count": null,
   "id": "3fffc8fa",
   "metadata": {},
   "outputs": [],
   "source": []
  }
 ],
 "metadata": {
  "kernelspec": {
   "display_name": "Python 3 (ipykernel)",
   "language": "python",
   "name": "python3"
  },
  "language_info": {
   "codemirror_mode": {
    "name": "ipython",
    "version": 3
   },
   "file_extension": ".py",
   "mimetype": "text/x-python",
   "name": "python",
   "nbconvert_exporter": "python",
   "pygments_lexer": "ipython3",
   "version": "3.9.13"
  }
 },
 "nbformat": 4,
 "nbformat_minor": 5
}
