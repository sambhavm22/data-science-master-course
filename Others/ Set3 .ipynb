{
 "cells": [
  {
   "cell_type": "markdown",
   "id": "50842787-de2c-4aee-b3f6-66749093fe5f",
   "metadata": {},
   "source": [
    "Q1. Create a dictionary called fruits with the following key-value pairs:\n",
    "\n",
    "\"apple\": 0.75,\n",
    "\"banana\": 1.25,\n",
    "\"orange\": 0.90\n",
    "\n",
    "Then, print out the price of a banana.\n",
    "\n",
    "Q2. Create an empty dictionary called ages. Add the following key-value pairs to the dictionary:\n",
    "\n",
    "\"Alice\": 30,\n",
    "\"Bob\": 25,\n",
    "\"Charlie\": 35\n",
    "\n",
    "Then, print out the age of Charlie.\n",
    "\n",
    "Q3. Write a function called word_count(text) that takes a string as input and returns a dictionary where each key is a word in the text and its value is the number of times that word appears in the text. For example, word_count(\"hello world hello\") should return {\"hello\": 2, \"world\": 1}.\n",
    "\n",
    "Q4. Create a dictionary called phone_book with the following key-value pairs:\n",
    "\n",
    "\"Alice\": \"555-1234\",\n",
    "\"Bob\": \"555-5678\",\n",
    "\"Charlie\": \"555-9012\"\n",
    "\n",
    "Then, prompt the user to enter a name and print out the corresponding phone number. If the name is not in the phone book, print out a message saying that the name was not found.\n",
    "\n",
    "Q5. Write a program that prompts the user to enter a number between 1 and 10. If the number is less than 5, print out \"Too low!\", otherwise print out \"Too high!\".\n",
    "\n",
    "Q6. Write a program that prompts the user to enter a password. If the password is \"password123\", print out \"Access granted\", otherwise print out \"Access denied\".\n",
    "\n",
    "Q7. Write a program that prompts the user to enter a positive integer. Then, use a loop to print out all the odd numbers from 1 to that integer.\n",
    "\n",
    "Q8. Write a program that generates a random number between 1 and 100 and then prompts the user to guess the number. If the user's guess is too low, print out \"Too low!\", if the guess is too high, print out \"Too high!\", and if the guess is correct, print out \"You win!\".\n",
    "\n",
    "Q9. Write a program that generates a random number between 1 and 10 and then prompts the user to guess the number. The user has three attempts to guess the number. If the user guesses correctly within three attempts, print out \"You win!\", otherwise print out \"You lose!\".\n",
    "\n",
    "Q10. Write a program that prompts the user to enter their age and then prints out whether they are a child (age 0-12), a teenager (age 13-19), an adult (age 20-59), or a senior (age 60+)"
   ]
  },
  {
   "cell_type": "code",
   "execution_count": 1,
   "id": "38a04074-a72e-4d5a-965a-8b926f7fdf49",
   "metadata": {},
   "outputs": [],
   "source": [
    "### Answer 1"
   ]
  },
  {
   "cell_type": "code",
   "execution_count": 2,
   "id": "862e5986-8297-4b41-9160-00336277ada1",
   "metadata": {},
   "outputs": [],
   "source": [
    "fruits = {\n",
    "\"apple\": 0.75,\n",
    "\"banana\": 1.25,\n",
    "\"orange\": 0.90\n",
    "}"
   ]
  },
  {
   "cell_type": "code",
   "execution_count": 3,
   "id": "c7a82a1c-61d0-41c0-8f94-3c01af5e4077",
   "metadata": {},
   "outputs": [
    {
     "data": {
      "text/plain": [
       "1.25"
      ]
     },
     "execution_count": 3,
     "metadata": {},
     "output_type": "execute_result"
    }
   ],
   "source": [
    "fruits['banana']"
   ]
  },
  {
   "cell_type": "code",
   "execution_count": 2,
   "id": "fa7dbc7c-0c71-47ae-a5ae-a032a0ea4a0f",
   "metadata": {},
   "outputs": [],
   "source": [
    "ages = {\n",
    "\"Alice\": 30,\n",
    "\"Bob\": 25,\n",
    "\"Charlie\": 35\n",
    "}"
   ]
  },
  {
   "cell_type": "code",
   "execution_count": 3,
   "id": "22d99b5f-fb53-49a7-aef5-3ead3499180a",
   "metadata": {},
   "outputs": [
    {
     "data": {
      "text/plain": [
       "35"
      ]
     },
     "execution_count": 3,
     "metadata": {},
     "output_type": "execute_result"
    }
   ],
   "source": [
    "ages['Charlie']"
   ]
  },
  {
   "cell_type": "code",
   "execution_count": 5,
   "id": "c8eaa90a-d644-4f9d-98ad-eca969f4b71a",
   "metadata": {},
   "outputs": [
    {
     "data": {
      "text/plain": [
       "dict_keys(['Alice', 'Bob', 'Charlie'])"
      ]
     },
     "execution_count": 5,
     "metadata": {},
     "output_type": "execute_result"
    }
   ],
   "source": [
    "ages.keys()"
   ]
  },
  {
   "cell_type": "code",
   "execution_count": 2,
   "id": "a042dc47-3de9-447f-9c07-bf590cef252e",
   "metadata": {},
   "outputs": [],
   "source": [
    "### Answer 3"
   ]
  },
  {
   "cell_type": "code",
   "execution_count": 6,
   "id": "ebdddd9a-f501-4322-82e8-dcedcc802f50",
   "metadata": {},
   "outputs": [],
   "source": [
    "def word_count(text):\n",
    "   \n",
    "    words = text.lower().split()\n",
    "\n",
    "    counts = {}\n",
    "\n",
    "    for word in words:\n",
    "        if word in counts:\n",
    "            counts[word] += 1\n",
    "        else:\n",
    "            counts[word] = 1\n",
    "\n",
    "    return counts\n"
   ]
  },
  {
   "cell_type": "code",
   "execution_count": 7,
   "id": "03d05084-4f1c-400c-8dee-7ce6658a7863",
   "metadata": {},
   "outputs": [
    {
     "name": "stdout",
     "output_type": "stream",
     "text": [
      "{'hello': 3, 'world': 2}\n"
     ]
    }
   ],
   "source": [
    "text = \"hello world hello hello world\"\n",
    "counts = word_count(text)\n",
    "print(counts)\n"
   ]
  },
  {
   "cell_type": "code",
   "execution_count": null,
   "id": "6185be16-cc37-4a2c-90d6-00a1072a6be0",
   "metadata": {},
   "outputs": [],
   "source": []
  },
  {
   "cell_type": "code",
   "execution_count": 8,
   "id": "f0e9629d-0ce8-437a-9963-7fde3106e3a9",
   "metadata": {},
   "outputs": [],
   "source": [
    "### Answer 4"
   ]
  },
  {
   "cell_type": "code",
   "execution_count": 11,
   "id": "a78bf6d5-725e-4f9d-aa5e-e87c2c139a75",
   "metadata": {},
   "outputs": [
    {
     "name": "stdin",
     "output_type": "stream",
     "text": [
      "Enter a name:  Bob\n"
     ]
    },
    {
     "name": "stdout",
     "output_type": "stream",
     "text": [
      "Bob's phone number is 555-5678\n"
     ]
    }
   ],
   "source": [
    "phone_book = {\n",
    "    \"Alice\": \"555-1234\",\n",
    "    \"Bob\": \"555-5678\",\n",
    "    \"Charlie\": \"555-9012\"\n",
    "}\n",
    "\n",
    "name = input(\"Enter a name: \")\n",
    "\n",
    "if name in phone_book:\n",
    "    \n",
    "    print(name + \"'s phone number is \" + phone_book[name])\n",
    "else:\n",
    "    \n",
    "    print(\"Sorry, \" + name + \" was not found in the phone book.\")\n"
   ]
  },
  {
   "cell_type": "code",
   "execution_count": null,
   "id": "d908575e-7c6c-4934-a179-3832f0f329b5",
   "metadata": {},
   "outputs": [],
   "source": []
  },
  {
   "cell_type": "code",
   "execution_count": null,
   "id": "9ddaa7b1-6518-4c40-ab8c-caf275dc155b",
   "metadata": {},
   "outputs": [],
   "source": [
    "### Answer 5"
   ]
  },
  {
   "cell_type": "code",
   "execution_count": 12,
   "id": "956558ac-73d8-4631-95dd-c3ee01bf4a99",
   "metadata": {},
   "outputs": [
    {
     "name": "stdin",
     "output_type": "stream",
     "text": [
      "enter a number btw 1 and 10:  5\n"
     ]
    },
    {
     "name": "stdout",
     "output_type": "stream",
     "text": [
      "Too High\n"
     ]
    }
   ],
   "source": [
    "x = int(input('enter a number btw 1 and 10: '))\n",
    "\n",
    "if x < 5:\n",
    "    print('Too Low')\n",
    "\n",
    "elif x >= 5 and x < 10:     \n",
    "    print(\"Too High\")\n",
    "    \n",
    "else:\n",
    "    print('enter a number btw 1 and 10')"
   ]
  },
  {
   "cell_type": "code",
   "execution_count": null,
   "id": "69ab9ca2-da60-43de-afc2-c553b40b8e7a",
   "metadata": {},
   "outputs": [],
   "source": [
    "### Answer 6"
   ]
  },
  {
   "cell_type": "code",
   "execution_count": 13,
   "id": "c5308afe-5f45-46cd-8212-4f7ac8354a99",
   "metadata": {},
   "outputs": [
    {
     "name": "stdin",
     "output_type": "stream",
     "text": [
      "enter a password passsword123\n"
     ]
    },
    {
     "name": "stdout",
     "output_type": "stream",
     "text": [
      "Access Denied\n"
     ]
    }
   ],
   "source": [
    "x = input('enter a password')\n",
    "\n",
    "if x == 'password123':\n",
    "    print('Access granted')\n",
    "    \n",
    "else:\n",
    "    print('Access Denied')"
   ]
  },
  {
   "cell_type": "code",
   "execution_count": null,
   "id": "483f26b9-0404-4afd-a83c-002a98a88807",
   "metadata": {},
   "outputs": [],
   "source": [
    "### Answer 7"
   ]
  },
  {
   "cell_type": "code",
   "execution_count": 14,
   "id": "5f790e4d-e670-4d75-a76b-60cf5cad638f",
   "metadata": {},
   "outputs": [
    {
     "name": "stdin",
     "output_type": "stream",
     "text": [
      "enter a positive integer:  54\n"
     ]
    },
    {
     "name": "stdout",
     "output_type": "stream",
     "text": [
      "1\n",
      "3\n",
      "5\n",
      "7\n",
      "9\n",
      "11\n",
      "13\n",
      "15\n",
      "17\n",
      "19\n",
      "21\n",
      "23\n",
      "25\n",
      "27\n",
      "29\n",
      "31\n",
      "33\n",
      "35\n",
      "37\n",
      "39\n",
      "41\n",
      "43\n",
      "45\n",
      "47\n",
      "49\n",
      "51\n",
      "53\n"
     ]
    }
   ],
   "source": [
    "x = int(input('enter a positive integer: '))\n",
    "\n",
    "for i in range(1,(x+1)):\n",
    "    if i%2!=0:\n",
    "        print(i)\n",
    "    "
   ]
  },
  {
   "cell_type": "code",
   "execution_count": null,
   "id": "9bd226ff-43eb-4ea2-8d2f-b1b9ec5d8c6e",
   "metadata": {},
   "outputs": [],
   "source": [
    "### Answer 8"
   ]
  },
  {
   "cell_type": "code",
   "execution_count": 15,
   "id": "4c63408b-0b74-4823-9466-61923f2596e8",
   "metadata": {},
   "outputs": [
    {
     "name": "stdin",
     "output_type": "stream",
     "text": [
      "Guess the number (between 1 and 100):  50\n"
     ]
    },
    {
     "name": "stdout",
     "output_type": "stream",
     "text": [
      "Too high!\n"
     ]
    },
    {
     "name": "stdin",
     "output_type": "stream",
     "text": [
      "Guess again:  22\n"
     ]
    },
    {
     "name": "stdout",
     "output_type": "stream",
     "text": [
      "Too high!\n"
     ]
    },
    {
     "name": "stdin",
     "output_type": "stream",
     "text": [
      "Guess again:  11\n"
     ]
    },
    {
     "name": "stdout",
     "output_type": "stream",
     "text": [
      "Too low!\n"
     ]
    },
    {
     "name": "stdin",
     "output_type": "stream",
     "text": [
      "Guess again:  17\n"
     ]
    },
    {
     "name": "stdout",
     "output_type": "stream",
     "text": [
      "Too high!\n"
     ]
    },
    {
     "name": "stdin",
     "output_type": "stream",
     "text": [
      "Guess again:  14\n"
     ]
    },
    {
     "name": "stdout",
     "output_type": "stream",
     "text": [
      "Too low!\n"
     ]
    },
    {
     "name": "stdin",
     "output_type": "stream",
     "text": [
      "Guess again:  16\n"
     ]
    },
    {
     "name": "stdout",
     "output_type": "stream",
     "text": [
      "Too high!\n"
     ]
    },
    {
     "name": "stdin",
     "output_type": "stream",
     "text": [
      "Guess again:  15\n"
     ]
    },
    {
     "name": "stdout",
     "output_type": "stream",
     "text": [
      "You win!\n"
     ]
    }
   ],
   "source": [
    "import random\n",
    "\n",
    "number = random.randint(1, 100)\n",
    "\n",
    "guess = int(input(\"Guess the number (between 1 and 100): \"))\n",
    "\n",
    "while guess != number:\n",
    "    if guess < number:\n",
    "        print(\"Too low!\")\n",
    "    else:\n",
    "        print(\"Too high!\")\n",
    "    guess = int(input(\"Guess again: \"))\n",
    "\n",
    "print(\"You win!\")\n"
   ]
  },
  {
   "cell_type": "code",
   "execution_count": 11,
   "id": "33dd8cab-f888-42e0-a776-405caa18488e",
   "metadata": {},
   "outputs": [],
   "source": [
    "### Answer 9"
   ]
  },
  {
   "cell_type": "code",
   "execution_count": 1,
   "id": "af88b1a0-c83f-4349-aa29-040e0bbee7b3",
   "metadata": {},
   "outputs": [
    {
     "name": "stdin",
     "output_type": "stream",
     "text": [
      "Guess the number between 1 and 10:  5\n"
     ]
    },
    {
     "name": "stdout",
     "output_type": "stream",
     "text": [
      "Too low!\n"
     ]
    },
    {
     "name": "stdin",
     "output_type": "stream",
     "text": [
      "Guess the number between 1 and 10:  8\n"
     ]
    },
    {
     "name": "stdout",
     "output_type": "stream",
     "text": [
      "Too high!\n"
     ]
    },
    {
     "name": "stdin",
     "output_type": "stream",
     "text": [
      "Guess the number between 1 and 10:  7\n"
     ]
    },
    {
     "name": "stdout",
     "output_type": "stream",
     "text": [
      "Too high!\n",
      "You lose!\n",
      "The random number was: 6\n"
     ]
    }
   ],
   "source": [
    "import random\n",
    "\n",
    "secret_number = random.randint(1, 10)\n",
    "\n",
    "attempts = 3\n",
    "\n",
    "while attempts > 0:\n",
    "    # Prompt the user to guess the number\n",
    "    guess = int(input(\"Guess the number between 1 and 10: \"))\n",
    "\n",
    "    # Check if the guess is correct\n",
    "    if guess == secret_number:\n",
    "        print(\"You win!\")\n",
    "        break\n",
    "    else:\n",
    "        # If the guess is incorrect, decrement the number of attempts and print a hint\n",
    "        attempts -= 1\n",
    "        if guess < secret_number:\n",
    "            print(\"Too low!\")\n",
    "        else:\n",
    "            print(\"Too high!\")\n",
    "    \n",
    "# If the user used up all their attempts without guessing correctly, print \"You lose!\"\n",
    "if attempts == 0:\n",
    "    print(\"You lose!\")\n",
    "    \n",
    "# Display the random number\n",
    "print(\"The random number was:\", secret_number)\n"
   ]
  },
  {
   "cell_type": "code",
   "execution_count": null,
   "id": "9c5e48e6-90d2-444d-9efd-141075d98146",
   "metadata": {},
   "outputs": [],
   "source": [
    "### Answer 10"
   ]
  },
  {
   "cell_type": "code",
   "execution_count": null,
   "id": "46dbce07-df9d-40c5-853b-51abfcdd9634",
   "metadata": {},
   "outputs": [],
   "source": [
    "age = int(input(\"Enter your age: \"))\n",
    "\n",
    "if age <= 12:\n",
    "    print(\"You are a child.\")\n",
    "elif age <= 19:\n",
    "    print(\"You are a teenager.\")\n",
    "elif age <= 59:\n",
    "    print(\"You are an adult.\")\n",
    "else:\n",
    "    print(\"You are a senior.\")\n"
   ]
  }
 ],
 "metadata": {
  "kernelspec": {
   "display_name": "Python 3 (ipykernel)",
   "language": "python",
   "name": "python3"
  },
  "language_info": {
   "codemirror_mode": {
    "name": "ipython",
    "version": 3
   },
   "file_extension": ".py",
   "mimetype": "text/x-python",
   "name": "python",
   "nbconvert_exporter": "python",
   "pygments_lexer": "ipython3",
   "version": "3.10.8"
  }
 },
 "nbformat": 4,
 "nbformat_minor": 5
}
