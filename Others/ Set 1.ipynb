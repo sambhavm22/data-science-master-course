{
 "cells": [
  {
   "cell_type": "code",
   "execution_count": 1,
   "id": "d2caea6d-17af-4b55-81e5-4a9f2988274d",
   "metadata": {},
   "outputs": [],
   "source": [
    "### Answer 1"
   ]
  },
  {
   "cell_type": "code",
   "execution_count": 2,
   "id": "caf9724e-f7cc-4fd6-880e-e11acc284540",
   "metadata": {},
   "outputs": [],
   "source": [
    "def add_numbers(x,y):\n",
    "    return x+y"
   ]
  },
  {
   "cell_type": "code",
   "execution_count": 3,
   "id": "8893243f-61fd-48e3-82e5-a0610fa99983",
   "metadata": {},
   "outputs": [
    {
     "data": {
      "text/plain": [
       "11"
      ]
     },
     "execution_count": 3,
     "metadata": {},
     "output_type": "execute_result"
    }
   ],
   "source": [
    "df = add_numbers(5,6)\n",
    "df"
   ]
  },
  {
   "cell_type": "code",
   "execution_count": 4,
   "id": "3b90e7a2-efcb-4bf8-b70e-dd05f2332e04",
   "metadata": {},
   "outputs": [],
   "source": [
    "### Answer 2"
   ]
  },
  {
   "cell_type": "code",
   "execution_count": 5,
   "id": "9c9bbd5c-871b-4073-96d9-b03099d63b14",
   "metadata": {},
   "outputs": [],
   "source": [
    "import math"
   ]
  },
  {
   "cell_type": "code",
   "execution_count": 6,
   "id": "9b5873c8-3eaa-47b6-98d6-1acfbe32e822",
   "metadata": {},
   "outputs": [
    {
     "name": "stdin",
     "output_type": "stream",
     "text": [
      "enter a number: -  64\n"
     ]
    },
    {
     "name": "stdout",
     "output_type": "stream",
     "text": [
      "the square root of the number  8.0\n"
     ]
    }
   ],
   "source": [
    "x = float(input('enter a number: - '))\n",
    "y = math.sqrt(x)\n",
    "print('the square root of the number ', y)"
   ]
  },
  {
   "cell_type": "code",
   "execution_count": 7,
   "id": "e8845f8e-cec2-4b06-af1e-a1af78790150",
   "metadata": {},
   "outputs": [],
   "source": [
    "### Answer 3"
   ]
  },
  {
   "cell_type": "code",
   "execution_count": 8,
   "id": "af2ac114-a25d-4348-9752-f40d167333a0",
   "metadata": {},
   "outputs": [
    {
     "name": "stdout",
     "output_type": "stream",
     "text": [
      "2\n",
      "3\n",
      "5\n",
      "7\n",
      "11\n",
      "13\n",
      "17\n",
      "19\n",
      "23\n",
      "29\n",
      "31\n",
      "37\n",
      "41\n",
      "43\n",
      "47\n"
     ]
    }
   ],
   "source": [
    "for num in range(2, 51):\n",
    "    # assume the number is prime until proven otherwise\n",
    "    is_prime = True\n",
    "    # check if the number is divisible by any number other than 1 and itself\n",
    "    for i in range(2, num):\n",
    "        if num % i == 0:\n",
    "            # the number is not prime\n",
    "            is_prime = False\n",
    "            break\n",
    "    # print the prime number\n",
    "    if is_prime:\n",
    "        print(num)\n"
   ]
  },
  {
   "cell_type": "code",
   "execution_count": 9,
   "id": "82574dc2-2f48-4699-b57b-76b090731142",
   "metadata": {},
   "outputs": [],
   "source": [
    "### Answer 6"
   ]
  },
  {
   "cell_type": "code",
   "execution_count": 10,
   "id": "5d674d2d-15ea-4e64-be5f-49862f73824e",
   "metadata": {},
   "outputs": [
    {
     "name": "stdin",
     "output_type": "stream",
     "text": [
      "enter a number:  8765\n"
     ]
    },
    {
     "name": "stdout",
     "output_type": "stream",
     "text": [
      "the given number is odd\n"
     ]
    }
   ],
   "source": [
    "x = int(input('enter a number: '))\n",
    "if x%2 == 0:\n",
    "    print('the given number is even')\n",
    "else:\n",
    "    print('the given number is odd')"
   ]
  },
  {
   "cell_type": "code",
   "execution_count": 11,
   "id": "9287a50a-a824-407b-910b-20c404b0fd10",
   "metadata": {},
   "outputs": [],
   "source": [
    "### Answer 5"
   ]
  },
  {
   "cell_type": "code",
   "execution_count": 12,
   "id": "f8288a89-7619-4b97-856a-cee16b880ad6",
   "metadata": {},
   "outputs": [
    {
     "name": "stdin",
     "output_type": "stream",
     "text": [
      "enter a number:  0\n"
     ]
    },
    {
     "name": "stdout",
     "output_type": "stream",
     "text": [
      "the given number is zero\n"
     ]
    }
   ],
   "source": [
    "x = int(input('enter a number: '))\n",
    "if x>0:\n",
    "    print('the given number is +ve')\n",
    "elif x < 0:\n",
    "    print('the given number is -ve')\n",
    "else:\n",
    "    print('the given number is zero')"
   ]
  },
  {
   "cell_type": "code",
   "execution_count": 13,
   "id": "39efca14-6455-43fe-81a4-a56ed1f155ca",
   "metadata": {},
   "outputs": [],
   "source": [
    "### Answer 10"
   ]
  },
  {
   "cell_type": "code",
   "execution_count": 14,
   "id": "4ab7a342-3bd1-482c-96e7-c2b8179c9d87",
   "metadata": {},
   "outputs": [
    {
     "name": "stdin",
     "output_type": "stream",
     "text": [
      "enter a year:  1996\n"
     ]
    },
    {
     "name": "stdout",
     "output_type": "stream",
     "text": [
      "the given year is a leap year\n"
     ]
    }
   ],
   "source": [
    "x = int(input('enter a year: '))\n",
    "if x%4 == 0:\n",
    "    print('the given year is a leap year')\n",
    "else:\n",
    "    print('the year is not a leap year')"
   ]
  },
  {
   "cell_type": "code",
   "execution_count": 15,
   "id": "235cc119-cd2b-4a83-b4b3-527691b3ff63",
   "metadata": {},
   "outputs": [],
   "source": [
    "### Answer 9"
   ]
  },
  {
   "cell_type": "code",
   "execution_count": 16,
   "id": "ea0cb646-832f-4988-a3a8-c0e661a33cd1",
   "metadata": {},
   "outputs": [
    {
     "name": "stdin",
     "output_type": "stream",
     "text": [
      "Enter a number:  371\n"
     ]
    },
    {
     "name": "stdout",
     "output_type": "stream",
     "text": [
      "371 is an Armstrong number\n"
     ]
    }
   ],
   "source": [
    "# take input from user\n",
    "num = int(input(\"Enter a number: \"))\n",
    "\n",
    "# determine the number of digits in the number\n",
    "num_of_digits = len(str(num))\n",
    "\n",
    "# initialize sum to 0\n",
    "sum = 0\n",
    "\n",
    "# loop through each digit in the number\n",
    "temp = num\n",
    "while temp > 0:\n",
    "    digit = temp % 10\n",
    "    sum += digit ** num_of_digits\n",
    "    temp //= 10\n",
    "\n",
    "# check if the number is an Armstrong number\n",
    "if num == sum:\n",
    "    print(num, \"is an Armstrong number\")\n",
    "else:\n",
    "    print(num, \"is not an Armstrong number\")\n"
   ]
  },
  {
   "cell_type": "code",
   "execution_count": 17,
   "id": "ab0eb8f6-394a-4658-8331-76d606ebb672",
   "metadata": {},
   "outputs": [],
   "source": [
    "### Answer 7"
   ]
  },
  {
   "cell_type": "code",
   "execution_count": 18,
   "id": "6f87523c-79a9-4549-80e8-e2fa565f66cf",
   "metadata": {},
   "outputs": [
    {
     "name": "stdin",
     "output_type": "stream",
     "text": [
      "enter a number:  2345\n"
     ]
    },
    {
     "name": "stdout",
     "output_type": "stream",
     "text": [
      "The sum of the digits is: 14\n"
     ]
    }
   ],
   "source": [
    "number = int(input('enter a number: '))\n",
    "sum = 0\n",
    "\n",
    "while number > 0:\n",
    "    digit = number % 10\n",
    "    sum += digit\n",
    "    number = number // 10\n",
    "\n",
    "print(\"The sum of the digits is:\", sum)\n"
   ]
  },
  {
   "cell_type": "code",
   "execution_count": 19,
   "id": "f0a0a481-7419-4d45-84c4-6e07033c5c1f",
   "metadata": {},
   "outputs": [],
   "source": [
    "### Answer 8"
   ]
  },
  {
   "cell_type": "code",
   "execution_count": 20,
   "id": "461effa4-b1c9-45cb-963b-a0259c3531d9",
   "metadata": {},
   "outputs": [
    {
     "name": "stdout",
     "output_type": "stream",
     "text": [
      "The reversed number is: 54321\n"
     ]
    }
   ],
   "source": [
    "number = 12345\n",
    "reverse = 0\n",
    "\n",
    "while number != 0:\n",
    "    digit = number % 10\n",
    "    reverse = reverse * 10 + digit\n",
    "    number = number // 10\n",
    "\n",
    "print(\"The reversed number is:\", reverse)\n"
   ]
  },
  {
   "cell_type": "code",
   "execution_count": 21,
   "id": "016a8ecb-158b-4ad9-8845-35e938458016",
   "metadata": {},
   "outputs": [
    {
     "name": "stdin",
     "output_type": "stream",
     "text": [
      "enter a number:  6543\n"
     ]
    },
    {
     "name": "stdout",
     "output_type": "stream",
     "text": [
      "3456\n"
     ]
    }
   ],
   "source": [
    "x = input('enter a number: ')\n",
    "reverse = x[::-1]\n",
    "print(reverse\n",
    "     )"
   ]
  },
  {
   "cell_type": "code",
   "execution_count": 22,
   "id": "40818e7b-4c08-4ad2-b8ba-890968edf1ac",
   "metadata": {},
   "outputs": [],
   "source": [
    "### Answer 4"
   ]
  },
  {
   "cell_type": "code",
   "execution_count": 24,
   "id": "e56c08dd-38de-41c9-8e3a-76a983269afd",
   "metadata": {},
   "outputs": [
    {
     "name": "stdin",
     "output_type": "stream",
     "text": [
      "Enter the first number:  4\n",
      "Enter the second number:  5\n",
      "Enter the third number:  6\n"
     ]
    },
    {
     "name": "stdout",
     "output_type": "stream",
     "text": [
      "Before swapping: a = 4 , b = 5  c= 6\n",
      "After swapping: a = 6 , b = b' c=' 5\n"
     ]
    }
   ],
   "source": [
    "# Take input from the user\n",
    "a = int(input(\"Enter the first number: \"))\n",
    "b = int(input(\"Enter the second number: \"))\n",
    "c = int(input(\"Enter the third number: \"))\n",
    "\n",
    "# Print the values before swapping\n",
    "print(\"Before swapping: a =\", a, \", b =\", b,' c=', c)\n",
    "\n",
    "# Swap the values of a and b\n",
    "a, b, c = c, a, b\n",
    "\n",
    "# Print the values after swapping\n",
    "print(\"After swapping: a =\", a, \", b =\", b' c=', c)\n"
   ]
  },
  {
   "cell_type": "code",
   "execution_count": null,
   "id": "660aa70c-e551-499c-b834-d23eba034f91",
   "metadata": {},
   "outputs": [],
   "source": []
  }
 ],
 "metadata": {
  "kernelspec": {
   "display_name": "Python 3 (ipykernel)",
   "language": "python",
   "name": "python3"
  },
  "language_info": {
   "codemirror_mode": {
    "name": "ipython",
    "version": 3
   },
   "file_extension": ".py",
   "mimetype": "text/x-python",
   "name": "python",
   "nbconvert_exporter": "python",
   "pygments_lexer": "ipython3",
   "version": "3.10.8"
  }
 },
 "nbformat": 4,
 "nbformat_minor": 5
}
