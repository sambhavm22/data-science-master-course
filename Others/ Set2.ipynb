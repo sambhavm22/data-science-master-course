{
 "cells": [
  {
   "cell_type": "markdown",
   "id": "3ec96921-b365-4762-aaa8-802e9af39f35",
   "metadata": {},
   "source": [
    "Q1. Create a list in python using the followings: 2,3,4,5,6,7 with variable ‘a’\n",
    "\n",
    "Add ‘mango to the above list\n",
    "\n",
    "Also add banana, grapes & orange in the list\n",
    "\n",
    "insert apple in the 5th position of a variable ‘a’\n",
    "\n",
    "Remove last item from the list\n",
    "\n",
    "Q2. L = [1,2,3,4,5,6,7] Using the above list slice from 1:4\n",
    "\n",
    "Q3. Reverse the order of given string L = [4,5,6,8,3] Without using reverse() function.\n",
    "\n",
    "Q4. Use list comprehension to square the given list L=[2,4,7,3,6,8]\n",
    "\n",
    "Q5. Create a function that takes in a tuple of integers and returns the sum of the integers. Test the function with a tuple of your choice.\n",
    "\n",
    "Q6. Create two sets of your favourite fruits, and use the union() method to combine them into a single set. Print the resulting set to the console.\n",
    "\n",
    "Q7. Create a set of random words, and use the add() method to add a new word to the set. Print the resulting set to the console.\n",
    "\n",
    "Q8. Create a set of your favourite animals, and use the remove() method to remove one animal from the set. Print the resulting set to the console.\n",
    "\n",
    "Q9. favorite_books = {\"1984\", \"To Kill a Mockingbird\", \"Pride and Prejudice\"} favorite_movies = [\"The Shawshank Redemption\", \"The Godfather\", \"The Dark Knight\"] Use the zip() function to combine the book set and movie list into a list of tuples representing book/movie pairs. Print the resulting list.\n",
    "\n",
    "Q10. Write a Python program to find the difference between consecutive numbers in a list."
   ]
  },
  {
   "cell_type": "code",
   "execution_count": null,
   "id": "3d4f1a29-5f4e-4e3a-8d27-d87f000b8509",
   "metadata": {},
   "outputs": [],
   "source": [
    "### Answer 1"
   ]
  },
  {
   "cell_type": "code",
   "execution_count": null,
   "id": "63d869f9-f9fb-4386-ae74-e9c4cd3292ac",
   "metadata": {},
   "outputs": [],
   "source": [
    "a = [2,3,4,5,6,7]\n",
    "a.append('mango')"
   ]
  },
  {
   "cell_type": "code",
   "execution_count": 9,
   "id": "bfb2853f-624e-41c6-a6ef-c749de48e594",
   "metadata": {},
   "outputs": [
    {
     "data": {
      "text/plain": [
       "[2, 3, 4, 5, 6, 7, 'mango']"
      ]
     },
     "execution_count": 9,
     "metadata": {},
     "output_type": "execute_result"
    }
   ],
   "source": [
    "a"
   ]
  },
  {
   "cell_type": "code",
   "execution_count": 16,
   "id": "b21b7ac7-b8a7-4bd2-949d-cbf2273d6b51",
   "metadata": {},
   "outputs": [],
   "source": [
    "a.extend(['banana', 'grapes', 'orange'])"
   ]
  },
  {
   "cell_type": "code",
   "execution_count": 17,
   "id": "316b261c-035d-44fc-bff7-d88c7c4b29a6",
   "metadata": {},
   "outputs": [
    {
     "data": {
      "text/plain": [
       "[2, 3, 4, 5, 6, 7, 'mango', 'banana', 'grapes', 'orange']"
      ]
     },
     "execution_count": 17,
     "metadata": {},
     "output_type": "execute_result"
    }
   ],
   "source": [
    "a"
   ]
  },
  {
   "cell_type": "code",
   "execution_count": 19,
   "id": "a46748b7-2e48-4c99-936a-b0ae51b79475",
   "metadata": {},
   "outputs": [],
   "source": [
    "a[5] = 'apple'"
   ]
  },
  {
   "cell_type": "code",
   "execution_count": 20,
   "id": "6706ef95-b38a-4844-983c-4c62ab7a5bbd",
   "metadata": {},
   "outputs": [
    {
     "data": {
      "text/plain": [
       "[2, 3, 4, 5, 6, 'apple', 'mango', 'banana', 'grapes', 'orange']"
      ]
     },
     "execution_count": 20,
     "metadata": {},
     "output_type": "execute_result"
    }
   ],
   "source": [
    "a"
   ]
  },
  {
   "cell_type": "code",
   "execution_count": 26,
   "id": "5d933ea7-1205-4347-a7c3-3bffe272c1c1",
   "metadata": {},
   "outputs": [],
   "source": [
    "del a[-1]"
   ]
  },
  {
   "cell_type": "code",
   "execution_count": 27,
   "id": "1433dcd6-2525-4984-8018-ced9199274b3",
   "metadata": {},
   "outputs": [
    {
     "data": {
      "text/plain": [
       "[2, 3, 4, 5, 6, 'apple', 'mango', 'banana', 'grapes']"
      ]
     },
     "execution_count": 27,
     "metadata": {},
     "output_type": "execute_result"
    }
   ],
   "source": [
    "a"
   ]
  },
  {
   "cell_type": "code",
   "execution_count": 28,
   "id": "10763465-8f93-45ce-a985-068c5986e185",
   "metadata": {},
   "outputs": [],
   "source": [
    "### Answer 2"
   ]
  },
  {
   "cell_type": "code",
   "execution_count": 29,
   "id": "1dc62ff3-3a77-4d1b-b379-1151759064dc",
   "metadata": {},
   "outputs": [
    {
     "data": {
      "text/plain": [
       "[2, 3, 4]"
      ]
     },
     "execution_count": 29,
     "metadata": {},
     "output_type": "execute_result"
    }
   ],
   "source": [
    "L = [1,2,3,4,5,6,7]\n",
    "L[1:4]"
   ]
  },
  {
   "cell_type": "code",
   "execution_count": null,
   "id": "0731d814-4b12-4873-8a74-140971d74d91",
   "metadata": {},
   "outputs": [],
   "source": [
    "### Answer 3"
   ]
  },
  {
   "cell_type": "code",
   "execution_count": 48,
   "id": "127b976b-fef5-4a9a-b6ce-457dffb06802",
   "metadata": {},
   "outputs": [
    {
     "name": "stdout",
     "output_type": "stream",
     "text": [
      "[3, 8, 6, 5, 4]\n"
     ]
    }
   ],
   "source": [
    "L = [4,5,6,8,3]\n",
    "reversed_L = []\n",
    "for i in range(len(L)-1, -1, -1):\n",
    "    reversed_L.append(L[i])\n",
    "    \n",
    "print(reversed_L)    "
   ]
  },
  {
   "cell_type": "code",
   "execution_count": 49,
   "id": "7ed5a5bf-e362-47c1-9b9c-58ad361eee82",
   "metadata": {},
   "outputs": [
    {
     "name": "stdout",
     "output_type": "stream",
     "text": [
      "[3, 8, 6, 5, 4]\n"
     ]
    }
   ],
   "source": [
    "# Define the list\n",
    "L = [4, 5, 6, 8, 3]\n",
    "\n",
    "# Initialize two pointers, one at the beginning and one at the end of the list\n",
    "start = 0\n",
    "end = len(L) - 1\n",
    "\n",
    "# Swap the elements at the start and end indices until the pointers meet in the middle\n",
    "while start < end:\n",
    "    # Swap the elements\n",
    "    L[start], L[end] = L[end], L[start]\n",
    "    \n",
    "    # Move the pointers inward\n",
    "    start += 1\n",
    "    end -= 1\n",
    "\n",
    "# Print the reversed list\n",
    "print(L)\n"
   ]
  },
  {
   "cell_type": "code",
   "execution_count": 51,
   "id": "0c7a9b37-43b6-46c0-9477-94b4e558198b",
   "metadata": {},
   "outputs": [],
   "source": [
    "### Answer 4"
   ]
  },
  {
   "cell_type": "code",
   "execution_count": 54,
   "id": "97cb19e6-e45d-45d6-a6fd-a9e766bcabf5",
   "metadata": {},
   "outputs": [
    {
     "data": {
      "text/plain": [
       "[4, 16, 49, 9, 36, 64]"
      ]
     },
     "execution_count": 54,
     "metadata": {},
     "output_type": "execute_result"
    }
   ],
   "source": [
    "L1=[2,4,7,3,6,8]\n",
    "[i**2 for i in L1]"
   ]
  },
  {
   "cell_type": "code",
   "execution_count": 55,
   "id": "ecaddc43-3c43-4d8b-afcd-acb8d29df4b3",
   "metadata": {},
   "outputs": [
    {
     "name": "stdout",
     "output_type": "stream",
     "text": [
      "4\n",
      "16\n",
      "49\n",
      "9\n",
      "36\n",
      "64\n"
     ]
    }
   ],
   "source": [
    "for i in L1:\n",
    "    print(i**2)"
   ]
  },
  {
   "cell_type": "code",
   "execution_count": 79,
   "id": "39d62885-800e-4ede-9a9b-5418ab7855ee",
   "metadata": {},
   "outputs": [
    {
     "name": "stdout",
     "output_type": "stream",
     "text": [
      "21\n"
     ]
    }
   ],
   "source": [
    "### Answer 5\n",
    "\n",
    "def sum_of_integers(t):\n",
    "    sum = 0\n",
    "    for i in t:\n",
    "        sum += i\n",
    "    print(sum)\n",
    "    return t\n",
    "\n",
    "t = (1,2,3,4,5,6)\n",
    "add = sum_of_integers(t)"
   ]
  },
  {
   "cell_type": "code",
   "execution_count": 63,
   "id": "2202b9a7-9ef6-43a4-a35a-315dbd6aea31",
   "metadata": {},
   "outputs": [
    {
     "name": "stdout",
     "output_type": "stream",
     "text": [
      "21\n"
     ]
    }
   ],
   "source": [
    "t = (1,2,3,4,5,6)\n",
    "sum = 0\n",
    "for i in t:\n",
    "    sum += i\n",
    "print(sum)"
   ]
  },
  {
   "cell_type": "code",
   "execution_count": 97,
   "id": "f2e40c0c-2a69-4ede-97d2-b2ded9778403",
   "metadata": {},
   "outputs": [],
   "source": [
    "### Answer 6\n"
   ]
  },
  {
   "cell_type": "code",
   "execution_count": 96,
   "id": "855e8ae8-e9bc-466d-a7dd-2013b125555e",
   "metadata": {},
   "outputs": [
    {
     "name": "stdout",
     "output_type": "stream",
     "text": [
      "{'strawberry', 'berry', 'pineapple', 'grapes', 'banana', 'apple', 'watermelon', 'mango'}\n"
     ]
    }
   ],
   "source": [
    "x = {'apple','strawberry','banana','mango'}\n",
    "y = {'berry' ,'grapes','pineapple', 'watermelon'}\n",
    "z = y.union(z)\n",
    "print(z)"
   ]
  },
  {
   "cell_type": "code",
   "execution_count": 98,
   "id": "17ff668e-0548-4e80-9815-adb4f06948d0",
   "metadata": {},
   "outputs": [],
   "source": [
    "### Answer 7"
   ]
  },
  {
   "cell_type": "code",
   "execution_count": 99,
   "id": "75e08a77-15b5-464f-b71a-3521344e0092",
   "metadata": {},
   "outputs": [
    {
     "data": {
      "text/plain": [
       "{'course', 'data science', 'i', 'love'}"
      ]
     },
     "execution_count": 99,
     "metadata": {},
     "output_type": "execute_result"
    }
   ],
   "source": [
    "s = {'i', 'love', 'data science'}\n",
    "s.add('course')\n",
    "s"
   ]
  },
  {
   "cell_type": "code",
   "execution_count": 100,
   "id": "b2388ad5-882e-4901-8e20-3a880c3eada3",
   "metadata": {},
   "outputs": [
    {
     "name": "stdout",
     "output_type": "stream",
     "text": [
      "{'world', 'python', 'programming', 'hello'}\n"
     ]
    }
   ],
   "source": [
    "words = {\"hello\", \"world\", \"python\"}\n",
    "words.add(\"programming\")\n",
    "print(words)"
   ]
  },
  {
   "cell_type": "code",
   "execution_count": null,
   "id": "9c388106-69cd-443d-91b3-52f371691a15",
   "metadata": {},
   "outputs": [],
   "source": [
    "### Answer 8"
   ]
  },
  {
   "cell_type": "code",
   "execution_count": 102,
   "id": "71db8c22-f517-4a5f-95c2-2758aecd99c2",
   "metadata": {},
   "outputs": [
    {
     "data": {
      "text/plain": [
       "{'cat', 'dog', 'lion', 'tiger'}"
      ]
     },
     "execution_count": 102,
     "metadata": {},
     "output_type": "execute_result"
    }
   ],
   "source": [
    "animals = {'cat', 'dog', 'tiger', 'lion', 'eagle'}\n",
    "animals.remove('eagle')\n",
    "animals"
   ]
  },
  {
   "cell_type": "code",
   "execution_count": 112,
   "id": "c14c656a-97aa-4d3a-960e-d2c23639fa83",
   "metadata": {},
   "outputs": [],
   "source": [
    "### Answer 9"
   ]
  },
  {
   "cell_type": "code",
   "execution_count": 111,
   "id": "e710178f-432e-493d-be6c-9f1b2be8bbdf",
   "metadata": {},
   "outputs": [
    {
     "name": "stdout",
     "output_type": "stream",
     "text": [
      "[('To Kill a Mockingbird', 'The Shawshank Redemption'), ('1984', 'The Godfather'), ('Pride and Prejudice', 'The Dark Knight')]\n"
     ]
    }
   ],
   "source": [
    "favorite_books = {\"1984\", \"To Kill a Mockingbird\", \"Pride and Prejudice\"}\n",
    "favorite_movies = [\"The Shawshank Redemption\", \"The Godfather\", \"The Dark Knight\"]\n",
    "book_movie_pairs = list(zip(favorite_books, favorite_movies))\n",
    "print(book_movie_pairs)"
   ]
  },
  {
   "cell_type": "code",
   "execution_count": 113,
   "id": "41881c0b-ea39-49e0-8b26-379b213b7a3e",
   "metadata": {},
   "outputs": [],
   "source": [
    "### Answer 10"
   ]
  },
  {
   "cell_type": "code",
   "execution_count": 130,
   "id": "4ec741c0-39bf-496a-9e32-044b1c8fe5aa",
   "metadata": {},
   "outputs": [],
   "source": [
    "def find_difference(numbers):\n",
    "    \n",
    "    diff = []\n",
    "    for i in range(1, len(numbers)):\n",
    "        difference = numbers[i] - numbers[i-1]\n",
    "        diff.append(difference)\n",
    "    return diff    "
   ]
  },
  {
   "cell_type": "code",
   "execution_count": 133,
   "id": "ecfa211c-a719-4aab-aef5-62b34a9e15be",
   "metadata": {},
   "outputs": [
    {
     "data": {
      "text/plain": [
       "[6, 6, 31, 51]"
      ]
     },
     "execution_count": 133,
     "metadata": {},
     "output_type": "execute_result"
    }
   ],
   "source": [
    "numbers = [1,7,13,44,95]\n",
    "find_difference(numbers)"
   ]
  },
  {
   "cell_type": "code",
   "execution_count": 128,
   "id": "2c917ba6-03c2-4f72-9ce1-540d94bdc1a9",
   "metadata": {},
   "outputs": [
    {
     "name": "stdout",
     "output_type": "stream",
     "text": [
      "[10, 10, 10, 10]\n"
     ]
    }
   ],
   "source": []
  },
  {
   "cell_type": "code",
   "execution_count": null,
   "id": "ede348e9-4432-42c0-ba52-db297a9be6f3",
   "metadata": {},
   "outputs": [],
   "source": []
  }
 ],
 "metadata": {
  "kernelspec": {
   "display_name": "Python 3 (ipykernel)",
   "language": "python",
   "name": "python3"
  },
  "language_info": {
   "codemirror_mode": {
    "name": "ipython",
    "version": 3
   },
   "file_extension": ".py",
   "mimetype": "text/x-python",
   "name": "python",
   "nbconvert_exporter": "python",
   "pygments_lexer": "ipython3",
   "version": "3.10.8"
  }
 },
 "nbformat": 4,
 "nbformat_minor": 5
}
