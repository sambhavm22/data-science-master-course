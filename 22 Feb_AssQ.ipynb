{
 "cells": [
  {
   "cell_type": "markdown",
   "id": "907090ed-3ee2-4046-9362-ca5bec47bdfa",
   "metadata": {},
   "source": [
    "Q1. Create a Pandas Series that contains the following data: 4, 8, 15, 16, 23, and 42. Then, print the series.\n",
    "\n",
    "Q2. Create a variable of list type containing 10 elements in it, and apply pandas.Series function on the variable print it.\n",
    "\n",
    "Q3. Create a Pandas DataFrame that contains the following data:\n",
    "\n",
    "Then, print the DataFrame.\n",
    "\n",
    "Q4. What is ‘DataFrame’ in pandas and how is it different from pandas.series? Explain with an example.\n",
    "\n",
    "Q5. What are some common functions you can use to manipulate data in a Pandas DataFrame? Can you give an example of when you might use one of these functions?\n",
    "\n",
    "Q6. Which of the following is mutable in nature Series, DataFrame, Panel?\n",
    "\n",
    "Q7. Create a DataFrame using multiple Series. Explain with an example."
   ]
  },
  {
   "cell_type": "code",
   "execution_count": 25,
   "id": "25429a4b-12d8-484d-838b-5735a973c14e",
   "metadata": {},
   "outputs": [],
   "source": [
    "### Answer 1"
   ]
  },
  {
   "cell_type": "code",
   "execution_count": 26,
   "id": "382be0ea-168b-4ec6-855b-6049a937bc13",
   "metadata": {},
   "outputs": [],
   "source": [
    "import pandas as pd"
   ]
  },
  {
   "cell_type": "code",
   "execution_count": 27,
   "id": "c5c47f2e-caba-4ad0-a40b-ed840694aed7",
   "metadata": {},
   "outputs": [],
   "source": [
    "df = pd.read_excel(\"pandas excel.xlsx\")"
   ]
  },
  {
   "cell_type": "code",
   "execution_count": 28,
   "id": "aacbc36b-a575-4402-a8b9-91814f2c1e71",
   "metadata": {},
   "outputs": [
    {
     "data": {
      "text/html": [
       "<div>\n",
       "<style scoped>\n",
       "    .dataframe tbody tr th:only-of-type {\n",
       "        vertical-align: middle;\n",
       "    }\n",
       "\n",
       "    .dataframe tbody tr th {\n",
       "        vertical-align: top;\n",
       "    }\n",
       "\n",
       "    .dataframe thead th {\n",
       "        text-align: right;\n",
       "    }\n",
       "</style>\n",
       "<table border=\"1\" class=\"dataframe\">\n",
       "  <thead>\n",
       "    <tr style=\"text-align: right;\">\n",
       "      <th></th>\n",
       "      <th>SR</th>\n",
       "      <th>Number</th>\n",
       "    </tr>\n",
       "  </thead>\n",
       "  <tbody>\n",
       "    <tr>\n",
       "      <th>0</th>\n",
       "      <td>1</td>\n",
       "      <td>4</td>\n",
       "    </tr>\n",
       "    <tr>\n",
       "      <th>1</th>\n",
       "      <td>2</td>\n",
       "      <td>8</td>\n",
       "    </tr>\n",
       "    <tr>\n",
       "      <th>2</th>\n",
       "      <td>3</td>\n",
       "      <td>15</td>\n",
       "    </tr>\n",
       "    <tr>\n",
       "      <th>3</th>\n",
       "      <td>4</td>\n",
       "      <td>16</td>\n",
       "    </tr>\n",
       "    <tr>\n",
       "      <th>4</th>\n",
       "      <td>5</td>\n",
       "      <td>23</td>\n",
       "    </tr>\n",
       "    <tr>\n",
       "      <th>5</th>\n",
       "      <td>6</td>\n",
       "      <td>42</td>\n",
       "    </tr>\n",
       "  </tbody>\n",
       "</table>\n",
       "</div>"
      ],
      "text/plain": [
       "   SR  Number\n",
       "0   1       4\n",
       "1   2       8\n",
       "2   3      15\n",
       "3   4      16\n",
       "4   5      23\n",
       "5   6      42"
      ]
     },
     "execution_count": 28,
     "metadata": {},
     "output_type": "execute_result"
    }
   ],
   "source": [
    "df"
   ]
  },
  {
   "cell_type": "code",
   "execution_count": 29,
   "id": "2c94d4c9-4974-48db-a221-a6b588f95072",
   "metadata": {},
   "outputs": [],
   "source": [
    "df_1 = df['Number']"
   ]
  },
  {
   "cell_type": "code",
   "execution_count": 30,
   "id": "2a67c753-bce9-4a62-9100-51d044e1f9b1",
   "metadata": {},
   "outputs": [
    {
     "data": {
      "text/plain": [
       "0     4\n",
       "1     8\n",
       "2    15\n",
       "3    16\n",
       "4    23\n",
       "5    42\n",
       "Name: Number, dtype: int64"
      ]
     },
     "execution_count": 30,
     "metadata": {},
     "output_type": "execute_result"
    }
   ],
   "source": [
    "df_1"
   ]
  },
  {
   "cell_type": "code",
   "execution_count": 31,
   "id": "ac2b354a-45ac-45af-97f8-f1b29ce72760",
   "metadata": {},
   "outputs": [
    {
     "data": {
      "text/plain": [
       "pandas.core.series.Series"
      ]
     },
     "execution_count": 31,
     "metadata": {},
     "output_type": "execute_result"
    }
   ],
   "source": [
    "type(df_1)"
   ]
  },
  {
   "cell_type": "code",
   "execution_count": 22,
   "id": "295a5358-0667-4a6c-a387-35903fbd454b",
   "metadata": {},
   "outputs": [
    {
     "data": {
      "text/plain": [
       "0     4\n",
       "1     8\n",
       "2    15\n",
       "3    16\n",
       "4    23\n",
       "5    42\n",
       "dtype: int64"
      ]
     },
     "execution_count": 22,
     "metadata": {},
     "output_type": "execute_result"
    }
   ],
   "source": [
    "pd.Series([4, 8, 15, 16, 23, 42])"
   ]
  },
  {
   "cell_type": "code",
   "execution_count": 23,
   "id": "4f0806df-bf3e-4244-973c-42f0cba211ac",
   "metadata": {},
   "outputs": [],
   "source": [
    "### Answer 2"
   ]
  },
  {
   "cell_type": "code",
   "execution_count": 24,
   "id": "8fd6f318-e202-4007-b7ef-98b72e0fc913",
   "metadata": {},
   "outputs": [],
   "source": [
    "l1 = [1,42,3,34,5,26,7,18,9,10]"
   ]
  },
  {
   "cell_type": "code",
   "execution_count": 32,
   "id": "2efa78fb-4f2c-45cc-a41d-67be57ebafe6",
   "metadata": {},
   "outputs": [
    {
     "data": {
      "text/plain": [
       "0     1\n",
       "1    42\n",
       "2     3\n",
       "3    34\n",
       "4     5\n",
       "5    26\n",
       "6     7\n",
       "7    18\n",
       "8     9\n",
       "9    10\n",
       "dtype: int64"
      ]
     },
     "execution_count": 32,
     "metadata": {},
     "output_type": "execute_result"
    }
   ],
   "source": [
    "pd.Series(l1)"
   ]
  },
  {
   "cell_type": "code",
   "execution_count": 33,
   "id": "2e40698b-13a9-4e9e-83ad-535d3b298785",
   "metadata": {},
   "outputs": [
    {
     "data": {
      "text/plain": [
       "pandas.core.series.Series"
      ]
     },
     "execution_count": 33,
     "metadata": {},
     "output_type": "execute_result"
    }
   ],
   "source": [
    "type(pd.Series(l1))"
   ]
  },
  {
   "cell_type": "code",
   "execution_count": 49,
   "id": "a6b2da9b-7281-4038-b95d-32324013962d",
   "metadata": {},
   "outputs": [],
   "source": [
    "### Answer 3"
   ]
  },
  {
   "cell_type": "code",
   "execution_count": 40,
   "id": "5e1672ce-39fe-43fb-bf2e-897de3779f50",
   "metadata": {},
   "outputs": [],
   "source": [
    "Data_Frame = {'Name': ['Alice', 'Bob', 'Claire'], 'Age' : [25, 30, 27], 'Gender' : ['Female', 'Age', 'Gender']}"
   ]
  },
  {
   "cell_type": "code",
   "execution_count": 44,
   "id": "43587d5f-de48-4411-9c30-dc0a47c9ca32",
   "metadata": {},
   "outputs": [],
   "source": [
    "df3 = pd.DataFrame(Data_Frame)"
   ]
  },
  {
   "cell_type": "code",
   "execution_count": 45,
   "id": "fdcbfbe6-bbac-4bcd-8a71-75ce9414384d",
   "metadata": {},
   "outputs": [
    {
     "name": "stdout",
     "output_type": "stream",
     "text": [
      "     Name  Age  Gender\n",
      "0   Alice   25  Female\n",
      "1     Bob   30     Age\n",
      "2  Claire   27  Gender\n"
     ]
    }
   ],
   "source": [
    "print(df3)"
   ]
  },
  {
   "cell_type": "code",
   "execution_count": 46,
   "id": "4fea2e3c-a09d-4b43-b148-a6c19c2af7a2",
   "metadata": {},
   "outputs": [
    {
     "data": {
      "text/plain": [
       "pandas.core.frame.DataFrame"
      ]
     },
     "execution_count": 46,
     "metadata": {},
     "output_type": "execute_result"
    }
   ],
   "source": [
    "type(df3)"
   ]
  },
  {
   "cell_type": "code",
   "execution_count": 43,
   "id": "85b3cdd8-d491-4f8f-be3d-d00c0f894f79",
   "metadata": {},
   "outputs": [
    {
     "data": {
      "text/plain": [
       "Name       [Alice, Bob, Claire]\n",
       "Age                [25, 30, 27]\n",
       "Gender    [Female, Age, Gender]\n",
       "dtype: object"
      ]
     },
     "execution_count": 43,
     "metadata": {},
     "output_type": "execute_result"
    }
   ],
   "source": [
    "df_3 = pd.Series(Data_Frame)"
   ]
  },
  {
   "cell_type": "code",
   "execution_count": 37,
   "id": "975b4cd2-bd5b-41b4-81c4-2f3414143f03",
   "metadata": {},
   "outputs": [],
   "source": [
    "df_2 = pd.read_excel('data_frame.xlsx')"
   ]
  },
  {
   "cell_type": "code",
   "execution_count": 38,
   "id": "e7c5628e-8ae6-47ae-bb90-7850aef5c5fb",
   "metadata": {},
   "outputs": [
    {
     "data": {
      "text/html": [
       "<div>\n",
       "<style scoped>\n",
       "    .dataframe tbody tr th:only-of-type {\n",
       "        vertical-align: middle;\n",
       "    }\n",
       "\n",
       "    .dataframe tbody tr th {\n",
       "        vertical-align: top;\n",
       "    }\n",
       "\n",
       "    .dataframe thead th {\n",
       "        text-align: right;\n",
       "    }\n",
       "</style>\n",
       "<table border=\"1\" class=\"dataframe\">\n",
       "  <thead>\n",
       "    <tr style=\"text-align: right;\">\n",
       "      <th></th>\n",
       "      <th>Name</th>\n",
       "      <th>Age</th>\n",
       "      <th>Gender</th>\n",
       "    </tr>\n",
       "  </thead>\n",
       "  <tbody>\n",
       "    <tr>\n",
       "      <th>0</th>\n",
       "      <td>Alice</td>\n",
       "      <td>25</td>\n",
       "      <td>Female</td>\n",
       "    </tr>\n",
       "    <tr>\n",
       "      <th>1</th>\n",
       "      <td>Bob</td>\n",
       "      <td>30</td>\n",
       "      <td>male</td>\n",
       "    </tr>\n",
       "    <tr>\n",
       "      <th>2</th>\n",
       "      <td>Claire</td>\n",
       "      <td>27</td>\n",
       "      <td>Female</td>\n",
       "    </tr>\n",
       "  </tbody>\n",
       "</table>\n",
       "</div>"
      ],
      "text/plain": [
       "    Name   Age  Gender\n",
       "0   Alice   25  Female\n",
       "1     Bob   30    male\n",
       "2  Claire   27  Female"
      ]
     },
     "execution_count": 38,
     "metadata": {},
     "output_type": "execute_result"
    }
   ],
   "source": [
    "df_2"
   ]
  },
  {
   "cell_type": "code",
   "execution_count": 39,
   "id": "a5cf9d49-e2d5-41b3-98b4-d4518b931b85",
   "metadata": {},
   "outputs": [
    {
     "data": {
      "text/plain": [
       "pandas.core.frame.DataFrame"
      ]
     },
     "execution_count": 39,
     "metadata": {},
     "output_type": "execute_result"
    }
   ],
   "source": [
    "type(df_2)"
   ]
  },
  {
   "cell_type": "markdown",
   "id": "da7192c4-c424-4f89-b061-583bdda6005f",
   "metadata": {},
   "source": [
    "### Answer 4\n",
    "\n",
    "a DataFrame is a two-dimensional labeled data structure that can store data of different types, such as numerical, categorical, and text data. It can be thought of as a table, where each row represents a sample or observation, and each column represents a feature or variable. A DataFrame can be created from various data sources, such as a NumPy array, a Python dictionary, or an external file (e.g., CSV, Excel).\n",
    "\n",
    "On the other hand, a Series is a one-dimensional labeled data structure in Pandas that can store data of a single data type, such as integers, floats, or strings. It can be thought of as a single column of a DataFrame, where each value is associated with an index label.\n",
    "\n"
   ]
  },
  {
   "cell_type": "code",
   "execution_count": 61,
   "id": "a493ba26-84b7-420e-8a30-1534ed84870e",
   "metadata": {},
   "outputs": [],
   "source": [
    "Data= {'Name': ['Alice', 'Bob', 'Claire', 'Sam'], 'Age' : [25, 30, 27, 24], 'Gender' : ['Female', 'male', 'female', 'male']}"
   ]
  },
  {
   "cell_type": "code",
   "execution_count": 62,
   "id": "ecfdcbc5-342b-4f25-ac31-8c47010e6d90",
   "metadata": {},
   "outputs": [],
   "source": [
    "df4 = pd.DataFrame(Data)"
   ]
  },
  {
   "cell_type": "code",
   "execution_count": 65,
   "id": "8d415e69-eb61-44f9-a51a-067f4e9eece9",
   "metadata": {},
   "outputs": [
    {
     "data": {
      "text/html": [
       "<div>\n",
       "<style scoped>\n",
       "    .dataframe tbody tr th:only-of-type {\n",
       "        vertical-align: middle;\n",
       "    }\n",
       "\n",
       "    .dataframe tbody tr th {\n",
       "        vertical-align: top;\n",
       "    }\n",
       "\n",
       "    .dataframe thead th {\n",
       "        text-align: right;\n",
       "    }\n",
       "</style>\n",
       "<table border=\"1\" class=\"dataframe\">\n",
       "  <thead>\n",
       "    <tr style=\"text-align: right;\">\n",
       "      <th></th>\n",
       "      <th>Name</th>\n",
       "      <th>Age</th>\n",
       "      <th>Gender</th>\n",
       "    </tr>\n",
       "  </thead>\n",
       "  <tbody>\n",
       "    <tr>\n",
       "      <th>0</th>\n",
       "      <td>Alice</td>\n",
       "      <td>25</td>\n",
       "      <td>Female</td>\n",
       "    </tr>\n",
       "    <tr>\n",
       "      <th>1</th>\n",
       "      <td>Bob</td>\n",
       "      <td>30</td>\n",
       "      <td>male</td>\n",
       "    </tr>\n",
       "    <tr>\n",
       "      <th>2</th>\n",
       "      <td>Claire</td>\n",
       "      <td>27</td>\n",
       "      <td>female</td>\n",
       "    </tr>\n",
       "    <tr>\n",
       "      <th>3</th>\n",
       "      <td>Sam</td>\n",
       "      <td>24</td>\n",
       "      <td>male</td>\n",
       "    </tr>\n",
       "  </tbody>\n",
       "</table>\n",
       "</div>"
      ],
      "text/plain": [
       "     Name  Age  Gender\n",
       "0   Alice   25  Female\n",
       "1     Bob   30    male\n",
       "2  Claire   27  female\n",
       "3     Sam   24    male"
      ]
     },
     "execution_count": 65,
     "metadata": {},
     "output_type": "execute_result"
    }
   ],
   "source": [
    "df4"
   ]
  },
  {
   "cell_type": "code",
   "execution_count": 63,
   "id": "3b98fcdb-de81-40a2-823f-41387156789d",
   "metadata": {},
   "outputs": [],
   "source": [
    "ages = df4[\"Age\"]"
   ]
  },
  {
   "cell_type": "code",
   "execution_count": 64,
   "id": "438629e1-bcc0-46c9-8f10-80a1e0c04110",
   "metadata": {},
   "outputs": [
    {
     "name": "stdout",
     "output_type": "stream",
     "text": [
      "0    25\n",
      "1    30\n",
      "2    27\n",
      "3    24\n",
      "Name: Age, dtype: int64\n"
     ]
    }
   ],
   "source": [
    "print(ages)"
   ]
  },
  {
   "cell_type": "code",
   "execution_count": 66,
   "id": "e0d194f7-0497-4e4f-9d97-d3e2724993da",
   "metadata": {},
   "outputs": [],
   "source": [
    "Names = df4['Name']"
   ]
  },
  {
   "cell_type": "code",
   "execution_count": 67,
   "id": "15c86fa5-28b4-40eb-bdf5-9b276cddd9aa",
   "metadata": {},
   "outputs": [
    {
     "name": "stdout",
     "output_type": "stream",
     "text": [
      "0     Alice\n",
      "1       Bob\n",
      "2    Claire\n",
      "3       Sam\n",
      "Name: Name, dtype: object\n"
     ]
    }
   ],
   "source": [
    "print(Names)"
   ]
  },
  {
   "cell_type": "code",
   "execution_count": 68,
   "id": "e6f7a025-97a8-4841-899a-327addebeabf",
   "metadata": {},
   "outputs": [],
   "source": [
    "### Answer 5"
   ]
  },
  {
   "cell_type": "markdown",
   "id": "4328519f-87ca-443c-8a96-f28e35f619c5",
   "metadata": {},
   "source": [
    "head(n): Returns the first n rows of the DataFrame,\n",
    "tail(n): Returns the last n rows of the DataFrame,\n",
    "info(): Displays information about the DataFrame, such as the number of rows and columns, data types, and memory usage, \n",
    "describe(): Generates descriptive statistics of the DataFrame, such as count, mean, standard deviation, minimum, and maximum values, \n",
    "shape: Returns the dimensions of the DataFrame in the form of a tuple (rows, columns),\n",
    "drop(columns=[...]): Drops one or more columns from the DataFrame"
   ]
  },
  {
   "cell_type": "code",
   "execution_count": 70,
   "id": "c8586974-9054-4236-a692-11cebc81d36c",
   "metadata": {},
   "outputs": [],
   "source": [
    "df5 = df4.head(2)"
   ]
  },
  {
   "cell_type": "code",
   "execution_count": 71,
   "id": "944b73df-3293-4a02-b696-e7ac5d29cd1d",
   "metadata": {},
   "outputs": [
    {
     "name": "stdout",
     "output_type": "stream",
     "text": [
      "    Name  Age  Gender\n",
      "0  Alice   25  Female\n",
      "1    Bob   30    male\n"
     ]
    }
   ],
   "source": [
    "print(df5)"
   ]
  },
  {
   "cell_type": "markdown",
   "id": "34c9c91a-563d-4316-9298-73d352876b5e",
   "metadata": {},
   "source": [
    "### Answer 6\n",
    "\n",
    " both Series and DataFrame are mutable in nature, which means that their contents can be modified after creation. \n",
    " \n",
    " Pandas provides multi-dimensional data structures like Panel with the combination of DataFrame and Series objects."
   ]
  },
  {
   "cell_type": "code",
   "execution_count": 83,
   "id": "71b71ac3-19ca-48a3-bbfc-9bfd783a708c",
   "metadata": {},
   "outputs": [],
   "source": [
    "## Answer 7"
   ]
  },
  {
   "cell_type": "code",
   "execution_count": 84,
   "id": "aeafd862-6d11-42a5-9c6b-8ba648b9ae66",
   "metadata": {},
   "outputs": [],
   "source": [
    "Name = pd.Series(['sam', 'sid', 'babs', 'gudda', 'tisa', 'tiu'])\n",
    "Age = pd.Series(['24', '20', '23', '27', '18', '5'])\n",
    "Gender = pd.Series(['male', 'female', 'female', 'female', 'female', 'female'])"
   ]
  },
  {
   "cell_type": "code",
   "execution_count": 87,
   "id": "998a5dc3-a2b7-4c1d-b00b-ddee1dff7536",
   "metadata": {},
   "outputs": [],
   "source": [
    "df7 = pd.concat([Name, Age, Gender], axis = 1)\n",
    "df7.columns = ['Name', 'Age', 'Gender']"
   ]
  },
  {
   "cell_type": "code",
   "execution_count": 88,
   "id": "3290547e-c8fc-4c1f-b41f-0dd3402c8a70",
   "metadata": {},
   "outputs": [
    {
     "data": {
      "text/html": [
       "<div>\n",
       "<style scoped>\n",
       "    .dataframe tbody tr th:only-of-type {\n",
       "        vertical-align: middle;\n",
       "    }\n",
       "\n",
       "    .dataframe tbody tr th {\n",
       "        vertical-align: top;\n",
       "    }\n",
       "\n",
       "    .dataframe thead th {\n",
       "        text-align: right;\n",
       "    }\n",
       "</style>\n",
       "<table border=\"1\" class=\"dataframe\">\n",
       "  <thead>\n",
       "    <tr style=\"text-align: right;\">\n",
       "      <th></th>\n",
       "      <th>Name</th>\n",
       "      <th>Age</th>\n",
       "      <th>Gender</th>\n",
       "    </tr>\n",
       "  </thead>\n",
       "  <tbody>\n",
       "    <tr>\n",
       "      <th>0</th>\n",
       "      <td>sam</td>\n",
       "      <td>24</td>\n",
       "      <td>male</td>\n",
       "    </tr>\n",
       "    <tr>\n",
       "      <th>1</th>\n",
       "      <td>sid</td>\n",
       "      <td>20</td>\n",
       "      <td>female</td>\n",
       "    </tr>\n",
       "    <tr>\n",
       "      <th>2</th>\n",
       "      <td>babs</td>\n",
       "      <td>23</td>\n",
       "      <td>female</td>\n",
       "    </tr>\n",
       "    <tr>\n",
       "      <th>3</th>\n",
       "      <td>gudda</td>\n",
       "      <td>27</td>\n",
       "      <td>female</td>\n",
       "    </tr>\n",
       "    <tr>\n",
       "      <th>4</th>\n",
       "      <td>tisa</td>\n",
       "      <td>18</td>\n",
       "      <td>female</td>\n",
       "    </tr>\n",
       "    <tr>\n",
       "      <th>5</th>\n",
       "      <td>tiu</td>\n",
       "      <td>5</td>\n",
       "      <td>female</td>\n",
       "    </tr>\n",
       "  </tbody>\n",
       "</table>\n",
       "</div>"
      ],
      "text/plain": [
       "    Name Age  Gender\n",
       "0    sam  24    male\n",
       "1    sid  20  female\n",
       "2   babs  23  female\n",
       "3  gudda  27  female\n",
       "4   tisa  18  female\n",
       "5    tiu   5  female"
      ]
     },
     "execution_count": 88,
     "metadata": {},
     "output_type": "execute_result"
    }
   ],
   "source": [
    "df7"
   ]
  },
  {
   "cell_type": "code",
   "execution_count": null,
   "id": "8ce89448-40bf-45d0-9b5f-9296b4babf82",
   "metadata": {},
   "outputs": [],
   "source": []
  }
 ],
 "metadata": {
  "kernelspec": {
   "display_name": "Python 3 (ipykernel)",
   "language": "python",
   "name": "python3"
  },
  "language_info": {
   "codemirror_mode": {
    "name": "ipython",
    "version": 3
   },
   "file_extension": ".py",
   "mimetype": "text/x-python",
   "name": "python",
   "nbconvert_exporter": "python",
   "pygments_lexer": "ipython3",
   "version": "3.10.8"
  }
 },
 "nbformat": 4,
 "nbformat_minor": 5
}
