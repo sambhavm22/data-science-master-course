{
 "cells": [
  {
   "cell_type": "code",
   "execution_count": 13,
   "id": "99e95352-5275-446a-aa3d-fcb813b64d26",
   "metadata": {},
   "outputs": [
    {
     "name": "stdout",
     "output_type": "stream",
     "text": [
      "Requirement already satisfied: flask in /opt/conda/lib/python3.10/site-packages (2.2.3)\n",
      "Requirement already satisfied: Jinja2>=3.0 in /opt/conda/lib/python3.10/site-packages (from flask) (3.1.2)\n",
      "Requirement already satisfied: click>=8.0 in /opt/conda/lib/python3.10/site-packages (from flask) (8.1.3)\n",
      "Requirement already satisfied: itsdangerous>=2.0 in /opt/conda/lib/python3.10/site-packages (from flask) (2.1.2)\n",
      "Requirement already satisfied: Werkzeug>=2.2.2 in /opt/conda/lib/python3.10/site-packages (from flask) (2.2.3)\n",
      "Requirement already satisfied: MarkupSafe>=2.0 in /opt/conda/lib/python3.10/site-packages (from Jinja2>=3.0->flask) (2.1.1)\n",
      "Requirement already satisfied: flask_cors in /opt/conda/lib/python3.10/site-packages (3.0.10)\n",
      "Requirement already satisfied: Flask>=0.9 in /opt/conda/lib/python3.10/site-packages (from flask_cors) (2.2.3)\n",
      "Requirement already satisfied: Six in /opt/conda/lib/python3.10/site-packages (from flask_cors) (1.16.0)\n",
      "Requirement already satisfied: itsdangerous>=2.0 in /opt/conda/lib/python3.10/site-packages (from Flask>=0.9->flask_cors) (2.1.2)\n",
      "Requirement already satisfied: Jinja2>=3.0 in /opt/conda/lib/python3.10/site-packages (from Flask>=0.9->flask_cors) (3.1.2)\n",
      "Requirement already satisfied: click>=8.0 in /opt/conda/lib/python3.10/site-packages (from Flask>=0.9->flask_cors) (8.1.3)\n",
      "Requirement already satisfied: Werkzeug>=2.2.2 in /opt/conda/lib/python3.10/site-packages (from Flask>=0.9->flask_cors) (2.2.3)\n",
      "Requirement already satisfied: MarkupSafe>=2.0 in /opt/conda/lib/python3.10/site-packages (from Jinja2>=3.0->Flask>=0.9->flask_cors) (2.1.1)\n"
     ]
    }
   ],
   "source": [
    "!pip install flask\n",
    "!pip install flask_cors\n",
    "\n"
   ]
  },
  {
   "cell_type": "code",
   "execution_count": 14,
   "id": "5b428288-a73f-49ac-babd-f5b9d133c00d",
   "metadata": {},
   "outputs": [],
   "source": [
    "from flask import Flask, render_template, request, jsonify\n",
    "from flask_cors import CORS,cross_origin\n",
    "import logging\n",
    "import os\n",
    "import requests\n",
    "import re\n",
    "import pandas as pd\n",
    "\n",
    "\n",
    "\n"
   ]
  },
  {
   "cell_type": "code",
   "execution_count": 15,
   "id": "20cd91a8-13d8-4b62-8520-6dfa53b3c242",
   "metadata": {},
   "outputs": [
    {
     "name": "stdout",
     "output_type": "stream",
     "text": [
      "200\n"
     ]
    }
   ],
   "source": [
    "\n",
    "url = \"https://www.youtube.com/@PW-Foundation/videos\"\n",
    "\n",
    "headers = {\"User-Agent\": \"Mozilla/5.0 (Macintosh; Intel Mac OS X 10_15_7) AppleWebKit/537.36 (KHTML, like Gecko) Chrome/112.0.0.0 Safari/537.36\"}\n",
    "response = requests.get(url, headers=headers)\n",
    "print(response.status_code)\n",
    "response_text = response.text\n",
    "\n"
   ]
  },
  {
   "cell_type": "code",
   "execution_count": 16,
   "id": "58655f10-7fc5-45d7-a310-fb1ba6b3252d",
   "metadata": {},
   "outputs": [
    {
     "data": {
      "text/plain": [
       "['\"title\":{\"runs\":[{\"text\":\"How to change Mindset from class 10th to 11th ❓ ❓\"',\n",
       " '\"title\":{\"runs\":[{\"text\":\"Bachoo आपके क्या Plan है इस Summer Vacation ❓❓\"',\n",
       " '\"title\":{\"runs\":[{\"text\":\"The Ultimate Class 11th Survival Guide: Tips and Tricks for Success\"',\n",
       " '\"title\":{\"runs\":[{\"text\":\"If not MBBS then What ❓|| Career Options for Biology Students\"',\n",
       " '\"title\":{\"runs\":[{\"text\":\"Why Commerce After 10th, Explore the Best Career Options | Must Watch\"',\n",
       " '\"title\":{\"runs\":[{\"text\":\"Class 10th Ke Baad Konsi Stream Le? || Strategy Wallah || PW Foundation\"',\n",
       " '\"title\":{\"runs\":[{\"text\":\"तो चलिए शुरू करते है AIIMS Jane Ki Tayyari !! Revealing Arjuna NEET Faculties 🙏 Check Description.\"',\n",
       " '\"title\":{\"runs\":[{\"text\":\"Ruman Ashraf - Bihar Board Class 10th TOPPER from PW !! Udaan Batch⚡\"',\n",
       " '\"title\":{\"runs\":[{\"text\":\"Complete Roadmap on How to Start Class 9th 🔥 || Full Year Long Strategy For Students 💯\"',\n",
       " '\"title\":{\"runs\":[{\"text\":\"Class 10th Over 😎 अब Class 11th JEE की तैयारी !! Check Description.\"',\n",
       " '\"title\":{\"runs\":[{\"text\":\"Aarambh Batch 2024 | For CBSE Class 11th Commerce | Biggest Launch🔥\"',\n",
       " '\"title\":{\"runs\":[{\"text\":\"India\\'s NO.1 Batch for Class 10th - UDAAN ⚡ Launching Today !! Check Description.\"',\n",
       " '\"title\":{\"runs\":[{\"text\":\"India\\'s Biggest Scholarship Test for Classes 8th to 12th !! 🔥🔥 || PW SAT 2023 ⚡💥\"',\n",
       " '\"title\":{\"runs\":[{\"text\":\"How to score 95%+ in class 10th? Complete year Powerful Strategy!!\"',\n",
       " '\"title\":{\"runs\":[{\"text\":\"Last 4 Days Left For SST Exam || How To Manage to Score 80/80 in Boards || Class-10th\"',\n",
       " '\"title\":{\"runs\":[{\"text\":\"Benefits of Choosing Commerce After 10th | Commerce क्यों लेना चाहिए? | CBSE | ICSE | State Boards\"',\n",
       " '\"title\":{\"runs\":[{\"text\":\"Complete 𝗖𝗔𝗥𝗕𝗢𝗡 𝗔𝗡𝗗 𝗜𝗧𝗦 𝗖𝗢𝗠𝗣𝗢𝗨𝗡𝗗𝗦 in 90 Minutes | Class 10th Board Exam\"',\n",
       " '\"title\":{\"runs\":[{\"text\":\"Complete 𝗠𝗘𝗧𝗔𝗟𝗦 \\\\u0026 𝗡𝗢𝗡 𝗠𝗘𝗧𝗔𝗟𝗦  in 120 Minutes | Class 10th Board Exam\"',\n",
       " '\"title\":{\"runs\":[{\"text\":\"Complete 𝗔𝗖𝗜𝗗, 𝗕𝗔𝗦𝗘𝗦 𝗔𝗡𝗗 𝗦𝗔𝗟𝗧 in 110 Minutes | Class 10th Board Exam\"',\n",
       " '\"title\":{\"runs\":[{\"text\":\"Complete 𝗖𝗛𝗘𝗠𝗜𝗖𝗔𝗟 𝗥𝗘𝗔𝗖𝗧𝗜𝗢𝗡  in 90 Minutes | Class 10th Board Exam\"',\n",
       " '\"title\":{\"runs\":[{\"text\":\"Complete 𝐇𝐄𝐑𝐄𝐃𝐈𝐓𝐘 𝐀𝐍𝐃 𝐄𝐕𝐎𝐋𝐔𝐓𝐈𝐎𝐍 in 2 Hours|| Class 10th Board Exam\"',\n",
       " '\"title\":{\"runs\":[{\"text\":\"Complete 𝗛𝗢𝗪 𝗗𝗢 𝗢𝗥𝗚𝗔𝗡𝗜𝗦𝗠𝗦 𝗥𝗘𝗣𝗥𝗢𝗗𝗨𝗖𝗘 in 1 Hours 50 Minutes|| Class 10th Board Exam\"',\n",
       " '\"title\":{\"runs\":[{\"text\":\"Complete 𝗢𝗨𝗥 𝗘𝗡𝗩𝗜𝗥𝗢𝗡𝗠𝗘𝗡𝗧 in 1 Hour 30 Minutes | Class 10th Board Exam\"',\n",
       " '\"title\":{\"runs\":[{\"text\":\"Complete 𝗖𝗼𝗻𝘁𝗿𝗼𝗹 𝗮𝗻𝗱 𝗖𝗼𝗼𝗿𝗱𝗶𝗻𝗮𝘁𝗶𝗼𝗻 in 1 Hours 50 Minutes | Class 10th Board Exam\"',\n",
       " '\"title\":{\"runs\":[{\"text\":\"Complete 𝗟𝗶𝗳𝗲 𝗣𝗿𝗼𝗰𝗲𝘀𝘀𝗲𝘀 in 2 Hours 58 Minutes | Class 10th Board Exam\"',\n",
       " '\"title\":{\"runs\":[{\"text\":\"Complete 𝗠𝗮𝗴𝗻𝗲𝘁𝗶𝗰 𝗘𝗳𝗳𝗲𝗰𝘁 𝗼𝗳 𝗘𝗹𝗲𝗰𝘁𝗿𝗶𝗰 𝗖𝘂𝗿𝗿𝗲𝗻𝘁 in 2 Hours 15 Minutes | Class 10th Board Exam\"',\n",
       " '\"title\":{\"runs\":[{\"text\":\"Complete 𝗛𝘂𝗺𝗮𝗻 𝗘𝘆𝗲 \\\\u0026 𝗧𝗵𝗲 𝗖𝗼𝗹𝗼𝘂𝗿𝗳𝘂𝗹 𝗪𝗼𝗿𝗹𝗱 in 2 Hours 24 Minutes | Class 10th Board Exam\"',\n",
       " '\"title\":{\"runs\":[{\"text\":\"Complete 𝗘𝗹𝗲𝗰𝘁𝗿𝗶𝗰𝗶𝘁𝘆 in 2 Hours 4 Minutes  | Class 10th Board Exam\"',\n",
       " '\"title\":{\"runs\":[{\"text\":\"Complete 𝗟𝗜𝗚𝗛𝗧 in 3 Hours 49 Minutes | Class 10th Board Exam\"',\n",
       " '\"title\":{\"runs\":[{\"text\":\"NEW Batches for Class 10 \\\\u0026 9 - Session 2023-24 || NEEV and UDAAN Batch Launch 🚀\"',\n",
       " '\"title\":{\"runs\":[{\"text\":\"Keyboard shortcuts\"',\n",
       " '\"title\":{\"runs\":[{\"text\":\"Playback\"',\n",
       " '\"title\":{\"runs\":[{\"text\":\"General\"',\n",
       " '\"title\":{\"runs\":[{\"text\":\"Subtitles and closed captions\"',\n",
       " '\"title\":{\"runs\":[{\"text\":\"Spherical videos\"']"
      ]
     },
     "execution_count": 16,
     "metadata": {},
     "output_type": "execute_result"
    }
   ],
   "source": [
    "vid_titles = re.findall('\"title\":{\"runs\":\\[{\"text\":\".*?\"', response_text)\n",
    "vid_titles"
   ]
  },
  {
   "cell_type": "code",
   "execution_count": 17,
   "id": "d6a4e378-d51e-4539-ab67-e99a68a1b5f1",
   "metadata": {},
   "outputs": [
    {
     "data": {
      "text/plain": [
       "['https://i.ytimg.com/vi/aPrSAvwuhTk/hqdefault.jpg',\n",
       " 'https://i.ytimg.com/vi/aPrSAvwuhTk/hqdefault.jpg',\n",
       " 'https://i.ytimg.com/vi/aPrSAvwuhTk/hqdefault.jpg',\n",
       " 'https://i.ytimg.com/vi/aPrSAvwuhTk/hqdefault.jpg',\n",
       " 'https://i.ytimg.com/vi/tigMKfSBJ9E/hqdefault.jpg',\n",
       " 'https://i.ytimg.com/vi/tigMKfSBJ9E/hqdefault.jpg',\n",
       " 'https://i.ytimg.com/vi/tigMKfSBJ9E/hqdefault.jpg',\n",
       " 'https://i.ytimg.com/vi/tigMKfSBJ9E/hqdefault.jpg',\n",
       " 'https://i.ytimg.com/vi/2OrYDCb737E/hqdefault.jpg',\n",
       " 'https://i.ytimg.com/vi/2OrYDCb737E/hqdefault.jpg',\n",
       " 'https://i.ytimg.com/vi/2OrYDCb737E/hqdefault.jpg',\n",
       " 'https://i.ytimg.com/vi/2OrYDCb737E/hqdefault.jpg',\n",
       " 'https://i.ytimg.com/vi/U1FxvG4GNAY/hqdefault.jpg',\n",
       " 'https://i.ytimg.com/vi/U1FxvG4GNAY/hqdefault.jpg',\n",
       " 'https://i.ytimg.com/vi/U1FxvG4GNAY/hqdefault.jpg',\n",
       " 'https://i.ytimg.com/vi/U1FxvG4GNAY/hqdefault.jpg',\n",
       " 'https://i.ytimg.com/vi/t961YvjKH20/hqdefault.jpg',\n",
       " 'https://i.ytimg.com/vi/t961YvjKH20/hqdefault.jpg',\n",
       " 'https://i.ytimg.com/vi/t961YvjKH20/hqdefault.jpg',\n",
       " 'https://i.ytimg.com/vi/t961YvjKH20/hqdefault.jpg',\n",
       " 'https://i.ytimg.com/vi/XA03UtMWbIA/hqdefault.jpg',\n",
       " 'https://i.ytimg.com/vi/XA03UtMWbIA/hqdefault.jpg',\n",
       " 'https://i.ytimg.com/vi/XA03UtMWbIA/hqdefault.jpg',\n",
       " 'https://i.ytimg.com/vi/XA03UtMWbIA/hqdefault.jpg',\n",
       " 'https://i.ytimg.com/vi/9jfTn4lcLu4/hqdefault.jpg',\n",
       " 'https://i.ytimg.com/vi/9jfTn4lcLu4/hqdefault.jpg',\n",
       " 'https://i.ytimg.com/vi/9jfTn4lcLu4/hqdefault.jpg',\n",
       " 'https://i.ytimg.com/vi/9jfTn4lcLu4/hqdefault.jpg',\n",
       " 'https://i.ytimg.com/vi/c_pKfD4UgFg/hqdefault.jpg',\n",
       " 'https://i.ytimg.com/vi/c_pKfD4UgFg/hqdefault.jpg',\n",
       " 'https://i.ytimg.com/vi/c_pKfD4UgFg/hqdefault.jpg',\n",
       " 'https://i.ytimg.com/vi/c_pKfD4UgFg/hqdefault.jpg',\n",
       " 'https://i.ytimg.com/vi/RWcwMNVdp9c/hqdefault.jpg',\n",
       " 'https://i.ytimg.com/vi/RWcwMNVdp9c/hqdefault.jpg',\n",
       " 'https://i.ytimg.com/vi/RWcwMNVdp9c/hqdefault.jpg',\n",
       " 'https://i.ytimg.com/vi/RWcwMNVdp9c/hqdefault.jpg',\n",
       " 'https://i.ytimg.com/vi/jzclZf2NaFM/hqdefault.jpg',\n",
       " 'https://i.ytimg.com/vi/jzclZf2NaFM/hqdefault.jpg',\n",
       " 'https://i.ytimg.com/vi/jzclZf2NaFM/hqdefault.jpg',\n",
       " 'https://i.ytimg.com/vi/jzclZf2NaFM/hqdefault.jpg',\n",
       " 'https://i.ytimg.com/vi/hzwEXoQDNCs/hqdefault.jpg',\n",
       " 'https://i.ytimg.com/vi/hzwEXoQDNCs/hqdefault.jpg',\n",
       " 'https://i.ytimg.com/vi/hzwEXoQDNCs/hqdefault.jpg',\n",
       " 'https://i.ytimg.com/vi/hzwEXoQDNCs/hqdefault.jpg',\n",
       " 'https://i.ytimg.com/vi/0s6hAsFGxYE/hqdefault.jpg',\n",
       " 'https://i.ytimg.com/vi/0s6hAsFGxYE/hqdefault.jpg',\n",
       " 'https://i.ytimg.com/vi/0s6hAsFGxYE/hqdefault.jpg',\n",
       " 'https://i.ytimg.com/vi/0s6hAsFGxYE/hqdefault.jpg',\n",
       " 'https://i.ytimg.com/vi/YXRyMc_noiE/hqdefault.jpg',\n",
       " 'https://i.ytimg.com/vi/YXRyMc_noiE/hqdefault.jpg',\n",
       " 'https://i.ytimg.com/vi/YXRyMc_noiE/hqdefault.jpg',\n",
       " 'https://i.ytimg.com/vi/YXRyMc_noiE/hqdefault.jpg',\n",
       " 'https://i.ytimg.com/vi/PI1obes98Zc/hqdefault.jpg',\n",
       " 'https://i.ytimg.com/vi/PI1obes98Zc/hqdefault.jpg',\n",
       " 'https://i.ytimg.com/vi/PI1obes98Zc/hqdefault.jpg',\n",
       " 'https://i.ytimg.com/vi/PI1obes98Zc/hqdefault.jpg',\n",
       " 'https://i.ytimg.com/vi/16fUsD0M1-I/hqdefault.jpg',\n",
       " 'https://i.ytimg.com/vi/16fUsD0M1-I/hqdefault.jpg',\n",
       " 'https://i.ytimg.com/vi/16fUsD0M1-I/hqdefault.jpg',\n",
       " 'https://i.ytimg.com/vi/16fUsD0M1-I/hqdefault.jpg',\n",
       " 'https://i.ytimg.com/vi/S0RySN5arvk/hqdefault.jpg',\n",
       " 'https://i.ytimg.com/vi/S0RySN5arvk/hqdefault.jpg',\n",
       " 'https://i.ytimg.com/vi/S0RySN5arvk/hqdefault.jpg',\n",
       " 'https://i.ytimg.com/vi/S0RySN5arvk/hqdefault.jpg',\n",
       " 'https://i.ytimg.com/vi/HzBhwxMrt8A/hqdefault.jpg',\n",
       " 'https://i.ytimg.com/vi/HzBhwxMrt8A/hqdefault.jpg',\n",
       " 'https://i.ytimg.com/vi/HzBhwxMrt8A/hqdefault.jpg',\n",
       " 'https://i.ytimg.com/vi/HzBhwxMrt8A/hqdefault.jpg',\n",
       " 'https://i.ytimg.com/vi/60_B3haKADw/hqdefault.jpg',\n",
       " 'https://i.ytimg.com/vi/60_B3haKADw/hqdefault.jpg',\n",
       " 'https://i.ytimg.com/vi/60_B3haKADw/hqdefault.jpg',\n",
       " 'https://i.ytimg.com/vi/60_B3haKADw/hqdefault.jpg',\n",
       " 'https://i.ytimg.com/vi/46CNHP9wBAs/hqdefault.jpg',\n",
       " 'https://i.ytimg.com/vi/46CNHP9wBAs/hqdefault.jpg',\n",
       " 'https://i.ytimg.com/vi/46CNHP9wBAs/hqdefault.jpg',\n",
       " 'https://i.ytimg.com/vi/46CNHP9wBAs/hqdefault.jpg',\n",
       " 'https://i.ytimg.com/vi/1Wk5gJtZ2sQ/hqdefault.jpg',\n",
       " 'https://i.ytimg.com/vi/1Wk5gJtZ2sQ/hqdefault.jpg',\n",
       " 'https://i.ytimg.com/vi/1Wk5gJtZ2sQ/hqdefault.jpg',\n",
       " 'https://i.ytimg.com/vi/1Wk5gJtZ2sQ/hqdefault.jpg',\n",
       " 'https://i.ytimg.com/vi/iM_hVnElC-Q/hqdefault.jpg',\n",
       " 'https://i.ytimg.com/vi/iM_hVnElC-Q/hqdefault.jpg',\n",
       " 'https://i.ytimg.com/vi/iM_hVnElC-Q/hqdefault.jpg',\n",
       " 'https://i.ytimg.com/vi/iM_hVnElC-Q/hqdefault.jpg',\n",
       " 'https://i.ytimg.com/vi/Prly9d7LoAQ/hqdefault.jpg',\n",
       " 'https://i.ytimg.com/vi/Prly9d7LoAQ/hqdefault.jpg',\n",
       " 'https://i.ytimg.com/vi/Prly9d7LoAQ/hqdefault.jpg',\n",
       " 'https://i.ytimg.com/vi/Prly9d7LoAQ/hqdefault.jpg',\n",
       " 'https://i.ytimg.com/vi/AvwBDiCWSEM/hqdefault.jpg',\n",
       " 'https://i.ytimg.com/vi/AvwBDiCWSEM/hqdefault.jpg',\n",
       " 'https://i.ytimg.com/vi/AvwBDiCWSEM/hqdefault.jpg',\n",
       " 'https://i.ytimg.com/vi/AvwBDiCWSEM/hqdefault.jpg',\n",
       " 'https://i.ytimg.com/vi/jQzKkMEaWFA/hqdefault.jpg',\n",
       " 'https://i.ytimg.com/vi/jQzKkMEaWFA/hqdefault.jpg',\n",
       " 'https://i.ytimg.com/vi/jQzKkMEaWFA/hqdefault.jpg',\n",
       " 'https://i.ytimg.com/vi/jQzKkMEaWFA/hqdefault.jpg',\n",
       " 'https://i.ytimg.com/vi/6weIshsiLlM/hqdefault.jpg',\n",
       " 'https://i.ytimg.com/vi/6weIshsiLlM/hqdefault.jpg',\n",
       " 'https://i.ytimg.com/vi/6weIshsiLlM/hqdefault.jpg',\n",
       " 'https://i.ytimg.com/vi/6weIshsiLlM/hqdefault.jpg',\n",
       " 'https://i.ytimg.com/vi/-osuIPJkPWg/hqdefault.jpg',\n",
       " 'https://i.ytimg.com/vi/-osuIPJkPWg/hqdefault.jpg',\n",
       " 'https://i.ytimg.com/vi/-osuIPJkPWg/hqdefault.jpg',\n",
       " 'https://i.ytimg.com/vi/-osuIPJkPWg/hqdefault.jpg',\n",
       " 'https://i.ytimg.com/vi/VsKb_U2-Cx0/hqdefault.jpg',\n",
       " 'https://i.ytimg.com/vi/VsKb_U2-Cx0/hqdefault.jpg',\n",
       " 'https://i.ytimg.com/vi/VsKb_U2-Cx0/hqdefault.jpg',\n",
       " 'https://i.ytimg.com/vi/VsKb_U2-Cx0/hqdefault.jpg',\n",
       " 'https://i.ytimg.com/vi/ZNHlCezYN1I/hqdefault.jpg',\n",
       " 'https://i.ytimg.com/vi/ZNHlCezYN1I/hqdefault.jpg',\n",
       " 'https://i.ytimg.com/vi/ZNHlCezYN1I/hqdefault.jpg',\n",
       " 'https://i.ytimg.com/vi/ZNHlCezYN1I/hqdefault.jpg',\n",
       " 'https://i.ytimg.com/vi/nNmV-fuGW5c/hqdefault.jpg',\n",
       " 'https://i.ytimg.com/vi/nNmV-fuGW5c/hqdefault.jpg',\n",
       " 'https://i.ytimg.com/vi/nNmV-fuGW5c/hqdefault.jpg',\n",
       " 'https://i.ytimg.com/vi/nNmV-fuGW5c/hqdefault.jpg',\n",
       " 'https://i.ytimg.com/vi/6Mht7UigC_w/hqdefault.jpg',\n",
       " 'https://i.ytimg.com/vi/6Mht7UigC_w/hqdefault.jpg',\n",
       " 'https://i.ytimg.com/vi/6Mht7UigC_w/hqdefault.jpg',\n",
       " 'https://i.ytimg.com/vi/6Mht7UigC_w/hqdefault.jpg']"
      ]
     },
     "execution_count": 17,
     "metadata": {},
     "output_type": "execute_result"
    }
   ],
   "source": [
    "vid_thumbnails = re.findall(r\"https://i.ytimg.com/vi/[A-Za-z0-9_-]{11}/[A-Za-z0-9_]{9}.jpg\", response_text)\n",
    "vid_thumbnails"
   ]
  },
  {
   "cell_type": "code",
   "execution_count": 18,
   "id": "3459c5ea-44e0-462b-8a1a-a9b470e76e90",
   "metadata": {},
   "outputs": [
    {
     "data": {
      "text/plain": [
       "['watch?v=aPrSAvwuhTk',\n",
       " 'watch?v=tigMKfSBJ9E',\n",
       " 'watch?v=2OrYDCb737E',\n",
       " 'watch?v=U1FxvG4GNAY',\n",
       " 'watch?v=t961YvjKH20',\n",
       " 'watch?v=XA03UtMWbIA',\n",
       " 'watch?v=9jfTn4lcLu4',\n",
       " 'watch?v=c_pKfD4UgFg',\n",
       " 'watch?v=RWcwMNVdp9c',\n",
       " 'watch?v=jzclZf2NaFM',\n",
       " 'watch?v=hzwEXoQDNCs',\n",
       " 'watch?v=0s6hAsFGxYE',\n",
       " 'watch?v=YXRyMc_noiE',\n",
       " 'watch?v=PI1obes98Zc',\n",
       " 'watch?v=16fUsD0M1-I',\n",
       " 'watch?v=S0RySN5arvk',\n",
       " 'watch?v=HzBhwxMrt8A',\n",
       " 'watch?v=60_B3haKADw',\n",
       " 'watch?v=46CNHP9wBAs',\n",
       " 'watch?v=1Wk5gJtZ2sQ',\n",
       " 'watch?v=iM_hVnElC-Q',\n",
       " 'watch?v=Prly9d7LoAQ',\n",
       " 'watch?v=AvwBDiCWSEM',\n",
       " 'watch?v=jQzKkMEaWFA',\n",
       " 'watch?v=6weIshsiLlM',\n",
       " 'watch?v=-osuIPJkPWg',\n",
       " 'watch?v=VsKb_U2-Cx0',\n",
       " 'watch?v=ZNHlCezYN1I',\n",
       " 'watch?v=nNmV-fuGW5c',\n",
       " 'watch?v=6Mht7UigC_w']"
      ]
     },
     "execution_count": 18,
     "metadata": {},
     "output_type": "execute_result"
    }
   ],
   "source": [
    "vid_links = re.findall(r\"watch\\?v=[A-Za-z0-9_-]{11}\", response_text)\n",
    "vid_links"
   ]
  },
  {
   "cell_type": "code",
   "execution_count": 19,
   "id": "652cd2a4-f75c-45b3-8aa5-27b69d764001",
   "metadata": {},
   "outputs": [
    {
     "data": {
      "text/plain": [
       "re.compile(r'[0-9]+(\\.[0-9]+)?[a-zA-Z]*K views', re.UNICODE)"
      ]
     },
     "execution_count": 19,
     "metadata": {},
     "output_type": "execute_result"
    }
   ],
   "source": [
    "pattern3 = re.compile(r\"[0-9]+(\\.[0-9]+)?[a-zA-Z]*K views\")  # view count\n",
    "pattern3"
   ]
  },
  {
   "cell_type": "code",
   "execution_count": 20,
   "id": "536e28fe-8f2e-4508-b7eb-0bf4e1a8e09c",
   "metadata": {},
   "outputs": [
    {
     "data": {
      "text/plain": [
       "re.compile(r'\\d+ (minutes|hours|hour|days|day|weeks|week|years|year) ago',\n",
       "           re.UNICODE)"
      ]
     },
     "execution_count": 20,
     "metadata": {},
     "output_type": "execute_result"
    }
   ],
   "source": [
    "pattern4 = re.compile(r\"\\d+ (minutes|hours|hour|days|day|weeks|week|years|year) ago\")  # vedio age\n",
    "pattern4"
   ]
  },
  {
   "cell_type": "code",
   "execution_count": 21,
   "id": "abdaeeb3-dc89-4071-8896-39c1aa9729de",
   "metadata": {},
   "outputs": [],
   "source": [
    "matches1 = pattern3.finditer(response_text)\n",
    "matches2 = pattern4.finditer(response_text)"
   ]
  },
  {
   "cell_type": "code",
   "execution_count": 22,
   "id": "f6fa161f-9fb7-4674-ab51-3db04471bfe2",
   "metadata": {},
   "outputs": [
    {
     "data": {
      "text/plain": [
       "<callable_iterator at 0x7f5281245c30>"
      ]
     },
     "execution_count": 22,
     "metadata": {},
     "output_type": "execute_result"
    }
   ],
   "source": [
    "matches1"
   ]
  },
  {
   "cell_type": "code",
   "execution_count": 21,
   "id": "42d2c6a2-b01d-4766-a195-371346b6abf3",
   "metadata": {},
   "outputs": [],
   "source": [
    "vid_viewcounts=[]\n",
    "vid_ages=[]\n",
    "count = 0\n",
    "for match1,match2 in zip(matches1,matches2):\n",
    "    vid_ages.append(match2[0])\n",
    "    vid_viewcounts.append(match1[0])"
   ]
  },
  {
   "cell_type": "code",
   "execution_count": 22,
   "id": "bb614846-cd4f-4ff6-a29f-1cd134a7de5c",
   "metadata": {},
   "outputs": [
    {
     "data": {
      "text/plain": [
       "[{'title': 'Bachoo आपके क्या Plan है इस Summer Vacation ❓❓',\n",
       "  'thumbnail': 'https://i.ytimg.com/vi/tigMKfSBJ9E/hqdefault.jpg',\n",
       "  'link': 'https://www.youtube.com/watch?v=tigMKfSBJ9E',\n",
       "  'viewcount': '29K views',\n",
       "  'age': '22 hours ago'},\n",
       " {'title': 'The Ultimate Class 11th Survival Guide: Tips and Tricks for Success',\n",
       "  'thumbnail': 'https://i.ytimg.com/vi/2OrYDCb737E/hqdefault.jpg',\n",
       "  'link': 'https://www.youtube.com/watch?v=2OrYDCb737E',\n",
       "  'viewcount': '122K views',\n",
       "  'age': '2 days ago'},\n",
       " {'title': 'If not MBBS then What ❓|| Career Options for Biology Students',\n",
       "  'thumbnail': 'https://i.ytimg.com/vi/U1FxvG4GNAY/hqdefault.jpg',\n",
       "  'link': 'https://www.youtube.com/watch?v=U1FxvG4GNAY',\n",
       "  'viewcount': '33K views',\n",
       "  'age': '3 days ago'},\n",
       " {'title': 'Why Commerce After 10th, Explore the Best Career Options | Must Watch',\n",
       "  'thumbnail': 'https://i.ytimg.com/vi/t961YvjKH20/hqdefault.jpg',\n",
       "  'link': 'https://www.youtube.com/watch?v=t961YvjKH20',\n",
       "  'viewcount': '32K views',\n",
       "  'age': '5 days ago'},\n",
       " {'title': 'Class 10th Ke Baad Konsi Stream Le? || Strategy Wallah || PW Foundation',\n",
       "  'thumbnail': 'https://i.ytimg.com/vi/XA03UtMWbIA/hqdefault.jpg',\n",
       "  'link': 'https://www.youtube.com/watch?v=XA03UtMWbIA',\n",
       "  'viewcount': '60K views',\n",
       "  'age': '6 days ago'},\n",
       " {'title': 'तो चलिए शुरू करते है AIIMS Jane Ki Tayyari !! Revealing Arjuna NEET Faculties 🙏 Check Description.',\n",
       "  'thumbnail': 'https://i.ytimg.com/vi/9jfTn4lcLu4/hqdefault.jpg',\n",
       "  'link': 'https://www.youtube.com/watch?v=9jfTn4lcLu4',\n",
       "  'viewcount': '59K views',\n",
       "  'age': '8 days ago'},\n",
       " {'title': 'Ruman Ashraf - Bihar Board Class 10th TOPPER from PW !! Udaan Batch⚡',\n",
       "  'thumbnail': 'https://i.ytimg.com/vi/c_pKfD4UgFg/hqdefault.jpg',\n",
       "  'link': 'https://www.youtube.com/watch?v=c_pKfD4UgFg',\n",
       "  'viewcount': '77K views',\n",
       "  'age': '8 days ago'},\n",
       " {'title': 'Complete Roadmap on How to Start Class 9th 🔥 || Full Year Long Strategy For Students 💯',\n",
       "  'thumbnail': 'https://i.ytimg.com/vi/RWcwMNVdp9c/hqdefault.jpg',\n",
       "  'link': 'https://www.youtube.com/watch?v=RWcwMNVdp9c',\n",
       "  'viewcount': '58K views',\n",
       "  'age': '9 days ago'},\n",
       " {'title': 'Class 10th Over 😎 अब Class 11th JEE की तैयारी !! Check Description.',\n",
       "  'thumbnail': 'https://i.ytimg.com/vi/jzclZf2NaFM/hqdefault.jpg',\n",
       "  'link': 'https://www.youtube.com/watch?v=jzclZf2NaFM',\n",
       "  'viewcount': '77K views',\n",
       "  'age': '10 days ago'},\n",
       " {'title': 'Aarambh Batch 2024 | For CBSE Class 11th Commerce | Biggest Launch🔥',\n",
       "  'thumbnail': 'https://i.ytimg.com/vi/hzwEXoQDNCs/hqdefault.jpg',\n",
       "  'link': 'https://www.youtube.com/watch?v=hzwEXoQDNCs',\n",
       "  'viewcount': '53K views',\n",
       "  'age': '13 days ago'}]"
      ]
     },
     "execution_count": 22,
     "metadata": {},
     "output_type": "execute_result"
    }
   ],
   "source": [
    "titles = vid_titles[0:10]\n",
    "thumbnails = list(dict.fromkeys(vid_thumbnails))\n",
    "links = vid_links[0:10]\n",
    "viewcounts=vid_viewcounts[0:20:2]\n",
    "ages=vid_ages[0:20:2]\n",
    "\n",
    "details_list=[]\n",
    "\n",
    "for title,thumbnail,link,viewcount,age in zip(titles,thumbnails,links,viewcounts,ages):\n",
    "    details_dict={\n",
    "    \"title\":title.split('\"')[-2], \"thumbnail\": thumbnail, \"link\": \"https://www.youtube.com/\"+link,\n",
    "    \"viewcount\": viewcount, \"age\": age\n",
    "    }\n",
    "    details_list.append(details_dict)\n",
    "\n",
    "\n",
    "\n",
    "details_list"
   ]
  },
  {
   "cell_type": "code",
   "execution_count": 23,
   "id": "b5b18705-23ee-4d11-9609-9879f48c82f3",
   "metadata": {},
   "outputs": [],
   "source": [
    "df = pd.DataFrame(details_list)\n",
    "df.to_csv('YTscrapData.csv', index=False)"
   ]
  },
  {
   "cell_type": "code",
   "execution_count": null,
   "id": "c16a26d7-024e-41c9-9365-bdd23778d96f",
   "metadata": {},
   "outputs": [],
   "source": []
  }
 ],
 "metadata": {
  "kernelspec": {
   "display_name": "Python 3 (ipykernel)",
   "language": "python",
   "name": "python3"
  },
  "language_info": {
   "codemirror_mode": {
    "name": "ipython",
    "version": 3
   },
   "file_extension": ".py",
   "mimetype": "text/x-python",
   "name": "python",
   "nbconvert_exporter": "python",
   "pygments_lexer": "ipython3",
   "version": "3.10.8"
  }
 },
 "nbformat": 4,
 "nbformat_minor": 5
}
