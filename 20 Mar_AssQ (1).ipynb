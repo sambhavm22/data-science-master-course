{
 "cells": [
  {
   "cell_type": "markdown",
   "id": "5d52b223-ccb9-421d-b0d4-94676ad52a39",
   "metadata": {},
   "source": [
    "Q1. What is data encoding? How is it useful in data science?\n",
    "\n",
    "Q2. What is nominal encoding? Provide an example of how you would use it in a real-world scenario.\n",
    "\n",
    "Q3. In what situations is nominal encoding preferred over one-hot encoding? Provide a practical example.\n",
    "\n",
    "Q4. Suppose you have a dataset containing categorical data with 5 unique values. Which encoding technique would you use to transform this data into a format suitable for machine learning algorithms? Explain why you made this choice.\n",
    "\n",
    "Q5. In a machine learning project, you have a dataset with 1000 rows and 5 columns. Two of the columns are categorical, and the remaining three columns are numerical. If you were to use nominal encoding to transform the categorical data, how many new columns would be created? Show your calculations.\n",
    "\n",
    "Q6. You are working with a dataset containing information about different types of animals, including their species, habitat, and diet. Which encoding technique would you use to transform the categorical data into a format suitable for machine learning algorithms? Justify your answer.\n",
    "\n",
    "Q7.You are working on a project that involves predicting customer churn for a telecommunications company. You have a dataset with 5 features, including the customer's gender, age, contract type, monthly charges, and tenure. Which encoding technique(s) would you use to transform the categorical data into numerical data? Provide a step-by-step explanation of how you would implement the encoding."
   ]
  },
  {
   "cell_type": "markdown",
   "id": "b0d74ff8-b398-4ec7-976f-1524373f5e74",
   "metadata": {},
   "source": [
    "### Q1. What is data encoding? How is it useful in data science?\n",
    "\n",
    "Data encoding is the process of converting data from one form to another to make it suitable for data processing and analysis. In data science, encoding is useful for transforming categorical or textual data into numerical data that can be used for machine learning algorithms and other analytical techniques. Data encoding is a technique that is used to convert categorical variable into a numerical value, making it readable for the machine to perform machine learing algothrims."
   ]
  },
  {
   "cell_type": "markdown",
   "id": "4ecb09bf-755b-4a8f-b915-0f75d5245025",
   "metadata": {},
   "source": [
    "### Q2. What is nominal encoding? Provide an example of how you would use it in a real-world scenario.\n",
    "\n",
    "Nominal encoding is a data encoding technique used to convert categorical data into numerical value by assigning a unique value to each and every categorical value. However, this technique is not that useful when we have a large dataset. \n",
    "\n",
    "Nominal encoding is a technique used in data encoding to represent categorical variables as numbers. In nominal encoding, each unique value of a categorical variable is assigned a unique integer code."
   ]
  },
  {
   "cell_type": "code",
   "execution_count": 5,
   "id": "1bd9b39b-8649-4df3-af00-7a48e265c37f",
   "metadata": {},
   "outputs": [
    {
     "data": {
      "text/html": [
       "<div>\n",
       "<style scoped>\n",
       "    .dataframe tbody tr th:only-of-type {\n",
       "        vertical-align: middle;\n",
       "    }\n",
       "\n",
       "    .dataframe tbody tr th {\n",
       "        vertical-align: top;\n",
       "    }\n",
       "\n",
       "    .dataframe thead th {\n",
       "        text-align: right;\n",
       "    }\n",
       "</style>\n",
       "<table border=\"1\" class=\"dataframe\">\n",
       "  <thead>\n",
       "    <tr style=\"text-align: right;\">\n",
       "      <th></th>\n",
       "      <th>product_categories</th>\n",
       "      <th>encoded_product_categories</th>\n",
       "    </tr>\n",
       "  </thead>\n",
       "  <tbody>\n",
       "    <tr>\n",
       "      <th>0</th>\n",
       "      <td>t.v</td>\n",
       "      <td>0</td>\n",
       "    </tr>\n",
       "    <tr>\n",
       "      <th>1</th>\n",
       "      <td>fridge</td>\n",
       "      <td>1</td>\n",
       "    </tr>\n",
       "    <tr>\n",
       "      <th>2</th>\n",
       "      <td>laptop</td>\n",
       "      <td>2</td>\n",
       "    </tr>\n",
       "    <tr>\n",
       "      <th>3</th>\n",
       "      <td>a.c</td>\n",
       "      <td>3</td>\n",
       "    </tr>\n",
       "    <tr>\n",
       "      <th>4</th>\n",
       "      <td>remote</td>\n",
       "      <td>4</td>\n",
       "    </tr>\n",
       "  </tbody>\n",
       "</table>\n",
       "</div>"
      ],
      "text/plain": [
       "  product_categories  encoded_product_categories\n",
       "0                t.v                           0\n",
       "1             fridge                           1\n",
       "2             laptop                           2\n",
       "3                a.c                           3\n",
       "4             remote                           4"
      ]
     },
     "execution_count": 5,
     "metadata": {},
     "output_type": "execute_result"
    }
   ],
   "source": [
    "import pandas as pd\n",
    "\n",
    "df = pd.DataFrame({'product_categories' : ['t.v', 'fridge', 'laptop', 'a.c', 'remote']\n",
    "})\n",
    "\n",
    "df['encoded_product_categories'] = pd.factorize(df['product_categories'])[0]\n",
    "\n",
    "df"
   ]
  },
  {
   "cell_type": "markdown",
   "id": "b0d15bc8-e803-46ed-896a-437c6c4796ae",
   "metadata": {},
   "source": [
    "### Q3. In what situations is nominal encoding preferred over one-hot encoding? Provide a practical example.\n",
    "\n",
    "Nominal encoding is preferred over one-hot encoding when there are a large number of unique categorical values in a dataset. One practical example is when dealing with text data, where the number of unique words in a corpus can be very large, making one-hot encoding infeasible. In such cases, nominal encoding can be used to map each word to a unique integer, which can then be used as a feature in a machine learning model."
   ]
  },
  {
   "cell_type": "code",
   "execution_count": 18,
   "id": "b1a9d31c-4aaf-4ee2-8307-cb656501f26a",
   "metadata": {},
   "outputs": [
    {
     "name": "stdout",
     "output_type": "stream",
     "text": [
      "Original data:  ['apple', 'banana', 'orange', 'banana', 'apple', 'orange']\n",
      "Encoded data:  [0 1 2 1 0 2]\n"
     ]
    }
   ],
   "source": [
    "from sklearn.preprocessing import LabelEncoder\n",
    "\n",
    "# Example dataset\n",
    "fruits = ['apple', 'banana', 'orange', 'banana', 'apple', 'orange']\n",
    "\n",
    "# Create an instance of LabelEncoder\n",
    "le = LabelEncoder()\n",
    "\n",
    "# Fit the encoder to the data\n",
    "le.fit(fruits)\n",
    "\n",
    "# Transform the data using the fitted encoder\n",
    "encoded_fruits = le.transform(fruits)\n",
    "\n",
    "# Print the original and encoded data\n",
    "print(\"Original data: \", fruits)\n",
    "print(\"Encoded data: \", encoded_fruits)\n"
   ]
  },
  {
   "cell_type": "markdown",
   "id": "8d031669-b009-4cbb-be5f-05a2650c9558",
   "metadata": {},
   "source": [
    "### Q4. Suppose you have a dataset containing categorical data with 5 unique values. Which encoding technique would you use to transform this data into a format suitable for machine learning algorithms? Explain why you made this choice.\n",
    "\n",
    "\n",
    "If the categorical data has 5 unique values, we can use either one-hot encoding or label encoding to transform the data into a format suitable for machine learning algorithms.\n",
    "\n",
    "One-hot encoding creates a binary vector of length equal to the number of unique values, where only one element is 1 to represent the category, and all other elements are 0. This encoding technique is useful when there is no inherent order or hierarchy in the categories.\n",
    "\n",
    "Label encoding, on the other hand, assigns a unique integer to each category. This technique is useful when there is an inherent order or hierarchy in the categories. \n",
    "\n",
    "The choice between one-hot encoding and label encoding depends on the specific characteristics of the data and the requirements of the machine learning algorithm being used. If there is no inherent order or hierarchy in the categories, then one-hot encoding is usually preferred because it avoids introducing unintended patterns or relationships in the data. However, if there is an inherent order or hierarchy, then label encoding may be more appropriate.\n",
    "\n",
    "For example, suppose we have a dataset containing a categorical feature \"size\" with 5 unique values: \"small\", \"medium\", \"large\", \"extra-large\", and \"jumbo\". In this case, we can use either one-hot encoding or label encoding to transform the data. If we use one-hot encoding, we would create a binary vector of length 5 for each data point. If we use label encoding, we would assign the values 0 to 4 to represent the 5 categories. The choice between these encoding techniques would depend on the specific characteristics of the data and the machine learning algorithm being used."
   ]
  },
  {
   "cell_type": "markdown",
   "id": "2ff125d9-b1d6-44a5-8db7-17e7b7e15752",
   "metadata": {},
   "source": [
    "### Q5. In a machine learning project, you have a dataset with 1000 rows and 5 columns. Two of the columns are categorical, and the remaining three columns are numerical. If you were to use nominal encoding to transform the categorical data, how many new columns would be created? Show your calculations.\n",
    "\n",
    "If we have two categorical columns, then we will need to apply nominal encoding to convert them into numerical format. Suppose the first column has 4 unique categories, and the second column has 6 unique categories.\n",
    "\n",
    "To transform the first column, we will create 4 new columns (one for each category). Each row will have a value of 0 or 1 in the appropriate column, depending on which category it belongs to.\n",
    "\n",
    "To transform the second column, we will create 6 new columns (one for each category). Each row will have a value of 0 or 1 in the appropriate column, depending on which category it belongs to.\n",
    "\n",
    "Therefore, using nominal encoding will result in the creation of 4 + 6 = 10 new columns."
   ]
  },
  {
   "cell_type": "markdown",
   "id": "9affe818-b2cb-4309-9535-9318bc75cdab",
   "metadata": {},
   "source": [
    "### Q6. You are working with a dataset containing information about different types of animals, including their species, habitat, and diet. Which encoding technique would you use to transform the categorical data into a format suitable for machine learning algorithms? Justify your answer.\n",
    "\n",
    "The choice of encoding technique to transform categorical data depends on the specific characteristics of the dataset, the machine learning algorithm being used, and the desired output. In general, if the number of unique categories in a categorical variable is relatively small, nominal encoding can be used. However, if the number of unique categories is large, one-hot encoding may be more appropriate.\n",
    "\n",
    "In the given scenario, since the dataset contains information about different types of animals, it is likely that there are many unique values in the categorical variables (species, habitat, and diet). Therefore, one-hot encoding would be a suitable technique to transform the categorical data into a format suitable for machine learning algorithms. This would result in a larger number of new columns, but it would allow the machine learning algorithm to effectively capture the relationships between the categorical variables and the outcome variable."
   ]
  },
  {
   "cell_type": "markdown",
   "id": "d5b93b49-70fa-488f-93ed-fa17459e7b2f",
   "metadata": {},
   "source": [
    "### Q7.You are working on a project that involves predicting customer churn for a telecommunications company. You have a dataset with 5 features, including the customer's gender, age, contract type, monthly charges, and tenure. Which encoding technique(s) would you use to transform the categorical data into numerical data? Provide a step-by-step explanation of how you would implement the encoding.\n",
    "\n",
    "To transform the categorical data into numerical data, we can use either nominal encoding or one-hot encoding. Here's how to implement each of them step-by-step:\n",
    "\n",
    "Nominal Encoding:\n",
    "\n",
    "Convert the categorical features into numerical values using a mapping function. For example, we can map \"male\" to 0 and \"female\" to 1 for the gender feature, and \"month-to-month\" to 0, \"one year\" to 1, and \"two year\" to 2 for the contract type feature.\n",
    "Apply Min-Max scaling to scale the numerical features between 0 and 1.\n",
    "One-Hot Encoding:\n",
    "\n",
    "Use the pandas.get_dummies() function to convert each categorical feature into a set of binary features.\n",
    "Apply Min-Max scaling to scale the numerical features between 0 and 1.\n",
    "In this scenario, we have only two categorical features, gender and contract type. Nominal encoding would be the preferred choice as it reduces the number of features and also handles ordinal data. The age, monthly charges, and tenure features are already numerical, so we can apply Min-Max scaling to scale them between 0 and 1."
   ]
  },
  {
   "cell_type": "code",
   "execution_count": null,
   "id": "cd7e360c-c9a5-4e06-9fdc-55e854fba945",
   "metadata": {},
   "outputs": [],
   "source": []
  }
 ],
 "metadata": {
  "kernelspec": {
   "display_name": "Python 3 (ipykernel)",
   "language": "python",
   "name": "python3"
  },
  "language_info": {
   "codemirror_mode": {
    "name": "ipython",
    "version": 3
   },
   "file_extension": ".py",
   "mimetype": "text/x-python",
   "name": "python",
   "nbconvert_exporter": "python",
   "pygments_lexer": "ipython3",
   "version": "3.10.8"
  }
 },
 "nbformat": 4,
 "nbformat_minor": 5
}
