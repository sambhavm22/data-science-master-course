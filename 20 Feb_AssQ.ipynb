{
 "cells": [
  {
   "cell_type": "markdown",
   "id": "ce9b6f07-ff3b-48ca-bb8f-4d3d82dee916",
   "metadata": {},
   "source": [
    "Q1. Explain GET and POST methods.\n",
    "\n",
    "Q2. Why is request used in Flask?\n",
    "\n",
    "Q3. Why is redirect() used in Flask?\n",
    "\n",
    "Q4. What are templates in Flask? Why is the render_template() function used?\n",
    "\n",
    "Q5. Create a simple API. Use Postman to test it. Attach the screenshot of the output in the Jupyter Notebook."
   ]
  },
  {
   "cell_type": "markdown",
   "id": "e1842949-c0fe-4d01-a92e-8f2861fd906b",
   "metadata": {},
   "source": [
    "### Answer 1\n",
    "\n",
    "GET and POST are HTTP methods used for sending requests from a client (such as a web browser) to a server to retrieve or submit data.\n",
    "\n",
    "GET is used for retrieving data, while POST is used for submitting data to a server. GET requests are considered safe and idempotent, while POST requests are not idempotent and can modify or create data on the server.\n",
    "\n",
    "\n",
    "\n"
   ]
  },
  {
   "cell_type": "markdown",
   "id": "277f015d-4109-4e51-a823-957960b2cc2a",
   "metadata": {},
   "source": [
    "### Answer 2\n",
    "\n",
    "the request object is used to access incoming data from a client's HTTP request. It is a global variable that is available to all functions in a Flask application and contains information about the current request, including the request method, headers, form data, query parameters, and uploaded files.\n",
    "\n",
    "Accessing form data submitted by a user in a POST request\n",
    "\n",
    "Retrieving query parameters sent in a GET request\n",
    "\n",
    "Accessing uploaded files in a request with the files attribute\n",
    "\n",
    "Accessing cookies sent by a client with the cookies attribute\n",
    "\n",
    "Checking the request method with the method attribute to perform different actions based on the HTTP method used"
   ]
  },
  {
   "cell_type": "markdown",
   "id": "13b10c7d-bad1-41a1-9767-8e7e656d7852",
   "metadata": {},
   "source": [
    "### Answer 3\n",
    "\n",
    "the redirect() function is used to redirect a client to a different URL. It is commonly used in web applications to redirect a user after a form submission or to redirect a user to a different page if they are not authenticated.\n",
    "\n",
    "Here are some common use cases for the redirect() function in Flask:\n",
    "\n",
    "After a successful form submission, redirect the user to a thank-you page or a confirmation page.\n",
    "If a user tries to access a page that requires authentication but is not authenticated, redirect them to the login page.\n",
    "If a user tries to access a page that does not exist, redirect them to a custom 404 page or the home page."
   ]
  },
  {
   "cell_type": "markdown",
   "id": "e86db456-39a9-42c6-ac52-281b1cac4f59",
   "metadata": {},
   "source": [
    "### Answer 4 \n",
    "\n",
    "templates are used to separate the presentation logic from the application logic. Templates are files that contain the HTML structure, CSS styles, and JavaScript code of a web page, and they allow developers to dynamically generate HTML pages with data from the application.\n",
    "\n",
    "the render_template() function is used to render a template and generate an HTML response that can be sent back to the client. It takes the name of a template file and any additional data that needs to be passed to the template as arguments.\n",
    "\n"
   ]
  },
  {
   "cell_type": "code",
   "execution_count": 3,
   "id": "e7e3a206-4dc0-4586-9878-a930c8780ef7",
   "metadata": {},
   "outputs": [
    {
     "name": "stdout",
     "output_type": "stream",
     "text": [
      "Collecting flask\n",
      "  Downloading Flask-2.2.3-py3-none-any.whl (101 kB)\n",
      "\u001b[2K     \u001b[90m━━━━━━━━━━━━━━━━━━━━━━━━━━━━━━━━━━━━━━━\u001b[0m \u001b[32m101.8/101.8 kB\u001b[0m \u001b[31m6.1 MB/s\u001b[0m eta \u001b[36m0:00:00\u001b[0m\n",
      "\u001b[?25hCollecting Werkzeug>=2.2.2\n",
      "  Downloading Werkzeug-2.2.3-py3-none-any.whl (233 kB)\n",
      "\u001b[2K     \u001b[90m━━━━━━━━━━━━━━━━━━━━━━━━━━━━━━━━━━━━━━\u001b[0m \u001b[32m233.6/233.6 kB\u001b[0m \u001b[31m11.0 MB/s\u001b[0m eta \u001b[36m0:00:00\u001b[0m\n",
      "\u001b[?25hRequirement already satisfied: click>=8.0 in /opt/conda/lib/python3.10/site-packages (from flask) (8.1.3)\n",
      "Requirement already satisfied: Jinja2>=3.0 in /opt/conda/lib/python3.10/site-packages (from flask) (3.1.2)\n",
      "Collecting itsdangerous>=2.0\n",
      "  Downloading itsdangerous-2.1.2-py3-none-any.whl (15 kB)\n",
      "Requirement already satisfied: MarkupSafe>=2.0 in /opt/conda/lib/python3.10/site-packages (from Jinja2>=3.0->flask) (2.1.1)\n",
      "Installing collected packages: Werkzeug, itsdangerous, flask\n",
      "Successfully installed Werkzeug-2.2.3 flask-2.2.3 itsdangerous-2.1.2\n"
     ]
    }
   ],
   "source": [
    "!pip install flask "
   ]
  },
  {
   "cell_type": "code",
   "execution_count": null,
   "id": "9ce3890a-70a9-46b2-a1fe-b9989c96405b",
   "metadata": {},
   "outputs": [
    {
     "name": "stdout",
     "output_type": "stream",
     "text": [
      " * Serving Flask app '__main__'\n",
      " * Debug mode: off\n"
     ]
    },
    {
     "name": "stderr",
     "output_type": "stream",
     "text": [
      "WARNING: This is a development server. Do not use it in a production deployment. Use a production WSGI server instead.\n",
      " * Running on all addresses (0.0.0.0)\n",
      " * Running on http://127.0.0.1:5000\n",
      " * Running on http://172.18.0.34:5000\n",
      "Press CTRL+C to quit\n"
     ]
    }
   ],
   "source": [
    "# Answer 5\n",
    "\n",
    "\n",
    "\n",
    "from flask import Flask, request, render_template, jsonify\n",
    "\n",
    "app = Flask(__name__)\n",
    "\n",
    "@app.route(\"/\")\n",
    "def home_page():\n",
    "    return render_template(\"index.html\")\n",
    "\n",
    "@app.route(\"/math\", methods = ['post'])\n",
    "def math_ops():\n",
    "    if (request.method == 'POST'):\n",
    "        ops = request.json['operation']\n",
    "        num1 = int(request.json['num1'])\n",
    "        num2 = int(request.json['num2'])\n",
    "        if ops == 'add':\n",
    "            r = num1 + num2\n",
    "            result = \"The sum of\" + str(num1) + 'and' +  str(num2) + 'is' + str(r)\n",
    "        \n",
    "\n",
    "        elif ops == 'subtract':\n",
    "            r = num1 - num2\n",
    "            result = \"The subtract of\" + str(num1) + 'and' +  str(num2) + 'is' + str(r)\n",
    "        \n",
    "\n",
    "        elif ops == 'multiply':\n",
    "            r = num1 * num2\n",
    "            result = \"The multiply of\" + str(num1) + 'and' +  str(num2) + 'is' + str(r)\n",
    "        \n",
    "\n",
    "        elif ops == 'divide':\n",
    "            r = num1 / num2\n",
    "            result = \"The divide of\" + str(num1) + 'and' +  str(num2) + 'is' + str(r)\n",
    "        \n",
    "        return jsonify(results)\n",
    "\n",
    "\n",
    "if __name__==\"__main__\":\n",
    "    app.run(host=\"0.0.0.0\")"
   ]
  },
  {
   "cell_type": "code",
   "execution_count": null,
   "id": "5b69ff55-3171-4799-8278-50f28de3087d",
   "metadata": {},
   "outputs": [],
   "source": []
  }
 ],
 "metadata": {
  "kernelspec": {
   "display_name": "Python 3 (ipykernel)",
   "language": "python",
   "name": "python3"
  },
  "language_info": {
   "codemirror_mode": {
    "name": "ipython",
    "version": 3
   },
   "file_extension": ".py",
   "mimetype": "text/x-python",
   "name": "python",
   "nbconvert_exporter": "python",
   "pygments_lexer": "ipython3",
   "version": "3.10.8"
  }
 },
 "nbformat": 4,
 "nbformat_minor": 5
}
