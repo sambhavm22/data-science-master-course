{
 "cells": [
  {
   "cell_type": "markdown",
   "id": "740a574c",
   "metadata": {},
   "source": [
    "Q1. Which function is used to open a file? What are the different modes of opening a file? Explain each mode\n",
    "of file opening.\n",
    "\n",
    "\n",
    "Q2. Why close() function is used? Why is it important to close a file?\n",
    "\n",
    "\n",
    "Q3. Write a python program to create a text file. Write ‘I want to become a Data Scientist’ in that file. Then\n",
    "close the file. Open this file and read the content of the file.\n",
    "\n",
    "\n",
    "Q4. Explain the following with python code: read(), readline() and readlines().\n",
    "\n",
    "\n",
    "Q5. Explain why with statement is used with open(). What is the advantage of using with statement and\n",
    "open() together?\n",
    "\n",
    "\n",
    "Q6. Explain the write() and writelines() functions. Give a suitable example. "
   ]
  },
  {
   "cell_type": "markdown",
   "id": "cf8a8a3c",
   "metadata": {},
   "source": [
    "### Answer 1 and Answer 2: -  The open() function takes two parameters: the first parameter is the filename (including the file path if the file is located in a different directory), and the second parameter is the mode in which the file should be opened.\n",
    "\n",
    "The different modes in which a file can be opened are:\n",
    "\n",
    "r (read mode): This mode is used to open a file for reading. It is the default mode. If the file does not exist, an error will occur.\n",
    "\n",
    "w (write mode): This mode is used to open a file for writing. If the file already exists, its contents will be overwritten. If the file does not exist, a new file will be created.\n",
    "\n",
    "a (append mode): This mode is used to open a file for appending. If the file already exists, new data will be appended to the end of the file. If the file does not exist, a new file will be created.\n",
    "\n",
    "x (exclusive creation mode): This mode is used to open a file exclusively for writing. If the file already exists, an error will occur.\n",
    "\n",
    "b (binary mode): This mode is used to open a file in binary mode, which is used for non-text files such as images and audio files.\n",
    "\n",
    "t (text mode): This mode is used to open a file in text mode, which is used for text files such as .txt files. \n",
    "\n",
    "Remember to always close the file after you are done working with it using the close() method on the file object, as leaving a file open can cause issues with file access and data integrity."
   ]
  },
  {
   "cell_type": "markdown",
   "id": "5cb94533",
   "metadata": {},
   "source": [
    "### Answer 3"
   ]
  },
  {
   "cell_type": "code",
   "execution_count": 1,
   "id": "3e82829d",
   "metadata": {},
   "outputs": [
    {
     "name": "stdout",
     "output_type": "stream",
     "text": [
      "I want to become a data scientist\n"
     ]
    }
   ],
   "source": [
    "file_1 = open(\"ex_1.txt\", \"w\")\n",
    "file_1.write(\"I want to become a data scientist\")\n",
    "file_1.close()\n",
    "\n",
    "\n",
    "file_1 = open(\"ex_1.txt\", \"r\")\n",
    "contents = file_1.read()\n",
    "file_1.close()\n",
    "print(contents)"
   ]
  },
  {
   "cell_type": "markdown",
   "id": "db1d8d6c",
   "metadata": {},
   "source": [
    "### Answer 4 "
   ]
  },
  {
   "cell_type": "markdown",
   "id": "bbab6d73",
   "metadata": {},
   "source": [
    "read(): The read() method reads the entire contents of a file and returns it as a string. You can optionally specify a parameter that specifies the maximum number of characters to read. If you don't specify a parameter, the entire file will be read. \n",
    "\n",
    "\n",
    "The readline() method reads a single line of a file and returns it as a string. Each time you call readline(), it reads the next line of the file.\n",
    "\n",
    "\n",
    "The readlines() method reads all the lines of a file and returns them as a list of strings. Each string in the list corresponds to a single line of the file. "
   ]
  },
  {
   "cell_type": "code",
   "execution_count": 2,
   "id": "d2c34e89",
   "metadata": {},
   "outputs": [
    {
     "name": "stdout",
     "output_type": "stream",
     "text": [
      "This is a single line of text\n",
      "This is another line of text\n",
      "\n"
     ]
    }
   ],
   "source": [
    "file = open(\"example.txt\", \"r\")\n",
    "\n",
    "contents = file.read()\n",
    "\n",
    "file.close()\n",
    "\n",
    "print(contents)"
   ]
  },
  {
   "cell_type": "code",
   "execution_count": 3,
   "id": "5940b6a2",
   "metadata": {},
   "outputs": [
    {
     "name": "stdout",
     "output_type": "stream",
     "text": [
      "This is a single line of text\n",
      "\n",
      "This is another line of text\n",
      "\n"
     ]
    }
   ],
   "source": [
    "file = open(\"example.txt\", \"r\")\n",
    "\n",
    "line1 = file.readline()\n",
    "\n",
    "line2 = file.readline()\n",
    "\n",
    "file.close()\n",
    "\n",
    "print(line1)\n",
    "print(line2)"
   ]
  },
  {
   "cell_type": "code",
   "execution_count": 13,
   "id": "4f5437d3",
   "metadata": {},
   "outputs": [
    {
     "name": "stdout",
     "output_type": "stream",
     "text": [
      "This is a single line of text\n",
      "\n",
      "This is another line of text\n",
      "\n"
     ]
    }
   ],
   "source": [
    "file = open(\"example.txt\", \"r\")\n",
    "\n",
    "file_1 = open(\"ex_1.txt\", \"w\")\n",
    "\n",
    "lines = file.readlines()\n",
    "\n",
    "file.close()\n",
    "\n",
    "for line in lines:\n",
    "    print(line)"
   ]
  },
  {
   "cell_type": "markdown",
   "id": "4d53c24d",
   "metadata": {},
   "source": [
    "### Answer 5: -\n",
    "\n",
    "The with statement is used with the open() function in Python to ensure that a file is properly closed after it has been used. This is important because leaving a file open can consume system resources and cause problems with other programs that need to access the same file.\n",
    "\n",
    "The advantage of using the with statement and open() together is that it automatically handles the closing of the file for you. When you use the with statement, Python creates a context in which the file is opened and the operations on the file are performed. Once the operations are complete, the file is automatically closed by Python, even if an error occurs during the processing of the file."
   ]
  },
  {
   "cell_type": "code",
   "execution_count": 14,
   "id": "3270ba7e",
   "metadata": {},
   "outputs": [],
   "source": [
    "with open('example.txt', 'r') as f:\n",
    "    data = f.read()\n",
    "    # Do something with the file data\n",
    "\n",
    "# File is automatically closed at the end of the 'with' block\n"
   ]
  },
  {
   "cell_type": "markdown",
   "id": "a89d5643",
   "metadata": {},
   "source": [
    "### Answer 6\n",
    "\n",
    "The write() function is used to write a single string to a file. You can call this function multiple times to write multiple strings to the file. If the file doesn't exist, it will be created. If the file does exist, the contents of the file will be overwritten. \n",
    "\n",
    "\n",
    "\n",
    "The writelines() function is used to write a list of strings to a file. Each string in the list corresponds to a single line in the file. If the file doesn't exist, it will be created. If the file does exist, the contents of the file will be overwritten."
   ]
  },
  {
   "cell_type": "code",
   "execution_count": 19,
   "id": "a5ddd349",
   "metadata": {},
   "outputs": [
    {
     "name": "stdout",
     "output_type": "stream",
     "text": [
      "This is a single line of text\n",
      "This is another line of text\n",
      "\n"
     ]
    }
   ],
   "source": [
    "file = open(\"example.txt\", \"w\")\n",
    "\n",
    "file.write(\"This is a single line of text\\n\")\n",
    "\n",
    "file.write(\"This is another line of text\\n\")\n",
    "\n",
    "file.close()\n",
    "\n",
    "file = open(\"example.txt\", \"r\")\n",
    "content0 = file.read()\n",
    "file.close()\n",
    "print(content0)\n",
    "\n"
   ]
  },
  {
   "cell_type": "code",
   "execution_count": 35,
   "id": "90111eca",
   "metadata": {},
   "outputs": [
    {
     "name": "stdout",
     "output_type": "stream",
     "text": [
      "This is the first line\n",
      "This is the second line\n",
      "This is the third line\n",
      "\n"
     ]
    }
   ],
   "source": [
    "file_0 = open(\"example1.txt\", \"w\")\n",
    "\n",
    "lines = [\"This is the first line\\n\", \"This is the second line\\n\", \"This is the third line\\n\"]\n",
    "file_0.writelines(lines)\n",
    "\n",
    "file.close()\n",
    "\n",
    "file_0 = open(\"example1.txt\", \"r\")\n",
    "content_9 = file_0.read()\n",
    "file.close()\n",
    "print(content_9)\n"
   ]
  },
  {
   "cell_type": "code",
   "execution_count": 26,
   "id": "e23cd094",
   "metadata": {},
   "outputs": [],
   "source": [
    "f1 = open(\"t1.txt\", \"w\")\n",
    "f1.write(\"I want to become a data scientist in finance sector.\\nI will work really hard to data scientist. \\nMy deadline to become data scientist is september 2023\")\n",
    "f1.close()\n"
   ]
  },
  {
   "cell_type": "code",
   "execution_count": 27,
   "id": "d3c56187",
   "metadata": {},
   "outputs": [
    {
     "name": "stdout",
     "output_type": "stream",
     "text": [
      "I want to become a data scientist in finance sector.\n",
      "I will work really hard to data scientist. \n",
      "My deadline to become data scientist is september 2023\n"
     ]
    }
   ],
   "source": [
    "f1 = open(\"t1.txt\", \"r\")\n",
    "contents_1 = f1.read()\n",
    "f1.close()\n",
    "print(contents_1)"
   ]
  },
  {
   "cell_type": "code",
   "execution_count": 9,
   "id": "2d7eb7cf",
   "metadata": {},
   "outputs": [
    {
     "name": "stdout",
     "output_type": "stream",
     "text": [
      "I want to become a data scientist in finance sector.\n",
      "\n"
     ]
    }
   ],
   "source": [
    "f1 = open('t1.txt', 'r')\n",
    "lines_0 = f1.readline()\n",
    "print(lines_0)"
   ]
  },
  {
   "cell_type": "code",
   "execution_count": 10,
   "id": "f81fddb0",
   "metadata": {},
   "outputs": [
    {
     "name": "stdout",
     "output_type": "stream",
     "text": [
      "I will work really hard to data scientist. \n",
      "\n"
     ]
    }
   ],
   "source": [
    "lines_0 = f1.readline()\n",
    "print(lines_0)"
   ]
  },
  {
   "cell_type": "code",
   "execution_count": null,
   "id": "2a326d97",
   "metadata": {},
   "outputs": [],
   "source": []
  },
  {
   "cell_type": "code",
   "execution_count": null,
   "id": "f5a6351f",
   "metadata": {},
   "outputs": [],
   "source": []
  },
  {
   "cell_type": "code",
   "execution_count": null,
   "id": "cf2933a7",
   "metadata": {},
   "outputs": [],
   "source": []
  },
  {
   "cell_type": "code",
   "execution_count": null,
   "id": "240fa7b8",
   "metadata": {},
   "outputs": [],
   "source": []
  }
 ],
 "metadata": {
  "kernelspec": {
   "display_name": "Python 3 (ipykernel)",
   "language": "python",
   "name": "python3"
  },
  "language_info": {
   "codemirror_mode": {
    "name": "ipython",
    "version": 3
   },
   "file_extension": ".py",
   "mimetype": "text/x-python",
   "name": "python",
   "nbconvert_exporter": "python",
   "pygments_lexer": "ipython3",
   "version": "3.9.13"
  }
 },
 "nbformat": 4,
 "nbformat_minor": 5
}
