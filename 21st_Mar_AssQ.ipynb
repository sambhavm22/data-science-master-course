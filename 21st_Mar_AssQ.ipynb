{
 "cells": [
  {
   "cell_type": "markdown",
   "id": "2f7dd665-f1d0-42e3-9a0c-96bd515a0205",
   "metadata": {},
   "source": [
    "Q1. What is the difference between Ordinal Encoding and Label Encoding? Provide an example of when you might choose one over the other.\n",
    "\n",
    "Q2. Explain how Target Guided Ordinal Encoding works and provide an example of when you might use it in a machine learning project.\n",
    "\n",
    "Q3. Define covariance and explain why it is important in statistical analysis. How is covariance calculated?\n",
    "\n",
    "Q4. For a dataset with the following categorical variables: Color (red, green, blue), Size (small, medium,large), and Material (wood, metal, plastic), perform label encoding using Python's scikit-learn library. Show your code and explain the output.\n",
    "\n",
    "Q5. Calculate the covariance matrix for the following variables in a dataset: Age, Income, and Education level. Interpret the results.\n",
    "\n",
    "Q6. You are working on a machine learning project with a dataset containing several categorical variables, including \"Gender\" (Male/Female), \"Education Level\" (High School/Bachelor's/Master's/PhD), and \"Employment Status\" (Unemployed/Part-Time/Full-Time). Which encoding method would you use for each variable, and why?\n",
    "\n",
    "Q7. You are analyzing a dataset with two continuous variables, \"Temperature\" and \"Humidity\", and two categorical variables, \"Weather Condition\" (Sunny/Cloudy/Rainy) and \"Wind Direction\" (North/South/ East/West). Calculate the covariance between each pair of variables and interpret the results."
   ]
  },
  {
   "cell_type": "markdown",
   "id": "955ef5ad-180c-426c-bfa0-93aca07ba46c",
   "metadata": {},
   "source": [
    "### Q1. What is the difference between Ordinal Encoding and Label Encoding? Provide an example of when you might choose one over the other.\n",
    "\n",
    "Ordinal encoding is used when the categories have an inherent order or hierarchy. For example, a dataset of T-shirt sizes might include the categories \"small,\" \"medium,\" and \"large.\" In this case, there is an obvious order to the sizes, and ordinal encoding can assign numerical values based on this order. So, \"small\" might be assigned a value of 1, \"medium\" a value of 2, and \"large\" a value of 3.\n",
    "\n",
    "Label encoding, on the other hand, is used when the categories are nominal or have no inherent order. For example, a dataset of colors might include the categories \"red,\" \"green,\" and \"blue.\" In this case, there is no obvious order to the colors, and label encoding can assign arbitrary numerical values to each category. So, \"red\" might be assigned a value of 1, \"green\" a value of 2, and \"blue\" a value of 3.\n",
    "\n",
    "Suppose you have a dataset of educational degrees that includes the categories \"high school diploma,\" \"associate's degree,\" \"bachelor's degree,\" \"master's degree,\" and \"doctoral degree.\" In this case, there is a clear hierarchy to the categories, with \"high school diploma\" being the lowest level of education and \"doctoral degree\" being the highest. In this case, you would use ordinal encoding to assign numerical values based on the hierarchy(ranking).\n",
    "\n",
    "However, suppose you have a dataset of car models that includes the categories \"Toyota,\" \"Ford,\" \"Chevrolet,\" and \"Honda.\" In this case, there is no clear hierarchy (ranking) to the categories, and label encoding would be used to assign arbitrary numerical values to each category."
   ]
  },
  {
   "cell_type": "markdown",
   "id": "ddcf9a18-d4bf-4683-979d-9bb18a195079",
   "metadata": {},
   "source": [
    "### Q2. Explain how Target Guided Ordinal Encoding works and provide an example of when you might use it in a machine learning project.\n",
    "\n",
    "Target Guided Ordinal Encoding is a technique that assigns a rank to each category of a categorical variable based on the target variable. In other words, it encodes categorical variables based on their impact on the target variable, making it a useful technique for classification problems.\n",
    "\n",
    "The steps to implement Target Guided Ordinal Encoding are as follows:\n",
    "\n",
    "Calculate the mean of the target variable for each category of the categorical variable.\n",
    "Rank the categories based on their mean target variable value.\n",
    "Assign the ranks as the encoding for each category.\n",
    "The main advantage of this technique is that it preserves the monotonicity between the categorical variable and the target variable, which can improve the predictive power of the model.\n",
    "\n",
    "For example, in a customer churn prediction problem, suppose we have a categorical variable called \"payment method\" with categories \"credit card\", \"debit card\", \"bank transfer\", and \"electronic check\". We want to encode this variable to use it in our machine learning model. Here, we can use Target Guided Ordinal Encoding to assign a rank to each category based on the target variable \"churn\". We can follow the steps outlined above to calculate the mean of \"churn\" for each payment method category, rank the categories based on their mean churn value, and assign the ranks as the encoding for each category.\n",
    "\n"
   ]
  },
  {
   "cell_type": "markdown",
   "id": "2590203f-3736-4391-bf39-024e1f454d96",
   "metadata": {},
   "source": [
    "### Q3. Define covariance and explain why it is important in statistical analysis. How is covariance calculated?\n",
    "\n",
    "Covariance is a measure of the linear relationship between two random variables. It tells us how much two variables change together. A positive covariance indicates that the two variables tend to move in the same direction, while a negative covariance indicates that they tend to move in opposite directions.\n",
    "\n",
    "Covariance is an important statistical measure because it helps us understand how two variables are related to each other. For example, in finance, covariance is used to measure the relationship between the returns of two different investments. If the covariance is positive, it means that the returns on the two investments tend to move together, while a negative covariance means that the returns tend to move in opposite directions. This information can be used to help investors manage risk and diversify their portfolios.\n",
    "\n",
    "Covariance is calculated using the following formula:\n",
    "\n",
    "cov(X,Y) = E[(X - E[X]) * (Y - E[Y])]"
   ]
  },
  {
   "cell_type": "markdown",
   "id": "f22a795d-839a-4b7d-858d-4b45c722fc94",
   "metadata": {},
   "source": [
    "### Q4. For a dataset with the following categorical variables: Color (red, green, blue), Size (small, medium,large), and Material (wood, metal, plastic), perform label encoding using Python's scikit-learn library. Show your code and explain the output.\n",
    "\n"
   ]
  },
  {
   "cell_type": "code",
   "execution_count": 4,
   "id": "7db2a4b8-a358-41ff-8576-ccaf0c847b2e",
   "metadata": {},
   "outputs": [
    {
     "name": "stderr",
     "output_type": "stream",
     "text": [
      "/opt/conda/lib/python3.10/site-packages/sklearn/preprocessing/_label.py:116: DataConversionWarning: A column-vector y was passed when a 1d array was expected. Please change the shape of y to (n_samples, ), for example using ravel().\n",
      "  y = column_or_1d(y, warn=True)\n"
     ]
    },
    {
     "data": {
      "text/html": [
       "<div>\n",
       "<style scoped>\n",
       "    .dataframe tbody tr th:only-of-type {\n",
       "        vertical-align: middle;\n",
       "    }\n",
       "\n",
       "    .dataframe tbody tr th {\n",
       "        vertical-align: top;\n",
       "    }\n",
       "\n",
       "    .dataframe thead th {\n",
       "        text-align: right;\n",
       "    }\n",
       "</style>\n",
       "<table border=\"1\" class=\"dataframe\">\n",
       "  <thead>\n",
       "    <tr style=\"text-align: right;\">\n",
       "      <th></th>\n",
       "      <th>color</th>\n",
       "      <th>size</th>\n",
       "      <th>material</th>\n",
       "      <th>color_encoded</th>\n",
       "      <th>size_encoded</th>\n",
       "      <th>material_encoded</th>\n",
       "    </tr>\n",
       "  </thead>\n",
       "  <tbody>\n",
       "    <tr>\n",
       "      <th>0</th>\n",
       "      <td>red</td>\n",
       "      <td>small</td>\n",
       "      <td>wood</td>\n",
       "      <td>2</td>\n",
       "      <td>2</td>\n",
       "      <td>2</td>\n",
       "    </tr>\n",
       "    <tr>\n",
       "      <th>1</th>\n",
       "      <td>green</td>\n",
       "      <td>medium</td>\n",
       "      <td>metal</td>\n",
       "      <td>1</td>\n",
       "      <td>1</td>\n",
       "      <td>0</td>\n",
       "    </tr>\n",
       "    <tr>\n",
       "      <th>2</th>\n",
       "      <td>blue</td>\n",
       "      <td>large</td>\n",
       "      <td>plastic</td>\n",
       "      <td>0</td>\n",
       "      <td>0</td>\n",
       "      <td>1</td>\n",
       "    </tr>\n",
       "  </tbody>\n",
       "</table>\n",
       "</div>"
      ],
      "text/plain": [
       "   color    size material  color_encoded  size_encoded  material_encoded\n",
       "0    red   small     wood              2             2                 2\n",
       "1  green  medium    metal              1             1                 0\n",
       "2   blue   large  plastic              0             0                 1"
      ]
     },
     "execution_count": 4,
     "metadata": {},
     "output_type": "execute_result"
    }
   ],
   "source": [
    "from sklearn.preprocessing import LabelEncoder\n",
    "from sklearn.preprocessing import OrdinalEncoder\n",
    "import pandas as pd\n",
    "\n",
    "data = {'color' : ['red', 'green', 'blue'],\n",
    "       'size' : ['small', 'medium', 'large'],\n",
    "       'material' : ['wood', 'metal', 'plastic']}\n",
    "\n",
    "df = pd.DataFrame(data)\n",
    "\n",
    "lbl_encoder = LabelEncoder()\n",
    "rank_encoder = OrdinalEncoder(categories=[['small', 'medium', 'large']])\n",
    "\n",
    "df['color_encoded'] = lbl_encoder.fit_transform(df['color'])\n",
    "df['size_encoded'] = lbl_encoder.fit_transform(df[['size']])\n",
    "df['material_encoded'] = lbl_encoder.fit_transform(df['material'])\n",
    "\n",
    "df"
   ]
  },
  {
   "cell_type": "markdown",
   "id": "e2db5230-ff9f-4776-bd70-2888d8daeacb",
   "metadata": {},
   "source": [
    "### Q5. Calculate the covariance matrix for the following variables in a dataset: Age, Income, and Education level. Interpret the results.\n"
   ]
  },
  {
   "cell_type": "code",
   "execution_count": 12,
   "id": "1ed682b1-1373-461b-9971-a7001ec4f0e1",
   "metadata": {},
   "outputs": [
    {
     "data": {
      "text/html": [
       "<div>\n",
       "<style scoped>\n",
       "    .dataframe tbody tr th:only-of-type {\n",
       "        vertical-align: middle;\n",
       "    }\n",
       "\n",
       "    .dataframe tbody tr th {\n",
       "        vertical-align: top;\n",
       "    }\n",
       "\n",
       "    .dataframe thead th {\n",
       "        text-align: right;\n",
       "    }\n",
       "</style>\n",
       "<table border=\"1\" class=\"dataframe\">\n",
       "  <thead>\n",
       "    <tr style=\"text-align: right;\">\n",
       "      <th></th>\n",
       "      <th>Age</th>\n",
       "      <th>Income</th>\n",
       "      <th>Education level</th>\n",
       "    </tr>\n",
       "  </thead>\n",
       "  <tbody>\n",
       "    <tr>\n",
       "      <th>Age</th>\n",
       "      <td>155.30</td>\n",
       "      <td>1.567000e+06</td>\n",
       "      <td>3.25</td>\n",
       "    </tr>\n",
       "    <tr>\n",
       "      <th>Income</th>\n",
       "      <td>1567000.00</td>\n",
       "      <td>1.598000e+10</td>\n",
       "      <td>30000.00</td>\n",
       "    </tr>\n",
       "    <tr>\n",
       "      <th>Education level</th>\n",
       "      <td>3.25</td>\n",
       "      <td>3.000000e+04</td>\n",
       "      <td>2.50</td>\n",
       "    </tr>\n",
       "  </tbody>\n",
       "</table>\n",
       "</div>"
      ],
      "text/plain": [
       "                        Age        Income  Education level\n",
       "Age                  155.30  1.567000e+06             3.25\n",
       "Income           1567000.00  1.598000e+10         30000.00\n",
       "Education level        3.25  3.000000e+04             2.50"
      ]
     },
     "execution_count": 12,
     "metadata": {},
     "output_type": "execute_result"
    }
   ],
   "source": [
    "import pandas as pd\n",
    "from sklearn.preprocessing import LabelEncoder\n",
    "\n",
    "encoder = LabelEncoder()\n",
    "\n",
    "dataset = pd.DataFrame({'Age' : [23,54,26,34,41],\n",
    "                        'Income' : [20000, 320000, 30000, 100000, 200000],\n",
    "                        'Education level' : ['BA', 'BE', 'Masters', 'BCom', 'High School']\n",
    "})\n",
    "\n",
    "dataset['Education level'] = encoder.fit_transform(dataset['Education level'])\n",
    "\n",
    "covariance_dataset = dataset.cov()\n",
    "\n",
    "covariance_dataset"
   ]
  },
  {
   "cell_type": "markdown",
   "id": "abb54edf-c6ee-4f75-9d8b-7f290c3c163e",
   "metadata": {},
   "source": [
    "### Q6. You are working on a machine learning project with a dataset containing several categorical variables, including \"Gender\" (Male/Female), \"Education Level\" (High School/Bachelor's/Master's/PhD), and \"Employment Status\" (Unemployed/Part-Time/Full-Time). Which encoding method would you use for each variable, and why?\n",
    "\n",
    "For the \"Gender\" variable, since it is a binary categorical variable, I would use label encoding. I would assign the value 0 to \"Male\" and 1 to \"Female\".\n",
    "\n",
    "For the \"Education Level\" variable, since it is an ordinal categorical variable with a clear ranking order, I would use ordinal encoding. I would assign a numerical value to each level based on their relative order, for example, 0 for \"High School\", 1 for \"Bachelor's\", 2 for \"Master's\", and 3 for \"PhD\".\n",
    "\n",
    "For the \"Employment Status\" variable, since it is a nominal categorical variable with no inherent order or hierarchy, I would use one-hot encoding. I would create a binary column for each category, and assign a value of 1 to the appropriate column for each observation, and 0 for all other columns."
   ]
  },
  {
   "cell_type": "markdown",
   "id": "6e6ef0b8-f454-416b-9623-e8c0ad6984ed",
   "metadata": {},
   "source": [
    "### Q7. You are analyzing a dataset with two continuous variables, \"Temperature\" and \"Humidity\", and two categorical variables, \"Weather Condition\" (Sunny/Cloudy/Rainy) and \"Wind Direction\" (North/South/ East/West). Calculate the covariance between each pair of variables and interpret the results."
   ]
  },
  {
   "cell_type": "code",
   "execution_count": null,
   "id": "856482ef-2e7a-4ab2-905b-a337da8ea8dc",
   "metadata": {},
   "outputs": [],
   "source": []
  },
  {
   "cell_type": "code",
   "execution_count": 9,
   "id": "46b97218-72c9-4a46-bbc6-01533c2995c3",
   "metadata": {},
   "outputs": [
    {
     "data": {
      "text/html": [
       "<div>\n",
       "<style scoped>\n",
       "    .dataframe tbody tr th:only-of-type {\n",
       "        vertical-align: middle;\n",
       "    }\n",
       "\n",
       "    .dataframe tbody tr th {\n",
       "        vertical-align: top;\n",
       "    }\n",
       "\n",
       "    .dataframe thead th {\n",
       "        text-align: right;\n",
       "    }\n",
       "</style>\n",
       "<table border=\"1\" class=\"dataframe\">\n",
       "  <thead>\n",
       "    <tr style=\"text-align: right;\">\n",
       "      <th></th>\n",
       "      <th>Temp</th>\n",
       "      <th>Humidity</th>\n",
       "      <th>temp_encoded</th>\n",
       "      <th>humidity_encoded</th>\n",
       "    </tr>\n",
       "  </thead>\n",
       "  <tbody>\n",
       "    <tr>\n",
       "      <th>Temp</th>\n",
       "      <td>28.000000</td>\n",
       "      <td>-46.666667</td>\n",
       "      <td>6.666667</td>\n",
       "      <td>-4.666667</td>\n",
       "    </tr>\n",
       "    <tr>\n",
       "      <th>Humidity</th>\n",
       "      <td>-46.666667</td>\n",
       "      <td>166.666667</td>\n",
       "      <td>-13.333333</td>\n",
       "      <td>16.666667</td>\n",
       "    </tr>\n",
       "    <tr>\n",
       "      <th>temp_encoded</th>\n",
       "      <td>6.666667</td>\n",
       "      <td>-13.333333</td>\n",
       "      <td>1.666667</td>\n",
       "      <td>-1.333333</td>\n",
       "    </tr>\n",
       "    <tr>\n",
       "      <th>humidity_encoded</th>\n",
       "      <td>-4.666667</td>\n",
       "      <td>16.666667</td>\n",
       "      <td>-1.333333</td>\n",
       "      <td>1.666667</td>\n",
       "    </tr>\n",
       "  </tbody>\n",
       "</table>\n",
       "</div>"
      ],
      "text/plain": [
       "                       Temp    Humidity  temp_encoded  humidity_encoded\n",
       "Temp              28.000000  -46.666667      6.666667         -4.666667\n",
       "Humidity         -46.666667  166.666667    -13.333333         16.666667\n",
       "temp_encoded       6.666667  -13.333333      1.666667         -1.333333\n",
       "humidity_encoded  -4.666667   16.666667     -1.333333          1.666667"
      ]
     },
     "execution_count": 9,
     "metadata": {},
     "output_type": "execute_result"
    }
   ],
   "source": [
    "import pandas as pd\n",
    "from sklearn.preprocessing import OneHotEncoder, LabelEncoder\n",
    "\n",
    "lab_encoder = LabelEncoder()\n",
    "OHE_encoder = OneHotEncoder()\n",
    "\n",
    "d1 = {'weather condition': ['sunny', 'cloudy', 'rainy']}\n",
    "d2 = {'wind direction' : ['north', 'south', 'east', 'west']}\n",
    "d3 = {'Temp' : [35, 25, 23, 29],\n",
    "     'Humidity' : [60, 70, 80, 50]}\n",
    "\n",
    "df1 = pd.DataFrame(d1)\n",
    "df2 = pd.DataFrame(d2)\n",
    "df0 = pd.DataFrame(d3)\n",
    "\n",
    "df3 = pd.concat([df1,df2], axis=1)\n",
    "\n",
    "df3['weather condition encoded'] = lab_encoder.fit_transform(df3['weather condition'])\n",
    "df3['wind direction encoded'] = lab_encoder.fit_transform(df3['wind direction'])\n",
    "\n",
    "df0['temp_encoded'] = lab_encoder.fit_transform(df0['Temp'])\n",
    "df0['humidity_encoded'] = lab_encoder.fit_transform(df0['Humidity'])\n",
    "\n",
    "df0.cov()"
   ]
  },
  {
   "cell_type": "code",
   "execution_count": 10,
   "id": "08e9b76c-3e2d-4d02-880f-d9a0bd94ca99",
   "metadata": {},
   "outputs": [
    {
     "name": "stderr",
     "output_type": "stream",
     "text": [
      "/tmp/ipykernel_77/3239520066.py:1: FutureWarning: The default value of numeric_only in DataFrame.cov is deprecated. In a future version, it will default to False. Select only valid columns or specify the value of numeric_only to silence this warning.\n",
      "  df3.cov()\n"
     ]
    },
    {
     "data": {
      "text/html": [
       "<div>\n",
       "<style scoped>\n",
       "    .dataframe tbody tr th:only-of-type {\n",
       "        vertical-align: middle;\n",
       "    }\n",
       "\n",
       "    .dataframe tbody tr th {\n",
       "        vertical-align: top;\n",
       "    }\n",
       "\n",
       "    .dataframe thead th {\n",
       "        text-align: right;\n",
       "    }\n",
       "</style>\n",
       "<table border=\"1\" class=\"dataframe\">\n",
       "  <thead>\n",
       "    <tr style=\"text-align: right;\">\n",
       "      <th></th>\n",
       "      <th>weather condition encoded</th>\n",
       "      <th>wind direction encoded</th>\n",
       "    </tr>\n",
       "  </thead>\n",
       "  <tbody>\n",
       "    <tr>\n",
       "      <th>weather condition encoded</th>\n",
       "      <td>1.666667</td>\n",
       "      <td>0.666667</td>\n",
       "    </tr>\n",
       "    <tr>\n",
       "      <th>wind direction encoded</th>\n",
       "      <td>0.666667</td>\n",
       "      <td>1.666667</td>\n",
       "    </tr>\n",
       "  </tbody>\n",
       "</table>\n",
       "</div>"
      ],
      "text/plain": [
       "                           weather condition encoded  wind direction encoded\n",
       "weather condition encoded                   1.666667                0.666667\n",
       "wind direction encoded                      0.666667                1.666667"
      ]
     },
     "execution_count": 10,
     "metadata": {},
     "output_type": "execute_result"
    }
   ],
   "source": [
    "df3.cov()"
   ]
  },
  {
   "cell_type": "code",
   "execution_count": null,
   "id": "cbecaf86-a3d2-4b14-993a-d6e80d095827",
   "metadata": {},
   "outputs": [],
   "source": []
  }
 ],
 "metadata": {
  "kernelspec": {
   "display_name": "Python 3 (ipykernel)",
   "language": "python",
   "name": "python3"
  },
  "language_info": {
   "codemirror_mode": {
    "name": "ipython",
    "version": 3
   },
   "file_extension": ".py",
   "mimetype": "text/x-python",
   "name": "python",
   "nbconvert_exporter": "python",
   "pygments_lexer": "ipython3",
   "version": "3.10.8"
  }
 },
 "nbformat": 4,
 "nbformat_minor": 5
}
