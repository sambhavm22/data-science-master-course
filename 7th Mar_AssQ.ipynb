{
 "cells": [
  {
   "cell_type": "markdown",
   "id": "b33111eb-e250-4eba-b644-69ec5fd076e6",
   "metadata": {},
   "source": [
    "Q1. What are the three measures of central tendency?\n",
    "\n",
    "Q2. What is the difference between the mean, median, and mode? How are they used to measure the central tendency of a dataset?\n",
    "\n",
    "Q3. Measure the three measures of central tendency for the given height data:\n",
    "\n",
    "[178,177,176,177,178.2,178,175,179,180,175,178.9,176.2,177,172.5,178,176.5]\n",
    "\n",
    "Q4. Find the standard deviation for the given data:\n",
    "\n",
    "[178,177,176,177,178.2,178,175,179,180,175,178.9,176.2,177,172.5,178,176.5]\n",
    "\n",
    "Q5. How are measures of dispersion such as range, variance, and standard deviation used to describe the spread of a dataset? Provide an example.\n",
    "\n",
    "Q6. What is a Venn diagram?\n",
    "\n",
    "Q7. For the two given sets A = (2,3,4,5,6,7) & B = (0,2,6,8,10). Find:\n",
    "\n",
    "(i) A B\n",
    "\n",
    "(ii) A ⋃ B\n",
    "\n",
    "Q8. What do you understand about skewness in data?\n",
    "\n",
    "Q9. If a data is right skewed then what will be the position of median with respect to mean?\n",
    "\n",
    "Q10. Explain the difference between covariance and correlation. How are these measures used in statistical analysis?\n",
    "\n",
    "Q11. What is the formula for calculating the sample mean? Provide an example calculation for a dataset.\n",
    "\n",
    "Q12. For a normal distribution data what is the relationship between its measure of central tendency?\n",
    "\n",
    "Q13. How is covariance different from correlation?\n",
    "\n",
    "Q14. How do outliers affect measures of central tendency and dispersion? Provide an example."
   ]
  },
  {
   "cell_type": "markdown",
   "id": "e2d443e1-5b22-48d8-952c-02c05e360ad3",
   "metadata": {},
   "source": [
    "### Answer 1 and Answer 2\n",
    "\n",
    "mean,\n",
    "median, \n",
    "mode\n",
    "\n",
    "Mean: The average value of a dataset, calculated by adding up all the values and dividing by the number of values.\n",
    "\n",
    "Median: The middle value of a dataset when it is ordered from lowest to highest (or highest to lowest). If there is an even number of values, the median is the average of the two middle values.\n",
    "\n",
    "Mode: The most frequently occurring value in a dataset.\n",
    "\n",
    "The mean is the most commonly used measure of central tendency. It is useful when the data is normally distributed (i.e., bell-shaped) and when there are no extreme values (outliers) that would skew the results. \n",
    "\n",
    "The median is useful when the data is skewed (i.e., not normally distributed) or when there are outliers.\n",
    "\n",
    "The mode is useful when we want to know the most common value or category in a dataset. It can be used for both numerical and categorical data."
   ]
  },
  {
   "cell_type": "code",
   "execution_count": null,
   "id": "018245e0-2f2a-41a8-9450-813b0be98405",
   "metadata": {},
   "outputs": [],
   "source": [
    "### Answer 3"
   ]
  },
  {
   "cell_type": "code",
   "execution_count": 7,
   "id": "f7084ade-8373-4594-821c-513bc08cb68d",
   "metadata": {},
   "outputs": [],
   "source": [
    "import numpy as np\n",
    "from scipy import stats \n",
    "\n"
   ]
  },
  {
   "cell_type": "code",
   "execution_count": 8,
   "id": "c06cc9c3-ed84-45b0-a660-1e973282132e",
   "metadata": {},
   "outputs": [],
   "source": [
    "lst = [178,177,176,177,178.2,178,175,179,180,175,178.9,176.2,177,172.5,178,176.5]"
   ]
  },
  {
   "cell_type": "code",
   "execution_count": 9,
   "id": "76a7975a-3186-4764-b890-586742574bb1",
   "metadata": {},
   "outputs": [
    {
     "data": {
      "text/plain": [
       "177.01875"
      ]
     },
     "execution_count": 9,
     "metadata": {},
     "output_type": "execute_result"
    }
   ],
   "source": [
    "mean = np.mean(lst)"
   ]
  },
  {
   "cell_type": "code",
   "execution_count": 10,
   "id": "94d986dc-3b0c-44ff-b489-8282c44d72ef",
   "metadata": {},
   "outputs": [
    {
     "data": {
      "text/plain": [
       "177.0"
      ]
     },
     "execution_count": 10,
     "metadata": {},
     "output_type": "execute_result"
    }
   ],
   "source": [
    "np.median(lst)"
   ]
  },
  {
   "cell_type": "code",
   "execution_count": 11,
   "id": "84208486-ac43-40b0-b680-a5dc19127483",
   "metadata": {},
   "outputs": [
    {
     "name": "stderr",
     "output_type": "stream",
     "text": [
      "/tmp/ipykernel_77/3572933456.py:1: FutureWarning: Unlike other reduction functions (e.g. `skew`, `kurtosis`), the default behavior of `mode` typically preserves the axis it acts along. In SciPy 1.11.0, this behavior will change: the default value of `keepdims` will become False, the `axis` over which the statistic is taken will be eliminated, and the value None will no longer be accepted. Set `keepdims` to True or False to avoid this warning.\n",
      "  stats.mode(lst)\n"
     ]
    },
    {
     "data": {
      "text/plain": [
       "ModeResult(mode=array([177.]), count=array([3]))"
      ]
     },
     "execution_count": 11,
     "metadata": {},
     "output_type": "execute_result"
    }
   ],
   "source": [
    "stats.mode(lst)"
   ]
  },
  {
   "cell_type": "code",
   "execution_count": 12,
   "id": "af12c4cf-5a0c-402c-929c-dd00157dde62",
   "metadata": {},
   "outputs": [],
   "source": [
    "### Answer 4"
   ]
  },
  {
   "cell_type": "code",
   "execution_count": 13,
   "id": "6ccedb15-8f0d-427f-9cd4-89986e3860d8",
   "metadata": {},
   "outputs": [
    {
     "data": {
      "text/plain": [
       "3.199023437500001"
      ]
     },
     "execution_count": 13,
     "metadata": {},
     "output_type": "execute_result"
    }
   ],
   "source": [
    "lst = [178,177,176,177,178.2,178,175,179,180,175,178.9,176.2,177,172.5,178,176.5]\n",
    "np.var(lst)"
   ]
  },
  {
   "cell_type": "code",
   "execution_count": 14,
   "id": "a166481f-ca8a-47fe-bee1-e6e285da3f93",
   "metadata": {},
   "outputs": [
    {
     "data": {
      "text/plain": [
       "1.7885814036548633"
      ]
     },
     "execution_count": 14,
     "metadata": {},
     "output_type": "execute_result"
    }
   ],
   "source": [
    "np.std(lst)"
   ]
  },
  {
   "cell_type": "markdown",
   "id": "f1eccd53-9232-4636-8662-4c8537981855",
   "metadata": {},
   "source": [
    "### Answer 5\n",
    "\n",
    "Measures of dispersion such as range, variance, and standard deviation are used to describe the spread of a dataset by measuring how much the data varies from the central tendency.\n",
    "\n",
    "Range: The range is the difference between the highest and lowest values in a dataset. It is a simple measure of dispersion that can give a quick sense of how spread out the data is. For example, if we have a dataset of test scores from 0 to 100, the range would be 100 - 0 = 100, indicating that the scores are spread out over a wide range.\n",
    "\n",
    "Variance: The variance measures how much the data deviates from the mean. It is calculated by taking the average of the squared differences between each value and the mean. A high variance indicates that the data is spread out over a wide range of values. For example, if we have a dataset of test scores and the variance is high, it means that the scores are spread out over a wide range and there is a lot of variability in the dataset.\n",
    "\n",
    "Standard Deviation: The standard deviation is the square root of the variance and is a measure of how much the data deviates from the mean. It provides a more useful measure of dispersion than the variance because it is in the same units as the data. A high standard deviation indicates that the data is spread out over a wide range of values.\n"
   ]
  },
  {
   "cell_type": "markdown",
   "id": "a308b635-e4ba-4055-a4c0-30350e55e4cf",
   "metadata": {},
   "source": [
    "### Answer 6\n",
    "\n",
    "A Venn diagram is a graphical representation of the relationships between different sets or groups of objects or concepts. It consists of overlapping circles (or other shapes) that are used to represent the sets, with the overlapping regions indicating the common elements or concepts between them.\n",
    "\n",
    "Venn diagrams are commonly used in mathematics, logic, statistics, and other fields to visually represent the relationships between different sets of data. They are particularly useful for illustrating the similarities and differences between different groups or categories of data, and for identifying common elements or characteristics across different sets."
   ]
  },
  {
   "cell_type": "markdown",
   "id": "dfe4ebce-4d67-4286-8f49-3eb34d4459b5",
   "metadata": {},
   "source": [
    "### Answer 7\n",
    "\n",
    "A ∩ B = {2}.\n",
    "\n",
    "A ⋃ B = {0, 2, 3, 4, 5, 6, 7, 8, 10}"
   ]
  },
  {
   "cell_type": "markdown",
   "id": "ccb17f24-c8cf-4003-8ee9-72987acb6bac",
   "metadata": {},
   "source": [
    "### Answer 8\n",
    "\n",
    "Skewness is a measure of the asymmetry of a dataset. In other words, it measures how lopsided the distribution of a dataset is. A dataset is said to be skewed if it has a non-symmetrical distribution, which means that the data is not evenly distributed around the mean.\n",
    "\n",
    "There are two types of skewness:\n",
    "\n",
    "Positive Skewness: A dataset is said to be positively skewed when the tail of the distribution extends to the right (or positive) side of the graph. In other words, the majority of the data points are clustered around the left (or negative) side of the graph, with a few large values on the right side. This can occur when there are a few extreme values in the data set, which pull the mean towards the right.\n",
    "\n",
    "Negative Skewness: A dataset is said to be negatively skewed when the tail of the distribution extends to the left (or negative) side of the graph. In other words, the majority of the data points are clustered around the right (or positive) side of the graph, with a few small values on the left side. This can occur when there are a few extreme values in the data set, which pull the mean towards the left.\n",
    "\n",
    "Skewness is important because it can affect the interpretation of the data. In skewed datasets, the mean may not accurately represent the center of the data, and other measures such as the median may be more appropriate"
   ]
  },
  {
   "cell_type": "markdown",
   "id": "8b365f2b-e776-4c9b-8035-69fbef0386a7",
   "metadata": {},
   "source": [
    "### Answer 9\n",
    "\n",
    "the median will be smaller than the mean and will be positioned towards the left of the mean."
   ]
  },
  {
   "cell_type": "markdown",
   "id": "f5a4b449-1494-4291-99b3-2cfbe63ac634",
   "metadata": {},
   "source": [
    "### Answer 10\n",
    "\n",
    "Covariance and correlation are two statistical measures that describe the relationship between two variables.\n",
    "\n",
    "Covariance measures the degree to which two variables vary together. It measures the strength and direction of the linear relationship between two variables. If the covariance is positive, it means that the two variables tend to move in the same direction, while a negative covariance indicates that the variables tend to move in opposite directions. \n",
    "\n",
    "Correlation, on the other hand, measures both the strength and direction of the linear relationship between two variables, as well as the degree to which they are related. Correlation is a standardized version of covariance, which means that it is not affected by the scale of the variables. Correlation values range from -1 to +1, with a value of +1 indicating a perfect positive relationship, 0 indicating no relationship, and -1 indicating a perfect negative relationshi"
   ]
  },
  {
   "cell_type": "markdown",
   "id": "65859d4f-25f9-45d9-be65-2bf8dc0fdf08",
   "metadata": {},
   "source": [
    "### Answer 11\n",
    "\n",
    "\n",
    "Sample Mean = (Sum of all values in the sample) / (Number of values in the sample)"
   ]
  },
  {
   "cell_type": "code",
   "execution_count": 15,
   "id": "bd44a4c8-3204-4f8b-860d-63d98eb1bd41",
   "metadata": {},
   "outputs": [],
   "source": [
    "l = [4, 7, 3, 9, 2, 5, 8, 1, 6, 5]"
   ]
  },
  {
   "cell_type": "code",
   "execution_count": 16,
   "id": "3bcafda7-0af0-479e-b387-dba6c94101a0",
   "metadata": {},
   "outputs": [
    {
     "data": {
      "text/plain": [
       "5.0"
      ]
     },
     "execution_count": 16,
     "metadata": {},
     "output_type": "execute_result"
    }
   ],
   "source": [
    "np.mean(l)"
   ]
  },
  {
   "cell_type": "markdown",
   "id": "7771ff60-71d4-484c-a854-06a9e780847e",
   "metadata": {},
   "source": [
    "### Answer 12\n",
    "\n",
    "For a normal distribution data, the mean, median, and mode are all equal, and they are located at the center of the distribution. This is because the normal distribution is a symmetric distribution, with values evenly distributed around the center. As a result, the mean, median, and mode will all coincide at the point of highest frequency, which is also the center of the distribution."
   ]
  },
  {
   "cell_type": "markdown",
   "id": "fd4138f3-2638-4fe9-befb-f712a63f859b",
   "metadata": {},
   "source": [
    "### Answer 13\n",
    "\n",
    "Covariance and correlation are both measures of the relationship between two variables, but they are different in a few important ways:\n",
    "\n",
    "Range of values: The range of possible values for covariance is unbounded, meaning that it can take on any value. In contrast, correlation values are always between -1 and +1, indicating the strength and direction of the linear relationship between the two variables.\n",
    "\n",
    "Units of measure: Covariance is affected by the scale of the variables, so it is difficult to compare covariances across different datasets. Correlation, on the other hand, is a standardized measure that is not affected by the scale of the variables, so it can be used to compare relationships between different pairs of variables.\n",
    "\n",
    "Interpretation: Covariance does not have a clear interpretation in terms of the strength of the relationship between two variables. In contrast, correlation values have a clear interpretation: a value of +1 indicates a perfect positive relationship, 0 indicates no relationship, and -1 indicates a perfect negative relationship.\n",
    "\n",
    "Calculation: Covariance is calculated as the average of the product of the deviations of each variable from their respective means, while correlation is calculated by standardizing the covariance."
   ]
  },
  {
   "cell_type": "markdown",
   "id": "6829b79c-affa-4983-87b5-8627d9bedccc",
   "metadata": {},
   "source": [
    "### Answer 14\n",
    "\n",
    "Outliers are extreme values that are far from the other values in a dataset. They can have a significant impact on measures of central tendency and dispersion.\n",
    "\n",
    "In terms of measures of central tendency, outliers can have a large effect on the mean, but less effect on the median and mode."
   ]
  },
  {
   "cell_type": "code",
   "execution_count": 17,
   "id": "aa55f8a7-f8d0-4aab-bcf8-02c46ca69480",
   "metadata": {},
   "outputs": [],
   "source": [
    "l2 = [5, 10, 15, 20, 25, 30, 35, 100]"
   ]
  },
  {
   "cell_type": "code",
   "execution_count": 18,
   "id": "af936fc2-3c40-4864-b32a-07a22436ef6a",
   "metadata": {},
   "outputs": [
    {
     "data": {
      "text/plain": [
       "30.0"
      ]
     },
     "execution_count": 18,
     "metadata": {},
     "output_type": "execute_result"
    }
   ],
   "source": [
    "np.mean(l2)"
   ]
  },
  {
   "cell_type": "code",
   "execution_count": 19,
   "id": "f8499f22-7c51-4a5f-9b23-d7f7d5e5c28c",
   "metadata": {},
   "outputs": [
    {
     "data": {
      "text/plain": [
       "22.5"
      ]
     },
     "execution_count": 19,
     "metadata": {},
     "output_type": "execute_result"
    }
   ],
   "source": [
    "np.median(l2)"
   ]
  },
  {
   "cell_type": "code",
   "execution_count": 20,
   "id": "148ab0a0-9c03-457e-83ad-cae12340aa7b",
   "metadata": {},
   "outputs": [
    {
     "data": {
      "text/plain": [
       "787.5"
      ]
     },
     "execution_count": 20,
     "metadata": {},
     "output_type": "execute_result"
    }
   ],
   "source": [
    "np.var(l2)"
   ]
  },
  {
   "cell_type": "code",
   "execution_count": 21,
   "id": "ec70118c-7626-401e-8a90-5e76b95f0a85",
   "metadata": {},
   "outputs": [
    {
     "data": {
      "text/plain": [
       "28.062430400804562"
      ]
     },
     "execution_count": 21,
     "metadata": {},
     "output_type": "execute_result"
    }
   ],
   "source": [
    "np.std(l2)"
   ]
  },
  {
   "cell_type": "code",
   "execution_count": null,
   "id": "3e100962-00a9-44b3-b33f-52b880d75a73",
   "metadata": {},
   "outputs": [],
   "source": []
  }
 ],
 "metadata": {
  "kernelspec": {
   "display_name": "Python 3 (ipykernel)",
   "language": "python",
   "name": "python3"
  },
  "language_info": {
   "codemirror_mode": {
    "name": "ipython",
    "version": 3
   },
   "file_extension": ".py",
   "mimetype": "text/x-python",
   "name": "python",
   "nbconvert_exporter": "python",
   "pygments_lexer": "ipython3",
   "version": "3.10.8"
  }
 },
 "nbformat": 4,
 "nbformat_minor": 5
}
