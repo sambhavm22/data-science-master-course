{
 "cells": [
  {
   "cell_type": "markdown",
   "id": "37337d24-8841-4807-ba34-4b931920fe5e",
   "metadata": {},
   "source": [
    "Q1. Pearson correlation coefficient is a measure of the linear relationship between two variables. Suppose you have collected data on the amount of time students spend studying for an exam and their final exam scores. Calculate the Pearson correlation coefficient between these two variables and interpret the result.\n",
    "\n",
    "Q2. Spearman's rank correlation is a measure of the monotonic relationship between two variables. Suppose you have collected data on the amount of sleep individuals get each night and their overall job satisfaction level on a scale of 1 to 10. Calculate the Spearman's rank correlation between these two variables and interpret the result.\n",
    "\n",
    "Q3. Suppose you are conducting a study to examine the relationship between the number of hours of exercise per week and body mass index (BMI) in a sample of adults. You collected data on both variables for 50 participants. Calculate the Pearson correlation coefficient and the Spearman's rank correlation between these two variables and compare the results.\n",
    "\n",
    "Q4. A researcher is interested in examining the relationship between the number of hours individuals spend watching television per day and their level of physical activity. The researcher collected data on both variables from a sample of 50 participants. Calculate the Pearson correlation coefficient between these two variables.\n",
    "\n",
    "Q5. A survey was conducted to examine the relationship between age and preference for a particular brand of soft drink. The survey results are shown below:\n",
    "\n",
    "Age Soft drink \n",
    "\n",
    "25            Coke\n",
    "\n",
    "42           Pepsi\n",
    "\n",
    "37           Mountain dew\n",
    "\n",
    "19            coke\n",
    "\n",
    "31            pepsi\n",
    "\n",
    "28            coke\n",
    "\n",
    "Q6. A company is interested in examining the relationship between the number of sales calls made per day and the number of sales made per week. The company collected data on both variables from a sample of 30 sales representatives. Calculate the Pearson correlation coefficient between these two variables."
   ]
  },
  {
   "cell_type": "markdown",
   "id": "66893d95-c008-4deb-af1d-f37dbad670f9",
   "metadata": {},
   "source": [
    "### Q1. Pearson correlation coefficient is a measure of the linear relationship between two variables. Suppose you have collected data on the amount of time students spend studying for an exam and their final exam scores. Calculate the Pearson correlation coefficient between these two variables and interpret the result."
   ]
  },
  {
   "cell_type": "code",
   "execution_count": 3,
   "id": "dff33871-0e64-4f03-848a-0da5c5c7c94a",
   "metadata": {},
   "outputs": [
    {
     "name": "stderr",
     "output_type": "stream",
     "text": [
      "/tmp/ipykernel_435/2537889431.py:9: FutureWarning: The default value of numeric_only in DataFrame.corr is deprecated. In a future version, it will default to False. Select only valid columns or specify the value of numeric_only to silence this warning.\n",
      "  df.corr()\n"
     ]
    },
    {
     "data": {
      "text/html": [
       "<div>\n",
       "<style scoped>\n",
       "    .dataframe tbody tr th:only-of-type {\n",
       "        vertical-align: middle;\n",
       "    }\n",
       "\n",
       "    .dataframe tbody tr th {\n",
       "        vertical-align: top;\n",
       "    }\n",
       "\n",
       "    .dataframe thead th {\n",
       "        text-align: right;\n",
       "    }\n",
       "</style>\n",
       "<table border=\"1\" class=\"dataframe\">\n",
       "  <thead>\n",
       "    <tr style=\"text-align: right;\">\n",
       "      <th></th>\n",
       "      <th>time spend</th>\n",
       "      <th>exam score</th>\n",
       "    </tr>\n",
       "  </thead>\n",
       "  <tbody>\n",
       "    <tr>\n",
       "      <th>time spend</th>\n",
       "      <td>1.000000</td>\n",
       "      <td>0.975668</td>\n",
       "    </tr>\n",
       "    <tr>\n",
       "      <th>exam score</th>\n",
       "      <td>0.975668</td>\n",
       "      <td>1.000000</td>\n",
       "    </tr>\n",
       "  </tbody>\n",
       "</table>\n",
       "</div>"
      ],
      "text/plain": [
       "            time spend  exam score\n",
       "time spend    1.000000    0.975668\n",
       "exam score    0.975668    1.000000"
      ]
     },
     "execution_count": 3,
     "metadata": {},
     "output_type": "execute_result"
    }
   ],
   "source": [
    "import pandas as pd\n",
    "\n",
    "collected_data = {'student' : ['sam', 'nav', 'rak', 'ajay', 'har'],\n",
    "                  'time spend': [3,5,2,8,4],\n",
    "                 'exam score' : [60, 70, 40, 95, 65]}\n",
    "\n",
    "df = pd.DataFrame(collected_data)\n",
    "\n",
    "df.corr()"
   ]
  },
  {
   "cell_type": "code",
   "execution_count": 9,
   "id": "f46caa8a-8b46-4958-a004-654a4b36613d",
   "metadata": {},
   "outputs": [
    {
     "name": "stdout",
     "output_type": "stream",
     "text": [
      "Pearson correlation coefficient: 0.9756684143216708\n"
     ]
    }
   ],
   "source": [
    "import pandas as pd\n",
    "\n",
    "collected_data = {'student' : ['sam', 'nav', 'rak', 'ajay', 'har'],\n",
    "                  'study time spend': [3,5,2,8,4],\n",
    "                 'exam score' : [60, 70, 40, 95, 65]}\n",
    "\n",
    "df = pd.DataFrame(collected_data)\n",
    "\n",
    "corr = df['study time spend'].corr(df['exam score'], method='pearson')\n",
    "\n",
    "print('Pearson correlation coefficient:',corr)"
   ]
  },
  {
   "cell_type": "code",
   "execution_count": 5,
   "id": "153d010c-0834-452d-b994-8caf0ab47c16",
   "metadata": {},
   "outputs": [
    {
     "name": "stdout",
     "output_type": "stream",
     "text": [
      "Pearson correlation coefficient: 0.99\n"
     ]
    }
   ],
   "source": [
    "import pandas as pd\n",
    "\n",
    "# create a DataFrame with the data\n",
    "df = pd.DataFrame({\n",
    "    'study_time': [2, 3, 1, 4, 2],\n",
    "    'exam_score': [60, 65, 55, 70, 58]\n",
    "})\n",
    "\n",
    "# calculate the Pearson correlation coefficient\n",
    "corr = df['study_time'].corr(df['exam_score'], method='pearson')\n",
    "print(f\"Pearson correlation coefficient: {corr:.2f}\")\n",
    "\n"
   ]
  },
  {
   "cell_type": "markdown",
   "id": "ea656bd4-a65f-4a8e-9900-2324e83331ff",
   "metadata": {},
   "source": [
    "### Q2. Spearman's rank correlation is a measure of the monotonic relationship between two variables. Suppose you have collected data on the amount of sleep individuals get each night and their overall job satisfaction level on a scale of 1 to 10. Calculate the Spearman's rank correlation between these two variables and interpret the result."
   ]
  },
  {
   "cell_type": "code",
   "execution_count": 15,
   "id": "55464a15-6f3f-42bc-91d5-1433428998d4",
   "metadata": {},
   "outputs": [
    {
     "name": "stdout",
     "output_type": "stream",
     "text": [
      "Spearman correlation coefficient: 0.8999999999999998\n"
     ]
    }
   ],
   "source": [
    "import pandas as pd\n",
    "\n",
    "# create a DataFrame \n",
    "df2 = pd.DataFrame({\n",
    "    'sleep amount': [6, 8, 7.5, 5.5, 6.5],\n",
    "    'job satisfaction': [7, 8, 7.5, 5, 6]})\n",
    "    \n",
    "correlation = df2['sleep amount'].corr(df2['job satisfaction'], method='spearman')\n",
    "\n",
    "print(f\"Spearman correlation coefficient: {correlation}\")"
   ]
  },
  {
   "cell_type": "code",
   "execution_count": 18,
   "id": "feffabc2-fdb5-4fc2-a4ac-ac0b8da7c907",
   "metadata": {},
   "outputs": [
    {
     "data": {
      "text/html": [
       "<div>\n",
       "<style scoped>\n",
       "    .dataframe tbody tr th:only-of-type {\n",
       "        vertical-align: middle;\n",
       "    }\n",
       "\n",
       "    .dataframe tbody tr th {\n",
       "        vertical-align: top;\n",
       "    }\n",
       "\n",
       "    .dataframe thead th {\n",
       "        text-align: right;\n",
       "    }\n",
       "</style>\n",
       "<table border=\"1\" class=\"dataframe\">\n",
       "  <thead>\n",
       "    <tr style=\"text-align: right;\">\n",
       "      <th></th>\n",
       "      <th>sleep_amount</th>\n",
       "      <th>job_satisfaction</th>\n",
       "    </tr>\n",
       "  </thead>\n",
       "  <tbody>\n",
       "    <tr>\n",
       "      <th>sleep_amount</th>\n",
       "      <td>1.0</td>\n",
       "      <td>0.9</td>\n",
       "    </tr>\n",
       "    <tr>\n",
       "      <th>job_satisfaction</th>\n",
       "      <td>0.9</td>\n",
       "      <td>1.0</td>\n",
       "    </tr>\n",
       "  </tbody>\n",
       "</table>\n",
       "</div>"
      ],
      "text/plain": [
       "                  sleep_amount  job_satisfaction\n",
       "sleep_amount               1.0               0.9\n",
       "job_satisfaction           0.9               1.0"
      ]
     },
     "execution_count": 18,
     "metadata": {},
     "output_type": "execute_result"
    }
   ],
   "source": [
    "import pandas as pd\n",
    "\n",
    "# create a DataFrame \n",
    "df_2 = pd.DataFrame({\n",
    "    'sleep_amount': [6, 8, 7.5, 5.5, 6.5],\n",
    "    'job_satisfaction': [7, 8, 7.5, 5, 6]})\n",
    "\n",
    "df_2.corr(method='spearman')"
   ]
  },
  {
   "cell_type": "markdown",
   "id": "a0d963b2-4c55-4284-9650-7c5f093dd1bc",
   "metadata": {},
   "source": [
    "### Q3. Suppose you are conducting a study to examine the relationship between the number of hours of exercise per week and body mass index (BMI) in a sample of adults. You collected data on both variables for 50 participants. Calculate the Pearson correlation coefficient and the Spearman's rank correlation between these two variables and compare the results."
   ]
  },
  {
   "cell_type": "code",
   "execution_count": 35,
   "id": "44fd77c5-1cbf-419d-afe4-ba9ee84088c9",
   "metadata": {},
   "outputs": [
    {
     "name": "stdout",
     "output_type": "stream",
     "text": [
      "Person Correlation Coefficient:                  Exercise_hours       BMI\n",
      "Exercise_hours        1.000000 -0.498457\n",
      "BMI                  -0.498457  1.000000\n"
     ]
    }
   ],
   "source": [
    "import scipy.stats as stats\n",
    "import pandas as pd\n",
    "\n",
    "data = {'Exercise_hours' : [5, 7, 3, 4, 6, 2, 5, 4, 1, 7, 8, 3, 4, 6, 2, 1, 3, 7, 5, 4, 6, 3, 2, 5, 6, 7, 3, 4, 5, 2, 1, 8, 5, 6, 2, 4, 5, 6, 3, 7, 5, 6, 2, 1, 4, 7, 8, 3, 2, 6, 5],\n",
    "        'BMI' : [22.1, 27.4, 29.2, 26.5, 28.3, 31.4, 25.6, 26.3, 30.1, 23.9, 25.7, 29.5, 27.8, 23.2, 32.6, 29.9, 31.1, 27.5, 28.7, 25.8, 27.2, 29.8, 28.5, 25.1, 25.5, 28.8, 29.3, 30.6, 27.1, 31.9, 30.5, 25.7, 23.5, 28.4, 31.2, 26.6, 28.9, 30.8, 29.6, 23.4, 27.7, 28.2, 30.4, 26.7, 25.3, 24.1, 30.3, 23.7, 29.7, 27.6, 28.6]}\n",
    "\n",
    "d = pd.DataFrame(data)\n",
    "\n",
    "print(\"Person Correlation Coefficient: \",d.corr(method='pearson'))\n",
    "\n"
   ]
  },
  {
   "cell_type": "code",
   "execution_count": 44,
   "id": "84a0a41d-3501-4d9a-adac-8c8465b09a7c",
   "metadata": {},
   "outputs": [
    {
     "name": "stdout",
     "output_type": "stream",
     "text": [
      "Person Correlation Coefficient:  -0.4984566968731536\n",
      "Spearman Correlation Coefficient:  -0.5235747379012387\n"
     ]
    }
   ],
   "source": [
    "import scipy.stats as stats\n",
    "import pandas as pd\n",
    "\n",
    "data = {'Exercise_hours' : [5, 7, 3, 4, 6, 2, 5, 4, 1, 7, 8, 3, 4, 6, 2, 1, 3, 7, 5, 4, 6, 3, 2, 5, 6, 7, 3, 4, 5, 2, 1, 8, 5, 6, 2, 4, 5, 6, 3, 7, 5, 6, 2, 1, 4, 7, 8, 3, 2, 6, 5],\n",
    "        'BMI' : [22.1, 27.4, 29.2, 26.5, 28.3, 31.4, 25.6, 26.3, 30.1, 23.9, 25.7, 29.5, 27.8, 23.2, 32.6, 29.9, 31.1, 27.5, 28.7, 25.8, 27.2, 29.8, 28.5, 25.1, 25.5, 28.8, 29.3, 30.6, 27.1, 31.9, 30.5, 25.7, 23.5, 28.4, 31.2, 26.6, 28.9, 30.8, 29.6, 23.4, 27.7, 28.2, 30.4, 26.7, 25.3, 24.1, 30.3, 23.7, 29.7, 27.6, 28.6]}\n",
    "\n",
    "d = pd.DataFrame(data)\n",
    "\n",
    "correlation1 = d['Exercise_hours'].corr(d['BMI'], method='spearman')\n",
    "correlation2 = d['Exercise_hours'].corr(d['BMI'], method='pearson')\n",
    "\n",
    "print(\"Person Correlation Coefficient: \",correlation2)\n",
    "print(\"Spearman Correlation Coefficient: \",correlation1)"
   ]
  },
  {
   "cell_type": "code",
   "execution_count": 45,
   "id": "ea7df268-40d5-4de7-a360-28a54e332b77",
   "metadata": {},
   "outputs": [
    {
     "name": "stdout",
     "output_type": "stream",
     "text": [
      "Pearson correlation coefficient: PearsonRResult(statistic=0.055373880157165, pvalue=0.7025041924567877)\n",
      "Spearman's rank correlation: 0.06065944236312945\n"
     ]
    }
   ],
   "source": [
    "import numpy as np\n",
    "from scipy.stats import pearsonr, spearmanr\n",
    "\n",
    "# Generate random data for demonstration\n",
    "np.random.seed(1)\n",
    "exercise_hours = np.random.randint(1, 10, 50)\n",
    "bmi = np.random.randint(18, 35, 50)\n",
    "\n",
    "# Calculate Pearson correlation coefficient\n",
    "pearson_corr = pearsonr(exercise_hours, bmi)\n",
    "print(\"Pearson correlation coefficient:\", pearson_corr)\n",
    "\n",
    "# Calculate Spearman's rank correlation\n",
    "spearman_corr, _ = spearmanr(exercise_hours, bmi)\n",
    "print(\"Spearman's rank correlation:\", spearman_corr)\n"
   ]
  },
  {
   "cell_type": "markdown",
   "id": "dcd643ac-3dd4-4ff7-9871-17115b0dfabe",
   "metadata": {},
   "source": [
    "### Q4. A researcher is interested in examining the relationship between the number of hours individuals spend watching television per day and their level of physical activity. The researcher collected data on both variables from a sample of 50 participants. Calculate the Pearson correlation coefficient between these two variables."
   ]
  },
  {
   "cell_type": "code",
   "execution_count": 51,
   "id": "245e068f-000b-4d67-9f0e-f98ba5bccd9a",
   "metadata": {},
   "outputs": [
    {
     "name": "stdout",
     "output_type": "stream",
     "text": [
      "Pearson correlation coefficient: PearsonRResult(statistic=0.055373880157165, pvalue=0.7025041924567877)\n"
     ]
    }
   ],
   "source": [
    "import numpy as np\n",
    "from scipy.stats import pearsonr\n",
    "\n",
    "np.random.seed(1)\n",
    "\n",
    "TV_time = np.random.randint(1,8,50)\n",
    "physical_activity = np.random.randint(1,5,50)\n",
    "\n",
    "pear_corr, p_value= pearsonr(TV_time, physical_activity)\n",
    "\n",
    "print(\"Pearson correlation coefficient:\", pearson_corr)"
   ]
  },
  {
   "cell_type": "markdown",
   "id": "08b25b54-c5ea-40b3-ac48-91a81d93de08",
   "metadata": {},
   "source": [
    "### Q5. A survey was conducted to examine the relationship between age and preference for a particular brand of soft drink. The survey results are shown below:\n",
    "\n",
    "Age Soft drink \n",
    "\n",
    "25            Coke\n",
    "\n",
    "42           Pepsi\n",
    "\n",
    "37           Mountain dew\n",
    "\n",
    "19            coke\n",
    "\n",
    "31            pepsi\n",
    "\n",
    "28            coke"
   ]
  },
  {
   "cell_type": "code",
   "execution_count": 57,
   "id": "e1a6d90d-596c-4b8c-bf77-b669a71663d2",
   "metadata": {},
   "outputs": [
    {
     "name": "stderr",
     "output_type": "stream",
     "text": [
      "/opt/conda/lib/python3.10/site-packages/scipy/stats/_stats_py.py:112: RuntimeWarning: The input array could not be properly checked for nan values. nan values will be ignored.\n",
      "  warnings.warn(\"The input array could not be properly \"\n"
     ]
    },
    {
     "data": {
      "text/plain": [
       "SpearmanrResult(correlation=0.8332380897952965, pvalue=0.03939551647885117)"
      ]
     },
     "execution_count": 57,
     "metadata": {},
     "output_type": "execute_result"
    }
   ],
   "source": [
    "import pandas as pd\n",
    "from scipy.stats import pearsonr, spearmanr\n",
    "\n",
    "survey_data = {'Age': [25,42,37,19,31,28],\n",
    "              'Soft Drink': ['coke', 'pepsi', 'mountain dew', 'coke', 'pepsi', 'coke']}\n",
    "\n",
    "survey_df = pd.DataFrame(survey_data)\n",
    "\n",
    "spearman = spearmanr(survey_df)\n",
    "spearman"
   ]
  },
  {
   "cell_type": "markdown",
   "id": "92d656ed-fda5-4a41-b273-89f8ace98a48",
   "metadata": {},
   "source": [
    "### Q6. A company is interested in examining the relationship between the number of sales calls made per day and the number of sales made per week. The company collected data on both variables from a sample of 30 sales representatives. Calculate the Pearson correlation coefficient between these two variables."
   ]
  },
  {
   "cell_type": "code",
   "execution_count": 58,
   "id": "25c8cae7-f83e-4685-b80a-b5011020eb01",
   "metadata": {},
   "outputs": [
    {
     "name": "stdout",
     "output_type": "stream",
     "text": [
      "The Pearson correlation coefficient between sales calls and sales is:  0.9730970925590356\n"
     ]
    }
   ],
   "source": [
    "import pandas as pd\n",
    "\n",
    "# create the data frame\n",
    "df = pd.DataFrame({'sales_calls': [10, 7, 15, 12, 8, 18, 21, 14, 17, 11, 9, 20, 16, 22, 19, 13, 6, 4, 5, 3, 2, 1, 23, 25, 24, 27, 26, 28, 29, 30],\n",
    "                   'sales': [3, 2, 5, 4, 2, 6, 7, 4, 6, 3, 2, 6, 5, 8, 7, 4, 1, 1, 2, 1, 1, 1, 9, 10, 8, 11, 10, 12, 13, 14]})\n",
    "\n",
    "# calculate the Pearson correlation coefficient\n",
    "pearson_corr = df['sales_calls'].corr(df['sales'], method='pearson')\n",
    "\n",
    "print(\"The Pearson correlation coefficient between sales calls and sales is: \", pearson_corr)\n"
   ]
  },
  {
   "cell_type": "code",
   "execution_count": null,
   "id": "58f52188-c7c9-4b4b-9d32-b6c825150145",
   "metadata": {},
   "outputs": [],
   "source": []
  }
 ],
 "metadata": {
  "kernelspec": {
   "display_name": "Python 3 (ipykernel)",
   "language": "python",
   "name": "python3"
  },
  "language_info": {
   "codemirror_mode": {
    "name": "ipython",
    "version": 3
   },
   "file_extension": ".py",
   "mimetype": "text/x-python",
   "name": "python",
   "nbconvert_exporter": "python",
   "pygments_lexer": "ipython3",
   "version": "3.10.8"
  }
 },
 "nbformat": 4,
 "nbformat_minor": 5
}
