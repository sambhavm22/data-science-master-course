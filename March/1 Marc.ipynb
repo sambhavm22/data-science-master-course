{
 "cells": [
  {
   "cell_type": "markdown",
   "id": "085f8eab-409a-462e-b79e-c44581e9997d",
   "metadata": {},
   "source": [
    "Q1. Write a Python function that takes in two arrays of data and calculates the F-value for a variance ratio test. The function should return the F-value and the corresponding p-value for the test.\n",
    "\n",
    "Q2. Given a significance level of 0.05 and the degrees of freedom for the numerator and denominator of an F-distribution, write a Python function that returns the critical F-value for a two-tailed test.\n",
    "\n",
    "Q3. Write a Python program that generates random samples from two normal distributions with known variances and uses an F-test to determine if the variances are equal. The program should output the F-value, degrees of freedom, and p-value for the test.\n",
    "\n",
    "Q4.The variances of two populations are known to be 10 and 15. A sample of 12 observations is taken from each population. Conduct an F-test at the 5% significance level to determine if the variances are significantly different.\n",
    "\n",
    "Q5. A manufacturer claims that the variance of the diameter of a certain product is 0.005. A sample of 25 products is taken, and the sample variance is found to be 0.006. Conduct an F-test at the 1% significance level to determine if the claim is justified.\n",
    "\n",
    "Q6. Write a Python function that takes in the degrees of freedom for the numerator and denominator of an F-distribution and calculates the mean and variance of the distribution. The function should return the mean and variance as a tuple.\n",
    "\n",
    "Q7. A random sample of 10 measurements is taken from a normal population with unknown variance. The sample variance is found to be 25. Another random sample of 15 measurements is taken from another normal population with unknown variance, and the sample variance is found to be 20. Conduct an F-test at the 10% significance level to determine if the variances are significantly different.\n",
    "\n",
    "Q8. The following data represent the waiting times in minutes at two different restaurants on a Saturday night: Restaurant A: 24, 25, 28, 23, 22, 20, 27; Restaurant B: 31, 33, 35, 30, 32, 36. Conduct an F-test at the 5% significance level to determine if the variances are significantly different.\n",
    "\n",
    "Q9. The following data represent the test scores of two groups of students: Group A: 80, 85, 90, 92, 87, 83; Group B: 75, 78, 82, 79, 81, 84. Conduct an F-test at the 1% significance level to determine if the variances are significantly different."
   ]
  },
  {
   "cell_type": "markdown",
   "id": "620a6ae0-7483-4b2c-ac46-5b5628f47981",
   "metadata": {},
   "source": [
    "### Answer 1"
   ]
  },
  {
   "cell_type": "code",
   "execution_count": 14,
   "id": "219142f4-c805-4465-aabc-f92129be53fa",
   "metadata": {},
   "outputs": [],
   "source": [
    "import numpy as np \n",
    "from scipy.stats import f\n",
    "\n",
    "def f_value (x,y):\n",
    "    \n",
    "    variance_of_sample_1 = np.var(x, ddof=1)\n",
    "    variance_of_sample_2 = np.var(y, ddof=1)\n",
    "    \n",
    "    f_value = variance_of_sample_1/variance_of_sample_2\n",
    "    \n",
    "    dof1 = len(x)-1\n",
    "    dof2 = len(y)-1\n",
    "    \n",
    "    p_value = 1 - f.cdf(f_value, dof1, dof2)\n",
    "    \n",
    "    return f_value, p_value\n",
    "\n",
    "    "
   ]
  },
  {
   "cell_type": "code",
   "execution_count": 16,
   "id": "4b6d5cc6-ebc2-4270-b51c-00bbfd5f48b4",
   "metadata": {},
   "outputs": [
    {
     "data": {
      "text/plain": [
       "(0.776595744680851, 0.616652353489648)"
      ]
     },
     "execution_count": 16,
     "metadata": {},
     "output_type": "execute_result"
    }
   ],
   "source": [
    "f_value([3,6,4,8,7,2,9], [2,5,4,8,3,9,1])"
   ]
  },
  {
   "cell_type": "markdown",
   "id": "1ccefb15-12f7-42f9-a8af-221ed482b729",
   "metadata": {},
   "source": [
    "### Answer 2"
   ]
  },
  {
   "cell_type": "code",
   "execution_count": 18,
   "id": "5f8d11ac-f5ae-4dc8-8e1e-c9482eb60913",
   "metadata": {},
   "outputs": [],
   "source": [
    "from scipy.stats import f\n",
    "\n",
    "def critical_f_value(alpha, dof1, dof2, tail_type = 2):\n",
    "    \n",
    "    upper_tail_prob = alpha / (2.0 if tail_type == 2 else 1.0)\n",
    "    \n",
    "    critical_f_value = f.ppf(1 - upper_tail_prob, dof1, dof2)\n",
    "    \n",
    "    return critical_f_value"
   ]
  },
  {
   "cell_type": "code",
   "execution_count": 22,
   "id": "903d324c-327c-4d03-b3a3-cee4136334e0",
   "metadata": {},
   "outputs": [
    {
     "name": "stdout",
     "output_type": "stream",
     "text": [
      "Critical F-value for a two-tailed test: 4.319721833292892\n"
     ]
    }
   ],
   "source": [
    "alpha = 0.05\n",
    "dof1 = 6\n",
    "dof2 = 9\n",
    "\n",
    "crit_f = critical_f_value(alpha, dof1, dof2)\n",
    "\n",
    "print(\"Critical F-value for a two-tailed test:\", crit_f)\n"
   ]
  },
  {
   "cell_type": "code",
   "execution_count": 19,
   "id": "85e3f516-5d5d-4af0-8f86-91695f50826f",
   "metadata": {},
   "outputs": [
    {
     "data": {
      "text/plain": [
       "4.319721833292892"
      ]
     },
     "execution_count": 19,
     "metadata": {},
     "output_type": "execute_result"
    }
   ],
   "source": [
    "critical_f_value(0.05, 6,9)"
   ]
  },
  {
   "cell_type": "markdown",
   "id": "de72fa91-fda0-4e5a-bb7c-9fa830e0eb24",
   "metadata": {},
   "source": [
    "### Answer 3"
   ]
  },
  {
   "cell_type": "code",
   "execution_count": 40,
   "id": "2839fbaa-7de1-4500-a351-a517a3232aaa",
   "metadata": {},
   "outputs": [
    {
     "name": "stdout",
     "output_type": "stream",
     "text": [
      "F_Value 0.2837579646460484\n",
      "P_Value 0.9627510108359747\n",
      "Degree of Freedom of Sample 1: 9\n",
      "Degree of Freedom of Sample 2: 9\n"
     ]
    }
   ],
   "source": [
    "import numpy as np\n",
    "from scipy.stats import f\n",
    "\n",
    "sample_1 = np.random.normal(size=10)\n",
    "sample_2 = np.random.normal(size=10)\n",
    "\n",
    "var_1 = np.var(sample_1)\n",
    "var_2 = np.var(sample_2)\n",
    "\n",
    "\n",
    "df1 = len(sample_1) - 1\n",
    "df2 = len(sample_2) - 1\n",
    "\n",
    "f_value = var_1/var_2\n",
    "\n",
    "p_value = 1 - f.cdf(f_value, df1, df2)\n",
    "\n",
    "print(\"F_Value\", f_value)\n",
    "print(\"P_Value\", p_value)\n",
    "print(\"Degree of Freedom of Sample 1:\", df1)\n",
    "print(\"Degree of Freedom of Sample 2:\", df2)"
   ]
  },
  {
   "cell_type": "code",
   "execution_count": 41,
   "id": "8c9d00cb-692d-4399-b409-56508049dfcf",
   "metadata": {},
   "outputs": [
    {
     "name": "stdout",
     "output_type": "stream",
     "text": [
      "F-value:  0.5195062488469304\n",
      "Degrees of freedom:  49 ,  74\n",
      "P-value:  0.01583527095507136\n"
     ]
    }
   ],
   "source": [
    "import numpy as np\n",
    "from scipy.stats import f\n",
    "\n",
    "# Set the random seed for reproducibility\n",
    "np.random.seed(123)\n",
    "\n",
    "# Define the sample sizes\n",
    "n1 = 50\n",
    "n2 = 75\n",
    "\n",
    "# Define the variances\n",
    "var1 = 4\n",
    "var2 = 9\n",
    "\n",
    "# Generate the random samples\n",
    "sample1 = np.random.normal(loc=0, scale=np.sqrt(var1), size=n1)\n",
    "sample2 = np.random.normal(0, np.sqrt(var2), n2)\n",
    "\n",
    "# Compute the F-value and p-value for the F-test\n",
    "F = np.var(sample1, ddof=1) / np.var(sample2, ddof=1)\n",
    "df1 = n1 - 1\n",
    "df2 = n2 - 1\n",
    "p_value = 2 * min(f.cdf(F, df1, df2), 1 - f.cdf(F, df1, df2))\n",
    "\n",
    "# Print the results\n",
    "print(\"F-value: \", F)\n",
    "print(\"Degrees of freedom: \", df1, \", \", df2)\n",
    "print(\"P-value: \", p_value)\n"
   ]
  },
  {
   "cell_type": "markdown",
   "id": "0d0441b1-1483-442d-b43c-51a58eb746be",
   "metadata": {},
   "source": [
    "### Answer 4"
   ]
  },
  {
   "cell_type": "code",
   "execution_count": 49,
   "id": "02747c67-1c13-423f-9afd-f45d97842c27",
   "metadata": {},
   "outputs": [
    {
     "name": "stdout",
     "output_type": "stream",
     "text": [
      "F_Value 0.6666666666666666\n",
      "F_Critical_Value 2.8179304699530863\n"
     ]
    }
   ],
   "source": [
    "from scipy.stats import f\n",
    "import numpy as np\n",
    "\n",
    "#variance of population\n",
    "pop_var_1 = 10 \n",
    "pop_var_2 = 15\n",
    "\n",
    "n1 = n2 = 12 #sample size\n",
    "\n",
    "dof1 = dof2 = 11  #degree of freedom\n",
    "\n",
    "alpha = 0.05\n",
    "\n",
    "f_value = pop_var_1/pop_var_2\n",
    "\n",
    "f_critical_value = f.ppf(1 - alpha, dof1, dof2)\n",
    "\n",
    "print(\"F_Value\", f_value)\n",
    "print(\"F_Critical_Value\", f_critical_value)"
   ]
  },
  {
   "cell_type": "code",
   "execution_count": 56,
   "id": "1311ab79-b73f-46b4-8492-12ec716b128c",
   "metadata": {},
   "outputs": [
    {
     "name": "stdout",
     "output_type": "stream",
     "text": [
      "F_Value:  1.0\n",
      "P_Value:  0.01583527095507136\n",
      "The variances are significantly different.\n"
     ]
    }
   ],
   "source": [
    "from scipy.stats import f\n",
    "import numpy as np\n",
    "\n",
    "var1 = 10\n",
    "var2 = 15\n",
    "\n",
    "n1 = n2 = 12 \n",
    "\n",
    "dof1 = dof2 = n1 - 1\n",
    "\n",
    "sample1 = np.random.normal(0, np.sqrt(var1), n1)\n",
    "sample2 = np.random.normal(0, np.sqrt(var2), n2)\n",
    "\n",
    "f_value = np.var(sample1, ddof=1)/np.var(sample1, ddof=1)\n",
    "\n",
    "p_value = 2 * min(f.cdf(F, df1, df2), 1 - f.cdf(F, df1, df2))\n",
    "\n",
    "print(\"F_Value: \", f_value)\n",
    "print(\"P_Value: \", p_value)\n",
    "\n",
    "alpha = 0.05\n",
    "\n",
    "if p_value < alpha:\n",
    "    print(\"The variances are significantly different.\")\n",
    "    \n",
    "else: \n",
    "    print(\"The variances are not significantly different.\")"
   ]
  },
  {
   "cell_type": "markdown",
   "id": "78f3d481-b8bc-462f-9803-054f734db807",
   "metadata": {},
   "source": [
    "### Answer 5"
   ]
  },
  {
   "cell_type": "code",
   "execution_count": 25,
   "id": "cb410aa2-8a7c-4b06-8bf1-d9d376f6164a",
   "metadata": {},
   "outputs": [
    {
     "name": "stdout",
     "output_type": "stream",
     "text": [
      "Fail to reject the null hypothesis. The claimed variance is justified.\n"
     ]
    }
   ],
   "source": [
    "import scipy.stats as stats\n",
    "\n",
    "# Define the sample variance and claimed variance\n",
    "sample_var = 0.006\n",
    "claimed_var = 0.005\n",
    "\n",
    "# Calculate the F value\n",
    "F = sample_var / claimed_var\n",
    "\n",
    "# Define the degrees of freedom\n",
    "df1 = 24\n",
    "df2 = 1\n",
    "\n",
    "# Calculate the p-value\n",
    "p_value = stats.f.sf(F, df1, df2)\n",
    "\n",
    "# Define the significance level\n",
    "alpha = 0.01\n",
    "\n",
    "# Compare the p-value to the significance level\n",
    "if p_value < alpha:\n",
    "    print(\"Reject the null hypothesis. The claimed variance is not justified.\")\n",
    "else:\n",
    "    print(\"Fail to reject the null hypothesis. The claimed variance is justified.\")\n"
   ]
  },
  {
   "cell_type": "code",
   "execution_count": 26,
   "id": "33c8994c-6f3b-47fe-bd66-1b081f04a712",
   "metadata": {},
   "outputs": [
    {
     "name": "stdout",
     "output_type": "stream",
     "text": [
      "Fail to reject the null hypothesis. The claimed variance is justified.\n"
     ]
    }
   ],
   "source": [
    "import scipy.stats as stats\n",
    "\n",
    "# Define the sample variance and claimed variance\n",
    "sample_var = 0.006\n",
    "claimed_var = 0.005\n",
    "\n",
    "# Calculate the F value\n",
    "F = sample_var / claimed_var\n",
    "\n",
    "# Define the degrees of freedom\n",
    "df1 = 24\n",
    "df2 = 1\n",
    "\n",
    "# Calculate the p-value\n",
    "p_value = stats.f.sf(F, df1, df2)\n",
    "\n",
    "# Define the significance level\n",
    "alpha = 0.01\n",
    "\n",
    "# Compare the p-value to the significance level\n",
    "if p_value < alpha:\n",
    "    print(\"Reject the null hypothesis. The claimed variance is not justified.\")\n",
    "else:\n",
    "    print(\"Fail to reject the null hypothesis. The claimed variance is justified.\")\n"
   ]
  },
  {
   "cell_type": "markdown",
   "id": "3c99d09a-7199-4300-90a3-b000db944668",
   "metadata": {},
   "source": [
    "### Answer 6"
   ]
  },
  {
   "cell_type": "code",
   "execution_count": 3,
   "id": "bedc6ac8-4f76-470b-bc5f-682eacad0177",
   "metadata": {},
   "outputs": [
    {
     "name": "stdout",
     "output_type": "stream",
     "text": [
      "Mean: 1.25\n",
      "Variance: 1.3541666666666667\n"
     ]
    }
   ],
   "source": [
    "from scipy.stats import f\n",
    "\n",
    "# Define the degrees of freedom\n",
    "dof1 = 5\n",
    "dof2 = 10\n",
    "\n",
    "# Calculate the mean and variance of the F-distribution\n",
    "mean = f.mean(dof1, dof2)\n",
    "variance = f.var(dof1, dof2)\n",
    "\n",
    "print(\"Mean:\", mean)\n",
    "print(\"Variance:\", variance)\n"
   ]
  },
  {
   "cell_type": "markdown",
   "id": "77aa86a0-7978-4615-be4f-772a32a9192b",
   "metadata": {},
   "source": [
    "### Answer 7"
   ]
  },
  {
   "cell_type": "code",
   "execution_count": 5,
   "id": "8dda8889-b07a-4c1b-9bd4-2e34f8b8fe4b",
   "metadata": {},
   "outputs": [
    {
     "name": "stdout",
     "output_type": "stream",
     "text": [
      "F_Value 1.0\n",
      "F_Critical_Value 2.121954566976902\n"
     ]
    }
   ],
   "source": [
    "from scipy.stats import f\n",
    "import numpy as np\n",
    "\n",
    "n1 = 10\n",
    "var1 = 25\n",
    "\n",
    "n2 = 15\n",
    "var2 =20\n",
    "\n",
    "dof1 = n1 - 1\n",
    "dof2 = n2 -1\n",
    "\n",
    "sample1 = np.random.normal(0, np.sqrt(var1), n1)\n",
    "sample2 = np.random.normal(0, np.sqrt(var2), n2)\n",
    "\n",
    "f_value = np.var(sample1, ddof=1)/np.var(sample1, ddof=1)\n",
    "\n",
    "alpha = 0.1\n",
    "\n",
    "f_critical_value = f.ppf(1 - alpha, dof1, dof2)\n",
    "\n",
    "print(\"F_Value\", f_value)\n",
    "print(\"F_Critical_Value\", f_critical_value)"
   ]
  },
  {
   "cell_type": "code",
   "execution_count": 6,
   "id": "8664bcd0-bf52-4363-9e29-3d638a6e0b7c",
   "metadata": {},
   "outputs": [
    {
     "name": "stdout",
     "output_type": "stream",
     "text": [
      "The variances are not significantly different.\n"
     ]
    }
   ],
   "source": [
    "import numpy as np\n",
    "from scipy.stats import f\n",
    "\n",
    "# Define the sample sizes\n",
    "n1 = 10\n",
    "n2 = 15\n",
    "\n",
    "# Define the sample variances\n",
    "s1_sq = 25\n",
    "s2_sq = 20\n",
    "\n",
    "# Compute the F-value and p-value for the F-test\n",
    "F = s1_sq / s2_sq\n",
    "df1 = n1 - 1\n",
    "df2 = n2 - 1\n",
    "p_value = 2 * min(f.cdf(F, df1, df2), 1 - f.cdf(F, df1, df2))\n",
    "\n",
    "# Set the significance level\n",
    "alpha = 0.1\n",
    "\n",
    "# Compare the p-value with the significance level\n",
    "if p_value < alpha:\n",
    "    print(\"The variances are significantly different.\")\n",
    "else:\n",
    "    print(\"The variances are not significantly different.\")\n"
   ]
  },
  {
   "cell_type": "markdown",
   "id": "a6c20dea-3b0d-4c6f-8bf3-70180bee44d1",
   "metadata": {},
   "source": [
    "### Answer 8 "
   ]
  },
  {
   "cell_type": "code",
   "execution_count": 11,
   "id": "ce8fc20d-c866-4c49-8a12-15fac83b9528",
   "metadata": {},
   "outputs": [
    {
     "name": "stdout",
     "output_type": "stream",
     "text": [
      "the variances are significantly different\n",
      "F_Critical_Value: 0.227926763773758\n",
      "F_Value: 1.4551907719609583\n",
      "P_Value: 0.6974815747937483\n"
     ]
    }
   ],
   "source": [
    "import numpy as np\n",
    "from scipy.stats import f\n",
    "import scipy.stats as stats \n",
    "\n",
    "Restaurant_A = [24, 25, 28, 23, 22, 20, 27]\n",
    "Restaurant_B = [31, 33, 35, 30, 32, 36]\n",
    "\n",
    "alpha = 0.05\n",
    "\n",
    "dof_1 = len(Restaurant_A) - 1\n",
    "dof_2 = len(Restaurant_B) - 1\n",
    "\n",
    "var_1 = np.var(Restaurant_A, ddof = 1)\n",
    "var_2 = np.var(Restaurant_B, ddof = 1)\n",
    "\n",
    "f_value = var_1/var_2\n",
    "\n",
    "f_critical_test = f.ppf(alpha, dof_1, dof_2)\n",
    "\n",
    "p_value = stats.f.sf(f_value, dof_1, dof_2) * 2\n",
    "\n",
    "if f_value < p_value:\n",
    "    print(\"the variances are not significantly different\")\n",
    "else:\n",
    "    print(\"the variances are significantly different\")\n",
    "    \n",
    "print(\"F_Critical_Value:\", f_critical_test)\n",
    "print(\"F_Value:\",f_value)\n",
    "print(\"P_Value:\",p_value)\n"
   ]
  },
  {
   "cell_type": "markdown",
   "id": "ab0b6a37-02be-4535-89f9-78fcd92ebeba",
   "metadata": {},
   "source": [
    "### Answer 9"
   ]
  },
  {
   "cell_type": "code",
   "execution_count": 21,
   "id": "d748dbbc-0215-4d26-8c3a-06335dc394b1",
   "metadata": {},
   "outputs": [
    {
     "name": "stdout",
     "output_type": "stream",
     "text": [
      "the variances are significantly different\n",
      "F_Critical_Value: 0.0911824671285913\n",
      "F_Value: 1.9442622950819677\n",
      "P_Value: 0.4831043549070688\n"
     ]
    }
   ],
   "source": [
    "import numpy as np\n",
    "from scipy.stats import f\n",
    "\n",
    "Group_A = [80, 85, 90, 92, 87, 83]\n",
    "Group_B = [ 75, 78, 82, 79, 81, 84]\n",
    "\n",
    "alpha = 0.01\n",
    "\n",
    "dof_1 = len(Group_A) - 1\n",
    "dof_2 = len(Group_B) - 1\n",
    "\n",
    "var_1 = np.var(Group_A, ddof = 1)\n",
    "var_2 = np.var(Group_B, ddof = 1)\n",
    "\n",
    "f_value = var_1/var_2\n",
    "\n",
    "f_critical_test = f.ppf(alpha, dof_1, dof_2)\n",
    "\n",
    "p_value = stats.f.sf(f_value, dof_1, dof_2) * 2\n",
    "\n",
    "p_value = 2 * (1 - f.cdf(f_stat, df1, df2))\n",
    "\n",
    "if f_value < p_value:\n",
    "    print(\"the variances are not significantly different\")\n",
    "else:\n",
    "    print(\"the variances are significantly different\")\n",
    "    \n",
    "print(\"F_Critical_Value:\", f_critical_test)\n",
    "print(\"F_Value:\",f_value)\n",
    "print(\"P_Value:\",p_value)\n"
   ]
  },
  {
   "cell_type": "code",
   "execution_count": 17,
   "id": "34049321-8a4d-4868-aaa1-bfb2e1a06531",
   "metadata": {},
   "outputs": [
    {
     "name": "stdout",
     "output_type": "stream",
     "text": [
      "The variances of the two groups are not significantly different.\n"
     ]
    }
   ],
   "source": [
    "import numpy as np\n",
    "from scipy.stats import f\n",
    "\n",
    "# Step 1: Define the two groups of data\n",
    "group_a = np.array([80, 85, 90, 92, 87, 83])\n",
    "group_b = np.array([75, 78, 82, 79, 81, 84])\n",
    "\n",
    "# Step 2: Calculate the F-statistic\n",
    "var_a = np.var(group_a, ddof=1)\n",
    "var_b = np.var(group_b, ddof=1)\n",
    "f_stat = var_a / var_b\n",
    "\n",
    "# Step 3: Calculate the p-value\n",
    "df1 = len(group_a) - 1\n",
    "df2 = len(group_b) - 1\n",
    "p_value = 2 * (1 - f.cdf(f_stat, df1, df2))\n",
    "\n",
    "# Step 4: Determine if the variances are significantly different\n",
    "alpha = 0.01\n",
    "if p_value < alpha:\n",
    "    print(\"The variances of the two groups are significantly different.\")\n",
    "else:\n",
    "    print(\"The variances of the two groups are not significantly different.\")\n"
   ]
  },
  {
   "cell_type": "code",
   "execution_count": 20,
   "id": "9d0e1722-a240-4601-a920-0fa707902c09",
   "metadata": {},
   "outputs": [
    {
     "data": {
      "text/plain": [
       "0.4831043549070688"
      ]
     },
     "execution_count": 20,
     "metadata": {},
     "output_type": "execute_result"
    }
   ],
   "source": []
  },
  {
   "cell_type": "code",
   "execution_count": null,
   "id": "01606ef4-27a3-4bf2-803c-72f8da63923a",
   "metadata": {},
   "outputs": [],
   "source": []
  }
 ],
 "metadata": {
  "kernelspec": {
   "display_name": "Python 3 (ipykernel)",
   "language": "python",
   "name": "python3"
  },
  "language_info": {
   "codemirror_mode": {
    "name": "ipython",
    "version": 3
   },
   "file_extension": ".py",
   "mimetype": "text/x-python",
   "name": "python",
   "nbconvert_exporter": "python",
   "pygments_lexer": "ipython3",
   "version": "3.10.8"
  }
 },
 "nbformat": 4,
 "nbformat_minor": 5
}
