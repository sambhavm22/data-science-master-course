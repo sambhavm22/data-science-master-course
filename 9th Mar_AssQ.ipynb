{
 "cells": [
  {
   "cell_type": "markdown",
   "id": "aa607ac1-38d9-457d-9c24-87732852ba29",
   "metadata": {},
   "source": [
    "Q1: What are the Probability Mass Function (PMF) and Probability Density Function (PDF)? Explain with an example.\n",
    "\n",
    "Q2: What is Cumulative Density Function (CDF)? Explain with an example. Why CDF is used?\n",
    "\n",
    "Q3: What are some examples of situations where the normal distribution might be used as a model? Explain how the parameters of the normal distribution relate to the shape of the distribution.\n",
    "\n",
    "Q4: Explain the importance of Normal Distribution. Give a few real-life examples of Normal Distribution.\n",
    "\n",
    "Q5: What is Bernaulli Distribution? Give an Example. What is the difference between Bernoulli Distribution and Binomial Distribution?\n",
    "\n",
    "Q6. Consider a dataset with a mean of 50 and a standard deviation of 10. If we assume that the dataset is normally distributed, what is the probability that a randomly selected observation will be greater than 60? Use the appropriate formula and show your calculations.\n",
    "\n",
    "Q7: Explain uniform Distribution with an example.\n",
    "\n",
    "Q8: What is the z score? State the importance of the z score.\n",
    "\n",
    "Q9: What is Central Limit Theorem? State the significance of the Central Limit Theorem.\n",
    "\n",
    "Q10: State the assumptions of the Central Limit Theorem."
   ]
  },
  {
   "cell_type": "markdown",
   "id": "88762273-ed5c-4934-8a4b-66867dd4b056",
   "metadata": {},
   "source": [
    "### Answer 1\n",
    "\n",
    "The Probability Mass Function (PMF) is a function that gives the probability of a discrete random variable taking on a particular value.\n",
    "\n",
    "let's consider the rolling of a fair six-sided die. The random variable in this case is the outcome of the roll, which can take on values 1, 2, 3, 4, 5, or 6. The PMF of this random variable is a function that assigns probabilities to each of these values. Since the die is fair, the PMF is uniform, which means that each outcome has an equal probability of 1/6.\n",
    "\n",
    "the Probability Density Function (PDF) is a function that describes the relative likelihood of a continuous random variable taking on a particular value.  \n",
    "\n",
    "let's consider the height of people in a population. The height is a continuous random variable, and the PDF would give the probability of a person having a height within a certain range, such as between 5'10\" and 6'0\". The PDF of the height distribution can be a normal distribution, which means that the probability density is highest at the mean height and decreases as the height deviates from the mean."
   ]
  },
  {
   "cell_type": "markdown",
   "id": "1681c25f-6b6c-4fea-9e22-bc73ceed4a9c",
   "metadata": {},
   "source": [
    "### Answer 2\n",
    "\n",
    "The Cumulative Density Function (CDF) is a function that gives the probability that a random variable takes on a value less than or equal to a given value. In other words, it gives the cumulative distribution of a random variable.\n",
    "\n",
    "For example, let's consider the same fair six-sided die that we discussed in the previous answer. The CDF of this random variable would give the probability that the outcome is less than or equal to a certain value.\n",
    "\n",
    "The CDF of the die can be calculated as follows:\n",
    "\n",
    "P(X ≤ 1) = 1/6\n",
    "P(X ≤ 2) = 2/6\n",
    "P(X ≤ 3) = 3/6\n",
    "P(X ≤ 4) = 4/6\n",
    "P(X ≤ 5) = 5/6\n",
    "P(X ≤ 6) = 6/6 = 1\n",
    "\n",
    "The CDF plot of the die would look like a step function, where the value of the function increases at each possible outcome of the random variable.\n",
    "\n",
    "The CDF is used because it gives a complete picture of the probability distribution of a random variable. It can be used to calculate probabilities for any range of values, not just discrete or continuous values. Additionally, the CDF is a useful tool for comparing the distributions of different random variables."
   ]
  },
  {
   "cell_type": "markdown",
   "id": "924a3602-9dcd-425a-8a1a-c693befab47b",
   "metadata": {},
   "source": [
    "### Answer 3 and Answer 4\n",
    "\n",
    "The normal distribution, also known as the Gaussian distribution, is a common probability distribution that is often used to model a wide variety of natural phenomena and real-world processes. \n",
    "\n",
    "For eg. \n",
    "\n",
    "Heights of a population\n",
    "\n",
    "Test scores\n",
    "\n",
    "Financial data\n",
    "\n",
    "The mean and standard deviation of the normal distribution determine the location and shape of the distribution.\n",
    "\n",
    "It plays an important role in statistics and data analysis due to its many desirable properties. Here are some reasons why the normal distribution is important:\n",
    "\n",
    "Central limit theorem: One of the most important applications of the normal distribution is the central limit theorem, which states that the distribution of sample means approaches a normal distribution as the sample size increases, regardless of the shape of the population distribution. This allows us to make statistical inferences about a population based on a sample, even if the population distribution is unknown or non-normal.\n",
    "\n",
    "Statistical inference: The normal distribution is often used as a model for many real-world phenomena, which allows us to make predictions and inferences about the behavior of the phenomenon. The normal distribution is particularly useful for making probabilistic statements about the behavior of the phenomenon, which is important in fields such as finance, engineering, and physics.\n",
    "\n",
    "Standardization: The normal distribution has a standard form with a mean of 0 and a standard deviation of 1. This allows us to compare and analyze data that are measured on different scales or units, by standardizing the data to the same scale using the z-score transformation."
   ]
  },
  {
   "cell_type": "markdown",
   "id": "69ea9f66-711e-46ee-984e-f89b30303f00",
   "metadata": {},
   "source": [
    "### Answer 5\n",
    "\n",
    "The Bernoulli distribution is a discrete probability distribution that describes the outcomes of a single binary experiment that can result in either success or failure.\n",
    "\n",
    "The probability mass function (PMF) of the Bernoulli distribution is given by:\n",
    "\n",
    "P(X = 1) = p\n",
    "P(X = 0) = 1 - p\n",
    "\n",
    "where X is a random variable that takes the value 1 for success and 0 for failure.\n",
    "\n",
    "An example of the Bernoulli distribution is the outcome of flipping a coin, where success (1) represents getting heads and failure (0) represents getting tails. If the coin is fair, then the probability of success (getting heads) is 0.5, and the probability of failure (getting tails) is also 0.5.\n",
    "\n",
    "The main difference between the Bernoulli distribution and the Binomial distribution is that the Bernoulli distribution models the outcome of a single trial, while the Binomial distribution models the number of successes in a fixed number of trials. Additionally, the Bernoulli distribution has only one parameter (p), while the Binomial distribution has two parameters (n and p)."
   ]
  },
  {
   "cell_type": "markdown",
   "id": "0a54934f-9184-4e4f-b6e5-228ae8d58136",
   "metadata": {},
   "source": [
    "### Answer 6\n",
    "\n",
    "we need to convert the value 60 to a z-score, which measures the number of standard deviations that a value is from the mean:\n",
    "\n",
    "z = (60 - 50) / 10 = 1\n",
    "\n",
    "we use a standard normal distribution table or calculator to find the area under the curve to the right of z = 1. Alternatively, we can use the cumulative distribution function (CDF) of the standard normal distribution:\n",
    "\n",
    "P(Z > 1) = 1 - P(Z < 1)\n",
    "\n",
    "Using a standard normal distribution table or calculator, we find that the area to the left of z = 1 is 0.8413. Therefore, the area to the right of z = 1 (i.e., the probability that a randomly selected observation will be greater than 60) is:\n",
    "\n",
    "P(Z > 1) = 1 - 0.8413 = 0.1587\n",
    "\n",
    "So the probability that a randomly selected observation from the normally distributed dataset will be greater than 60 is approximately 0.1587, or 15.87%."
   ]
  },
  {
   "cell_type": "markdown",
   "id": "daa17489-9c95-4274-a2e5-6d26a768aecb",
   "metadata": {},
   "source": [
    "### Answer 7\n",
    "\n",
    "The uniform distribution is a continuous probability distribution that describes the probability of observing a value between a minimum and a maximum value in a given range, where each value within the range has an equal probability of occurring. The uniform distribution is also known as the rectangular distribution, as the probability density function is a rectangle.\n",
    "\n",
    "The probability density function (PDF) of the uniform distribution is given by:\n",
    "\n",
    "f(x) = 1 / (b - a), for a ≤ x ≤ b\n",
    "f(x) = 0, otherwise\n",
    "\n",
    "An example of the uniform distribution is the roll of a fair die. The die has six sides, numbered from 1 to 6, and each number has an equal probability of occurring. The minimum value in the range is 1, and the maximum value in the range is 6. Therefore, the probability of observing any particular value between 1 and 6 is:\n",
    "\n",
    "P(1 ≤ x ≤ 6) = 1 / (6 - 1) = 1 / 5\n",
    "\n",
    "Similarly, if we wanted to find the probability of rolling a value less than or equal to 4, we would calculate:\n",
    "\n",
    "P(x ≤ 4) = (4 - 1) / (6 - 1) = 3 / 5"
   ]
  },
  {
   "cell_type": "markdown",
   "id": "21cdd98b-1065-4287-8cac-12f226eec788",
   "metadata": {},
   "source": [
    "### Answer 8 \n",
    "\n",
    "A z-score, also known as a standard score, is a measure of the number of standard deviations that a data point is away from the mean of a population or a sample. The z-score allows us to standardize variables that have different units and scales, and compare them on a common scale.\n",
    "\n",
    "The formula for calculating the z-score of an observation x from a normally distributed population or sample with a mean μ and standard deviation σ is:\n",
    "\n",
    "z = (x - μ) / σ\n",
    "\n",
    "A positive z-score indicates that the observation is above the mean, while a negative z-score indicates that the observation is below the mean. A z-score of 0 indicates that the observation is equal to the mean.\n",
    "\n",
    "The importance of the z-score lies in its usefulness in statistical inference and hypothesis testing. By standardizing the data, we can compare observations from different populations or samples, and make statements about the probability of observing certain values or ranges of values. For example, we can use z-scores to calculate confidence intervals, test hypotheses, and perform significance tests.\n",
    "\n",
    "The z-score is also important in quality control and process improvement, where it is used to measure the variability of a process or product, and identify outliers and defects. In finance, the z-score is used to measure the creditworthiness and financial health of companies and individuals, based on their financial ratios and performance indicators.\n",
    "\n"
   ]
  },
  {
   "cell_type": "markdown",
   "id": "cebde1ff-0f00-45f1-8e46-4416c707d41b",
   "metadata": {},
   "source": [
    "### Answer 9\n",
    "\n",
    "The Central Limit Theorem is a fundamental concept in statistics that describes the behavior of the sample means or sample sums of a large number of independent and identically distributed (i.i.d.) random variables, regardless of their underlying distribution. Specifically, it states that as the sample size increases, the distribution of the sample means or sample sums approaches a normal distribution, with a mean equal to the population mean and a standard deviation equal to the population standard deviation divided by the square root of the sample size.\n",
    "\n",
    "In other words, the Central Limit Theorem provides a bridge between the properties of individual observations and the properties of the entire population, allowing us to make inferences and draw conclusions about the population based on a sample of observations.\n",
    "\n",
    "The significance of the Central Limit Theorem lies in its wide range of applications in statistical inference, hypothesis testing, and estimation. For example, the Central Limit Theorem enables us to:\n",
    "\n",
    "Estimate the mean or sum of a population using a sample, by constructing a confidence interval or performing a hypothesis test.\n",
    "Test the normality assumption of a population or sample, by examining the distribution of the sample means or sample sums.\n",
    "Standardize variables with different scales and units, by calculating z-scores or t-scores based on the sample means or sample sums.\n",
    "Improve the precision of statistical estimates and reduce the effects of outliers, by using the sample mean or sample sum as a summary statistic.\n"
   ]
  },
  {
   "cell_type": "markdown",
   "id": "0745f275-53b5-4c72-8895-954491f499d2",
   "metadata": {},
   "source": [
    "### Answer 10\n",
    "\n",
    "The Central Limit Theorem makes several assumptions about the population and the sampling process in order for its properties to hold true. The assumptions include:\n",
    "\n",
    "The sample size is large enough: The sample size must be sufficiently large so that the sample means or sample sums are normally distributed, regardless of the underlying population distribution. A commonly used rule of thumb is that the sample size should be greater than or equal to 30.\n",
    "\n",
    "The observations are independent and identically distributed (i.i.d.): Each observation in the sample must be independent of the others, and they must all come from the same population with the same distribution and variance.\n",
    "\n",
    "The population has a finite variance: The population from which the sample is drawn must have a finite variance, which means that the variability of the data is not infinite.\n",
    "\n",
    "The population distribution does not have extreme skewness or outliers: The population distribution should not have extreme skewness or outliers that could bias the sample mean or sample sum and affect the normality of the distribution."
   ]
  },
  {
   "cell_type": "code",
   "execution_count": null,
   "id": "c49f14eb-a5bd-4aa3-bc7a-ead880fc2b0d",
   "metadata": {},
   "outputs": [],
   "source": []
  }
 ],
 "metadata": {
  "kernelspec": {
   "display_name": "Python 3 (ipykernel)",
   "language": "python",
   "name": "python3"
  },
  "language_info": {
   "codemirror_mode": {
    "name": "ipython",
    "version": 3
   },
   "file_extension": ".py",
   "mimetype": "text/x-python",
   "name": "python",
   "nbconvert_exporter": "python",
   "pygments_lexer": "ipython3",
   "version": "3.10.8"
  }
 },
 "nbformat": 4,
 "nbformat_minor": 5
}
